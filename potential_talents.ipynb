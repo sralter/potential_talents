{
 "cells": [
  {
   "cell_type": "markdown",
   "id": "475321f8-27bd-413b-840f-59f203577e80",
   "metadata": {},
   "source": [
    "# Potential Talents - An Apziva Project (#3)"
   ]
  },
  {
   "cell_type": "markdown",
   "id": "f6e4ffcd-3ebe-46dc-8f29-9ffec9c17dc2",
   "metadata": {},
   "source": [
    "# EDA"
   ]
  },
  {
   "cell_type": "markdown",
   "id": "8e779d93-dc3a-4e9c-bcaf-42a94f5056dd",
   "metadata": {},
   "source": [
    "By Samuel Alter"
   ]
  },
  {
   "cell_type": "markdown",
   "id": "8e52f988-ef83-4ecb-a5cf-b1a93556e117",
   "metadata": {},
   "source": [
    "Apziva: 6bImatZVlK6DnbEo"
   ]
  },
  {
   "cell_type": "markdown",
   "id": "956a7d3d-a201-44bd-8123-eacaddcb4069",
   "metadata": {},
   "source": [
    "## Project Overview"
   ]
  },
  {
   "cell_type": "markdown",
   "id": "4e3c9c31-7197-4c1f-8a71-0dc5486cc60e",
   "metadata": {},
   "source": [
    "We are working with a talent sourcing and management company to help them surface candidates that are a best fit for their human resources job post. We are using a dataset of job candidates' job titles, their location, and their number of LinkedIn connections."
   ]
  },
  {
   "cell_type": "markdown",
   "id": "874bf7ce-d1eb-4d45-9339-4821382b93d6",
   "metadata": {},
   "source": [
    "### Goals"
   ]
  },
  {
   "cell_type": "markdown",
   "id": "7a3e925c-b602-4dc9-9c27-8a322161a302",
   "metadata": {},
   "source": [
    "Produce a probability, between 0 and 1, of how closely the candidate fits the job description of **\"Aspiring human resources\"** or **\"Seeking human resources.\"** After an initial recommendation pulls out a candidate(s) to be starred for future consideration, the recommendation will be re-run and new \"stars\" will be awarded.\n",
    "\n",
    "To help predict how the candidates fit, we are tracking the performance of two success metrics:\n",
    "* Rank candidates based on a fitness score\n",
    "* Re-rank candidates when a candidate is starred"
   ]
  },
  {
   "cell_type": "markdown",
   "id": "3d3db80d-cec2-437e-b405-68b9fb68aba6",
   "metadata": {},
   "source": [
    "We also need to do the following:\n",
    "* Explain how the algorithm works and how the ranking improves after each starring iteration\n",
    "* How to filter out candidates which should not be considered at all\n",
    "* Determine a cut-off point (if possible) that would work for other roles without losing high-potential candidates\n",
    "* Ideas to explore on automating this procedure to reduce or eliminate human bias"
   ]
  },
  {
   "cell_type": "markdown",
   "id": "884cf463-3b7c-461a-b094-9a5fd2182a6d",
   "metadata": {},
   "source": [
    "### The Dataset"
   ]
  },
  {
   "cell_type": "markdown",
   "id": "f467c771-8a30-465c-a0e3-8560c4504062",
   "metadata": {},
   "source": [
    "| Column | Data Type | Comments |\n",
    "|---|---|---|\n",
    "| `id` | Numeric | Unique identifier for the candidate |\n",
    "| `job_title` | Text | Job title for the candidate |\n",
    "| `location` | Text | Geographic location of the candidate |\n",
    "| `connections` | Text | Number of LinkedIn connections for the candidate |"
   ]
  },
  {
   "cell_type": "markdown",
   "id": "64e970cf-513d-401e-9467-bece30f88cc2",
   "metadata": {},
   "source": [
    "Connections over 500 are encoded as \"500+\". Some do not have specific locations listed and just had their country, so I substituted capitol cities or geographic centers to represent those countries."
   ]
  },
  {
   "cell_type": "markdown",
   "id": "621c288e-6e1b-4196-a318-984df113bd50",
   "metadata": {},
   "source": [
    "## Imports and Helper Functions"
   ]
  },
  {
   "cell_type": "code",
   "execution_count": 118,
   "id": "a0b12ae9-b001-455b-a6be-e5221bc27e45",
   "metadata": {},
   "outputs": [],
   "source": [
    "import numpy as np\n",
    "import pandas as pd\n",
    "import matplotlib.pyplot as plt\n",
    "import seaborn as sns\n",
    "import copy\n",
    "import joblib\n",
    "import time\n",
    "from datetime import datetime\n",
    "import json\n",
    "from pathlib import Path\n",
    "import inspect\n",
    "import re\n",
    "import string\n",
    "from pandas.api.types import is_string_dtype\n",
    "from pandas.api.types import is_numeric_dtype\n",
    "import geopandas as gpd\n",
    "import duckdb\n",
    "from matplotlib_scalebar.scalebar import ScaleBar\n",
    "from mpl_toolkits.axes_grid1.inset_locator import inset_axes\n",
    "from matplotlib.lines import Line2D\n",
    "from collections import Counter\n",
    "from wordcloud import WordCloud, STOPWORDS\n",
    "from sklearn.metrics.pairwise import cosine_similarity"
   ]
  },
  {
   "cell_type": "code",
   "execution_count": 119,
   "id": "8c90afd9-61d3-4aea-aa0f-763b43fbe9f6",
   "metadata": {},
   "outputs": [
    {
     "name": "stderr",
     "output_type": "stream",
     "text": [
      "[nltk_data] Downloading package punkt to /Users/sra/nltk_data...\n",
      "[nltk_data]   Package punkt is already up-to-date!\n",
      "[nltk_data] Downloading package punkt_tab to /Users/sra/nltk_data...\n",
      "[nltk_data]   Package punkt_tab is already up-to-date!\n",
      "[nltk_data] Downloading package wordnet to /Users/sra/nltk_data...\n",
      "[nltk_data]   Package wordnet is already up-to-date!\n",
      "[nltk_data] Downloading package omw-1.4 to /Users/sra/nltk_data...\n",
      "[nltk_data]   Package omw-1.4 is already up-to-date!\n",
      "[nltk_data] Downloading package averaged_perceptron_tagger to\n",
      "[nltk_data]     /Users/sra/nltk_data...\n",
      "[nltk_data]   Package averaged_perceptron_tagger is already up-to-\n",
      "[nltk_data]       date!\n",
      "[nltk_data] Downloading package averaged_perceptron_tagger_eng to\n",
      "[nltk_data]     /Users/sra/nltk_data...\n",
      "[nltk_data]   Package averaged_perceptron_tagger_eng is already up-to-\n",
      "[nltk_data]       date!\n",
      "[nltk_data] Downloading package stopwords to /Users/sra/nltk_data...\n",
      "[nltk_data]   Package stopwords is already up-to-date!\n"
     ]
    }
   ],
   "source": [
    "import nltk\n",
    "nltk.download('punkt')\n",
    "nltk.download('punkt_tab')\n",
    "nltk.download('wordnet')\n",
    "nltk.download('omw-1.4')\n",
    "nltk.download('averaged_perceptron_tagger')\n",
    "nltk.download('averaged_perceptron_tagger_eng')\n",
    "nltk.download('stopwords')\n",
    "from nltk.corpus import stopwords # lists of stopwords\n",
    "from nltk.tokenize import word_tokenize # tool for splitting documents into tokens\n",
    "from nltk.tokenize import sent_tokenize\n",
    "from nltk.stem import PorterStemmer # basic stemmer\n",
    "from nltk.stem import WordNetLemmatizer # more sophisticated word->lemma\n",
    "from nltk.corpus import wordnet\n",
    "from sklearn.feature_extraction.text import TfidfVectorizer"
   ]
  },
  {
   "cell_type": "code",
   "execution_count": 218,
   "id": "b08062f3-4def-4937-840e-5ea0eacad507",
   "metadata": {},
   "outputs": [],
   "source": [
    "from gensim.models import Word2Vec, KeyedVectors"
   ]
  },
  {
   "cell_type": "code",
   "execution_count": 120,
   "id": "170bfeb6-f514-4a2e-a199-9096e22d3bf6",
   "metadata": {},
   "outputs": [],
   "source": [
    "# simple function to generate random integers\n",
    "\n",
    "def rand_gen(low=1,high=1e4):\n",
    "    '''\n",
    "    Generates a pseudo-random integer\n",
    "    consisting of up to four digits\n",
    "    '''\n",
    "    import numpy as np\n",
    "    rng=np.random.default_rng()\n",
    "    random_state=int(rng.integers(low=low,high=high))\n",
    "    \n",
    "    return random_state"
   ]
  },
  {
   "cell_type": "code",
   "execution_count": 121,
   "id": "ebbb28ab-89d8-4a7f-8f50-0ea55e9b25f1",
   "metadata": {},
   "outputs": [
    {
     "data": {
      "text/plain": [
       "3764"
      ]
     },
     "execution_count": 121,
     "metadata": {},
     "output_type": "execute_result"
    }
   ],
   "source": [
    "seed=rand_gen()\n",
    "seed"
   ]
  },
  {
   "cell_type": "code",
   "execution_count": 122,
   "id": "6fb9c656-48c3-41f1-9c89-df55993cde43",
   "metadata": {},
   "outputs": [
    {
     "data": {
      "text/plain": [
       "Generator(PCG64) at 0x30AC41040"
      ]
     },
     "execution_count": 122,
     "metadata": {},
     "output_type": "execute_result"
    }
   ],
   "source": [
    "# set the randomness seed throughout the notebook\n",
    "# source: # https://odsc.medium.com/properly-setting-the-random-seed-in-ml-experiments-not-as-simple-as-you-might-imagine-219969c84752\n",
    "\n",
    "## set `PYTHONHASHSEED` environment variable at a fixed value\n",
    "import os\n",
    "os.environ['PYTHONHASHSEED']=str(seed)\n",
    "## set `python` built-in pseudo-random generator at a fixed value\n",
    "import random\n",
    "random.seed(seed)\n",
    "## set `numpy` pseudo-random generator at a fixed value\n",
    "np.random.seed(seed)\n",
    "np.random.default_rng(seed)"
   ]
  },
  {
   "cell_type": "code",
   "execution_count": 123,
   "id": "3d210da9-c401-4db6-89b9-6b857e15047b",
   "metadata": {},
   "outputs": [],
   "source": [
    "def get_variable_name(var):\n",
    "    callers_local_vars = inspect.currentframe().f_back.f_locals.items()\n",
    "    return [name for name, val in callers_local_vars if val is var]\n",
    "\n",
    "def fileDaterSaver(location: str,\n",
    "                   filetype: str,\n",
    "                   object_,\n",
    "                   extra: str = '',\n",
    "                   verbose: bool = True):\n",
    "\n",
    "    '''\n",
    "    Function that gets a timestamped filename and saves it\n",
    "    to a user-specified location.\n",
    "\n",
    "    Parameters:\n",
    "    -----------\n",
    "    location: str - The location where the file will be saved.\n",
    "    filetype: str - The type of the file to save ('csv' or 'json').\n",
    "    object_: The object to be saved. Should be a pandas DataFrame\n",
    "        for 'csv' or serializable for 'json'.\n",
    "    extra: str - Additional string to include in the filename.\n",
    "    verbose: bool - Whether to print verbose messages.\n",
    "    '''\n",
    "\n",
    "    # get current date and time\n",
    "    current_datetime = datetime.now()\n",
    "\n",
    "    # print current date and time to check\n",
    "    if verbose:\n",
    "        print('current_datetime:', current_datetime)\n",
    "\n",
    "    # format the datetime for a filename\n",
    "    datetime_suffix = current_datetime.strftime(\"%Y-%m-%d_%H-%M-%S\")\n",
    "\n",
    "    # create filename with the datetime suffix\n",
    "    if extra != '':\n",
    "        file_name = f'{location}{extra}_{datetime_suffix}.{filetype}'\n",
    "    else:\n",
    "        file_name = f'{location}{datetime_suffix}.{filetype}'\n",
    "\n",
    "    # print file name\n",
    "    if verbose:\n",
    "        print(file_name)\n",
    "\n",
    "    # save object\n",
    "    if filetype == 'csv':\n",
    "        object_.to_csv(file_name, index=True)\n",
    "    elif filetype == 'json':\n",
    "        with open(file_name, 'w') as file:\n",
    "            file.write(json.dumps(object_, default=str))\n",
    "    else:\n",
    "        raise ValueError(\"Unsupported file type. Use 'csv' or 'json'.\")\n",
    "\n",
    "    # confirm save\n",
    "    file_path = Path(file_name)\n",
    "    if file_path.exists():\n",
    "        variable_name = get_variable_name(object_)\n",
    "        if variable_name:\n",
    "            print(f'Successfully saved {variable_name[0]} to {file_path}')\n",
    "        else:\n",
    "            print(f'Successfully saved object to {file_path}')\n",
    "    else:\n",
    "        print(\"File save error.\")"
   ]
  },
  {
   "cell_type": "markdown",
   "id": "fad724e2-678c-44c4-8b40-6b7d28ccb048",
   "metadata": {},
   "source": [
    "Read in the datset:"
   ]
  },
  {
   "cell_type": "code",
   "execution_count": 124,
   "id": "ef457c21-9427-42fa-9fd0-6b117df7e480",
   "metadata": {},
   "outputs": [
    {
     "data": {
      "text/html": [
       "<div>\n",
       "<style scoped>\n",
       "    .dataframe tbody tr th:only-of-type {\n",
       "        vertical-align: middle;\n",
       "    }\n",
       "\n",
       "    .dataframe tbody tr th {\n",
       "        vertical-align: top;\n",
       "    }\n",
       "\n",
       "    .dataframe thead th {\n",
       "        text-align: right;\n",
       "    }\n",
       "</style>\n",
       "<table border=\"1\" class=\"dataframe\">\n",
       "  <thead>\n",
       "    <tr style=\"text-align: right;\">\n",
       "      <th></th>\n",
       "      <th>id</th>\n",
       "      <th>job_title</th>\n",
       "      <th>location</th>\n",
       "      <th>connection</th>\n",
       "      <th>fit</th>\n",
       "    </tr>\n",
       "  </thead>\n",
       "  <tbody>\n",
       "    <tr>\n",
       "      <th>0</th>\n",
       "      <td>1</td>\n",
       "      <td>2019 C.T. Bauer College of Business Graduate (...</td>\n",
       "      <td>Houston, Texas</td>\n",
       "      <td>85</td>\n",
       "      <td>NaN</td>\n",
       "    </tr>\n",
       "    <tr>\n",
       "      <th>1</th>\n",
       "      <td>2</td>\n",
       "      <td>Native English Teacher at EPIK (English Progra...</td>\n",
       "      <td>Kanada</td>\n",
       "      <td>500+</td>\n",
       "      <td>NaN</td>\n",
       "    </tr>\n",
       "    <tr>\n",
       "      <th>2</th>\n",
       "      <td>3</td>\n",
       "      <td>Aspiring Human Resources Professional</td>\n",
       "      <td>Raleigh-Durham, North Carolina Area</td>\n",
       "      <td>44</td>\n",
       "      <td>NaN</td>\n",
       "    </tr>\n",
       "  </tbody>\n",
       "</table>\n",
       "</div>"
      ],
      "text/plain": [
       "   id                                          job_title  \\\n",
       "0   1  2019 C.T. Bauer College of Business Graduate (...   \n",
       "1   2  Native English Teacher at EPIK (English Progra...   \n",
       "2   3              Aspiring Human Resources Professional   \n",
       "\n",
       "                              location connection  fit  \n",
       "0                       Houston, Texas         85  NaN  \n",
       "1                               Kanada      500+   NaN  \n",
       "2  Raleigh-Durham, North Carolina Area         44  NaN  "
      ]
     },
     "execution_count": 124,
     "metadata": {},
     "output_type": "execute_result"
    }
   ],
   "source": [
    "df=pd.read_csv('../data/3_data.csv')\n",
    "df.head(3)"
   ]
  },
  {
   "cell_type": "markdown",
   "id": "664da8f9-1cc8-42aa-b61f-345181cfd24c",
   "metadata": {},
   "source": [
    "## Analysis"
   ]
  },
  {
   "cell_type": "code",
   "execution_count": 125,
   "id": "5588f3a3-79c7-4b53-a583-04b8b7db7e2a",
   "metadata": {},
   "outputs": [
    {
     "name": "stdout",
     "output_type": "stream",
     "text": [
      "<class 'pandas.core.frame.DataFrame'>\n",
      "RangeIndex: 104 entries, 0 to 103\n",
      "Data columns (total 5 columns):\n",
      " #   Column      Non-Null Count  Dtype  \n",
      "---  ------      --------------  -----  \n",
      " 0   id          104 non-null    int64  \n",
      " 1   job_title   104 non-null    object \n",
      " 2   location    104 non-null    object \n",
      " 3   connection  104 non-null    object \n",
      " 4   fit         0 non-null      float64\n",
      "dtypes: float64(1), int64(1), object(3)\n",
      "memory usage: 4.2+ KB\n"
     ]
    }
   ],
   "source": [
    "df.info()"
   ]
  },
  {
   "cell_type": "markdown",
   "id": "7c2d80f3-65ac-4a80-9751-f60915032a60",
   "metadata": {},
   "source": [
    "No nulls in the dataset. That is nice for us! There are 104 total observations."
   ]
  },
  {
   "cell_type": "code",
   "execution_count": 126,
   "id": "f950c4e7-492a-471c-b5e8-b216e7eceeb3",
   "metadata": {},
   "outputs": [
    {
     "data": {
      "text/plain": [
       "Series([], Name: count, dtype: int64)"
      ]
     },
     "execution_count": 126,
     "metadata": {},
     "output_type": "execute_result"
    }
   ],
   "source": [
    "df['fit'].value_counts()"
   ]
  },
  {
   "cell_type": "markdown",
   "id": "a878f527-ba5d-4b45-9a8e-6d67c39d3cbb",
   "metadata": {},
   "source": [
    "We'll remove `fit` as it is a column with no data."
   ]
  },
  {
   "cell_type": "code",
   "execution_count": 127,
   "id": "412b43a5-6dbd-442c-a426-ccff66bbecb3",
   "metadata": {},
   "outputs": [
    {
     "data": {
      "text/html": [
       "<div>\n",
       "<style scoped>\n",
       "    .dataframe tbody tr th:only-of-type {\n",
       "        vertical-align: middle;\n",
       "    }\n",
       "\n",
       "    .dataframe tbody tr th {\n",
       "        vertical-align: top;\n",
       "    }\n",
       "\n",
       "    .dataframe thead th {\n",
       "        text-align: right;\n",
       "    }\n",
       "</style>\n",
       "<table border=\"1\" class=\"dataframe\">\n",
       "  <thead>\n",
       "    <tr style=\"text-align: right;\">\n",
       "      <th></th>\n",
       "      <th>id</th>\n",
       "      <th>job_title</th>\n",
       "      <th>location</th>\n",
       "      <th>connection</th>\n",
       "    </tr>\n",
       "  </thead>\n",
       "  <tbody>\n",
       "    <tr>\n",
       "      <th>0</th>\n",
       "      <td>1</td>\n",
       "      <td>2019 C.T. Bauer College of Business Graduate (...</td>\n",
       "      <td>Houston, Texas</td>\n",
       "      <td>85</td>\n",
       "    </tr>\n",
       "    <tr>\n",
       "      <th>1</th>\n",
       "      <td>2</td>\n",
       "      <td>Native English Teacher at EPIK (English Progra...</td>\n",
       "      <td>Kanada</td>\n",
       "      <td>500+</td>\n",
       "    </tr>\n",
       "    <tr>\n",
       "      <th>2</th>\n",
       "      <td>3</td>\n",
       "      <td>Aspiring Human Resources Professional</td>\n",
       "      <td>Raleigh-Durham, North Carolina Area</td>\n",
       "      <td>44</td>\n",
       "    </tr>\n",
       "    <tr>\n",
       "      <th>3</th>\n",
       "      <td>4</td>\n",
       "      <td>People Development Coordinator at Ryan</td>\n",
       "      <td>Denton, Texas</td>\n",
       "      <td>500+</td>\n",
       "    </tr>\n",
       "    <tr>\n",
       "      <th>4</th>\n",
       "      <td>5</td>\n",
       "      <td>Advisory Board Member at Celal Bayar University</td>\n",
       "      <td>İzmir, Türkiye</td>\n",
       "      <td>500+</td>\n",
       "    </tr>\n",
       "  </tbody>\n",
       "</table>\n",
       "</div>"
      ],
      "text/plain": [
       "   id                                          job_title  \\\n",
       "0   1  2019 C.T. Bauer College of Business Graduate (...   \n",
       "1   2  Native English Teacher at EPIK (English Progra...   \n",
       "2   3              Aspiring Human Resources Professional   \n",
       "3   4             People Development Coordinator at Ryan   \n",
       "4   5    Advisory Board Member at Celal Bayar University   \n",
       "\n",
       "                              location connection  \n",
       "0                       Houston, Texas         85  \n",
       "1                               Kanada      500+   \n",
       "2  Raleigh-Durham, North Carolina Area         44  \n",
       "3                        Denton, Texas      500+   \n",
       "4                       İzmir, Türkiye      500+   "
      ]
     },
     "execution_count": 127,
     "metadata": {},
     "output_type": "execute_result"
    }
   ],
   "source": [
    "if 'fit' in df.columns: # flow control for repeat code executions\n",
    "    df.drop('fit',axis=1,inplace=True)\n",
    "\n",
    "df.head()"
   ]
  },
  {
   "cell_type": "markdown",
   "id": "a46792bc-1e61-4a52-bc54-a3e0c28a043a",
   "metadata": {},
   "source": [
    "Inspect the connections column:"
   ]
  },
  {
   "cell_type": "code",
   "execution_count": 128,
   "id": "4adbe8c8-5738-446b-b762-62f9fffcc2c0",
   "metadata": {},
   "outputs": [
    {
     "data": {
      "text/plain": [
       "connection\n",
       "500+     44\n",
       "85        7\n",
       "61        7\n",
       "44        6\n",
       "1         5\n",
       "2         4\n",
       "4         2\n",
       "7         2\n",
       "57        2\n",
       "390       2\n",
       "103       1\n",
       "48        1\n",
       "18        1\n",
       "71        1\n",
       "19        1\n",
       "415       1\n",
       "9         1\n",
       "64        1\n",
       "39        1\n",
       "155       1\n",
       "349       1\n",
       "174       1\n",
       "40        1\n",
       "50        1\n",
       "268       1\n",
       "455       1\n",
       "52        1\n",
       "409       1\n",
       "212       1\n",
       "16        1\n",
       "5         1\n",
       "82        1\n",
       "49        1\n",
       "Name: count, dtype: int64"
      ]
     },
     "execution_count": 128,
     "metadata": {},
     "output_type": "execute_result"
    }
   ],
   "source": [
    "connections=df['connection'].value_counts()\n",
    "\n",
    "connections"
   ]
  },
  {
   "cell_type": "markdown",
   "id": "4770d59b-f145-42dc-a47a-d6c24cbec6e7",
   "metadata": {},
   "source": [
    "I will change the \"500+\" into 500 so that it can remain a numeric value."
   ]
  },
  {
   "cell_type": "code",
   "execution_count": 129,
   "id": "b0db1256-fdaa-46d4-a893-e9444b0f0b92",
   "metadata": {},
   "outputs": [
    {
     "name": "stdout",
     "output_type": "stream",
     "text": [
      "Amount of '+' in column: 0\n",
      "id             int64\n",
      "job_title     object\n",
      "location      object\n",
      "connection     int64\n",
      "dtype: object\n",
      "\n",
      "Was conversion successful?\n",
      "Yes.\n"
     ]
    }
   ],
   "source": [
    "# remove all non-numeric characters from the column\n",
    "column='connection'\n",
    "if not pd.api.types.is_numeric_dtype(df[column]):\n",
    "    df[column]=df[column].str.replace(r'\\D','',regex=True)\n",
    "\n",
    "    # check if any '+' characters are still present\n",
    "    print(\"Amount of '+' in column:\",df[column].str.contains(r'\\+').sum())\n",
    "\n",
    "    # convert to integer\n",
    "    df[column]=pd.to_numeric(df[column],errors='coerce')\n",
    "    print(df.dtypes)\n",
    "\n",
    "    # check if conversion was successful\n",
    "    print('\\nWas conversion successful?')\n",
    "    if pd.api.types.is_numeric_dtype(df[column]):\n",
    "        print('Yes.')\n",
    "    else:\n",
    "        print('No.')\n",
    "else:\n",
    "    print(f'There are no non-numeric characters in the column: {column}')"
   ]
  },
  {
   "cell_type": "markdown",
   "id": "89b271ed-4f3b-41f7-a4b9-95ddf1a47e69",
   "metadata": {},
   "source": [
    "### Histogram of Connections"
   ]
  },
  {
   "cell_type": "code",
   "execution_count": 130,
   "id": "d8ec465a-c67b-4544-919a-451c2a50839f",
   "metadata": {},
   "outputs": [
    {
     "data": {
      "text/plain": [
       "connection\n",
       "85    7\n",
       "61    7\n",
       "44    6\n",
       "Name: count, dtype: int64"
      ]
     },
     "execution_count": 130,
     "metadata": {},
     "output_type": "execute_result"
    }
   ],
   "source": [
    "# remove the >500 connection observations\n",
    "df_no500 = df[df['connection']<500]\n",
    "\n",
    "# check\n",
    "df_no500['connection'].value_counts().head(3)"
   ]
  },
  {
   "cell_type": "code",
   "execution_count": 131,
   "id": "f1eccc7f-e585-43cd-b0d8-1e97564163fd",
   "metadata": {
    "tags": []
   },
   "outputs": [
    {
     "data": {
      "image/png": "[encoded data removed]",
      "text/plain": [
       "<Figure size 800x600 with 1 Axes>"
      ]
     },
     "metadata": {},
     "output_type": "display_data"
    }
   ],
   "source": [
    "plt.figure(figsize=(8,6))\n",
    "plt.hist(x=df_no500['connection'],\n",
    "         color='cornflowerblue',\n",
    "         bins=20)\n",
    "plt.title(\"Histogram of Candidates' Connections\\nNote: Those with greater than 500 connections are not shown (n=44)\")\n",
    "plt.xlabel('Number of Connections')\n",
    "plt.ylabel('Count')\n",
    "plt.grid(which='both',axis='y')\n",
    "plt.xticks(range(0,501,50)) # get xticks to appear every 50 connections\n",
    "\n",
    "plt.savefig('figures/3_histogram_connections.pdf',bbox_inches='tight')\n",
    "plt.savefig('figures/3_histogram_connections.jpg',bbox_inches='tight')\n",
    "plt.savefig('figures/3_histogram_connections.png',bbox_inches='tight')\n",
    "\n",
    "plt.show()"
   ]
  },
  {
   "cell_type": "markdown",
   "id": "43bc33a2-f2dd-4111-9c62-8dfc2c53ad7d",
   "metadata": {},
   "source": [
    "### Boxplot of Connections"
   ]
  },
  {
   "cell_type": "code",
   "execution_count": 132,
   "id": "ddaa166c-f90d-467a-a0cc-ffb3fca5e33c",
   "metadata": {},
   "outputs": [
    {
     "data": {
      "image/png": "[encoded data removed]",
      "text/plain": [
       "<Figure size 600x200 with 1 Axes>"
      ]
     },
     "metadata": {},
     "output_type": "display_data"
    }
   ],
   "source": [
    "plt.figure(figsize=(6,2))\n",
    "sns.boxplot(x=df['connection'],color='cornflowerblue')\n",
    "plt.title(\"Boxplot of Candidate's Connections\\nIncluding those with >500 Connections\")\n",
    "plt.xlabel('Connection')\n",
    "plt.xticks(range(0,501,50))\n",
    "\n",
    "plt.savefig('figures/3_boxplot_connections.pdf',bbox_inches='tight')\n",
    "plt.savefig('figures/3_boxplot_connections.jpg',bbox_inches='tight')\n",
    "plt.savefig('figures/3_boxplot_connections.png',bbox_inches='tight')\n",
    "\n",
    "plt.show()"
   ]
  },
  {
   "cell_type": "code",
   "execution_count": 133,
   "id": "d5a7afe5-f538-4803-b389-4cce71394d7c",
   "metadata": {},
   "outputs": [
    {
     "data": {
      "image/png": "[encoded data removed]",
      "text/plain": [
       "<Figure size 600x200 with 1 Axes>"
      ]
     },
     "metadata": {},
     "output_type": "display_data"
    }
   ],
   "source": [
    "plt.figure(figsize=(6,2))\n",
    "plt.tight_layout()\n",
    "sns.boxplot(x=df_no500['connection'],color='cornflowerblue')\n",
    "plt.title(\"Boxplot of Candidates' Connections\\nNot including those with >500 Connections\")\n",
    "plt.xlabel('Connection')\n",
    "plt.xticks(range(0,501,50))\n",
    "\n",
    "plt.savefig('figures/3_boxplot_no500.pdf',bbox_inches='tight')\n",
    "plt.savefig('figures/3_boxplot_no500.jpg',bbox_inches='tight')\n",
    "plt.savefig('figures/3_boxplot_no500.png',bbox_inches='tight')\n",
    "\n",
    "plt.show()"
   ]
  },
  {
   "cell_type": "markdown",
   "id": "2e30fbd6-d799-44fb-a344-aee21fe89280",
   "metadata": {},
   "source": [
    "### Map of Observations"
   ]
  },
  {
   "cell_type": "code",
   "execution_count": 134,
   "id": "0ed4eadc-0d7a-47bb-b6d2-14e6749ddc52",
   "metadata": {},
   "outputs": [
    {
     "data": {
      "text/plain": [
       "location\n",
       "Kanada                                 12\n",
       "Raleigh-Durham, North Carolina Area     8\n",
       "Houston, Texas Area                     8\n",
       "Greater New York City Area              7\n",
       "Houston, Texas                          7\n",
       "Denton, Texas                           6\n",
       "San Francisco Bay Area                  5\n",
       "Greater Philadelphia Area               5\n",
       "İzmir, Türkiye                          4\n",
       "Lake Forest, California                 4\n",
       "Atlanta, Georgia                        4\n",
       "Chicago, Illinois                       2\n",
       "Austin, Texas Area                      2\n",
       "Greater Atlanta Area                    2\n",
       "Amerika Birleşik Devletleri             2\n",
       "Long Beach, California                  1\n",
       "Milpitas, California                    1\n",
       "Greater Chicago Area                    1\n",
       "Torrance, California                    1\n",
       "Greater Los Angeles Area                1\n",
       "Bridgewater, Massachusetts              1\n",
       "Lafayette, Indiana                      1\n",
       "Kokomo, Indiana Area                    1\n",
       "Las Vegas, Nevada Area                  1\n",
       "Cape Girardeau, Missouri                1\n",
       "Gaithersburg, Maryland                  1\n",
       "Baltimore, Maryland                     1\n",
       "Dallas/Fort Worth Area                  1\n",
       "Highland, California                    1\n",
       "Los Angeles, California                 1\n",
       "Chattanooga, Tennessee Area             1\n",
       "Myrtle Beach, South Carolina Area       1\n",
       "Baton Rouge, Louisiana Area             1\n",
       "New York, New York                      1\n",
       "San Jose, California                    1\n",
       "Greater Boston Area                     1\n",
       "Monroe, Louisiana Area                  1\n",
       "Virginia Beach, Virginia                1\n",
       "Greater Grand Rapids, Michigan Area     1\n",
       "Jackson, Mississippi Area               1\n",
       "Katy, Texas                             1\n",
       "Name: count, dtype: int64"
      ]
     },
     "execution_count": 134,
     "metadata": {},
     "output_type": "execute_result"
    }
   ],
   "source": [
    "df['location'].value_counts()"
   ]
  },
  {
   "cell_type": "code",
   "execution_count": 135,
   "id": "9bad7bd3-b0d7-4d0d-ace0-33a073f97932",
   "metadata": {},
   "outputs": [
    {
     "data": {
      "text/plain": [
       "41"
      ]
     },
     "execution_count": 135,
     "metadata": {},
     "output_type": "execute_result"
    }
   ],
   "source": [
    "# number of unique locations in dataset\n",
    "df['location'].nunique()"
   ]
  },
  {
   "cell_type": "markdown",
   "id": "be0b11ee-741a-40be-9961-44e64d446750",
   "metadata": {},
   "source": [
    "This is not terrible. I'd like to get the location for each municipality to create a chloropleth map of the locations.\n",
    "\n",
    "First step is to clean this column to make it easier to get the locations. We won't go fully intense with the geospatial information, so if the city says \"Greater CITY Area,\" I'll just make that \"CITY\" to simplify things."
   ]
  },
  {
   "cell_type": "code",
   "execution_count": 136,
   "id": "7d05b11c-bfd3-46c5-8a60-51114a502bac",
   "metadata": {},
   "outputs": [
    {
     "data": {
      "text/html": [
       "<div>\n",
       "<style scoped>\n",
       "    .dataframe tbody tr th:only-of-type {\n",
       "        vertical-align: middle;\n",
       "    }\n",
       "\n",
       "    .dataframe tbody tr th {\n",
       "        vertical-align: top;\n",
       "    }\n",
       "\n",
       "    .dataframe thead th {\n",
       "        text-align: right;\n",
       "    }\n",
       "</style>\n",
       "<table border=\"1\" class=\"dataframe\">\n",
       "  <thead>\n",
       "    <tr style=\"text-align: right;\">\n",
       "      <th></th>\n",
       "      <th>ID</th>\n",
       "      <th>STATE_CODE</th>\n",
       "      <th>STATE_NAME</th>\n",
       "      <th>CITY</th>\n",
       "      <th>COUNTY</th>\n",
       "      <th>LATITUDE</th>\n",
       "      <th>LONGITUDE</th>\n",
       "    </tr>\n",
       "  </thead>\n",
       "  <tbody>\n",
       "    <tr>\n",
       "      <th>0</th>\n",
       "      <td>1</td>\n",
       "      <td>AK</td>\n",
       "      <td>Alaska</td>\n",
       "      <td>Adak</td>\n",
       "      <td>Aleutians West</td>\n",
       "      <td>55.999722</td>\n",
       "      <td>-161.207778</td>\n",
       "    </tr>\n",
       "    <tr>\n",
       "      <th>1</th>\n",
       "      <td>2</td>\n",
       "      <td>AK</td>\n",
       "      <td>Alaska</td>\n",
       "      <td>Akiachak</td>\n",
       "      <td>Bethel</td>\n",
       "      <td>60.891854</td>\n",
       "      <td>-161.392330</td>\n",
       "    </tr>\n",
       "    <tr>\n",
       "      <th>2</th>\n",
       "      <td>3</td>\n",
       "      <td>AK</td>\n",
       "      <td>Alaska</td>\n",
       "      <td>Akiak</td>\n",
       "      <td>Bethel</td>\n",
       "      <td>60.890632</td>\n",
       "      <td>-161.199325</td>\n",
       "    </tr>\n",
       "  </tbody>\n",
       "</table>\n",
       "</div>"
      ],
      "text/plain": [
       "   ID STATE_CODE STATE_NAME      CITY          COUNTY   LATITUDE   LONGITUDE\n",
       "0   1         AK     Alaska      Adak  Aleutians West  55.999722 -161.207778\n",
       "1   2         AK     Alaska  Akiachak          Bethel  60.891854 -161.392330\n",
       "2   3         AK     Alaska     Akiak          Bethel  60.890632 -161.199325"
      ]
     },
     "execution_count": 136,
     "metadata": {},
     "output_type": "execute_result"
    }
   ],
   "source": [
    "# data from here:\n",
    "# https://github.com/kelvins/US-Cities-Database\n",
    "cities=pd.read_csv('../data/us_cities.csv')\n",
    "cities.head(3)"
   ]
  },
  {
   "cell_type": "code",
   "execution_count": 137,
   "id": "ff15d9d9-872b-431d-9fa7-fd7bc12e411f",
   "metadata": {},
   "outputs": [
    {
     "data": {
      "text/html": [
       "<div>\n",
       "<style scoped>\n",
       "    .dataframe tbody tr th:only-of-type {\n",
       "        vertical-align: middle;\n",
       "    }\n",
       "\n",
       "    .dataframe tbody tr th {\n",
       "        vertical-align: top;\n",
       "    }\n",
       "\n",
       "    .dataframe thead th {\n",
       "        text-align: right;\n",
       "    }\n",
       "</style>\n",
       "<table border=\"1\" class=\"dataframe\">\n",
       "  <thead>\n",
       "    <tr style=\"text-align: right;\">\n",
       "      <th></th>\n",
       "      <th>ID</th>\n",
       "      <th>STATE_CODE</th>\n",
       "      <th>STATE_NAME</th>\n",
       "      <th>CITY</th>\n",
       "      <th>COUNTY</th>\n",
       "      <th>LATITUDE</th>\n",
       "      <th>LONGITUDE</th>\n",
       "    </tr>\n",
       "  </thead>\n",
       "  <tbody>\n",
       "    <tr>\n",
       "      <th>25488</th>\n",
       "      <td>25489</td>\n",
       "      <td>TX</td>\n",
       "      <td>Texas</td>\n",
       "      <td>Katy</td>\n",
       "      <td>Fort Bend</td>\n",
       "      <td>29.750893</td>\n",
       "      <td>-95.811675</td>\n",
       "    </tr>\n",
       "    <tr>\n",
       "      <th>25489</th>\n",
       "      <td>25490</td>\n",
       "      <td>TX</td>\n",
       "      <td>Texas</td>\n",
       "      <td>Katy</td>\n",
       "      <td>Harris</td>\n",
       "      <td>29.819922</td>\n",
       "      <td>-95.729267</td>\n",
       "    </tr>\n",
       "  </tbody>\n",
       "</table>\n",
       "</div>"
      ],
      "text/plain": [
       "          ID STATE_CODE STATE_NAME  CITY     COUNTY   LATITUDE  LONGITUDE\n",
       "25488  25489         TX      Texas  Katy  Fort Bend  29.750893 -95.811675\n",
       "25489  25490         TX      Texas  Katy     Harris  29.819922 -95.729267"
      ]
     },
     "execution_count": 137,
     "metadata": {},
     "output_type": "execute_result"
    }
   ],
   "source": [
    "# find cities\n",
    "_=cities[cities['CITY'].str.contains('Katy')]\n",
    "_\n",
    "\n",
    "# I also used Google Earth Pro"
   ]
  },
  {
   "cell_type": "code",
   "execution_count": 138,
   "id": "c60bb1c1-fad1-429d-a70e-37b49b38fe43",
   "metadata": {},
   "outputs": [],
   "source": [
    "city_loc_map={\n",
    "    'Kanada':{'lat':45.424721,'lon':-75.695,'name':'Canada'}, # choosing Ottowa\n",
    "    'Raleigh-Durham, North Carolina Area':{'lat':35.772701,'lon':-78.632439,'name':'Raleigh'},\n",
    "    'Houston, Texas Area':{'lat':29.765200,'lon':-95.365700,'name':'Houston'},\n",
    "    'Greater New York City Area':{'lat':40.748380,'lon':-73.996705,'name':'New_York_City'},\n",
    "    'Houston, Texas':{'lat':29.765200,'lon':-95.365700,'name':'Houston'},\n",
    "    'Denton, Texas':{'lat':33.22893,'lon':-97.131436,'name':'Denton'},\n",
    "    'San Francisco Bay Area':{'lat':37.775,'lon':-122.4183,'name':'San_Francisco'},\n",
    "    'Greater Philadelphia Area':{'lat':39.864998,'lon':-75.275196,'name':'Philadelphia'},\n",
    "    'İzmir, Türkiye':{'lat':38.4228,'lon':27.1404,'name':'İzmir'},\n",
    "    'Lake Forest, California':{'lat':33.640015,'lon':-117.68819,'name':'Lake_Forest_CA'},\n",
    "    'Atlanta, Georgia':{'lat':33.7564,'lon':-84.3918,'name':'Atlanta'},\n",
    "    'Chicago, Illinois':{'lat':41.885847,'lon':-87.618123,'name':'Chicago'},\n",
    "    'Austin, Texas Area':{'lat':30.2303,'lon':-97.7144,'name':'Austin'},\n",
    "    'Greater Atlanta Area':{'lat':33.7564,'lon':-84.3918,'name':'Atlanta'},\n",
    "    'Amerika Birleşik Devletleri':{'lat':39.833333,'lon':-98.583333,'name':'United_States'},\n",
    "    'Long Beach, California':{'lat':33.7705,'lon':-118.1885,'name':'Long_Beach'},\n",
    "    'Milpitas, California':{'lat':37.436491,'lon':-121.892885,'name':'Milpitas'},\n",
    "    'Greater Chicago Area':{'lat':41.885847,'lon':-87.618123,'name':'Chicago'},\n",
    "    'Torrance, California':{'lat':33.826817,'lon':-118.31183,'name':'Torrance'},\n",
    "    'Greater Los Angeles Area':{'lat':33.973093,'lon':-118.247896,'name':'Los_Angeles'},\n",
    "    'Bridgewater, Massachusetts':{'lat':41.977341,'lon':-70.97234,'name':'Bridgewater_MA'},\n",
    "    'Lafayette, Indiana':{'lat':40.417743,'lon':-86.888358,'name':'Lafayette_IN'},\n",
    "    'Kokomo, Indiana Area':{'lat':40.498840,'lon':-86.145273,'name':'Kokomo_IN'},\n",
    "    'Las Vegas, Nevada Area':{'lat':36.172082,'lon':-115.122366,'name':'Las_Vegas'},\n",
    "    'Cape Girardeau, Missouri':{'lat':37.31685,'lon':-89.545861,'name':'Cape_Girardeau'},\n",
    "    'Gaithersburg, Maryland':{'lat':39.14187,'lon':-77.188993,'name':'Gaithersburg'},\n",
    "    'Baltimore, Maryland':{'lat':39.294630,'lon':-76.625203,'name':'Baltimore_MD'},\n",
    "    'Dallas/Fort Worth Area':{'lat':32.778,'lon':-96.7968,'name':'Dallas'},\n",
    "    'Highland, California':{'lat':34.126969,'lon':-117.208717,'name':'Highland_CA'},\n",
    "    'Los Angeles, California':{'lat':33.973093,'lon':-118.247896,'name':'Los_Angeles'},\n",
    "    'Chattanooga, Tennessee Area':{'lat':35.045500,'lon':-85.308100,'name':'Chattanooga'},\n",
    "    'Myrtle Beach, South Carolina Area':{'lat':33.758701,'lon':-78.804448,'name':'Myrtle_Beach'},\n",
    "    'Baton Rouge, Louisiana Area':{'lat':30.450731,'lon':-91.186954,'name':'Baton_Rouge'},\n",
    "    'New York, New York':{'lat':40.748380,'lon':-73.996705,'name':'New_York_City'},\n",
    "    'San Jose, California':{'lat':37.389400,'lon':-121.886800,'name':'San_Jose'},\n",
    "    'Greater Boston Area':{'lat':42.357603,'lon':-71.068432,'name':'Boston_MA'},\n",
    "    'Monroe, Louisiana Area':{'lat':32.528551,'lon':-92.106104,'name':'Monroe_LA'},\n",
    "    'Virginia Beach, Virginia':{'lat':36.8527,'lon':-75.9783,'name':'Virginia_Beach'},\n",
    "    'Greater Grand Rapids, Michigan Area':{'lat':42.970400,'lon':-85.673800,'name':'Grand_Rapids_MI'},\n",
    "    'Jackson, Mississippi Area':{'lat':32.293502,'lon':-90.186655,'name':'Jackson_MS'},\n",
    "    'Katy, Texas':{'lat':29.7828,'lon':-95.8212,'name':'Katy_TX'}\n",
    "}\n",
    "\n",
    "city_loc_map = pd.DataFrame(city_loc_map).T.reset_index(names=\"original_name\")\n",
    "city_loc_map = city_loc_map.drop(columns=['index'], errors='ignore') "
   ]
  },
  {
   "cell_type": "code",
   "execution_count": 139,
   "id": "a5212dbd-d425-4274-b782-9d97edcaa1e7",
   "metadata": {},
   "outputs": [
    {
     "data": {
      "text/html": [
       "<div>\n",
       "<style scoped>\n",
       "    .dataframe tbody tr th:only-of-type {\n",
       "        vertical-align: middle;\n",
       "    }\n",
       "\n",
       "    .dataframe tbody tr th {\n",
       "        vertical-align: top;\n",
       "    }\n",
       "\n",
       "    .dataframe thead th {\n",
       "        text-align: right;\n",
       "    }\n",
       "</style>\n",
       "<table border=\"1\" class=\"dataframe\">\n",
       "  <thead>\n",
       "    <tr style=\"text-align: right;\">\n",
       "      <th></th>\n",
       "      <th>original_name</th>\n",
       "      <th>lat</th>\n",
       "      <th>lon</th>\n",
       "      <th>name</th>\n",
       "    </tr>\n",
       "  </thead>\n",
       "  <tbody>\n",
       "    <tr>\n",
       "      <th>0</th>\n",
       "      <td>Kanada</td>\n",
       "      <td>45.424721</td>\n",
       "      <td>-75.695</td>\n",
       "      <td>Canada</td>\n",
       "    </tr>\n",
       "    <tr>\n",
       "      <th>1</th>\n",
       "      <td>Raleigh-Durham, North Carolina Area</td>\n",
       "      <td>35.772701</td>\n",
       "      <td>-78.632439</td>\n",
       "      <td>Raleigh</td>\n",
       "    </tr>\n",
       "    <tr>\n",
       "      <th>2</th>\n",
       "      <td>Houston, Texas Area</td>\n",
       "      <td>29.7652</td>\n",
       "      <td>-95.3657</td>\n",
       "      <td>Houston</td>\n",
       "    </tr>\n",
       "    <tr>\n",
       "      <th>3</th>\n",
       "      <td>Greater New York City Area</td>\n",
       "      <td>40.74838</td>\n",
       "      <td>-73.996705</td>\n",
       "      <td>New_York_City</td>\n",
       "    </tr>\n",
       "    <tr>\n",
       "      <th>4</th>\n",
       "      <td>Houston, Texas</td>\n",
       "      <td>29.7652</td>\n",
       "      <td>-95.3657</td>\n",
       "      <td>Houston</td>\n",
       "    </tr>\n",
       "  </tbody>\n",
       "</table>\n",
       "</div>"
      ],
      "text/plain": [
       "                         original_name        lat        lon           name\n",
       "0                               Kanada  45.424721    -75.695         Canada\n",
       "1  Raleigh-Durham, North Carolina Area  35.772701 -78.632439        Raleigh\n",
       "2                  Houston, Texas Area    29.7652   -95.3657        Houston\n",
       "3           Greater New York City Area   40.74838 -73.996705  New_York_City\n",
       "4                       Houston, Texas    29.7652   -95.3657        Houston"
      ]
     },
     "execution_count": 139,
     "metadata": {},
     "output_type": "execute_result"
    }
   ],
   "source": [
    "city_loc_map.head()"
   ]
  },
  {
   "cell_type": "code",
   "execution_count": 140,
   "id": "597a7763-9b8c-4551-9b2d-bd713d0b7e48",
   "metadata": {},
   "outputs": [
    {
     "name": "stdout",
     "output_type": "stream",
     "text": [
      "Merging tables\n",
      "df has already been merged\n"
     ]
    },
    {
     "data": {
      "text/html": [
       "<div>\n",
       "<style scoped>\n",
       "    .dataframe tbody tr th:only-of-type {\n",
       "        vertical-align: middle;\n",
       "    }\n",
       "\n",
       "    .dataframe tbody tr th {\n",
       "        vertical-align: top;\n",
       "    }\n",
       "\n",
       "    .dataframe thead th {\n",
       "        text-align: right;\n",
       "    }\n",
       "</style>\n",
       "<table border=\"1\" class=\"dataframe\">\n",
       "  <thead>\n",
       "    <tr style=\"text-align: right;\">\n",
       "      <th></th>\n",
       "      <th>id</th>\n",
       "      <th>job_title</th>\n",
       "      <th>location</th>\n",
       "      <th>connection</th>\n",
       "      <th>lat</th>\n",
       "      <th>lon</th>\n",
       "      <th>name</th>\n",
       "    </tr>\n",
       "  </thead>\n",
       "  <tbody>\n",
       "    <tr>\n",
       "      <th>0</th>\n",
       "      <td>1</td>\n",
       "      <td>2019 C.T. Bauer College of Business Graduate (...</td>\n",
       "      <td>Houston, Texas</td>\n",
       "      <td>85</td>\n",
       "      <td>29.7652</td>\n",
       "      <td>-95.3657</td>\n",
       "      <td>Houston</td>\n",
       "    </tr>\n",
       "    <tr>\n",
       "      <th>1</th>\n",
       "      <td>2</td>\n",
       "      <td>Native English Teacher at EPIK (English Progra...</td>\n",
       "      <td>Kanada</td>\n",
       "      <td>500</td>\n",
       "      <td>45.424721</td>\n",
       "      <td>-75.695</td>\n",
       "      <td>Canada</td>\n",
       "    </tr>\n",
       "    <tr>\n",
       "      <th>2</th>\n",
       "      <td>3</td>\n",
       "      <td>Aspiring Human Resources Professional</td>\n",
       "      <td>Raleigh-Durham, North Carolina Area</td>\n",
       "      <td>44</td>\n",
       "      <td>35.772701</td>\n",
       "      <td>-78.632439</td>\n",
       "      <td>Raleigh</td>\n",
       "    </tr>\n",
       "  </tbody>\n",
       "</table>\n",
       "</div>"
      ],
      "text/plain": [
       "   id                                          job_title  \\\n",
       "0   1  2019 C.T. Bauer College of Business Graduate (...   \n",
       "1   2  Native English Teacher at EPIK (English Progra...   \n",
       "2   3              Aspiring Human Resources Professional   \n",
       "\n",
       "                              location  connection        lat        lon  \\\n",
       "0                       Houston, Texas          85    29.7652   -95.3657   \n",
       "1                               Kanada         500  45.424721    -75.695   \n",
       "2  Raleigh-Durham, North Carolina Area          44  35.772701 -78.632439   \n",
       "\n",
       "      name  \n",
       "0  Houston  \n",
       "1   Canada  \n",
       "2  Raleigh  "
      ]
     },
     "execution_count": 140,
     "metadata": {},
     "output_type": "execute_result"
    }
   ],
   "source": [
    "# merge dataframes to include new spatial information\n",
    "if 'lat' not in df.columns:\n",
    "    print('Merging tables')\n",
    "    df=df.merge(city_loc_map[['original_name','lat','lon','name']],\n",
    "               left_on='location',\n",
    "               right_on='original_name',\n",
    "               how='left')\n",
    "\n",
    "    df=df.drop(columns=['original_name'])\n",
    "\n",
    "print('df has already been merged')\n",
    "df.head(3)"
   ]
  },
  {
   "cell_type": "code",
   "execution_count": 141,
   "id": "34d78ddc-8ce7-45fb-91ba-042b82dafdb9",
   "metadata": {},
   "outputs": [
    {
     "data": {
      "text/plain": [
       "True"
      ]
     },
     "execution_count": 141,
     "metadata": {},
     "output_type": "execute_result"
    }
   ],
   "source": [
    "# check if there's an equal number of latitudes for the city names\n",
    "df['lat'].value_counts().count()==df['name'].value_counts().count()"
   ]
  },
  {
   "cell_type": "markdown",
   "id": "a3670fbc-004a-4e9f-a3bb-f23d76ab57db",
   "metadata": {},
   "source": [
    "Excellent! We successfully added the city location. Now let's make a chloropleth map (or something similar) showing the geographic distribution of the applicants."
   ]
  },
  {
   "cell_type": "markdown",
   "id": "27d660cd-3d4d-4310-81c4-410653ff7a4e",
   "metadata": {},
   "source": [
    "We almost forgot: let's now make a table that shows the sum of applicants at each location."
   ]
  },
  {
   "cell_type": "code",
   "execution_count": 142,
   "id": "cfb32ab7-4dde-4e75-848a-c42fabfbd208",
   "metadata": {},
   "outputs": [
    {
     "data": {
      "text/html": [
       "<div>\n",
       "<style scoped>\n",
       "    .dataframe tbody tr th:only-of-type {\n",
       "        vertical-align: middle;\n",
       "    }\n",
       "\n",
       "    .dataframe tbody tr th {\n",
       "        vertical-align: top;\n",
       "    }\n",
       "\n",
       "    .dataframe thead th {\n",
       "        text-align: right;\n",
       "    }\n",
       "</style>\n",
       "<table border=\"1\" class=\"dataframe\">\n",
       "  <thead>\n",
       "    <tr style=\"text-align: right;\">\n",
       "      <th></th>\n",
       "      <th>ct</th>\n",
       "      <th>lat</th>\n",
       "      <th>lon</th>\n",
       "      <th>name</th>\n",
       "    </tr>\n",
       "  </thead>\n",
       "  <tbody>\n",
       "    <tr>\n",
       "      <th>0</th>\n",
       "      <td>1</td>\n",
       "      <td>32.293502</td>\n",
       "      <td>-90.186655</td>\n",
       "      <td>Jackson_MS</td>\n",
       "    </tr>\n",
       "    <tr>\n",
       "      <th>1</th>\n",
       "      <td>1</td>\n",
       "      <td>36.852700</td>\n",
       "      <td>-75.978300</td>\n",
       "      <td>Virginia_Beach</td>\n",
       "    </tr>\n",
       "    <tr>\n",
       "      <th>2</th>\n",
       "      <td>2</td>\n",
       "      <td>39.833333</td>\n",
       "      <td>-98.583333</td>\n",
       "      <td>United_States</td>\n",
       "    </tr>\n",
       "    <tr>\n",
       "      <th>3</th>\n",
       "      <td>1</td>\n",
       "      <td>37.436491</td>\n",
       "      <td>-121.892885</td>\n",
       "      <td>Milpitas</td>\n",
       "    </tr>\n",
       "    <tr>\n",
       "      <th>4</th>\n",
       "      <td>1</td>\n",
       "      <td>29.782800</td>\n",
       "      <td>-95.821200</td>\n",
       "      <td>Katy_TX</td>\n",
       "    </tr>\n",
       "  </tbody>\n",
       "</table>\n",
       "</div>"
      ],
      "text/plain": [
       "   ct        lat         lon            name\n",
       "0   1  32.293502  -90.186655      Jackson_MS\n",
       "1   1  36.852700  -75.978300  Virginia_Beach\n",
       "2   2  39.833333  -98.583333   United_States\n",
       "3   1  37.436491 -121.892885        Milpitas\n",
       "4   1  29.782800  -95.821200         Katy_TX"
      ]
     },
     "execution_count": 142,
     "metadata": {},
     "output_type": "execute_result"
    }
   ],
   "source": [
    "con=duckdb.connect(database=':memory:')\n",
    "con.register('df',df)\n",
    "ct_cities=con.execute('''\n",
    "select\n",
    "    count(name) as ct\n",
    "    ,lat\n",
    "    ,lon\n",
    "    ,name\n",
    "from df\n",
    "group by name,lat,lon;\n",
    "''').fetchdf()\n",
    "con.close()\n",
    "ct_cities.head()"
   ]
  },
  {
   "cell_type": "code",
   "execution_count": 143,
   "id": "f5f0812b-b5a3-42b1-8b92-a78abf7f3ba5",
   "metadata": {},
   "outputs": [
    {
     "data": {
      "text/html": [
       "<div>\n",
       "<style scoped>\n",
       "    .dataframe tbody tr th:only-of-type {\n",
       "        vertical-align: middle;\n",
       "    }\n",
       "\n",
       "    .dataframe tbody tr th {\n",
       "        vertical-align: top;\n",
       "    }\n",
       "\n",
       "    .dataframe thead th {\n",
       "        text-align: right;\n",
       "    }\n",
       "</style>\n",
       "<table border=\"1\" class=\"dataframe\">\n",
       "  <thead>\n",
       "    <tr style=\"text-align: right;\">\n",
       "      <th></th>\n",
       "      <th>pop_est</th>\n",
       "      <th>continent</th>\n",
       "      <th>name</th>\n",
       "      <th>iso_a3</th>\n",
       "      <th>gdp_md_est</th>\n",
       "      <th>geometry</th>\n",
       "    </tr>\n",
       "  </thead>\n",
       "  <tbody>\n",
       "    <tr>\n",
       "      <th>0</th>\n",
       "      <td>889953.0</td>\n",
       "      <td>Oceania</td>\n",
       "      <td>Fiji</td>\n",
       "      <td>FJI</td>\n",
       "      <td>5496</td>\n",
       "      <td>MULTIPOLYGON (((180.00000 -16.06713, 180.00000...</td>\n",
       "    </tr>\n",
       "    <tr>\n",
       "      <th>1</th>\n",
       "      <td>58005463.0</td>\n",
       "      <td>Africa</td>\n",
       "      <td>Tanzania</td>\n",
       "      <td>TZA</td>\n",
       "      <td>63177</td>\n",
       "      <td>POLYGON ((33.90371 -0.95000, 34.07262 -1.05982...</td>\n",
       "    </tr>\n",
       "    <tr>\n",
       "      <th>2</th>\n",
       "      <td>603253.0</td>\n",
       "      <td>Africa</td>\n",
       "      <td>W. Sahara</td>\n",
       "      <td>ESH</td>\n",
       "      <td>907</td>\n",
       "      <td>POLYGON ((-8.66559 27.65643, -8.66512 27.58948...</td>\n",
       "    </tr>\n",
       "    <tr>\n",
       "      <th>3</th>\n",
       "      <td>37589262.0</td>\n",
       "      <td>North America</td>\n",
       "      <td>Canada</td>\n",
       "      <td>CAN</td>\n",
       "      <td>1736425</td>\n",
       "      <td>MULTIPOLYGON (((-122.84000 49.00000, -122.9742...</td>\n",
       "    </tr>\n",
       "    <tr>\n",
       "      <th>4</th>\n",
       "      <td>328239523.0</td>\n",
       "      <td>North America</td>\n",
       "      <td>United States of America</td>\n",
       "      <td>USA</td>\n",
       "      <td>21433226</td>\n",
       "      <td>MULTIPOLYGON (((-122.84000 49.00000, -120.0000...</td>\n",
       "    </tr>\n",
       "  </tbody>\n",
       "</table>\n",
       "</div>"
      ],
      "text/plain": [
       "       pop_est      continent                      name iso_a3  gdp_md_est  \\\n",
       "0     889953.0        Oceania                      Fiji    FJI        5496   \n",
       "1   58005463.0         Africa                  Tanzania    TZA       63177   \n",
       "2     603253.0         Africa                 W. Sahara    ESH         907   \n",
       "3   37589262.0  North America                    Canada    CAN     1736425   \n",
       "4  328239523.0  North America  United States of America    USA    21433226   \n",
       "\n",
       "                                            geometry  \n",
       "0  MULTIPOLYGON (((180.00000 -16.06713, 180.00000...  \n",
       "1  POLYGON ((33.90371 -0.95000, 34.07262 -1.05982...  \n",
       "2  POLYGON ((-8.66559 27.65643, -8.66512 27.58948...  \n",
       "3  MULTIPOLYGON (((-122.84000 49.00000, -122.9742...  \n",
       "4  MULTIPOLYGON (((-122.84000 49.00000, -120.0000...  "
      ]
     },
     "execution_count": 143,
     "metadata": {},
     "output_type": "execute_result"
    }
   ],
   "source": [
    "# downloaded from something like\n",
    "# https://github.com/georgique/world-geojson\n",
    "borders=gpd.read_file('../data/world_borders.geojson')\n",
    "borders.head()"
   ]
  },
  {
   "cell_type": "markdown",
   "id": "15e2cc85-fa87-418c-b34a-76c9f2c20482",
   "metadata": {},
   "source": [
    "I'll make two maps, one of North America and another of Tükiye."
   ]
  },
  {
   "cell_type": "code",
   "execution_count": 144,
   "id": "ccce3de5-c0a5-4b90-a9dc-cda14533a5fb",
   "metadata": {},
   "outputs": [
    {
     "data": {
      "text/html": [
       "<div>\n",
       "<style scoped>\n",
       "    .dataframe tbody tr th:only-of-type {\n",
       "        vertical-align: middle;\n",
       "    }\n",
       "\n",
       "    .dataframe tbody tr th {\n",
       "        vertical-align: top;\n",
       "    }\n",
       "\n",
       "    .dataframe thead th {\n",
       "        text-align: right;\n",
       "    }\n",
       "</style>\n",
       "<table border=\"1\" class=\"dataframe\">\n",
       "  <thead>\n",
       "    <tr style=\"text-align: right;\">\n",
       "      <th></th>\n",
       "      <th>ct</th>\n",
       "      <th>lat</th>\n",
       "      <th>lon</th>\n",
       "      <th>name</th>\n",
       "    </tr>\n",
       "  </thead>\n",
       "  <tbody>\n",
       "    <tr>\n",
       "      <th>0</th>\n",
       "      <td>1</td>\n",
       "      <td>32.293502</td>\n",
       "      <td>-90.186655</td>\n",
       "      <td>Jackson_MS</td>\n",
       "    </tr>\n",
       "    <tr>\n",
       "      <th>1</th>\n",
       "      <td>1</td>\n",
       "      <td>36.852700</td>\n",
       "      <td>-75.978300</td>\n",
       "      <td>Virginia_Beach</td>\n",
       "    </tr>\n",
       "    <tr>\n",
       "      <th>2</th>\n",
       "      <td>2</td>\n",
       "      <td>39.833333</td>\n",
       "      <td>-98.583333</td>\n",
       "      <td>United_States</td>\n",
       "    </tr>\n",
       "    <tr>\n",
       "      <th>3</th>\n",
       "      <td>1</td>\n",
       "      <td>37.436491</td>\n",
       "      <td>-121.892885</td>\n",
       "      <td>Milpitas</td>\n",
       "    </tr>\n",
       "    <tr>\n",
       "      <th>4</th>\n",
       "      <td>1</td>\n",
       "      <td>29.782800</td>\n",
       "      <td>-95.821200</td>\n",
       "      <td>Katy_TX</td>\n",
       "    </tr>\n",
       "  </tbody>\n",
       "</table>\n",
       "</div>"
      ],
      "text/plain": [
       "   ct        lat         lon            name\n",
       "0   1  32.293502  -90.186655      Jackson_MS\n",
       "1   1  36.852700  -75.978300  Virginia_Beach\n",
       "2   2  39.833333  -98.583333   United_States\n",
       "3   1  37.436491 -121.892885        Milpitas\n",
       "4   1  29.782800  -95.821200         Katy_TX"
      ]
     },
     "execution_count": 144,
     "metadata": {},
     "output_type": "execute_result"
    }
   ],
   "source": [
    "con=duckdb.connect(database=':memory:')\n",
    "con.register('ct_cities',ct_cities)\n",
    "ct_cities_na=con.execute('''\n",
    "select\n",
    "    *\n",
    "from ct_cities\n",
    "where lon<27;\n",
    "''').fetchdf()\n",
    "con.close()\n",
    "ct_cities_na.head()"
   ]
  },
  {
   "cell_type": "code",
   "execution_count": 145,
   "id": "07a03d54-a54f-4778-ba87-4999d9d0ee90",
   "metadata": {},
   "outputs": [
    {
     "data": {
      "text/html": [
       "<div>\n",
       "<style scoped>\n",
       "    .dataframe tbody tr th:only-of-type {\n",
       "        vertical-align: middle;\n",
       "    }\n",
       "\n",
       "    .dataframe tbody tr th {\n",
       "        vertical-align: top;\n",
       "    }\n",
       "\n",
       "    .dataframe thead th {\n",
       "        text-align: right;\n",
       "    }\n",
       "</style>\n",
       "<table border=\"1\" class=\"dataframe\">\n",
       "  <thead>\n",
       "    <tr style=\"text-align: right;\">\n",
       "      <th></th>\n",
       "      <th>ct</th>\n",
       "      <th>lat</th>\n",
       "      <th>lon</th>\n",
       "      <th>name</th>\n",
       "    </tr>\n",
       "  </thead>\n",
       "  <tbody>\n",
       "    <tr>\n",
       "      <th>0</th>\n",
       "      <td>4</td>\n",
       "      <td>38.4228</td>\n",
       "      <td>27.1404</td>\n",
       "      <td>İzmir</td>\n",
       "    </tr>\n",
       "  </tbody>\n",
       "</table>\n",
       "</div>"
      ],
      "text/plain": [
       "   ct      lat      lon   name\n",
       "0   4  38.4228  27.1404  İzmir"
      ]
     },
     "execution_count": 145,
     "metadata": {},
     "output_type": "execute_result"
    }
   ],
   "source": [
    "con=duckdb.connect(database=':memory:')\n",
    "con.register('ct_cities',ct_cities)\n",
    "ct_cities_tk=con.execute('''\n",
    "select\n",
    "    *\n",
    "from ct_cities\n",
    "where lon>27;\n",
    "''').fetchdf()\n",
    "con.close()\n",
    "ct_cities_tk.head()"
   ]
  },
  {
   "cell_type": "code",
   "execution_count": 146,
   "id": "e5da0150-cbcf-408b-9891-672217f13fac",
   "metadata": {},
   "outputs": [
    {
     "data": {
      "text/html": [
       "<div>\n",
       "<style scoped>\n",
       "    .dataframe tbody tr th:only-of-type {\n",
       "        vertical-align: middle;\n",
       "    }\n",
       "\n",
       "    .dataframe tbody tr th {\n",
       "        vertical-align: top;\n",
       "    }\n",
       "\n",
       "    .dataframe thead th {\n",
       "        text-align: right;\n",
       "    }\n",
       "</style>\n",
       "<table border=\"1\" class=\"dataframe\">\n",
       "  <thead>\n",
       "    <tr style=\"text-align: right;\">\n",
       "      <th></th>\n",
       "      <th>id</th>\n",
       "      <th>name</th>\n",
       "      <th>density</th>\n",
       "      <th>geometry</th>\n",
       "    </tr>\n",
       "  </thead>\n",
       "  <tbody>\n",
       "    <tr>\n",
       "      <th>0</th>\n",
       "      <td>01</td>\n",
       "      <td>Alabama</td>\n",
       "      <td>94.650</td>\n",
       "      <td>POLYGON ((-87.35930 35.00118, -85.60667 34.984...</td>\n",
       "    </tr>\n",
       "    <tr>\n",
       "      <th>1</th>\n",
       "      <td>02</td>\n",
       "      <td>Alaska</td>\n",
       "      <td>1.264</td>\n",
       "      <td>MULTIPOLYGON (((-131.60202 55.11798, -131.5691...</td>\n",
       "    </tr>\n",
       "    <tr>\n",
       "      <th>2</th>\n",
       "      <td>04</td>\n",
       "      <td>Arizona</td>\n",
       "      <td>57.050</td>\n",
       "      <td>POLYGON ((-109.04250 37.00026, -109.04798 31.3...</td>\n",
       "    </tr>\n",
       "    <tr>\n",
       "      <th>3</th>\n",
       "      <td>05</td>\n",
       "      <td>Arkansas</td>\n",
       "      <td>56.430</td>\n",
       "      <td>POLYGON ((-94.47384 36.50186, -90.15254 36.496...</td>\n",
       "    </tr>\n",
       "    <tr>\n",
       "      <th>4</th>\n",
       "      <td>06</td>\n",
       "      <td>California</td>\n",
       "      <td>241.700</td>\n",
       "      <td>POLYGON ((-123.23326 42.00619, -122.37885 42.0...</td>\n",
       "    </tr>\n",
       "  </tbody>\n",
       "</table>\n",
       "</div>"
      ],
      "text/plain": [
       "   id        name  density                                           geometry\n",
       "0  01     Alabama   94.650  POLYGON ((-87.35930 35.00118, -85.60667 34.984...\n",
       "1  02      Alaska    1.264  MULTIPOLYGON (((-131.60202 55.11798, -131.5691...\n",
       "2  04     Arizona   57.050  POLYGON ((-109.04250 37.00026, -109.04798 31.3...\n",
       "3  05    Arkansas   56.430  POLYGON ((-94.47384 36.50186, -90.15254 36.496...\n",
       "4  06  California  241.700  POLYGON ((-123.23326 42.00619, -122.37885 42.0..."
      ]
     },
     "execution_count": 146,
     "metadata": {},
     "output_type": "execute_result"
    }
   ],
   "source": [
    "# us states geojson from here:\n",
    "# https://github.com/PublicaMundi/\\\n",
    "# MappingAPI/blob/master/data/geojson/us-states.json\n",
    "states=gpd.read_file('../data/us-states.json')\n",
    "states.head()"
   ]
  },
  {
   "cell_type": "code",
   "execution_count": 147,
   "id": "03aa32f3-1d7f-42cc-a4bc-844ec4e527c0",
   "metadata": {},
   "outputs": [
    {
     "data": {
      "text/plain": [
       "(104, 7)"
      ]
     },
     "execution_count": 147,
     "metadata": {},
     "output_type": "execute_result"
    }
   ],
   "source": [
    "df.shape"
   ]
  },
  {
   "cell_type": "code",
   "execution_count": 148,
   "id": "7a413abe-3f90-4cdd-a720-57708099a47a",
   "metadata": {},
   "outputs": [
    {
     "data": {
      "image/png": "[encoded data removed]",
      "text/plain": [
       "<Figure size 1500x1000 with 2 Axes>"
      ]
     },
     "metadata": {},
     "output_type": "display_data"
    }
   ],
   "source": [
    "# set up the figure and axis\n",
    "fig, ax = plt.subplots(figsize=(15, 10))\n",
    "plt.title(f'Global Geographic Distribution of Candidates (n={df.shape[0]})') \n",
    "plt.tight_layout()\n",
    "\n",
    "# hide x and y axis labels for cleaner map display\n",
    "ax.get_xaxis().set_visible(False)\n",
    "ax.get_yaxis().set_visible(False)\n",
    "\n",
    "# plot US states\n",
    "states.plot(ax=ax, edgecolor='grey', facecolor='none')\n",
    "\n",
    "# plot scatter points for North America data\n",
    "scale_factor = 20  # to make it more visible\n",
    "alpha_ = 0.7  # consistent alpha value\n",
    "cmap='coolwarm'\n",
    "\n",
    "scatter_na = ax.scatter(\n",
    "    x=ct_cities_na['lon'], \n",
    "    y=ct_cities_na['lat'],\n",
    "    s=ct_cities_na['ct'] * scale_factor,\n",
    "    c=ct_cities_na['ct'],\n",
    "    cmap=cmap,\n",
    "    linewidths=2,\n",
    "    alpha=alpha_\n",
    ")\n",
    "\n",
    "# set limits for a focused map view on North America\n",
    "ax.set_xlim([ct_cities_na['lon'].min() - 5, ct_cities_na['lon'].max() + 5])\n",
    "ax.set_ylim([ct_cities_na['lat'].min() - 5, ct_cities_na['lat'].max() + 5])\n",
    "\n",
    "## add inset for Türkiye data\n",
    "axins = inset_axes(ax, width=3, height=2, loc='upper left', borderpad=2)\n",
    "axins.text(\n",
    "    0.5, -0.1,                   # X, Y coordinates (centered below the inset)\n",
    "    f\"Türkiye Candidates (n={ct_cities_tk['ct'][0]})\",         # Text content\n",
    "    ha='center', va='top',        # Horizontal and vertical alignment\n",
    "    transform=axins.transAxes,    # Transform relative to axins' coordinates\n",
    "    fontsize=10,                  # Adjust font size as desired\n",
    "    bbox=dict(facecolor='white', edgecolor='black', boxstyle='square,pad=0.5')  # White background with rounded edges\n",
    ")\n",
    "axins.spines['top'].set_linewidth(2)\n",
    "axins.spines['bottom'].set_linewidth(2)\n",
    "axins.spines['left'].set_linewidth(2)\n",
    "axins.spines['right'].set_linewidth(2)\n",
    "axins.get_xaxis().set_visible(False)\n",
    "axins.get_yaxis().set_visible(False)\n",
    "\n",
    "# plot the borders of Türkiye's neighboring countries\n",
    "borders.plot(ax=axins, edgecolor='grey', facecolor='none')\n",
    "\n",
    "# plot scatter points for Türkiye data in the inset\n",
    "scatter_tk = axins.scatter(\n",
    "    x=ct_cities_tk['lon'], \n",
    "    y=ct_cities_tk['lat'],\n",
    "    s=ct_cities_tk['ct'] * scale_factor,\n",
    "    c=ct_cities_tk['ct'],\n",
    "    cmap=cmap,\n",
    "    linewidths=2,\n",
    "    alpha=alpha_\n",
    ")\n",
    "\n",
    "# set limits for a focused view of Türkiye in the inset\n",
    "axins.set_xlim([ct_cities_tk['lon'].min() - 20, ct_cities_tk['lon'].max() + 20])\n",
    "axins.set_ylim([ct_cities_tk['lat'].min() - 20, ct_cities_tk['lat'].max() + 20])\n",
    "\n",
    "## custom legend entries using Line2D\n",
    "# define representative sizes and values for legend\n",
    "min_ = min(ct_cities_na['ct'])\n",
    "max_ = max(ct_cities_na['ct'])\n",
    "middle = (min_ + max_) / 2\n",
    "\n",
    "size_labels = [min_, middle, max_]\n",
    "colors = [min_, middle, max_]\n",
    "\n",
    "# use color map to assign color to each representative count\n",
    "cmap = plt.cm.coolwarm\n",
    "color_legend = [cmap((value - min_) / (max_ - min_)) for value in colors]\n",
    "\n",
    "# create custom legend handles\n",
    "legend_elements = [\n",
    "    Line2D([0], [0], marker='o', color='w', label=f'Low ({min_})', \n",
    "#            using square root so that the marker size area scales appropriately with original scale factor\n",
    "           markerfacecolor=color_legend[0], markersize=(size_labels[0] * scale_factor) ** 0.5, alpha=alpha_),\n",
    "    Line2D([0], [0], marker='o', color='w', label=f'Medium ({middle:.0f})', \n",
    "           markerfacecolor=color_legend[1], markersize=(size_labels[1] * scale_factor) ** 0.5, alpha=alpha_),\n",
    "    Line2D([0], [0], marker='o', color='w', label=f'High ({max_})', \n",
    "           markerfacecolor=color_legend[2], markersize=(size_labels[2] * scale_factor) ** 0.5, alpha=alpha_)\n",
    "]\n",
    "\n",
    "# add the custom legend to the plot\n",
    "ax.legend(handles=legend_elements, \n",
    "          title=\"Number of Candidates\", \n",
    "          loc=\"lower left\", \n",
    "          frameon=True,\n",
    "          bbox_to_anchor=(0.04,0.04))\n",
    "\n",
    "plt.savefig('figures/3_map.pdf',bbox_inches='tight')\n",
    "plt.savefig('figures/3_map.jpg',bbox_inches='tight')\n",
    "plt.savefig('figures/3_map.png',bbox_inches='tight')\n",
    "\n",
    "plt.show()"
   ]
  },
  {
   "cell_type": "code",
   "execution_count": 149,
   "id": "0fbf6db5-1fd2-46e6-845d-1b8398932876",
   "metadata": {},
   "outputs": [
    {
     "name": "stdout",
     "output_type": "stream",
     "text": [
      "Candidates in Canada: 12\n",
      "Candidates in Türkiye: 4\n",
      "Candidates in US: 92\n"
     ]
    }
   ],
   "source": [
    "print(f\"Candidates in Canada: {df[df['location'].str.contains('anada')].shape[0]}\")\n",
    "print(f\"Candidates in Türkiye: {df[df['location'].str.contains('rkiye')].shape[0]}\")\n",
    "print(f\"Candidates in US: {df.shape[0] - df[df['location'].str.contains('anada|urky')].shape[0]}\")"
   ]
  },
  {
   "cell_type": "markdown",
   "id": "59068bbc-00aa-4aa7-8531-2d33ea00dbd8",
   "metadata": {},
   "source": [
    "Most candidates are based in the US (n=92), with a small minority based in Canada (n=12) or Türkiye (n=4)."
   ]
  },
  {
   "cell_type": "markdown",
   "id": "a00f3eea-e2af-4c8c-91ef-6a40650d2e0e",
   "metadata": {},
   "source": [
    "## Preprocess Language Data"
   ]
  },
  {
   "cell_type": "code",
   "execution_count": 150,
   "id": "20053623-a7b1-4a2e-a1c5-b015d435a419",
   "metadata": {},
   "outputs": [
    {
     "data": {
      "text/html": [
       "<div>\n",
       "<style scoped>\n",
       "    .dataframe tbody tr th:only-of-type {\n",
       "        vertical-align: middle;\n",
       "    }\n",
       "\n",
       "    .dataframe tbody tr th {\n",
       "        vertical-align: top;\n",
       "    }\n",
       "\n",
       "    .dataframe thead th {\n",
       "        text-align: right;\n",
       "    }\n",
       "</style>\n",
       "<table border=\"1\" class=\"dataframe\">\n",
       "  <thead>\n",
       "    <tr style=\"text-align: right;\">\n",
       "      <th></th>\n",
       "      <th>id</th>\n",
       "      <th>job_title</th>\n",
       "      <th>location</th>\n",
       "      <th>connection</th>\n",
       "      <th>lat</th>\n",
       "      <th>lon</th>\n",
       "      <th>name</th>\n",
       "    </tr>\n",
       "  </thead>\n",
       "  <tbody>\n",
       "    <tr>\n",
       "      <th>0</th>\n",
       "      <td>1</td>\n",
       "      <td>2019 C.T. Bauer College of Business Graduate (...</td>\n",
       "      <td>Houston, Texas</td>\n",
       "      <td>85</td>\n",
       "      <td>29.7652</td>\n",
       "      <td>-95.3657</td>\n",
       "      <td>Houston</td>\n",
       "    </tr>\n",
       "    <tr>\n",
       "      <th>1</th>\n",
       "      <td>2</td>\n",
       "      <td>Native English Teacher at EPIK (English Progra...</td>\n",
       "      <td>Kanada</td>\n",
       "      <td>500</td>\n",
       "      <td>45.424721</td>\n",
       "      <td>-75.695</td>\n",
       "      <td>Canada</td>\n",
       "    </tr>\n",
       "    <tr>\n",
       "      <th>2</th>\n",
       "      <td>3</td>\n",
       "      <td>Aspiring Human Resources Professional</td>\n",
       "      <td>Raleigh-Durham, North Carolina Area</td>\n",
       "      <td>44</td>\n",
       "      <td>35.772701</td>\n",
       "      <td>-78.632439</td>\n",
       "      <td>Raleigh</td>\n",
       "    </tr>\n",
       "  </tbody>\n",
       "</table>\n",
       "</div>"
      ],
      "text/plain": [
       "   id                                          job_title  \\\n",
       "0   1  2019 C.T. Bauer College of Business Graduate (...   \n",
       "1   2  Native English Teacher at EPIK (English Progra...   \n",
       "2   3              Aspiring Human Resources Professional   \n",
       "\n",
       "                              location  connection        lat        lon  \\\n",
       "0                       Houston, Texas          85    29.7652   -95.3657   \n",
       "1                               Kanada         500  45.424721    -75.695   \n",
       "2  Raleigh-Durham, North Carolina Area          44  35.772701 -78.632439   \n",
       "\n",
       "      name  \n",
       "0  Houston  \n",
       "1   Canada  \n",
       "2  Raleigh  "
      ]
     },
     "execution_count": 150,
     "metadata": {},
     "output_type": "execute_result"
    }
   ],
   "source": [
    "df.head(3)"
   ]
  },
  {
   "cell_type": "code",
   "execution_count": 151,
   "id": "46c96aa8-b516-4f8b-910f-0ce1cf94c316",
   "metadata": {},
   "outputs": [
    {
     "name": "stdout",
     "output_type": "stream",
     "text": [
      "['Director Human Resources  at EY']\n"
     ]
    }
   ],
   "source": [
    "print(df['job_title'].sample().values)"
   ]
  },
  {
   "cell_type": "markdown",
   "id": "adbe3075-1366-468e-9a18-5903a0199c57",
   "metadata": {},
   "source": [
    "### Vectorize `job_title` column"
   ]
  },
  {
   "cell_type": "markdown",
   "id": "cf7c9954-6ccb-4240-882b-38358223c0fb",
   "metadata": {},
   "source": [
    "### Define preprocessor"
   ]
  },
  {
   "cell_type": "markdown",
   "id": "84690a07-d6a1-4ad7-9e55-fa171e3a740f",
   "metadata": {},
   "source": [
    "This preprocessor will standardize the English words so that they can be analyzed truthfully, allowing us to know that when more candidates are added to the dataset, their job titles will be processed similarly."
   ]
  },
  {
   "cell_type": "markdown",
   "id": "da9b386e-608b-47ef-8520-1fb885137544",
   "metadata": {},
   "source": [
    "#### Version of dataset with lemmatization"
   ]
  },
  {
   "cell_type": "code",
   "execution_count": 152,
   "id": "198cc4eb-551b-4261-b750-688483eac28a",
   "metadata": {},
   "outputs": [],
   "source": [
    "def preprocessor_lemma(text):\n",
    "    pos_map = {\"J\":wordnet.ADJ,\n",
    "           \"V\":wordnet.VERB,\n",
    "           \"N\":wordnet.NOUN,\n",
    "           \"R\":wordnet.ADV}\n",
    "    \n",
    "    lemmatizer=WordNetLemmatizer()\n",
    "    \n",
    "    # list of English stopwords in lowercase\n",
    "    stops=set(stopwords.words('english'))\n",
    "    \n",
    "    # break into sentences to get parts-of-speech (pos) tagging to word best\n",
    "    as_sent=sent_tokenize(text,language='english')\n",
    "    processed=[]\n",
    "    \n",
    "    for sent in as_sent:\n",
    "        # break each sentence into words\n",
    "        tokens=word_tokenize(sent)\n",
    "        \n",
    "        # get pos tags for lemmatization\n",
    "        pos_tags=nltk.pos_tag(tokens)\n",
    "        mapped_tags=[(tag[0],pos_map.get(tag[1][0],wordnet.NOUN)) for tag in pos_tags]\n",
    "        lemmas=[lemmatizer.lemmatize(*tagged) for tagged in mapped_tags]\n",
    "        \n",
    "        # convert to lower after lemmatization\n",
    "        as_str=' '.join([lemma.lower() for lemma in lemmas])\n",
    "        \n",
    "        # remove unwanted punctuation. keeping numbers because it may prove valuable to have years\n",
    "        cleaned=''.join([char for char in as_str if char in 'abcdefghijklmnopqrstuvwxyz 0123456789'])\n",
    "        \n",
    "        # double-check no empty strings and add to processed\n",
    "        cleaned=[word for word in cleaned.split() if len(word) > 0 and word not in stops]\n",
    "        processed.extend(cleaned)\n",
    "        \n",
    "    return ' '.join(processed)"
   ]
  },
  {
   "cell_type": "code",
   "execution_count": 153,
   "id": "be99ef06-665d-43f2-888e-7441c682ff1c",
   "metadata": {},
   "outputs": [],
   "source": [
    "# mapping for parts-of-speech tags\n",
    "pos_map = {\"J\":wordnet.ADJ,\n",
    "           \"V\":wordnet.VERB,\n",
    "           \"N\":wordnet.NOUN,\n",
    "           \"R\":wordnet.ADV}"
   ]
  },
  {
   "cell_type": "code",
   "execution_count": 154,
   "id": "9cd4f4fe-11b4-4e75-b07e-39e71dac7f0e",
   "metadata": {},
   "outputs": [
    {
     "name": "stdout",
     "output_type": "stream",
     "text": [
      "(104, 185)\n"
     ]
    },
    {
     "data": {
      "text/html": [
       "<div>\n",
       "<style scoped>\n",
       "    .dataframe tbody tr th:only-of-type {\n",
       "        vertical-align: middle;\n",
       "    }\n",
       "\n",
       "    .dataframe tbody tr th {\n",
       "        vertical-align: top;\n",
       "    }\n",
       "\n",
       "    .dataframe thead th {\n",
       "        text-align: right;\n",
       "    }\n",
       "</style>\n",
       "<table border=\"1\" class=\"dataframe\">\n",
       "  <thead>\n",
       "    <tr style=\"text-align: right;\">\n",
       "      <th></th>\n",
       "      <th>2019</th>\n",
       "      <th>2020</th>\n",
       "      <th>408</th>\n",
       "      <th>7092621</th>\n",
       "      <th>administration</th>\n",
       "      <th>administrative</th>\n",
       "      <th>admissions</th>\n",
       "      <th>advisory</th>\n",
       "      <th>always</th>\n",
       "      <th>america</th>\n",
       "      <th>...</th>\n",
       "      <th>undergraduate</th>\n",
       "      <th>university</th>\n",
       "      <th>victoria</th>\n",
       "      <th>wellington</th>\n",
       "      <th>western</th>\n",
       "      <th>westfield</th>\n",
       "      <th>within</th>\n",
       "      <th>woodlands</th>\n",
       "      <th>work</th>\n",
       "      <th>world</th>\n",
       "    </tr>\n",
       "  </thead>\n",
       "  <tbody>\n",
       "    <tr>\n",
       "      <th>0</th>\n",
       "      <td>0.311616</td>\n",
       "      <td>0.0</td>\n",
       "      <td>0.0</td>\n",
       "      <td>0.0</td>\n",
       "      <td>0.0</td>\n",
       "      <td>0.0</td>\n",
       "      <td>0.0</td>\n",
       "      <td>0.0</td>\n",
       "      <td>0.0</td>\n",
       "      <td>0.0</td>\n",
       "      <td>...</td>\n",
       "      <td>0.0</td>\n",
       "      <td>0.0</td>\n",
       "      <td>0.0</td>\n",
       "      <td>0.0</td>\n",
       "      <td>0.0</td>\n",
       "      <td>0.0</td>\n",
       "      <td>0.0</td>\n",
       "      <td>0.0</td>\n",
       "      <td>0.0</td>\n",
       "      <td>0.0</td>\n",
       "    </tr>\n",
       "    <tr>\n",
       "      <th>1</th>\n",
       "      <td>0.000000</td>\n",
       "      <td>0.0</td>\n",
       "      <td>0.0</td>\n",
       "      <td>0.0</td>\n",
       "      <td>0.0</td>\n",
       "      <td>0.0</td>\n",
       "      <td>0.0</td>\n",
       "      <td>0.0</td>\n",
       "      <td>0.0</td>\n",
       "      <td>0.0</td>\n",
       "      <td>...</td>\n",
       "      <td>0.0</td>\n",
       "      <td>0.0</td>\n",
       "      <td>0.0</td>\n",
       "      <td>0.0</td>\n",
       "      <td>0.0</td>\n",
       "      <td>0.0</td>\n",
       "      <td>0.0</td>\n",
       "      <td>0.0</td>\n",
       "      <td>0.0</td>\n",
       "      <td>0.0</td>\n",
       "    </tr>\n",
       "    <tr>\n",
       "      <th>2</th>\n",
       "      <td>0.000000</td>\n",
       "      <td>0.0</td>\n",
       "      <td>0.0</td>\n",
       "      <td>0.0</td>\n",
       "      <td>0.0</td>\n",
       "      <td>0.0</td>\n",
       "      <td>0.0</td>\n",
       "      <td>0.0</td>\n",
       "      <td>0.0</td>\n",
       "      <td>0.0</td>\n",
       "      <td>...</td>\n",
       "      <td>0.0</td>\n",
       "      <td>0.0</td>\n",
       "      <td>0.0</td>\n",
       "      <td>0.0</td>\n",
       "      <td>0.0</td>\n",
       "      <td>0.0</td>\n",
       "      <td>0.0</td>\n",
       "      <td>0.0</td>\n",
       "      <td>0.0</td>\n",
       "      <td>0.0</td>\n",
       "    </tr>\n",
       "  </tbody>\n",
       "</table>\n",
       "<p>3 rows × 185 columns</p>\n",
       "</div>"
      ],
      "text/plain": [
       "       2019  2020  408  7092621  administration  administrative  admissions  \\\n",
       "0  0.311616   0.0  0.0      0.0             0.0             0.0         0.0   \n",
       "1  0.000000   0.0  0.0      0.0             0.0             0.0         0.0   \n",
       "2  0.000000   0.0  0.0      0.0             0.0             0.0         0.0   \n",
       "\n",
       "   advisory  always  america  ...  undergraduate  university  victoria  \\\n",
       "0       0.0     0.0      0.0  ...            0.0         0.0       0.0   \n",
       "1       0.0     0.0      0.0  ...            0.0         0.0       0.0   \n",
       "2       0.0     0.0      0.0  ...            0.0         0.0       0.0   \n",
       "\n",
       "   wellington  western  westfield  within  woodlands  work  world  \n",
       "0         0.0      0.0        0.0     0.0        0.0   0.0    0.0  \n",
       "1         0.0      0.0        0.0     0.0        0.0   0.0    0.0  \n",
       "2         0.0      0.0        0.0     0.0        0.0   0.0    0.0  \n",
       "\n",
       "[3 rows x 185 columns]"
      ]
     },
     "execution_count": 154,
     "metadata": {},
     "output_type": "execute_result"
    }
   ],
   "source": [
    "# instantiate vectorizor\n",
    "vec=TfidfVectorizer(preprocessor=preprocessor_lemma)\n",
    "tfidf=vec.fit_transform(df['job_title'])\n",
    "\n",
    "# get feature names to use as DataFrame columns\n",
    "feature_names=vec.get_feature_names_out()\n",
    "df_job_titles_lemma=pd.DataFrame(tfidf.toarray(),columns=feature_names)\n",
    "\n",
    "print(df_job_titles_lemma.shape)\n",
    "df_job_titles_lemma.head(3)"
   ]
  },
  {
   "cell_type": "markdown",
   "id": "e409aa47-9de1-4a51-9e92-eba5354cf255",
   "metadata": {},
   "source": [
    "#### Version of processed dataset without lemmatization"
   ]
  },
  {
   "cell_type": "code",
   "execution_count": 155,
   "id": "c2dfa8e0-c9a6-4bfd-b07a-30c2702beaff",
   "metadata": {},
   "outputs": [],
   "source": [
    "def preprocessor_nolem(text):\n",
    "    \n",
    "    # List of English stopwords in lowercase\n",
    "    stops = set(stopwords.words('english'))\n",
    "    \n",
    "    # Break into sentences\n",
    "    as_sent = sent_tokenize(text, language='english')\n",
    "    processed = []\n",
    "    \n",
    "    for sent in as_sent:\n",
    "        # Tokenize each sentence\n",
    "        tokens = word_tokenize(sent)\n",
    "        \n",
    "        # Convert each word to lowercase directly\n",
    "        tokens_lower = [token.lower() for token in tokens]\n",
    "        \n",
    "        # Remove punctuation, keeping only alphanumeric characters\n",
    "        cleaned = ''.join([char for char in ' '.join(tokens_lower) if char in 'abcdefghijklmnopqrstuvwxyz 0123456789'])\n",
    "        \n",
    "        # Filter out stopwords and empty strings\n",
    "        cleaned = [word for word in cleaned.split() if len(word) > 0 and word not in stops]\n",
    "        processed.extend(cleaned)\n",
    "        \n",
    "    return ' '.join(processed)"
   ]
  },
  {
   "cell_type": "code",
   "execution_count": 156,
   "id": "77098e84-2515-44ef-a4ba-9715567b878f",
   "metadata": {},
   "outputs": [],
   "source": [
    "# mapping for parts-of-speech tags\n",
    "pos_map = {\"J\":wordnet.ADJ,\n",
    "           \"V\":wordnet.VERB,\n",
    "           \"N\":wordnet.NOUN,\n",
    "           \"R\":wordnet.ADV}"
   ]
  },
  {
   "cell_type": "code",
   "execution_count": 157,
   "id": "a4d443e4-7d03-4eed-9c7f-05f14128e3a4",
   "metadata": {},
   "outputs": [
    {
     "name": "stdout",
     "output_type": "stream",
     "text": [
      "(104, 182)\n"
     ]
    },
    {
     "data": {
      "text/html": [
       "<div>\n",
       "<style scoped>\n",
       "    .dataframe tbody tr th:only-of-type {\n",
       "        vertical-align: middle;\n",
       "    }\n",
       "\n",
       "    .dataframe tbody tr th {\n",
       "        vertical-align: top;\n",
       "    }\n",
       "\n",
       "    .dataframe thead th {\n",
       "        text-align: right;\n",
       "    }\n",
       "</style>\n",
       "<table border=\"1\" class=\"dataframe\">\n",
       "  <thead>\n",
       "    <tr style=\"text-align: right;\">\n",
       "      <th></th>\n",
       "      <th>2019</th>\n",
       "      <th>2020</th>\n",
       "      <th>408</th>\n",
       "      <th>7092621</th>\n",
       "      <th>administration</th>\n",
       "      <th>administrative</th>\n",
       "      <th>admissions</th>\n",
       "      <th>advisory</th>\n",
       "      <th>always</th>\n",
       "      <th>america</th>\n",
       "      <th>...</th>\n",
       "      <th>undergraduate</th>\n",
       "      <th>university</th>\n",
       "      <th>victoria</th>\n",
       "      <th>wellington</th>\n",
       "      <th>western</th>\n",
       "      <th>westfield</th>\n",
       "      <th>within</th>\n",
       "      <th>woodlands</th>\n",
       "      <th>work</th>\n",
       "      <th>world</th>\n",
       "    </tr>\n",
       "  </thead>\n",
       "  <tbody>\n",
       "    <tr>\n",
       "      <th>0</th>\n",
       "      <td>0.321105</td>\n",
       "      <td>0.0</td>\n",
       "      <td>0.0</td>\n",
       "      <td>0.0</td>\n",
       "      <td>0.0</td>\n",
       "      <td>0.0</td>\n",
       "      <td>0.0</td>\n",
       "      <td>0.0</td>\n",
       "      <td>0.0</td>\n",
       "      <td>0.0</td>\n",
       "      <td>...</td>\n",
       "      <td>0.0</td>\n",
       "      <td>0.0</td>\n",
       "      <td>0.0</td>\n",
       "      <td>0.0</td>\n",
       "      <td>0.0</td>\n",
       "      <td>0.0</td>\n",
       "      <td>0.0</td>\n",
       "      <td>0.0</td>\n",
       "      <td>0.0</td>\n",
       "      <td>0.0</td>\n",
       "    </tr>\n",
       "    <tr>\n",
       "      <th>1</th>\n",
       "      <td>0.000000</td>\n",
       "      <td>0.0</td>\n",
       "      <td>0.0</td>\n",
       "      <td>0.0</td>\n",
       "      <td>0.0</td>\n",
       "      <td>0.0</td>\n",
       "      <td>0.0</td>\n",
       "      <td>0.0</td>\n",
       "      <td>0.0</td>\n",
       "      <td>0.0</td>\n",
       "      <td>...</td>\n",
       "      <td>0.0</td>\n",
       "      <td>0.0</td>\n",
       "      <td>0.0</td>\n",
       "      <td>0.0</td>\n",
       "      <td>0.0</td>\n",
       "      <td>0.0</td>\n",
       "      <td>0.0</td>\n",
       "      <td>0.0</td>\n",
       "      <td>0.0</td>\n",
       "      <td>0.0</td>\n",
       "    </tr>\n",
       "    <tr>\n",
       "      <th>2</th>\n",
       "      <td>0.000000</td>\n",
       "      <td>0.0</td>\n",
       "      <td>0.0</td>\n",
       "      <td>0.0</td>\n",
       "      <td>0.0</td>\n",
       "      <td>0.0</td>\n",
       "      <td>0.0</td>\n",
       "      <td>0.0</td>\n",
       "      <td>0.0</td>\n",
       "      <td>0.0</td>\n",
       "      <td>...</td>\n",
       "      <td>0.0</td>\n",
       "      <td>0.0</td>\n",
       "      <td>0.0</td>\n",
       "      <td>0.0</td>\n",
       "      <td>0.0</td>\n",
       "      <td>0.0</td>\n",
       "      <td>0.0</td>\n",
       "      <td>0.0</td>\n",
       "      <td>0.0</td>\n",
       "      <td>0.0</td>\n",
       "    </tr>\n",
       "  </tbody>\n",
       "</table>\n",
       "<p>3 rows × 182 columns</p>\n",
       "</div>"
      ],
      "text/plain": [
       "       2019  2020  408  7092621  administration  administrative  admissions  \\\n",
       "0  0.321105   0.0  0.0      0.0             0.0             0.0         0.0   \n",
       "1  0.000000   0.0  0.0      0.0             0.0             0.0         0.0   \n",
       "2  0.000000   0.0  0.0      0.0             0.0             0.0         0.0   \n",
       "\n",
       "   advisory  always  america  ...  undergraduate  university  victoria  \\\n",
       "0       0.0     0.0      0.0  ...            0.0         0.0       0.0   \n",
       "1       0.0     0.0      0.0  ...            0.0         0.0       0.0   \n",
       "2       0.0     0.0      0.0  ...            0.0         0.0       0.0   \n",
       "\n",
       "   wellington  western  westfield  within  woodlands  work  world  \n",
       "0         0.0      0.0        0.0     0.0        0.0   0.0    0.0  \n",
       "1         0.0      0.0        0.0     0.0        0.0   0.0    0.0  \n",
       "2         0.0      0.0        0.0     0.0        0.0   0.0    0.0  \n",
       "\n",
       "[3 rows x 182 columns]"
      ]
     },
     "execution_count": 157,
     "metadata": {},
     "output_type": "execute_result"
    }
   ],
   "source": [
    "# instantiate vectorizor\n",
    "vec=TfidfVectorizer(preprocessor=preprocessor_nolem)\n",
    "tfidf=vec.fit_transform(df['job_title'])\n",
    "\n",
    "# get feature names to use as DataFrame columns\n",
    "feature_names=vec.get_feature_names_out()\n",
    "df_job_titles=pd.DataFrame(tfidf.toarray(),columns=feature_names)\n",
    "\n",
    "print(df_job_titles.shape)\n",
    "df_job_titles.head(3)"
   ]
  },
  {
   "cell_type": "markdown",
   "id": "a0cb7405-451d-47df-9fe8-22015ef1eb46",
   "metadata": {},
   "source": [
    "#### Figure of Most Common Words"
   ]
  },
  {
   "cell_type": "code",
   "execution_count": 158,
   "id": "dd25fedd-b260-48a2-8817-f88fd0ef9b98",
   "metadata": {},
   "outputs": [
    {
     "name": "stdout",
     "output_type": "stream",
     "text": [
      "Processed 0 rows, 0.00% complete.\n",
      "Processed 10 rows, 9.62% complete.\n",
      "Processed 20 rows, 19.23% complete.\n",
      "Processed 30 rows, 28.85% complete.\n",
      "Processed 40 rows, 38.46% complete.\n",
      "Processed 50 rows, 48.08% complete.\n",
      "Processed 60 rows, 57.69% complete.\n",
      "Processed 70 rows, 67.31% complete.\n",
      "Processed 80 rows, 76.92% complete.\n",
      "Processed 90 rows, 86.54% complete.\n",
      "Processed 100 rows, 96.15% complete.\n",
      "Processed all 104 rows.\n",
      "[('human', 63), ('resources', 63), ('aspiring', 27), ('professional', 20), ('student', 16), ('college', 14), ('generalist', 14), ('university', 12), ('specialist', 12), ('business', 11)]\n"
     ]
    }
   ],
   "source": [
    "job_title_list=[]\n",
    "\n",
    "for index,job in enumerate(df['job_title']):\n",
    "    if index%10==0:\n",
    "        print('Processed',index, f\"rows, {index/df['job_title'].count()*100:.2f}% complete.\")\n",
    "    cleaned=preprocessor_lemma(job)\n",
    "    job_title_list.extend(cleaned.split()) # add words, not letters\n",
    "print(f\"Processed all {df['job_title'].shape[0]} rows.\")\n",
    "job_title_counts=Counter(job_title_list)\n",
    "print(job_title_counts.most_common(10))"
   ]
  },
  {
   "cell_type": "code",
   "execution_count": 159,
   "id": "61ab585a-4767-40f5-b17e-f581af29ea34",
   "metadata": {},
   "outputs": [],
   "source": [
    "job_title_t10=job_title_counts.most_common(10)\n",
    "\n",
    "word_,count_=zip(*job_title_counts.most_common(10))\n",
    "\n",
    "word_=list(word_)\n",
    "count_=list(count_)"
   ]
  },
  {
   "cell_type": "code",
   "execution_count": 160,
   "id": "b5b32952-ca3e-48df-ab42-c04097cc12a6",
   "metadata": {},
   "outputs": [
    {
     "data": {
      "image/png": "[encoded data removed]",
      "text/plain": [
       "<Figure size 600x600 with 1 Axes>"
      ]
     },
     "metadata": {},
     "output_type": "display_data"
    }
   ],
   "source": [
    "# make title case\n",
    "word_t=[word.title() for word in word_]\n",
    "\n",
    "plt.figure(figsize=(6,6))\n",
    "plt.tight_layout()\n",
    "plt.bar(x=word_t,height=count_,color='cornflowerblue')\n",
    "plt.title(\"Top 10 Most Common Words in Candidates' Titles\")\n",
    "plt.xticks(rotation=45)\n",
    "plt.grid(visible=True,which='major',axis='y')\n",
    "plt.ylabel('Count')\n",
    "plt.xlabel('Word')\n",
    "\n",
    "plt.savefig('figures/3_top10words.pdf',bbox_inches='tight')\n",
    "plt.savefig('figures/3_top10words.jpg',bbox_inches='tight')\n",
    "plt.savefig('figures/3_top10words.png',bbox_inches='tight')\n",
    "\n",
    "plt.show()"
   ]
  },
  {
   "cell_type": "code",
   "execution_count": 161,
   "id": "75768c42-ca1d-4597-adf6-f75c895d5345",
   "metadata": {},
   "outputs": [
    {
     "data": {
      "text/plain": [
       "0.6057692307692307"
      ]
     },
     "execution_count": 161,
     "metadata": {},
     "output_type": "execute_result"
    }
   ],
   "source": [
    "count_[0]/df.shape[0]"
   ]
  },
  {
   "cell_type": "markdown",
   "id": "49a9c001-4583-402c-b037-94e819b61bfe",
   "metadata": {},
   "source": [
    "We can see that over 60% of candidates have the words \"Human\" and \"Resources\" in their job titles."
   ]
  },
  {
   "cell_type": "markdown",
   "id": "642123b5-3528-401f-9182-bf882b20ffe7",
   "metadata": {
    "tags": []
   },
   "source": [
    "#### Word Cloud of the Job Titles"
   ]
  },
  {
   "cell_type": "code",
   "execution_count": 201,
   "id": "32e3e08d-6f03-4881-810a-00cb61654cb0",
   "metadata": {},
   "outputs": [],
   "source": []
  },
  {
   "cell_type": "code",
   "execution_count": 210,
   "id": "968f9531-5254-45c6-928c-37a163d4e7ca",
   "metadata": {},
   "outputs": [
    {
     "data": {
      "text/plain": [
       "[0      2019 C.T. Bauer College of Business Graduate (...\n",
       " 1      Native English Teacher at EPIK (English Progra...\n",
       " 2                  Aspiring Human Resources Professional\n",
       " 3                 People Development Coordinator at Ryan\n",
       " 4        Advisory Board Member at Celal Bayar University\n",
       "                              ...                        \n",
       " 99     Aspiring Human Resources Manager | Graduating ...\n",
       " 100                Human Resources Generalist at Loparex\n",
       " 101     Business Intelligence and Analytics at Travelers\n",
       " 102                       Always set them up for Success\n",
       " 103     Director Of Administration at Excellence Logging\n",
       " Name: job_title, Length: 104, dtype: object]"
      ]
     },
     "execution_count": 210,
     "metadata": {},
     "output_type": "execute_result"
    }
   ],
   "source": [
    "jobs=[df['job_title']]\n",
    "\n",
    "jobs"
   ]
  },
  {
   "cell_type": "code",
   "execution_count": 216,
   "id": "77838225-e500-4a4f-a8e3-d122c967f15e",
   "metadata": {},
   "outputs": [
    {
     "data": {
      "image/png": "[encoded data removed]",
      "text/plain": [
       "<Figure size 600x600 with 1 Axes>"
      ]
     },
     "metadata": {},
     "output_type": "display_data"
    }
   ],
   "source": [
    "# taken from GeeksForGeeks.org:\n",
    "# https://www.geeksforgeeks.org/generating-word-cloud-python/\n",
    "\n",
    "# Define list of job titles\n",
    "jobs = df['job_title'].tolist()\n",
    "# jobs=[df['job_title']]\n",
    "\n",
    "comment_words = ''\n",
    "stopwords = set(STOPWORDS)\n",
    " \n",
    "# Iterate through each job title\n",
    "for job in jobs:\n",
    "    # Typecast each job title to string and split into tokens by spaces\n",
    "    job = str(job)\n",
    "    tokens = job.split()  # Split each title into individual words\n",
    "    \n",
    "    # Convert each token into lowercase and add to comment_words if not a stopword\n",
    "    tokens = [token.lower() for token in tokens if token.lower() not in stopwords]\n",
    "    \n",
    "    # Join tokens to build the complete comment_words string with individual words\n",
    "    comment_words += \" \".join(tokens) + \" \"\n",
    "    \n",
    "# Define the colorblind-friendly palette\n",
    "colorblind_palette = ['#E69F00', '#56B4E9', '#009E73', '#F0E442', '#0072B2', '#D55E00', '#CC79A7']\n",
    "\n",
    "# Custom color function to apply colorblind-friendly colors\n",
    "def colorblind_friendly_color_func(word, font_size, position, orientation, random_state=None, **kwargs):\n",
    "    return random.choice(colorblind_palette)\n",
    "    \n",
    "# Create the word cloud\n",
    "cloud = WordCloud(width=600, \n",
    "                  height=600,\n",
    "                  background_color='white',\n",
    "                  stopwords=stopwords,\n",
    "                  min_font_size=10,\n",
    "                  color_func=colorblind_friendly_color_func).generate(comment_words)\n",
    " \n",
    "# Plot the WordCloud image                       \n",
    "plt.figure(figsize=(6, 6), facecolor=None)\n",
    "plt.imshow(cloud,interpolation = 'bilinear')\n",
    "plt.axis(\"off\")\n",
    "plt.tight_layout(pad=0)\n",
    "\n",
    "# Save the word cloud as different file formats\n",
    "plt.savefig('figures/3_wordcloud.pdf')\n",
    "plt.savefig('figures/3_wordcloud.jpg')\n",
    "plt.savefig('figures/3_wordcloud.png')\n",
    "\n",
    "plt.show()"
   ]
  },
  {
   "cell_type": "markdown",
   "id": "d319248a-2e55-48ca-ae79-98f1c7a9bcc8",
   "metadata": {},
   "source": [
    "This is more for show, but we can see that \"human\",\"resources\", and \"aspiring\" all appear frequently in the dataset."
   ]
  },
  {
   "cell_type": "markdown",
   "id": "e9cfd83e-4656-43df-b5aa-b05693961a30",
   "metadata": {},
   "source": [
    "## Calculate Cosine Similarity with the Search Terms"
   ]
  },
  {
   "cell_type": "markdown",
   "id": "fe55e238-e5bc-4743-8ba7-7e089f6d0af7",
   "metadata": {},
   "source": [
    "As a reminder, we are currently helping the company understand which candidates are a best fit for their human resources position. As such, the company is focusing on two search terms:\n",
    "* **\"Aspiring human resources\"**, or\n",
    "* **\"Seeking human resources\"**"
   ]
  },
  {
   "cell_type": "markdown",
   "id": "17bd669a-382b-4394-ba93-5881d57205a9",
   "metadata": {},
   "source": [
    "We will pretend that the company is initializing their search terms by creating a parquet file using the following code. I'm using a Mac, so this is in Terminal:\n",
    "\n",
    "```bash\n",
    "python -c \"import pandas as pd; df = pd.DataFrame({'term': ['Aspiring human resources', 'Seeking human resources']}); df.to_parquet('search_terms.parquet', engine='pyarrow')\"\n",
    "```"
   ]
  },
  {
   "cell_type": "markdown",
   "id": "ea4c1db1-084b-4ce7-8f48-0750c4848278",
   "metadata": {},
   "source": [
    "To edit the parquet file, I am using the following code. You can update the \"ADD NEW SEARCH TERM HERE\" as needed:\n",
    "```bash\n",
    "python -c \"import pandas as pd; df = pd.read_parquet('search_terms.parquet', engine='pyarrow'); new_row = pd.DataFrame({'term': ['ADD NEW SEARCH TERM HERE']}); df = pd.concat([df, new_row], ignore_index=True); df.to_parquet('search_terms.parquet', engine='pyarrow')\"\n",
    "\n",
    "```"
   ]
  },
  {
   "cell_type": "markdown",
   "id": "c7eb6048-8f16-4574-b892-73c5dda9ee2e",
   "metadata": {},
   "source": [
    "As the company updates their search term parquet file, we will upload a fresh file by running the code below."
   ]
  },
  {
   "cell_type": "code",
   "execution_count": 180,
   "id": "83c034a8-1903-4f9d-8f35-a4884ed957b7",
   "metadata": {},
   "outputs": [
    {
     "data": {
      "text/html": [
       "<div>\n",
       "<style scoped>\n",
       "    .dataframe tbody tr th:only-of-type {\n",
       "        vertical-align: middle;\n",
       "    }\n",
       "\n",
       "    .dataframe tbody tr th {\n",
       "        vertical-align: top;\n",
       "    }\n",
       "\n",
       "    .dataframe thead th {\n",
       "        text-align: right;\n",
       "    }\n",
       "</style>\n",
       "<table border=\"1\" class=\"dataframe\">\n",
       "  <thead>\n",
       "    <tr style=\"text-align: right;\">\n",
       "      <th></th>\n",
       "      <th>term</th>\n",
       "    </tr>\n",
       "  </thead>\n",
       "  <tbody>\n",
       "    <tr>\n",
       "      <th>0</th>\n",
       "      <td>Aspiring human resources</td>\n",
       "    </tr>\n",
       "    <tr>\n",
       "      <th>1</th>\n",
       "      <td>Seeking human resources</td>\n",
       "    </tr>\n",
       "  </tbody>\n",
       "</table>\n",
       "</div>"
      ],
      "text/plain": [
       "                       term\n",
       "0  Aspiring human resources\n",
       "1   Seeking human resources"
      ]
     },
     "execution_count": 180,
     "metadata": {},
     "output_type": "execute_result"
    }
   ],
   "source": [
    "search_dict=pd.read_parquet('search_terms.parquet')\n",
    "\n",
    "search_term_df=pd.DataFrame.from_dict(search_dict)\n",
    "\n",
    "# view the search term file\n",
    "search_term_df"
   ]
  },
  {
   "cell_type": "markdown",
   "id": "81cd834d-1cde-4b1a-bc07-de7516900ab5",
   "metadata": {},
   "source": [
    "We will use the same preprocessor as above, without lemmatization, and will use the **cosine similarity** to determine the similarity between the job titles and the search terms."
   ]
  },
  {
   "cell_type": "code",
   "execution_count": 181,
   "id": "ec242ae2-b40f-4fbb-86f0-65b76e2d252a",
   "metadata": {},
   "outputs": [
    {
     "data": {
      "text/html": [
       "<div>\n",
       "<style scoped>\n",
       "    .dataframe tbody tr th:only-of-type {\n",
       "        vertical-align: middle;\n",
       "    }\n",
       "\n",
       "    .dataframe tbody tr th {\n",
       "        vertical-align: top;\n",
       "    }\n",
       "\n",
       "    .dataframe thead th {\n",
       "        text-align: right;\n",
       "    }\n",
       "</style>\n",
       "<table border=\"1\" class=\"dataframe\">\n",
       "  <thead>\n",
       "    <tr style=\"text-align: right;\">\n",
       "      <th></th>\n",
       "      <th>id</th>\n",
       "      <th>job_title</th>\n",
       "      <th>location</th>\n",
       "      <th>connection</th>\n",
       "      <th>lat</th>\n",
       "      <th>lon</th>\n",
       "      <th>name</th>\n",
       "      <th>avg_sim_score</th>\n",
       "    </tr>\n",
       "  </thead>\n",
       "  <tbody>\n",
       "    <tr>\n",
       "      <th>0</th>\n",
       "      <td>1</td>\n",
       "      <td>2019 C.T. Bauer College of Business Graduate (...</td>\n",
       "      <td>Houston, Texas</td>\n",
       "      <td>85</td>\n",
       "      <td>29.7652</td>\n",
       "      <td>-95.3657</td>\n",
       "      <td>Houston</td>\n",
       "      <td>0.192527</td>\n",
       "    </tr>\n",
       "    <tr>\n",
       "      <th>1</th>\n",
       "      <td>2</td>\n",
       "      <td>Native English Teacher at EPIK (English Progra...</td>\n",
       "      <td>Kanada</td>\n",
       "      <td>500</td>\n",
       "      <td>45.424721</td>\n",
       "      <td>-75.695</td>\n",
       "      <td>Canada</td>\n",
       "      <td>0.000000</td>\n",
       "    </tr>\n",
       "    <tr>\n",
       "      <th>2</th>\n",
       "      <td>3</td>\n",
       "      <td>Aspiring Human Resources Professional</td>\n",
       "      <td>Raleigh-Durham, North Carolina Area</td>\n",
       "      <td>44</td>\n",
       "      <td>35.772701</td>\n",
       "      <td>-78.632439</td>\n",
       "      <td>Raleigh</td>\n",
       "      <td>0.539892</td>\n",
       "    </tr>\n",
       "  </tbody>\n",
       "</table>\n",
       "</div>"
      ],
      "text/plain": [
       "   id                                          job_title  \\\n",
       "0   1  2019 C.T. Bauer College of Business Graduate (...   \n",
       "1   2  Native English Teacher at EPIK (English Progra...   \n",
       "2   3              Aspiring Human Resources Professional   \n",
       "\n",
       "                              location  connection        lat        lon  \\\n",
       "0                       Houston, Texas          85    29.7652   -95.3657   \n",
       "1                               Kanada         500  45.424721    -75.695   \n",
       "2  Raleigh-Durham, North Carolina Area          44  35.772701 -78.632439   \n",
       "\n",
       "      name  avg_sim_score  \n",
       "0  Houston       0.192527  \n",
       "1   Canada       0.000000  \n",
       "2  Raleigh       0.539892  "
      ]
     },
     "execution_count": 181,
     "metadata": {},
     "output_type": "execute_result"
    }
   ],
   "source": [
    "df.head(3)"
   ]
  },
  {
   "cell_type": "code",
   "execution_count": 182,
   "id": "44439f86-10c3-481d-aaf2-96d7eeec41c6",
   "metadata": {},
   "outputs": [
    {
     "name": "stderr",
     "output_type": "stream",
     "text": [
      "[nltk_data] Downloading package punkt to /Users/sra/nltk_data...\n",
      "[nltk_data]   Package punkt is already up-to-date!\n",
      "[nltk_data] Downloading package punkt_tab to /Users/sra/nltk_data...\n",
      "[nltk_data]   Package punkt_tab is already up-to-date!\n",
      "[nltk_data] Downloading package wordnet to /Users/sra/nltk_data...\n",
      "[nltk_data]   Package wordnet is already up-to-date!\n",
      "[nltk_data] Downloading package omw-1.4 to /Users/sra/nltk_data...\n",
      "[nltk_data]   Package omw-1.4 is already up-to-date!\n",
      "[nltk_data] Downloading package averaged_perceptron_tagger to\n",
      "[nltk_data]     /Users/sra/nltk_data...\n",
      "[nltk_data]   Package averaged_perceptron_tagger is already up-to-\n",
      "[nltk_data]       date!\n",
      "[nltk_data] Downloading package averaged_perceptron_tagger_eng to\n",
      "[nltk_data]     /Users/sra/nltk_data...\n",
      "[nltk_data]   Package averaged_perceptron_tagger_eng is already up-to-\n",
      "[nltk_data]       date!\n",
      "[nltk_data] Downloading package stopwords to /Users/sra/nltk_data...\n",
      "[nltk_data]   Package stopwords is already up-to-date!\n"
     ]
    }
   ],
   "source": [
    "import nltk\n",
    "nltk.download('punkt')\n",
    "nltk.download('punkt_tab')\n",
    "nltk.download('wordnet')\n",
    "nltk.download('omw-1.4')\n",
    "nltk.download('averaged_perceptron_tagger')\n",
    "nltk.download('averaged_perceptron_tagger_eng')\n",
    "nltk.download('stopwords')\n",
    "from nltk.corpus import stopwords # lists of stopwords\n",
    "from nltk.tokenize import word_tokenize # tool for splitting documents into tokens\n",
    "from nltk.tokenize import sent_tokenize\n",
    "from nltk.stem import PorterStemmer # basic stemmer\n",
    "from nltk.stem import WordNetLemmatizer # more sophisticated word->lemma\n",
    "from nltk.corpus import wordnet\n",
    "from sklearn.feature_extraction.text import TfidfVectorizer"
   ]
  },
  {
   "cell_type": "code",
   "execution_count": 183,
   "id": "75395c37-179a-437d-bc6d-d660beeca928",
   "metadata": {},
   "outputs": [],
   "source": [
    "# vectorize the job_titles\n",
    "# instantiate vectorizor and vectorize phrases\n",
    "vec=TfidfVectorizer(preprocessor=preprocessor_nolem)\n",
    "vec.fit(df['job_title']) # fit on entire job title data\n",
    "\n",
    "# transform job titles and target phrases\n",
    "df_job_titles_tfidf=vec.transform(df['job_title']) # matrix of candidate job titles\n",
    "search_terms=vec.transform(search_term_df['term']) # matrix of search phrases"
   ]
  },
  {
   "cell_type": "code",
   "execution_count": 184,
   "id": "110efac7-17b0-410b-a82e-cf15e5002e15",
   "metadata": {},
   "outputs": [],
   "source": [
    "# calculate cosine similarity\n",
    "sim_aspiring=cosine_similarity(df_job_titles_tfidf,search_terms[0]) # for aspiring\n",
    "sim_seeking=cosine_similarity(df_job_titles_tfidf,search_terms[1])  # for seeking"
   ]
  },
  {
   "cell_type": "code",
   "execution_count": 185,
   "id": "53f08816-47f4-4ce5-aadd-807a9888fa05",
   "metadata": {},
   "outputs": [
    {
     "data": {
      "text/html": [
       "<div>\n",
       "<style scoped>\n",
       "    .dataframe tbody tr th:only-of-type {\n",
       "        vertical-align: middle;\n",
       "    }\n",
       "\n",
       "    .dataframe tbody tr th {\n",
       "        vertical-align: top;\n",
       "    }\n",
       "\n",
       "    .dataframe thead th {\n",
       "        text-align: right;\n",
       "    }\n",
       "</style>\n",
       "<table border=\"1\" class=\"dataframe\">\n",
       "  <thead>\n",
       "    <tr style=\"text-align: right;\">\n",
       "      <th></th>\n",
       "      <th>candidate</th>\n",
       "      <th>sim_aspiring</th>\n",
       "      <th>sim_seeking</th>\n",
       "      <th>avg</th>\n",
       "    </tr>\n",
       "  </thead>\n",
       "  <tbody>\n",
       "    <tr>\n",
       "      <th>72</th>\n",
       "      <td>73</td>\n",
       "      <td>0.576794</td>\n",
       "      <td>0.620589</td>\n",
       "      <td>0.598691</td>\n",
       "    </tr>\n",
       "    <tr>\n",
       "      <th>45</th>\n",
       "      <td>46</td>\n",
       "      <td>0.753591</td>\n",
       "      <td>0.326192</td>\n",
       "      <td>0.539892</td>\n",
       "    </tr>\n",
       "    <tr>\n",
       "      <th>57</th>\n",
       "      <td>58</td>\n",
       "      <td>0.753591</td>\n",
       "      <td>0.326192</td>\n",
       "      <td>0.539892</td>\n",
       "    </tr>\n",
       "    <tr>\n",
       "      <th>16</th>\n",
       "      <td>17</td>\n",
       "      <td>0.753591</td>\n",
       "      <td>0.326192</td>\n",
       "      <td>0.539892</td>\n",
       "    </tr>\n",
       "    <tr>\n",
       "      <th>32</th>\n",
       "      <td>33</td>\n",
       "      <td>0.753591</td>\n",
       "      <td>0.326192</td>\n",
       "      <td>0.539892</td>\n",
       "    </tr>\n",
       "    <tr>\n",
       "      <th>96</th>\n",
       "      <td>97</td>\n",
       "      <td>0.753591</td>\n",
       "      <td>0.326192</td>\n",
       "      <td>0.539892</td>\n",
       "    </tr>\n",
       "    <tr>\n",
       "      <th>2</th>\n",
       "      <td>3</td>\n",
       "      <td>0.753591</td>\n",
       "      <td>0.326192</td>\n",
       "      <td>0.539892</td>\n",
       "    </tr>\n",
       "    <tr>\n",
       "      <th>20</th>\n",
       "      <td>21</td>\n",
       "      <td>0.753591</td>\n",
       "      <td>0.326192</td>\n",
       "      <td>0.539892</td>\n",
       "    </tr>\n",
       "    <tr>\n",
       "      <th>35</th>\n",
       "      <td>36</td>\n",
       "      <td>0.695679</td>\n",
       "      <td>0.301125</td>\n",
       "      <td>0.498402</td>\n",
       "    </tr>\n",
       "    <tr>\n",
       "      <th>5</th>\n",
       "      <td>6</td>\n",
       "      <td>0.695679</td>\n",
       "      <td>0.301125</td>\n",
       "      <td>0.498402</td>\n",
       "    </tr>\n",
       "  </tbody>\n",
       "</table>\n",
       "</div>"
      ],
      "text/plain": [
       "    candidate  sim_aspiring  sim_seeking       avg\n",
       "72         73      0.576794     0.620589  0.598691\n",
       "45         46      0.753591     0.326192  0.539892\n",
       "57         58      0.753591     0.326192  0.539892\n",
       "16         17      0.753591     0.326192  0.539892\n",
       "32         33      0.753591     0.326192  0.539892\n",
       "96         97      0.753591     0.326192  0.539892\n",
       "2           3      0.753591     0.326192  0.539892\n",
       "20         21      0.753591     0.326192  0.539892\n",
       "35         36      0.695679     0.301125  0.498402\n",
       "5           6      0.695679     0.301125  0.498402"
      ]
     },
     "execution_count": 185,
     "metadata": {},
     "output_type": "execute_result"
    }
   ],
   "source": [
    "# combine similarities into single score (maximum similarity for each candidate)\n",
    "max_sim=pd.DataFrame({\n",
    "    'candidate':df['id'],\n",
    "    'sim_aspiring':sim_aspiring.flatten(),\n",
    "    'sim_seeking':sim_seeking.flatten()\n",
    "})\n",
    "\n",
    "# max_sim['max_sim']=max_sim[['sim_aspiring','sim_seeking']].max(axis=1)\n",
    "# better: highest average similarity score\n",
    "max_sim['avg']=(max_sim['sim_aspiring']+max_sim['sim_seeking'])/2\n",
    "\n",
    "# sort candidates by similarity score\n",
    "# closest_candidates=max_sim.sort_values(by='max_sim',ascending=False)\n",
    "closest_candidates=max_sim.sort_values(by = 'avg', ascending = False)\n",
    "closest_candidates.head(10)"
   ]
  },
  {
   "cell_type": "code",
   "execution_count": 186,
   "id": "191f109c-6cd5-4057-9d5c-dfa3097ae5f4",
   "metadata": {},
   "outputs": [
    {
     "data": {
      "text/plain": [
       "(73, 46, 58, 17, 33, 97, 3, 21, 36, 6)"
      ]
     },
     "execution_count": 186,
     "metadata": {},
     "output_type": "execute_result"
    }
   ],
   "source": [
    "# tuple as the order matters\n",
    "top10_candidates=tuple(closest_candidates.head(10)['candidate'])\n",
    "top10_candidates"
   ]
  },
  {
   "cell_type": "markdown",
   "id": "a7334b70-86f2-40da-9e83-00671587fd94",
   "metadata": {},
   "source": [
    "### Top 10 Candidates"
   ]
  },
  {
   "cell_type": "code",
   "execution_count": 187,
   "id": "a959b8ab-8b0f-4150-abf1-9014fcf5ff83",
   "metadata": {},
   "outputs": [
    {
     "data": {
      "text/html": [
       "<div>\n",
       "<style scoped>\n",
       "    .dataframe tbody tr th:only-of-type {\n",
       "        vertical-align: middle;\n",
       "    }\n",
       "\n",
       "    .dataframe tbody tr th {\n",
       "        vertical-align: top;\n",
       "    }\n",
       "\n",
       "    .dataframe thead th {\n",
       "        text-align: right;\n",
       "    }\n",
       "</style>\n",
       "<table border=\"1\" class=\"dataframe\">\n",
       "  <thead>\n",
       "    <tr style=\"text-align: right;\">\n",
       "      <th></th>\n",
       "      <th>id</th>\n",
       "      <th>job_title</th>\n",
       "      <th>connection</th>\n",
       "      <th>name</th>\n",
       "      <th>avg_sim_score</th>\n",
       "    </tr>\n",
       "  </thead>\n",
       "  <tbody>\n",
       "    <tr>\n",
       "      <th>72</th>\n",
       "      <td>73</td>\n",
       "      <td>Aspiring Human Resources Manager, seeking inte...</td>\n",
       "      <td>7</td>\n",
       "      <td>Houston</td>\n",
       "      <td>59.87%</td>\n",
       "    </tr>\n",
       "    <tr>\n",
       "      <th>45</th>\n",
       "      <td>46</td>\n",
       "      <td>Aspiring Human Resources Professional</td>\n",
       "      <td>44</td>\n",
       "      <td>Raleigh</td>\n",
       "      <td>53.99%</td>\n",
       "    </tr>\n",
       "    <tr>\n",
       "      <th>57</th>\n",
       "      <td>58</td>\n",
       "      <td>Aspiring Human Resources Professional</td>\n",
       "      <td>44</td>\n",
       "      <td>Raleigh</td>\n",
       "      <td>53.99%</td>\n",
       "    </tr>\n",
       "    <tr>\n",
       "      <th>16</th>\n",
       "      <td>17</td>\n",
       "      <td>Aspiring Human Resources Professional</td>\n",
       "      <td>44</td>\n",
       "      <td>Raleigh</td>\n",
       "      <td>53.99%</td>\n",
       "    </tr>\n",
       "    <tr>\n",
       "      <th>32</th>\n",
       "      <td>33</td>\n",
       "      <td>Aspiring Human Resources Professional</td>\n",
       "      <td>44</td>\n",
       "      <td>Raleigh</td>\n",
       "      <td>53.99%</td>\n",
       "    </tr>\n",
       "    <tr>\n",
       "      <th>96</th>\n",
       "      <td>97</td>\n",
       "      <td>Aspiring Human Resources Professional</td>\n",
       "      <td>71</td>\n",
       "      <td>Kokomo_IN</td>\n",
       "      <td>53.99%</td>\n",
       "    </tr>\n",
       "    <tr>\n",
       "      <th>2</th>\n",
       "      <td>3</td>\n",
       "      <td>Aspiring Human Resources Professional</td>\n",
       "      <td>44</td>\n",
       "      <td>Raleigh</td>\n",
       "      <td>53.99%</td>\n",
       "    </tr>\n",
       "    <tr>\n",
       "      <th>20</th>\n",
       "      <td>21</td>\n",
       "      <td>Aspiring Human Resources Professional</td>\n",
       "      <td>44</td>\n",
       "      <td>Raleigh</td>\n",
       "      <td>53.99%</td>\n",
       "    </tr>\n",
       "    <tr>\n",
       "      <th>35</th>\n",
       "      <td>36</td>\n",
       "      <td>Aspiring Human Resources Specialist</td>\n",
       "      <td>1</td>\n",
       "      <td>New_York_City</td>\n",
       "      <td>49.84%</td>\n",
       "    </tr>\n",
       "    <tr>\n",
       "      <th>5</th>\n",
       "      <td>6</td>\n",
       "      <td>Aspiring Human Resources Specialist</td>\n",
       "      <td>1</td>\n",
       "      <td>New_York_City</td>\n",
       "      <td>49.84%</td>\n",
       "    </tr>\n",
       "  </tbody>\n",
       "</table>\n",
       "</div>"
      ],
      "text/plain": [
       "    id                                          job_title  connection  \\\n",
       "72  73  Aspiring Human Resources Manager, seeking inte...           7   \n",
       "45  46              Aspiring Human Resources Professional          44   \n",
       "57  58              Aspiring Human Resources Professional          44   \n",
       "16  17              Aspiring Human Resources Professional          44   \n",
       "32  33              Aspiring Human Resources Professional          44   \n",
       "96  97              Aspiring Human Resources Professional          71   \n",
       "2    3              Aspiring Human Resources Professional          44   \n",
       "20  21              Aspiring Human Resources Professional          44   \n",
       "35  36                Aspiring Human Resources Specialist           1   \n",
       "5    6                Aspiring Human Resources Specialist           1   \n",
       "\n",
       "             name avg_sim_score  \n",
       "72        Houston        59.87%  \n",
       "45        Raleigh        53.99%  \n",
       "57        Raleigh        53.99%  \n",
       "16        Raleigh        53.99%  \n",
       "32        Raleigh        53.99%  \n",
       "96      Kokomo_IN        53.99%  \n",
       "2         Raleigh        53.99%  \n",
       "20        Raleigh        53.99%  \n",
       "35  New_York_City        49.84%  \n",
       "5   New_York_City        49.84%  "
      ]
     },
     "execution_count": 187,
     "metadata": {},
     "output_type": "execute_result"
    }
   ],
   "source": [
    "if 'avg_sim_score' not in df.columns: # flow control to prevent double columns\n",
    "    # add avg sim score to df\n",
    "    df = df.join(max_sim['avg'])\n",
    "\n",
    "    # rename column\n",
    "    df.rename(columns={'avg':'avg_sim_score'},inplace=True)\n",
    "\n",
    "    # make it look nice\n",
    "    df_= df.copy()\n",
    "    df_['avg_sim_score'] = (df_['avg_sim_score'] * 100).round(2).astype(str) + '%'\n",
    "\n",
    "    # order by sim score (using candidates id from a previous cell)\n",
    "    df_['id'] = pd.Categorical(df_['id'], categories=closest_candidates['candidate'], ordered = True)\n",
    "    sorted_df_hero = df_.sort_values('id')\n",
    "\n",
    "sorted_df_hero[['id','job_title','connection','name','avg_sim_score']].head(10)"
   ]
  },
  {
   "cell_type": "markdown",
   "id": "266aa847-3eae-4a33-940a-13fd5cab02f6",
   "metadata": {},
   "source": [
    "These are the top-10 likeliest candidate IDs for the human resource position!"
   ]
  },
  {
   "cell_type": "markdown",
   "id": "1a8d4e3a-a934-4405-ab4a-b222e305c948",
   "metadata": {},
   "source": [
    "## Dense Word Embeddings with Word2Vec"
   ]
  },
  {
   "cell_type": "markdown",
   "id": "4b11b12e-855d-4975-bf16-88ecdcd48a81",
   "metadata": {},
   "source": [
    "To perform a dense word embedding with Word2Vec, we will use the following process:\n",
    "1. Load a pre-trained Word2Vec model\n",
    "1. Average the word vectors\n",
    "1. Compute average vectors for `job_title` and `search_term`\n",
    "1. Calculate similarity scores"
   ]
  },
  {
   "cell_type": "markdown",
   "id": "1b09f639-c3fe-444c-9b98-8be6586b75d7",
   "metadata": {},
   "source": [
    "### 1. Load Word2Vec model"
   ]
  },
  {
   "cell_type": "code",
   "execution_count": 222,
   "id": "5c256904-5fdd-4e25-b85b-396f865b0129",
   "metadata": {},
   "outputs": [],
   "source": [
    "# downloaded from Kaggle:\n",
    "# https://www.kaggle.com/datasets/leadbest/googlenewsvectorsnegative300\n",
    "model = KeyedVectors.load_word2vec_format(fname='../data/GoogleNews-vectors-negative300.bin',binary=True)"
   ]
  },
  {
   "cell_type": "markdown",
   "id": "68df5ebc-ef5e-4f0b-8c53-f04744a5a165",
   "metadata": {},
   "source": [
    "### 2. Average the Word Vectors"
   ]
  },
  {
   "cell_type": "markdown",
   "id": "16d811b0-b5c8-4d84-bdf9-c121b85c2fed",
   "metadata": {},
   "source": [
    "We'll have to create a function to do so:"
   ]
  },
  {
   "cell_type": "code",
   "execution_count": 223,
   "id": "fe346688-6722-4b6d-96ca-5888e474dfed",
   "metadata": {},
   "outputs": [],
   "source": [
    "def get_average_vector(text, model):\n",
    "    stop_words = set(stopwords.words('english'))\n",
    "    words = word_tokenize(text.lower())\n",
    "    \n",
    "    # Filter words in vocabulary and not stopwords\n",
    "    valid_words = [word for word in words if word in model and word not in stop_words]\n",
    "    \n",
    "    if not valid_words:  # if there are no valid words, return a zero vector\n",
    "        return np.zeros(model.vector_size)\n",
    "    \n",
    "    # Average vectors for all valid words in the text\n",
    "    word_vectors = np.array([model[word] for word in valid_words])\n",
    "    average_vector = word_vectors.mean(axis=0)\n",
    "    \n",
    "    return average_vector"
   ]
  },
  {
   "cell_type": "markdown",
   "id": "0a48c58e-b774-4563-9dd5-62a919932bb6",
   "metadata": {},
   "source": [
    "This function does the following:\n",
    "1. Converts the text to lowercase\n",
    "1. Tokenizes the text\n",
    "1. Filters out stopwords and words not in the Word2Vec vocabulary\n",
    "1. Produces a single vector for the text based on the mean of each vector"
   ]
  },
  {
   "cell_type": "markdown",
   "id": "9631fe79-5b30-4cc0-96dd-e0a79ed4baf0",
   "metadata": {},
   "source": [
    "### 3. Compute Average Vectors for Job Titles and Search Terms"
   ]
  },
  {
   "cell_type": "code",
   "execution_count": null,
   "id": "07ac55b2-d555-4d9a-91c6-5b1d32a94a30",
   "metadata": {},
   "outputs": [],
   "source": [
    "# compute vector for each job title\n",
    "df['job_title_vector'] = df['job_title'].apply(lambda x: get_average_vector(x, model))\n",
    "\n",
    "# get vectors for search terms\n",
    "search_term_vectors=[get_average_vector(term, model) for term in search_term_df['term']]"
   ]
  },
  {
   "cell_type": "code",
   "execution_count": null,
   "id": "2ee8f738-9cb2-4ccb-be1b-fb8bd8fad429",
   "metadata": {},
   "outputs": [],
   "source": []
  },
  {
   "cell_type": "code",
   "execution_count": null,
   "id": "a021003c-b9ab-4111-ba34-4634a0127a07",
   "metadata": {},
   "outputs": [],
   "source": [
    "# Calculate similarity scores for each candidate\n",
    "df['similarity_to_aspiring'] = df['job_title_vector'].apply(lambda x: cosine_similarity([x], [phrase_vectors[0]])[0][0])\n",
    "df['similarity_to_seeking'] = df['job_title_vector'].apply(lambda x: cosine_similarity([x], [phrase_vectors[1]])[0][0])\n",
    "\n",
    "# Get maximum similarity score for each job title\n",
    "df['max_similarity'] = df[['similarity_to_aspiring', 'similarity_to_seeking']].max(axis=1)\n",
    "\n",
    "# Sort by similarity to find closest candidates\n",
    "closest_candidates = df.sort_values(by='max_similarity', ascending=False)\n",
    "\n",
    "# Display top results\n",
    "print(closest_candidates[['job_title', 'max_similarity']].head())"
   ]
  }
 ],
 "metadata": {
  "kernelspec": {
   "display_name": "apziva",
   "language": "python",
   "name": "apziva"
  },
  "language_info": {
   "codemirror_mode": {
    "name": "ipython",
    "version": 3
   },
   "file_extension": ".py",
   "mimetype": "text/x-python",
   "name": "python",
   "nbconvert_exporter": "python",
   "pygments_lexer": "ipython3",
   "version": "3.9.20"
  }
 },
 "nbformat": 4,
 "nbformat_minor": 5
}
