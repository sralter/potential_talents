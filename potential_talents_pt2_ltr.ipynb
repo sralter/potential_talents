{
 "cells": [
  {
   "cell_type": "markdown",
   "id": "37b2f32a-c997-4d43-968a-a0963e556dbc",
   "metadata": {},
   "source": [
    "# Potential Talents - An Apziva Project (#3)"
   ]
  },
  {
   "cell_type": "markdown",
   "id": "45280031-db40-495c-9dad-cc58a57a5dd7",
   "metadata": {},
   "source": [
    "# Proceed to the [previous notebook](potential_talents_pt1.ipynb) to view the EDA and initial NLP work."
   ]
  },
  {
   "cell_type": "markdown",
   "id": "a60e075c-97b1-4aa3-8396-fe660e6d9707",
   "metadata": {},
   "source": [
    "# Modeling"
   ]
  },
  {
   "cell_type": "markdown",
   "id": "fb875fcb-ee22-4a1a-8d4a-8eea9ce24dcf",
   "metadata": {},
   "source": [
    "By Samuel Alter"
   ]
  },
  {
   "cell_type": "markdown",
   "id": "6562e442-1f9d-4e22-977b-94499c9788b8",
   "metadata": {},
   "source": [
    "Apziva: 6bImatZVlK6DnbEo"
   ]
  },
  {
   "cell_type": "markdown",
   "id": "1e9720bb-32b3-4f1f-9bc7-dd279f452251",
   "metadata": {},
   "source": [
    "## Project Overview"
   ]
  },
  {
   "cell_type": "markdown",
   "id": "aae8ba0a-baad-4823-8240-c128467f8021",
   "metadata": {},
   "source": [
    "We are working with a talent sourcing and management company to help them surface candidates that are a best fit for their human resources job post. We are using a dataset of job candidates' job titles, their location, and their number of LinkedIn connections."
   ]
  },
  {
   "cell_type": "markdown",
   "id": "7ca00f2c-2194-42b0-90bf-5b650826d022",
   "metadata": {},
   "source": [
    "### Goals"
   ]
  },
  {
   "cell_type": "markdown",
   "id": "63c7fc0a-a325-4fa0-b3ae-cb6da92530b4",
   "metadata": {},
   "source": [
    "Produce a probability, between 0 and 1, of how closely the candidate fits the job description of **\"Aspiring human resources\"** or **\"Seeking human resources.\"** After an initial recommendation pulls out a candidate(s) to be starred for future consideration, the recommendation will be re-run and new \"stars\" will be awarded.\n",
    "\n",
    "To help predict how the candidates fit, we are tracking the performance of two success metrics:\n",
    "* Rank candidates based on a fitness score\n",
    "* Re-rank candidates when a candidate is starred"
   ]
  },
  {
   "cell_type": "markdown",
   "id": "bf4981bb-5dbb-4de7-8f49-e69346c76a05",
   "metadata": {},
   "source": [
    "We also need to do the following:\n",
    "* Explain how the algorithm works and how the ranking improves after each starring iteration\n",
    "* How to filter out candidates which should not be considered at all\n",
    "* Determine a cut-off point (if possible) that would work for other roles without losing high-potential candidates\n",
    "* Ideas to explore on automating this procedure to reduce or eliminate human bias"
   ]
  },
  {
   "cell_type": "markdown",
   "id": "08b95e26-1ada-4283-b732-deb0779168d0",
   "metadata": {},
   "source": [
    "### The Dataset"
   ]
  },
  {
   "cell_type": "markdown",
   "id": "c1c08ff1-a851-46f8-a66d-192d15d34a91",
   "metadata": {},
   "source": [
    "| Column | Data Type | Comments |\n",
    "|---|---|---|\n",
    "| `id` | Numeric | Unique identifier for the candidate |\n",
    "| `job_title` | Text | Job title for the candidate |\n",
    "| `location` | Text | Geographic location of the candidate |\n",
    "| `connections` | Text | Number of LinkedIn connections for the candidate |"
   ]
  },
  {
   "cell_type": "markdown",
   "id": "3264aa5d-7682-4e2f-84cd-b773e5e6f4f9",
   "metadata": {},
   "source": [
    "Connections over 500 are encoded as \"500+\". Some do not have specific locations listed and just had their country, so I substituted capitol cities or geographic centers to represent those countries."
   ]
  },
  {
   "cell_type": "markdown",
   "id": "ef08a44b-95af-489f-ae1b-94ccffc89d82",
   "metadata": {},
   "source": [
    "# Imports and Helper Functions"
   ]
  },
  {
   "cell_type": "code",
   "execution_count": 102,
   "id": "4e2ae21e-9eb4-46d3-bcca-37176ff47842",
   "metadata": {},
   "outputs": [],
   "source": [
    "import pandas as pd\n",
    "import numpy as np\n",
    "import matplotlib.pyplot as plt\n",
    "import seaborn as sns\n",
    "from pathlib import Path\n",
    "\n",
    "import torch\n",
    "from torch import nn\n",
    "from torch.utils.data import DataLoader, TensorDataset\n",
    "from torchvision import datasets\n",
    "from torchvision.transforms import ToTensor\n",
    "import random\n",
    "import torch\n",
    "import torch.nn as nn\n",
    "import torch.optim as optim\n",
    "import matplotlib\n",
    "from torchview import draw_graph\n",
    "import torch.nn.functional as F\n",
    "from collections import defaultdict"
   ]
  },
  {
   "cell_type": "code",
   "execution_count": 103,
   "id": "985ffa7a-553e-4c3a-abd7-418a4830a060",
   "metadata": {},
   "outputs": [],
   "source": [
    "# simple function to generate random integers\n",
    "\n",
    "def rand_gen(low=1,high=1e4):\n",
    "    '''\n",
    "    Generates a pseudo-random integer\n",
    "    consisting of up to four digits\n",
    "    '''\n",
    "    import numpy as np\n",
    "    rng=np.random.default_rng()\n",
    "    random_state=int(rng.integers(low=low,high=high))\n",
    "    \n",
    "    return random_state"
   ]
  },
  {
   "cell_type": "code",
   "execution_count": 104,
   "id": "8533b28b-2ea8-410e-a3ce-87b95ac97057",
   "metadata": {},
   "outputs": [
    {
     "data": {
      "text/plain": [
       "4597"
      ]
     },
     "execution_count": 104,
     "metadata": {},
     "output_type": "execute_result"
    }
   ],
   "source": [
    "seed=rand_gen()\n",
    "seed"
   ]
  },
  {
   "cell_type": "code",
   "execution_count": 105,
   "id": "f7cc5d5b-5495-47b9-9982-84b81f5ba498",
   "metadata": {},
   "outputs": [
    {
     "data": {
      "text/plain": [
       "Generator(PCG64) at 0x15384FAE0"
      ]
     },
     "execution_count": 105,
     "metadata": {},
     "output_type": "execute_result"
    }
   ],
   "source": [
    "# set the randomness seed throughout the notebook\n",
    "# source: # https://odsc.medium.com/properly-setting-the-random-seed-in-ml-experiments-not-as-simple-as-you-might-imagine-219969c84752\n",
    "\n",
    "## set `PYTHONHASHSEED` environment variable at a fixed value\n",
    "import os\n",
    "os.environ['PYTHONHASHSEED']=str(seed)\n",
    "## set `python` built-in pseudo-random generator at a fixed value\n",
    "import random\n",
    "random.seed(seed)\n",
    "## set `numpy` pseudo-random generator at a fixed value\n",
    "np.random.seed(seed)\n",
    "np.random.default_rng(seed)"
   ]
  },
  {
   "cell_type": "code",
   "execution_count": 106,
   "id": "edac1dcb-2c3a-49a5-bf1f-195b48feb5c6",
   "metadata": {},
   "outputs": [],
   "source": [
    "def get_variable_name(var):\n",
    "    callers_local_vars = inspect.currentframe().f_back.f_locals.items()\n",
    "    return [name for name, val in callers_local_vars if val is var]\n",
    "\n",
    "def fileDaterSaver(location: str,\n",
    "                   filetype: str,\n",
    "                   object_,\n",
    "                   extra: str = '',\n",
    "                   verbose: bool = True):\n",
    "\n",
    "    '''\n",
    "    Function that gets a timestamped filename and saves it\n",
    "    to a user-specified location.\n",
    "\n",
    "    Parameters:\n",
    "    -----------\n",
    "    location: str - The location where the file will be saved.\n",
    "    filetype: str - The type of the file to save ('csv' or 'json').\n",
    "    object_: The object to be saved. Should be a pandas DataFrame\n",
    "        for 'csv' or serializable for 'json'.\n",
    "    extra: str - Additional string to include in the filename.\n",
    "    verbose: bool - Whether to print verbose messages.\n",
    "    '''\n",
    "\n",
    "    # get current date and time\n",
    "    current_datetime = datetime.now()\n",
    "\n",
    "    # print current date and time to check\n",
    "    if verbose:\n",
    "        print('current_datetime:', current_datetime)\n",
    "\n",
    "    # format the datetime for a filename\n",
    "    datetime_suffix = current_datetime.strftime(\"%Y-%m-%d_%H-%M-%S\")\n",
    "\n",
    "    # create filename with the datetime suffix\n",
    "    if extra != '':\n",
    "        file_name = f'{location}{extra}_{datetime_suffix}.{filetype}'\n",
    "    else:\n",
    "        file_name = f'{location}{datetime_suffix}.{filetype}'\n",
    "\n",
    "    # print file name\n",
    "    if verbose:\n",
    "        print(file_name)\n",
    "\n",
    "    # save object\n",
    "    if filetype == 'csv':\n",
    "        object_.to_csv(file_name, index=True)\n",
    "    elif filetype == 'json':\n",
    "        with open(file_name, 'w') as file:\n",
    "            file.write(json.dumps(object_, default=str))\n",
    "    else:\n",
    "        raise ValueError(\"Unsupported file type. Use 'csv' or 'json'.\")\n",
    "\n",
    "    # confirm save\n",
    "    file_path = Path(file_name)\n",
    "    if file_path.exists():\n",
    "        variable_name = get_variable_name(object_)\n",
    "        if variable_name:\n",
    "            print(f'Successfully saved {variable_name[0]} to {file_path}')\n",
    "        else:\n",
    "            print(f'Successfully saved object to {file_path}')\n",
    "    else:\n",
    "        print(\"File save error.\")"
   ]
  },
  {
   "cell_type": "markdown",
   "id": "e6c1d9ef-d623-40af-b630-35a3294013a7",
   "metadata": {},
   "source": [
    "# Learning to Rank (LTR) systems "
   ]
  },
  {
   "cell_type": "markdown",
   "id": "d005e804-69e0-49ab-9439-11b3a438dc1b",
   "metadata": {},
   "source": [
    "[RankNet](https://icml.cc/Conferences/2015/wp-content/uploads/2015/06/icml_ranking.pdf) is an influential algorithm that is designed to rank items given an objective. LTR systems are used for information retrieval, which is crucial for search engines, recommender systems like on Netflix or Amazon, travel agencies, and online advertising."
   ]
  },
  {
   "cell_type": "markdown",
   "id": "12ce01b4-1113-4da2-a7a3-5e4f098ab46b",
   "metadata": {},
   "source": [
    "You can learn more about LTR systems from [this](https://towardsdatascience.com/learning-to-rank-a-complete-guide-to-ranking-using-machine-learning-4c9688d370d4) Medium post by [Francesco Casalegno](https://medium.com/@francesco.casalegno)."
   ]
  },
  {
   "cell_type": "markdown",
   "id": "e8f0045d-3218-490c-bf4a-192ca893b4a3",
   "metadata": {},
   "source": [
    "RankNet uses a \"pairwise\" method of training, meaning it predices which item in a pair should be ranked higher based on a probabilistic model. With pairs of items, using RankNet makes our task a binary classification problem."
   ]
  },
  {
   "cell_type": "markdown",
   "id": "68b85713-acf1-413e-bb29-5a97d20d06f2",
   "metadata": {},
   "source": [
    "## RankNet NN"
   ]
  },
  {
   "cell_type": "markdown",
   "id": "f6534105",
   "metadata": {},
   "source": [
    "### `device` Setup"
   ]
  },
  {
   "cell_type": "code",
   "execution_count": 107,
   "id": "48eb57eb-3856-4ad5-9f90-8e48ef9f38d2",
   "metadata": {},
   "outputs": [
    {
     "name": "stdout",
     "output_type": "stream",
     "text": [
      "Using mps device\n"
     ]
    }
   ],
   "source": [
    "# get cpu, gpu or mps device for training.\n",
    "device = (\n",
    "    \"cuda\" if torch.cuda.is_available()\n",
    "    else \"mps\" if torch.backends.mps.is_available()\n",
    "    else \"cpu\"\n",
    ")\n",
    "\n",
    "print(f\"Using {device} device\")"
   ]
  },
  {
   "cell_type": "markdown",
   "id": "035535cd",
   "metadata": {},
   "source": [
    "### `RankNet` class"
   ]
  },
  {
   "cell_type": "markdown",
   "id": "e4eeb3c3",
   "metadata": {},
   "source": [
    "RankNet, a pairwise ranking algorithm, is defined by its specific ranking methodology rather than the specifics of its architecture. It is defined by:\n",
    "* **Pairwise comparison** of pairs of inputs\n",
    "* **Sigmoid-based** probability output\n",
    "* **Loss function** involving **Binary Cross-Entropy Loss** to compute error between predicted probabilities and true pairwise labels\n",
    "* **Backpropagation and gradient decent** allows for training and updating weights using gradients calculated from the pairwise ranking loss"
   ]
  },
  {
   "cell_type": "markdown",
   "id": "a34de134",
   "metadata": {},
   "source": [
    "The architecture is not fixed and we can:\n",
    "* Add or remove layers\n",
    "* Change the number of neurons in the hidden layers\n",
    "* Adjust activation functions\n",
    "* Change dropout rates"
   ]
  },
  {
   "cell_type": "code",
   "execution_count": 108,
   "id": "0b148312",
   "metadata": {},
   "outputs": [],
   "source": [
    "class RankNet(nn.Module):\n",
    "    def __init__(self, n_feature):\n",
    "        super(RankNet, self).__init__()\n",
    "        self.model = nn.Sequential(\n",
    "            nn.Linear(n_feature, 512),\n",
    "            nn.BatchNorm1d(512), # normalization\n",
    "            nn.Dropout(0.5),\n",
    "            nn.LeakyReLU(0.2, inplace=True),\n",
    "            nn.Linear(512, 256),\n",
    "            nn.BatchNorm1d(256), # another round of normalization\n",
    "            nn.Dropout(0.5),\n",
    "            nn.LeakyReLU(0.2, inplace=True),\n",
    "            nn.Linear(256, 1)\n",
    "        )\n",
    "        \n",
    "    def forward(self, input_1, input_2):\n",
    "        # define inputs and handle potentail length issue\n",
    "        input_1 = input_1.to(device).float().unsqueeze(0) if len(input_1.shape) == 1 else input_1\n",
    "        input_2 = input_2.to(device).float().unsqueeze(0) if len(input_2.shape) == 1 else input_2\n",
    "        s1 = self.model(input_1)\n",
    "        s2 = self.model(input_2)\n",
    "        return s1 - s2"
   ]
  },
  {
   "cell_type": "markdown",
   "id": "8dbd8ef7-db3b-4264-a617-a9cc0476ecf2",
   "metadata": {},
   "source": [
    "#### Hyperparameter definitions"
   ]
  },
  {
   "cell_type": "code",
   "execution_count": 109,
   "id": "fa6cc8f7",
   "metadata": {},
   "outputs": [
    {
     "name": "stdout",
     "output_type": "stream",
     "text": [
      "num_features: 384\n"
     ]
    }
   ],
   "source": [
    "# retrieve shape of tensors from file produced in Part 1\n",
    "with open('../joblib/3_n_feature.txt', 'r') as file:\n",
    "    num_features = int(file.read())\n",
    "    print('num_features:',num_features)\n",
    "\n",
    "n_feature = num_features\n",
    "learning_rate = 0.01\n",
    "batch_size = 64\n",
    "epochs = 25"
   ]
  },
  {
   "cell_type": "markdown",
   "id": "d9e997db",
   "metadata": {},
   "source": [
    "### Load training and testing data"
   ]
  },
  {
   "cell_type": "markdown",
   "id": "bf179372",
   "metadata": {},
   "source": [
    "Now that we have the neural network defined, we need to load the training files saved as parquet from the end of Part 1 of the project."
   ]
  },
  {
   "cell_type": "code",
   "execution_count": 110,
   "id": "108c545d",
   "metadata": {},
   "outputs": [],
   "source": [
    "# load data\n",
    "train_data = pd.read_parquet('../joblib/3_pairs_train.parquet', engine='pyarrow')\n",
    "test_data = pd.read_parquet('../joblib/3_pairs_test.parquet', engine='pyarrow')"
   ]
  },
  {
   "cell_type": "code",
   "execution_count": 111,
   "id": "81a144a3",
   "metadata": {},
   "outputs": [
    {
     "name": "stderr",
     "output_type": "stream",
     "text": [
      "/var/folders/n3/q8wb235x57n_sx2q14dsngjr0000gn/T/ipykernel_63131/1284681922.py:2: UserWarning: Creating a tensor from a list of numpy.ndarrays is extremely slow. Please consider converting the list to a single numpy.ndarray with numpy.array() before converting to a tensor. (Triggered internally at /Users/runner/work/_temp/anaconda/conda-bld/pytorch_1729646995093/work/torch/csrc/utils/tensor_new.cpp:281.)\n",
      "  train_input_1 = torch.tensor(train_data['input_1'].tolist(), dtype=torch.float32)\n"
     ]
    }
   ],
   "source": [
    "# load data from parquet files\n",
    "train_input_1 = torch.tensor(train_data['input_1'].tolist(), dtype=torch.float32)\n",
    "train_input_2 = torch.tensor(train_data['input_2'].tolist(), dtype=torch.float32)\n",
    "train_labels = torch.tensor(train_data['label'].tolist(), dtype=torch.float32)\n",
    "\n",
    "# preserve IDs for later use (but exclude them from model input)\n",
    "train_ids_1 = train_data['id_1'].tolist()\n",
    "train_ids_2 = train_data['id_2'].tolist()\n",
    "\n",
    "test_input_1 = torch.tensor(test_data['input_1'].tolist(), dtype=torch.float32)\n",
    "test_input_2 = torch.tensor(test_data['input_2'].tolist(), dtype=torch.float32)\n",
    "test_labels = torch.tensor(test_data['label'].tolist(), dtype=torch.float32)\n",
    "\n",
    "test_ids_1 = test_data['id_1'].tolist()\n",
    "test_ids_2 = test_data['id_2'].tolist()\n",
    "\n",
    "# create TensorDataset without IDs (they're stored separately)\n",
    "train_dataset = TensorDataset(train_input_1, train_input_2, train_labels)\n",
    "test_dataset = TensorDataset(test_input_1, test_input_2, test_labels)\n",
    "\n",
    "# create DataLoaders\n",
    "train_loader = DataLoader(train_dataset, batch_size=batch_size, shuffle=True)\n",
    "test_loader = DataLoader(test_dataset, batch_size=batch_size, shuffle=False)"
   ]
  },
  {
   "cell_type": "markdown",
   "id": "e160f86c",
   "metadata": {},
   "source": [
    "### Training loop"
   ]
  },
  {
   "cell_type": "markdown",
   "id": "4fd7093a",
   "metadata": {},
   "source": [
    "#### Define loss function, optimizer, and instantiate model"
   ]
  },
  {
   "cell_type": "code",
   "execution_count": 112,
   "id": "c67e4453",
   "metadata": {},
   "outputs": [],
   "source": [
    "def train(model, train_loader, loss_fn, optimizer, device, epochs=50):\n",
    "    for epoch in range(epochs):\n",
    "        model.train()  # Set the model to training mode\n",
    "        epoch_loss = 0\n",
    "        correct_predictions = 0\n",
    "        total_samples = 0\n",
    "\n",
    "        for batch in train_loader:\n",
    "            input_1, input_2, labels = batch\n",
    "            input_1, input_2, labels = input_1.to(device), input_2.to(device), labels.to(device)\n",
    "\n",
    "            # Forward pass\n",
    "            optimizer.zero_grad()\n",
    "            outputs = model(input_1, input_2).squeeze()\n",
    "\n",
    "            # Calculate loss\n",
    "            loss = loss_fn(outputs, labels)\n",
    "\n",
    "            # Backward pass and optimization\n",
    "            loss.backward()\n",
    "            optimizer.step()\n",
    "\n",
    "            # Track loss\n",
    "            epoch_loss += loss.item()\n",
    "\n",
    "            # Calculate accuracy (threshold 0.5 for binary classification)\n",
    "            predicted = torch.sigmoid(outputs) > 0.5\n",
    "            correct_predictions += (predicted == labels).sum().item()\n",
    "            total_samples += labels.size(0)\n",
    "\n",
    "        epoch_accuracy = correct_predictions / total_samples\n",
    "        print(f\"Epoch [{epoch + 1}/{epochs}], Loss: {epoch_loss / len(train_loader):.4f}, Accuracy: {epoch_accuracy:.4f}\")"
   ]
  },
  {
   "cell_type": "code",
   "execution_count": 113,
   "id": "7711a9ec",
   "metadata": {},
   "outputs": [
    {
     "name": "stdout",
     "output_type": "stream",
     "text": [
      "RankNet(\n",
      "  (model): Sequential(\n",
      "    (0): Linear(in_features=384, out_features=512, bias=True)\n",
      "    (1): BatchNorm1d(512, eps=1e-05, momentum=0.1, affine=True, track_running_stats=True)\n",
      "    (2): Dropout(p=0.5, inplace=False)\n",
      "    (3): LeakyReLU(negative_slope=0.2, inplace=True)\n",
      "    (4): Linear(in_features=512, out_features=256, bias=True)\n",
      "    (5): BatchNorm1d(256, eps=1e-05, momentum=0.1, affine=True, track_running_stats=True)\n",
      "    (6): Dropout(p=0.5, inplace=False)\n",
      "    (7): LeakyReLU(negative_slope=0.2, inplace=True)\n",
      "    (8): Linear(in_features=256, out_features=1, bias=True)\n",
      "  )\n",
      ")\n"
     ]
    }
   ],
   "source": [
    "rank_net = RankNet(n_feature=n_feature).to(device)\n",
    "loss_fn = nn.BCEWithLogitsLoss() # binary cross-entropy loss with logits\n",
    "optimizer = torch.optim.Adam(rank_net.parameters(), lr=learning_rate)\n",
    "print(rank_net)"
   ]
  },
  {
   "cell_type": "code",
   "execution_count": 114,
   "id": "44cf24b9",
   "metadata": {},
   "outputs": [
    {
     "data": {
      "text/plain": [
       "'figures/3_ranknet_architecture.jpg.jpg'"
      ]
     },
     "execution_count": 114,
     "metadata": {},
     "output_type": "execute_result"
    }
   ],
   "source": [
    "# visualize RankNet\n",
    "from torchviz import make_dot\n",
    "\n",
    "# create a dummy input tensor to visualize the model (example: 1 sample with 'n_feature' features)\n",
    "dummy_input = torch.randn(1, n_feature).to(device)\n",
    "\n",
    "# generate the graph (make_dot creates a directed graph from the model)\n",
    "rank_net.eval()  # Put model in evaluation mode\n",
    "output = rank_net(dummy_input, dummy_input)  # Using dummy input for both inputs in RankNet\n",
    "\n",
    "# create the dot graph (this is a visualization of the model's architecture)\n",
    "dot = make_dot(output, params=dict(rank_net.named_parameters()))\n",
    "\n",
    "# render and display the graph\n",
    "dot.render('figures/3_ranknet_architecture.jpg', format='jpg', view=True)  # saves and views the plot"
   ]
  },
  {
   "cell_type": "code",
   "execution_count": 115,
   "id": "19ae97aa",
   "metadata": {},
   "outputs": [
    {
     "data": {
      "image/png": "[encoded data removed]",
      "text/plain": [
       "<Figure size 640x480 with 1 Axes>"
      ]
     },
     "metadata": {},
     "output_type": "display_data"
    }
   ],
   "source": [
    "# view architecture\n",
    "import matplotlib.image as mpimg\n",
    "img = mpimg.imread('figures/3_ranknet_architecture.jpg.jpg')\n",
    "imgplot = plt.imshow(img)\n",
    "plt.axis('off')\n",
    "plt.show()"
   ]
  },
  {
   "cell_type": "code",
   "execution_count": 116,
   "id": "681f6a53",
   "metadata": {},
   "outputs": [
    {
     "name": "stdout",
     "output_type": "stream",
     "text": [
      "Epoch [1/25], Loss: 0.7141, Accuracy: 0.5894\n",
      "Epoch [2/25], Loss: 0.6406, Accuracy: 0.6366\n",
      "Epoch [3/25], Loss: 0.6282, Accuracy: 0.6445\n",
      "Epoch [4/25], Loss: 0.6086, Accuracy: 0.6632\n",
      "Epoch [5/25], Loss: 0.5894, Accuracy: 0.6741\n",
      "Epoch [6/25], Loss: 0.5850, Accuracy: 0.6741\n",
      "Epoch [7/25], Loss: 0.5701, Accuracy: 0.6800\n",
      "Epoch [8/25], Loss: 0.5654, Accuracy: 0.6867\n",
      "Epoch [9/25], Loss: 0.5569, Accuracy: 0.6900\n",
      "Epoch [10/25], Loss: 0.5590, Accuracy: 0.6851\n",
      "Epoch [11/25], Loss: 0.5530, Accuracy: 0.6930\n",
      "Epoch [12/25], Loss: 0.5547, Accuracy: 0.6961\n",
      "Epoch [13/25], Loss: 0.5501, Accuracy: 0.6944\n",
      "Epoch [14/25], Loss: 0.5461, Accuracy: 0.6989\n",
      "Epoch [15/25], Loss: 0.5506, Accuracy: 0.6940\n",
      "Epoch [16/25], Loss: 0.5456, Accuracy: 0.6954\n",
      "Epoch [17/25], Loss: 0.5421, Accuracy: 0.7019\n",
      "Epoch [18/25], Loss: 0.5435, Accuracy: 0.7014\n",
      "Epoch [19/25], Loss: 0.5459, Accuracy: 0.6982\n",
      "Epoch [20/25], Loss: 0.5367, Accuracy: 0.7073\n",
      "Epoch [21/25], Loss: 0.5398, Accuracy: 0.7045\n",
      "Epoch [22/25], Loss: 0.5392, Accuracy: 0.6998\n",
      "Epoch [23/25], Loss: 0.5477, Accuracy: 0.6921\n",
      "Epoch [24/25], Loss: 0.5353, Accuracy: 0.7061\n",
      "Epoch [25/25], Loss: 0.5337, Accuracy: 0.7087\n"
     ]
    }
   ],
   "source": [
    "train(rank_net, train_loader, loss_fn, optimizer, device, epochs)"
   ]
  },
  {
   "cell_type": "markdown",
   "id": "c3a76b45",
   "metadata": {},
   "source": [
    "### Evaluate model and match IDs with predictions"
   ]
  },
  {
   "cell_type": "code",
   "execution_count": 117,
   "id": "01ba0ded",
   "metadata": {},
   "outputs": [],
   "source": [
    "def test(model, test_loader, loss_fn, device, test_ids_1, test_ids_2, batch_size):\n",
    "    model.eval()  # Set the model to evaluation mode\n",
    "    test_loss = 0\n",
    "    correct_predictions = 0\n",
    "    total_samples = 0\n",
    "\n",
    "    predictions = []\n",
    "    id_pairs = []  # Store the associated IDs for each prediction\n",
    "\n",
    "    with torch.no_grad():\n",
    "        for idx, batch in enumerate(test_loader):\n",
    "            input_1, input_2, labels = batch\n",
    "            input_1, input_2, labels = input_1.to(device), input_2.to(device), labels.to(device)\n",
    "\n",
    "            # Forward pass\n",
    "            outputs = model(input_1, input_2).squeeze()\n",
    "\n",
    "            # Calculate loss\n",
    "            loss = loss_fn(outputs, labels)\n",
    "            test_loss += loss.item()\n",
    "\n",
    "            # Calculate accuracy\n",
    "            predicted = torch.sigmoid(outputs) > 0.5\n",
    "            correct_predictions += (predicted == labels).sum().item()\n",
    "            total_samples += labels.size(0)\n",
    "\n",
    "            # Store predictions and IDs\n",
    "            predicted_probs = torch.sigmoid(outputs).cpu().numpy()\n",
    "            predictions.extend(predicted_probs)\n",
    "\n",
    "            # Track the associated ID pairs for each batch\n",
    "            id_pairs.extend(zip(test_ids_1[idx * batch_size:(idx + 1) * batch_size],\n",
    "                                test_ids_2[idx * batch_size:(idx + 1) * batch_size]))\n",
    "\n",
    "    # Calculate final metrics\n",
    "    test_accuracy = correct_predictions / total_samples\n",
    "    avg_test_loss = test_loss / len(test_loader)\n",
    "    print(f\"Test Loss: {avg_test_loss:.4f}, Test Accuracy: {test_accuracy:.4f}\")\n",
    "\n",
    "    # Match predictions to IDs\n",
    "    results = pd.DataFrame({\n",
    "        'id_1': [pair[0] for pair in id_pairs],\n",
    "        'id_2': [pair[1] for pair in id_pairs],\n",
    "        'predicted_prob': predictions,\n",
    "    })\n",
    "\n",
    "    return results"
   ]
  },
  {
   "cell_type": "code",
   "execution_count": 118,
   "id": "46109bc2",
   "metadata": {},
   "outputs": [
    {
     "name": "stdout",
     "output_type": "stream",
     "text": [
      "Test Loss: 0.6527, Test Accuracy: 0.6082\n",
      "   id_1  id_2  predicted_prob\n",
      "0    73   101        0.392441\n",
      "1    33    57        0.460658\n",
      "2    47   100        0.664299\n",
      "3    20    75        0.653115\n",
      "4    27    32        0.727085\n"
     ]
    }
   ],
   "source": [
    "results = test(rank_net, test_loader, loss_fn, device, test_ids_1, test_ids_2, batch_size)\n",
    "print(results.head())  # display the first few results"
   ]
  },
  {
   "cell_type": "markdown",
   "id": "4478e011-1612-4fad-b8ac-780b74a3b732",
   "metadata": {},
   "source": [
    "#### Save RankNet model"
   ]
  },
  {
   "cell_type": "code",
   "execution_count": 119,
   "id": "f6713886",
   "metadata": {},
   "outputs": [
    {
     "name": "stdout",
     "output_type": "stream",
     "text": [
      "Saved PyTorch model state to ../joblib/3_ranknet_trained.pth\n"
     ]
    }
   ],
   "source": [
    "path = Path(\"../joblib/3_ranknet_trained.pth\")\n",
    "torch.save(rank_net.state_dict(), path)\n",
    "print(f\"Saved PyTorch model state to {path}\")"
   ]
  },
  {
   "cell_type": "markdown",
   "id": "c47ede81-e425-4c17-b382-573feefe7636",
   "metadata": {},
   "source": [
    "#### Load RankNet model (optional)"
   ]
  },
  {
   "cell_type": "code",
   "execution_count": 120,
   "id": "3a3377f7",
   "metadata": {},
   "outputs": [],
   "source": [
    "# # recreate model instance\n",
    "# rank_net_loaded = RankNet(n_feature=n_feature).to(device)\n",
    "# rank_net_loaded.load_state_dict(torch.load(path, map_location=device))\n",
    "\n",
    "# # evaluate model on new data (example)\n",
    "# rank_net_loaded.eval()  # set to evaluation mode\n",
    "\n",
    "# # example new data (you can replace this with actual new input data)\n",
    "# new_input_1 = torch.tensor([[0.5, 1.2, -0.3, 0.8]], dtype=torch.float32)  # Replace with actual feature data\n",
    "# new_input_2 = torch.tensor([[0.7, -1.0, 0.5, 1.0]], dtype=torch.float32)  # Replace with actual feature data\n",
    "\n",
    "# # move inputs to the same device as the model\n",
    "# new_input_1 = new_input_1.to(device)\n",
    "# new_input_2 = new_input_2.to(device)\n",
    "\n",
    "# # forward pass through the model\n",
    "# with torch.no_grad():  # no need to track gradients during evaluation\n",
    "#     output = rank_net_loaded(new_input_1, new_input_2)\n",
    "    \n",
    "# # convert logits to probabilities\n",
    "# predicted_prob = torch.sigmoid(output).item()  # get a single probability value\n",
    "\n",
    "# # print the result\n",
    "# print(f\"Predicted Probability of input_1 ranking higher than input_2: {predicted_prob:.4f}\")"
   ]
  },
  {
   "cell_type": "markdown",
   "id": "fa177b25",
   "metadata": {},
   "source": [
    "#### Track which candidates \"won\" more"
   ]
  },
  {
   "cell_type": "code",
   "execution_count": 121,
   "id": "725c3e8d",
   "metadata": {},
   "outputs": [
    {
     "data": {
      "text/html": [
       "<div>\n",
       "<style scoped>\n",
       "    .dataframe tbody tr th:only-of-type {\n",
       "        vertical-align: middle;\n",
       "    }\n",
       "\n",
       "    .dataframe tbody tr th {\n",
       "        vertical-align: top;\n",
       "    }\n",
       "\n",
       "    .dataframe thead th {\n",
       "        text-align: right;\n",
       "    }\n",
       "</style>\n",
       "<table border=\"1\" class=\"dataframe\">\n",
       "  <thead>\n",
       "    <tr style=\"text-align: right;\">\n",
       "      <th></th>\n",
       "      <th>id</th>\n",
       "      <th>score</th>\n",
       "    </tr>\n",
       "  </thead>\n",
       "  <tbody>\n",
       "    <tr>\n",
       "      <th>0</th>\n",
       "      <td>92</td>\n",
       "      <td>28</td>\n",
       "    </tr>\n",
       "    <tr>\n",
       "      <th>1</th>\n",
       "      <td>19</td>\n",
       "      <td>24</td>\n",
       "    </tr>\n",
       "    <tr>\n",
       "      <th>2</th>\n",
       "      <td>82</td>\n",
       "      <td>24</td>\n",
       "    </tr>\n",
       "    <tr>\n",
       "      <th>3</th>\n",
       "      <td>12</td>\n",
       "      <td>22</td>\n",
       "    </tr>\n",
       "    <tr>\n",
       "      <th>4</th>\n",
       "      <td>24</td>\n",
       "      <td>21</td>\n",
       "    </tr>\n",
       "    <tr>\n",
       "      <th>5</th>\n",
       "      <td>39</td>\n",
       "      <td>21</td>\n",
       "    </tr>\n",
       "    <tr>\n",
       "      <th>6</th>\n",
       "      <td>85</td>\n",
       "      <td>21</td>\n",
       "    </tr>\n",
       "    <tr>\n",
       "      <th>7</th>\n",
       "      <td>27</td>\n",
       "      <td>20</td>\n",
       "    </tr>\n",
       "    <tr>\n",
       "      <th>8</th>\n",
       "      <td>22</td>\n",
       "      <td>20</td>\n",
       "    </tr>\n",
       "    <tr>\n",
       "      <th>9</th>\n",
       "      <td>14</td>\n",
       "      <td>20</td>\n",
       "    </tr>\n",
       "  </tbody>\n",
       "</table>\n",
       "</div>"
      ],
      "text/plain": [
       "   id  score\n",
       "0  92     28\n",
       "1  19     24\n",
       "2  82     24\n",
       "3  12     22\n",
       "4  24     21\n",
       "5  39     21\n",
       "6  85     21\n",
       "7  27     20\n",
       "8  22     20\n",
       "9  14     20"
      ]
     },
     "execution_count": 121,
     "metadata": {},
     "output_type": "execute_result"
    }
   ],
   "source": [
    "# initialize a dictionary to count the number of \"wins\" for each candidate\n",
    "rank_scores = defaultdict(int)\n",
    "\n",
    "# aggregate results: count how often each ID is ranked higher\n",
    "for _, row in results.iterrows():\n",
    "    id_1, id_2, predicted_prob = row['id_1'], row['id_2'], row['predicted_prob']\n",
    "    \n",
    "    # if predicted probability is greater than 0.5, id_1 is ranked higher\n",
    "    if predicted_prob > 0.5:\n",
    "        rank_scores[id_1] += 1\n",
    "    else:\n",
    "        rank_scores[id_2] += 1\n",
    "\n",
    "# sort candidates by their score (higher is better)\n",
    "final_ranking = sorted(rank_scores.items(), key=lambda x: x[1], reverse=True)\n",
    "\n",
    "# print top 10 rows\n",
    "# for rank, (candidate_id, score) in enumerate(final_ranking[:10], 1):\n",
    "#     print(f\"Rank {rank}: Candidate ID {int(candidate_id)} with score {score}\")\n",
    "\n",
    "final_ranking_df = pd.DataFrame(data=final_ranking, columns=['id','score'])\n",
    "final_ranking_df['id'] = pd.to_numeric(final_ranking_df['id'],\n",
    "                                      downcast='integer', errors='coerce').astype(str)\n",
    "final_ranking_df.head(10)"
   ]
  },
  {
   "cell_type": "markdown",
   "id": "915ca4d9",
   "metadata": {},
   "source": [
    "#### Plot results"
   ]
  },
  {
   "cell_type": "code",
   "execution_count": 122,
   "id": "28b24d50",
   "metadata": {},
   "outputs": [
    {
     "data": {
      "text/html": [
       "<div>\n",
       "<style scoped>\n",
       "    .dataframe tbody tr th:only-of-type {\n",
       "        vertical-align: middle;\n",
       "    }\n",
       "\n",
       "    .dataframe tbody tr th {\n",
       "        vertical-align: top;\n",
       "    }\n",
       "\n",
       "    .dataframe thead th {\n",
       "        text-align: right;\n",
       "    }\n",
       "</style>\n",
       "<table border=\"1\" class=\"dataframe\">\n",
       "  <thead>\n",
       "    <tr style=\"text-align: right;\">\n",
       "      <th></th>\n",
       "      <th>id</th>\n",
       "      <th>score</th>\n",
       "      <th>job_title</th>\n",
       "    </tr>\n",
       "  </thead>\n",
       "  <tbody>\n",
       "    <tr>\n",
       "      <th>0</th>\n",
       "      <td>92</td>\n",
       "      <td>28</td>\n",
       "      <td>Seeking employment opportunities within Custom...</td>\n",
       "    </tr>\n",
       "    <tr>\n",
       "      <th>1</th>\n",
       "      <td>19</td>\n",
       "      <td>24</td>\n",
       "      <td>2019 C.T. Bauer College of Business Graduate (...</td>\n",
       "    </tr>\n",
       "    <tr>\n",
       "      <th>2</th>\n",
       "      <td>82</td>\n",
       "      <td>24</td>\n",
       "      <td>Aspiring Human Resources Professional | An ene...</td>\n",
       "    </tr>\n",
       "    <tr>\n",
       "      <th>3</th>\n",
       "      <td>12</td>\n",
       "      <td>22</td>\n",
       "      <td>SVP, CHRO, Marketing &amp; Communications, CSR Off...</td>\n",
       "    </tr>\n",
       "    <tr>\n",
       "      <th>4</th>\n",
       "      <td>24</td>\n",
       "      <td>21</td>\n",
       "      <td>Aspiring Human Resources Specialist</td>\n",
       "    </tr>\n",
       "  </tbody>\n",
       "</table>\n",
       "</div>"
      ],
      "text/plain": [
       "   id  score                                          job_title\n",
       "0  92     28  Seeking employment opportunities within Custom...\n",
       "1  19     24  2019 C.T. Bauer College of Business Graduate (...\n",
       "2  82     24  Aspiring Human Resources Professional | An ene...\n",
       "3  12     22  SVP, CHRO, Marketing & Communications, CSR Off...\n",
       "4  24     21                Aspiring Human Resources Specialist"
      ]
     },
     "execution_count": 122,
     "metadata": {},
     "output_type": "execute_result"
    }
   ],
   "source": [
    "# read in original data\n",
    "df = pd.read_csv('../data/3_data.csv')\n",
    "df['id'] = df['id'].astype(str)\n",
    "final_ranking_df['id'] = final_ranking_df['id'].astype(str)\n",
    "\n",
    "# add job_titles to final_ranking_df to match the IDs\n",
    "final_ranking_merged = pd.merge(final_ranking_df, df[['id','job_title']], on='id', how='left')\n",
    "final_ranking_merged.head()"
   ]
  },
  {
   "cell_type": "code",
   "execution_count": 123,
   "id": "caa8af68",
   "metadata": {},
   "outputs": [
    {
     "data": {
      "text/html": [
       "<div>\n",
       "<style scoped>\n",
       "    .dataframe tbody tr th:only-of-type {\n",
       "        vertical-align: middle;\n",
       "    }\n",
       "\n",
       "    .dataframe tbody tr th {\n",
       "        vertical-align: top;\n",
       "    }\n",
       "\n",
       "    .dataframe thead th {\n",
       "        text-align: right;\n",
       "    }\n",
       "</style>\n",
       "<table border=\"1\" class=\"dataframe\">\n",
       "  <thead>\n",
       "    <tr style=\"text-align: right;\">\n",
       "      <th></th>\n",
       "      <th>id</th>\n",
       "      <th>job_title</th>\n",
       "    </tr>\n",
       "  </thead>\n",
       "  <tbody>\n",
       "    <tr>\n",
       "      <th>91</th>\n",
       "      <td>92</td>\n",
       "      <td>Seeking employment opportunities within Custom...</td>\n",
       "    </tr>\n",
       "  </tbody>\n",
       "</table>\n",
       "</div>"
      ],
      "text/plain": [
       "    id                                          job_title\n",
       "91  92  Seeking employment opportunities within Custom..."
      ]
     },
     "execution_count": 123,
     "metadata": {},
     "output_type": "execute_result"
    }
   ],
   "source": [
    "# check to make sure it worked - this job title should match above\n",
    "first_row = final_ranking_merged[:1]['id'][0] # get id\n",
    "df[['id','job_title']][df['id']==first_row]"
   ]
  },
  {
   "cell_type": "code",
   "execution_count": 124,
   "id": "a9199297-6a49-4643-a078-7b40419ebb4b",
   "metadata": {},
   "outputs": [],
   "source": [
    "# save dataframe\n",
    "final_ranking_merged.to_csv('../joblib/3_pt2_cumulative_scores.csv')"
   ]
  },
  {
   "cell_type": "code",
   "execution_count": 125,
   "id": "e43035ef",
   "metadata": {},
   "outputs": [
    {
     "data": {
      "image/png": "[encoded data removed]",
      "text/plain": [
       "<Figure size 600x600 with 1 Axes>"
      ]
     },
     "metadata": {},
     "output_type": "display_data"
    }
   ],
   "source": [
    "cutoff = 20\n",
    "\n",
    "# Plot the horizontal bar chart\n",
    "fig, ax = plt.subplots(figsize=(6, 6))\n",
    "plt.gca().invert_yaxis()\n",
    "plt.barh(y=final_ranking_merged[:cutoff]['id'], \n",
    "         width=final_ranking_merged[:cutoff]['score'], \n",
    "         color='cornflowerblue')\n",
    "\n",
    "xmax = ax.get_xlim()[1]\n",
    "xmin = ax.get_xlim()[0]\n",
    "ymax = ax.get_ylim()[1]\n",
    "ymin = ax.get_ylim()[0]\n",
    "\n",
    "# Add labels with scores from specified columns on the bars\n",
    "for index, row in final_ranking_merged[:cutoff].iterrows():\n",
    "    # Format the text to display the scores for each bar\n",
    "    label = (\n",
    "        f\"Score: {row['score']:.0f}\"\n",
    "    )\n",
    "    plt.text(\n",
    "        0.6, # distance from y-axis\n",
    "        row['id'], \n",
    "        label,\n",
    "        ha='left',\n",
    "        va='center',\n",
    "        fontsize=7,\n",
    "        color='black', # text color\n",
    "        bbox=dict(facecolor='white', edgecolor='none', boxstyle='round,pad=0.2') # White background\n",
    "    )\n",
    "\n",
    "    # add the job_title to each corresponding applicant\n",
    "    plt.text(\n",
    "        xmax + 0.5,\n",
    "        row['id'],\n",
    "        f\"{row['job_title']}\",\n",
    "        ha='left',\n",
    "        va='center',\n",
    "        fontsize=7,\n",
    "        color='black'\n",
    "    )\n",
    "    \n",
    "# Add labels and title for clarity\n",
    "plt.ylabel('Candidate ID')\n",
    "plt.xlabel('RankNet Score')\n",
    "plt.suptitle(f'Top {cutoff} Best Scoring Candidates by RankNet Score', fontsize=14, x=1)\n",
    "\n",
    "# add subtitle\n",
    "axes=plt.gca()\n",
    "ylim=axes.get_ylim()\n",
    "plt.text(x=2, y=ymax-0.5, # position just above highest y-limit, note that axes are inverted\n",
    "         s='Score derived from RankNet ranking. Higher is better.', fontsize=10, style='italic', ha='left', va='center')\n",
    "plt.text(x=xmax+5, y=ymax-0.4,\n",
    "         s=\"Candidates' Job Titles\", fontsize=10, style='italic')\n",
    "plt.grid(axis='x')\n",
    "\n",
    "plt.savefig('figures/3_ranknet_results.pdf',bbox_inches='tight')\n",
    "plt.savefig('figures/3_ranknet_results.jpg',bbox_inches='tight')\n",
    "plt.savefig('figures/3_ranknet_results.png',bbox_inches='tight')\n",
    "\n",
    "plt.show()"
   ]
  },
  {
   "cell_type": "code",
   "execution_count": 126,
   "id": "8bde757c",
   "metadata": {},
   "outputs": [
    {
     "data": {
      "text/html": [
       "<div>\n",
       "<style scoped>\n",
       "    .dataframe tbody tr th:only-of-type {\n",
       "        vertical-align: middle;\n",
       "    }\n",
       "\n",
       "    .dataframe tbody tr th {\n",
       "        vertical-align: top;\n",
       "    }\n",
       "\n",
       "    .dataframe thead th {\n",
       "        text-align: right;\n",
       "    }\n",
       "</style>\n",
       "<table border=\"1\" class=\"dataframe\">\n",
       "  <thead>\n",
       "    <tr style=\"text-align: right;\">\n",
       "      <th></th>\n",
       "      <th>id</th>\n",
       "      <th>job_title</th>\n",
       "      <th>location</th>\n",
       "      <th>connection</th>\n",
       "      <th>fit</th>\n",
       "    </tr>\n",
       "  </thead>\n",
       "  <tbody>\n",
       "    <tr>\n",
       "      <th>91</th>\n",
       "      <td>92</td>\n",
       "      <td>Seeking employment opportunities within Custom...</td>\n",
       "      <td>Torrance, California</td>\n",
       "      <td>64</td>\n",
       "      <td>NaN</td>\n",
       "    </tr>\n",
       "  </tbody>\n",
       "</table>\n",
       "</div>"
      ],
      "text/plain": [
       "    id                                          job_title  \\\n",
       "91  92  Seeking employment opportunities within Custom...   \n",
       "\n",
       "                location connection  fit  \n",
       "91  Torrance, California         64  NaN  "
      ]
     },
     "execution_count": 126,
     "metadata": {},
     "output_type": "execute_result"
    }
   ],
   "source": [
    "# confirm the plot shows what we expect\n",
    "df[df['id']=='92']"
   ]
  },
  {
   "cell_type": "markdown",
   "id": "44117da3-898f-4a98-8fa5-47abeef15c90",
   "metadata": {},
   "source": [
    "We will wait to compare the results once we have run through the next notebook... stay tuned!"
   ]
  },
  {
   "cell_type": "markdown",
   "id": "99edef45",
   "metadata": {},
   "source": [
    "## LambdaRank"
   ]
  },
  {
   "cell_type": "code",
   "execution_count": 127,
   "id": "b61f0f3e",
   "metadata": {},
   "outputs": [],
   "source": [
    "# to install pandas, use\n",
    "# pip install 'lightgbm[pandas]'\n",
    "# or\n",
    "# pip install 'lightgbm[scikit-learn]'\n",
    "\n",
    "import pandas as pd\n",
    "import numpy as np\n",
    "import matplotlib.pyplot as plt\n",
    "import lightgbm as lgb\n",
    "import torch\n",
    "import pickle\n",
    "from sklearn.model_selection import train_test_split\n",
    "from sklearn.metrics import ndcg_score\n",
    "import optuna\n",
    "\n",
    "# use\n",
    "# pip install optuna-integration[lightgbm]\n",
    "from optuna.integration import LightGBMPruningCallback\n",
    "\n",
    "import warnings\n",
    "warnings.filterwarnings(\"ignore\", category=FutureWarning, module=\"sklearn\")\n",
    "warnings.filterwarnings(\"ignore\", category=DeprecationWarning, module=\"sklearn\")"
   ]
  },
  {
   "cell_type": "markdown",
   "id": "b00a710c",
   "metadata": {},
   "source": [
    "In an effort to explore other ranking algorithms, we will now turn to LambdaRank. It is an evolution of the RankNet algorithm that we worked on above. While RankNet looks to optimize pairwise accuracy, LambdaRank optimizes for ranking metrics like NDCG, or Normalized Discounted Cumulative Gain. It does not require pairwise comparisons as input. \n",
    "\n",
    "NDCG checks not only if the first item should be ranked higher than the second, but also how much swapping their order would improve the final ranking. The gain can be thought of this way: if a relevant item is placed close to the top, it will have a greater gain than if a relevant item was placed towards the bottom. \n",
    "\n",
    "LambdaRank uses **lambdas** that help adjust the model's focus to help improve the overall ranking quality, while RankNet takes advantage of a loss function and cares about individual rankings.\n",
    "\n",
    "You can read more about LambdaRank [here](https://tamaracucumides.medium.com/learning-to-rank-with-lightgbm-code-example-in-python-843bd7b44574). There's a short snippet of information about LambdaRank [from Microsoft](https://www.microsoft.com/en-us/research/publication/from-ranknet-to-lambdarank-to-lambdamart-an-overview/). Researchers there designed the algorithm.\n",
    "\n",
    "[This repository](https://github.com/Ransaka/LTR-with-LIghtGBM) gives a good example of how to implement the algorithm."
   ]
  },
  {
   "cell_type": "markdown",
   "id": "139c982a",
   "metadata": {},
   "source": [
    "LambdaRank uses the LightGBM algorithm and requires the following:\n",
    "* **Feature matrix (X)** of each item\n",
    "* **Relevance scores (y)** for each item\n",
    "* \"**Groups**,\" or the number of items per query group "
   ]
  },
  {
   "cell_type": "code",
   "execution_count": 128,
   "id": "a0e6a40f",
   "metadata": {},
   "outputs": [
    {
     "data": {
      "text/plain": [
       "2870"
      ]
     },
     "execution_count": 128,
     "metadata": {},
     "output_type": "execute_result"
    }
   ],
   "source": [
    "# get random seed from project\n",
    "with open('seed.txt', 'r') as file:\n",
    "    seed = int(file.read())\n",
    "    \n",
    "seed"
   ]
  },
  {
   "cell_type": "code",
   "execution_count": 129,
   "id": "0899a0b1",
   "metadata": {},
   "outputs": [
    {
     "data": {
      "text/plain": [
       "Generator(PCG64) at 0x154CC0040"
      ]
     },
     "execution_count": 129,
     "metadata": {},
     "output_type": "execute_result"
    }
   ],
   "source": [
    "# set the randomness seed throughout the notebook\n",
    "# source: # https://odsc.medium.com/properly-setting-the-random-seed-in-ml-experiments-not-as-simple-as-you-might-imagine-219969c84752\n",
    "\n",
    "## set `PYTHONHASHSEED` environment variable at a fixed value\n",
    "import os\n",
    "os.environ['PYTHONHASHSEED']=str(seed)\n",
    "## set `python` built-in pseudo-random generator at a fixed value\n",
    "import random\n",
    "random.seed(seed)\n",
    "## set `numpy` pseudo-random generator at a fixed value\n",
    "np.random.seed(seed)\n",
    "np.random.default_rng(seed)"
   ]
  },
  {
   "cell_type": "code",
   "execution_count": 130,
   "id": "58b86d7b",
   "metadata": {},
   "outputs": [
    {
     "name": "stdout",
     "output_type": "stream",
     "text": [
      "Loaded 104 embeddings. First element type: <class 'numpy.ndarray'>\n"
     ]
    }
   ],
   "source": [
    "# load the job title data\n",
    "loaded_data = np.load('../joblib/3_data_job_titles.npz', allow_pickle=True)\n",
    "job_title_sbert = [np.array(embedding) for embedding in loaded_data['embeddings']]\n",
    "print(f\"Loaded {len(job_title_sbert)} embeddings. First element type: {type(job_title_sbert[0])}\")"
   ]
  },
  {
   "cell_type": "code",
   "execution_count": 131,
   "id": "a74be93c",
   "metadata": {},
   "outputs": [],
   "source": [
    "# convert back to tensors\n",
    "job_title_tensors = [torch.tensor(embedding) for embedding in job_title_sbert]"
   ]
  },
  {
   "cell_type": "code",
   "execution_count": 132,
   "id": "0488d443",
   "metadata": {},
   "outputs": [
    {
     "data": {
      "text/plain": [
       "tensor([-7.1764e-02,  2.2637e-03, -1.7858e-02,  3.1808e-02,  8.6310e-03,\n",
       "         4.5645e-02, -6.7703e-02,  3.1216e-02,  1.8814e-02, -3.6150e-04,\n",
       "        -1.5786e-02, -3.0461e-02, -8.2910e-02, -5.0705e-02, -7.0172e-02,\n",
       "         3.2520e-02,  9.6550e-03, -8.0883e-02,  4.6644e-02, -3.8407e-02,\n",
       "         2.3128e-02,  3.6828e-02, -1.5138e-03, -9.5810e-02, -2.7337e-02,\n",
       "        -3.0467e-02, -1.6989e-02, -2.4439e-02, -2.1443e-04, -3.0366e-03,\n",
       "         1.0420e-02,  5.6600e-03,  2.4441e-02,  3.2096e-02,  6.2465e-02,\n",
       "         6.9278e-02,  4.4225e-02, -1.1663e-02,  1.5852e-01,  3.1511e-02,\n",
       "        -9.2587e-03, -8.1887e-02, -2.8538e-02,  3.3625e-02, -6.5775e-03,\n",
       "        -5.9914e-02,  2.1527e-02, -3.0205e-02,  3.8459e-02, -8.4312e-03,\n",
       "        -7.3194e-02, -6.0277e-02,  3.9353e-02, -4.5725e-02,  2.8139e-02,\n",
       "         3.0143e-02,  2.7823e-02, -1.5330e-02,  6.5976e-03, -6.2322e-02,\n",
       "        -1.5916e-02, -3.1975e-02,  2.1324e-02,  3.4776e-02,  8.1722e-02,\n",
       "         5.2771e-03, -5.2103e-02,  2.3793e-02,  3.8527e-02, -8.8017e-02,\n",
       "        -2.9698e-02, -1.1102e-02, -3.9710e-02,  1.3897e-02,  9.4293e-02,\n",
       "         2.3786e-02, -3.9860e-03,  2.4895e-02,  5.4456e-02,  2.3790e-02,\n",
       "         4.8017e-02,  6.9421e-02, -4.3053e-02,  3.7367e-02, -8.3389e-02,\n",
       "        -3.9554e-02, -3.0625e-02,  1.4594e-02,  6.1105e-03,  6.1274e-02,\n",
       "         8.6866e-03, -4.0442e-02,  1.2885e-02, -1.1718e-03, -8.1843e-02,\n",
       "         1.4024e-02, -9.5660e-02,  4.8773e-02,  1.6119e-02,  4.4493e-03,\n",
       "        -7.3601e-02,  7.6218e-02, -3.8007e-02,  1.9535e-02,  6.1472e-03,\n",
       "         1.6961e-02,  3.5967e-02,  9.7436e-03,  7.1682e-02,  3.1386e-02,\n",
       "        -1.4554e-02, -1.5890e-02, -8.2825e-02, -1.6305e-02,  9.7006e-03,\n",
       "         2.5257e-02,  2.6843e-04,  4.0493e-02,  9.2181e-02, -1.9046e-03,\n",
       "         2.7567e-02,  5.1132e-02, -7.3212e-02, -6.3115e-02, -7.9823e-03,\n",
       "        -1.6765e-01, -2.9606e-02, -1.3230e-33,  3.2905e-03,  9.4100e-02,\n",
       "         4.6308e-02,  7.4895e-02, -4.0938e-02, -2.2898e-02, -6.1546e-02,\n",
       "         2.3439e-02, -1.0703e-02,  5.7815e-02, -2.7025e-02,  1.0929e-01,\n",
       "        -3.5596e-02,  2.7121e-02, -4.3518e-02, -4.2956e-02, -3.6647e-02,\n",
       "         2.7006e-02, -3.4044e-03,  7.2917e-02,  3.3263e-02,  4.0946e-02,\n",
       "        -4.9946e-03, -8.9749e-02, -1.0261e-02, -1.5499e-03,  6.4816e-02,\n",
       "        -6.7815e-03,  8.4745e-02,  2.1064e-02,  8.4459e-03,  1.2042e-02,\n",
       "        -6.5129e-02, -8.5254e-02,  5.0156e-02, -1.5025e-02, -1.4243e-01,\n",
       "        -1.0929e-02,  1.9596e-02, -1.6974e-02, -7.1898e-02,  1.1936e-01,\n",
       "         2.8736e-02, -1.6113e-03,  1.6926e-02,  2.1461e-02,  1.4876e-01,\n",
       "         6.5798e-02,  7.5223e-02, -3.7247e-02, -8.2096e-02, -8.9025e-02,\n",
       "         6.3531e-03, -3.5823e-02,  6.1774e-02, -5.0907e-02,  2.2478e-03,\n",
       "         5.0267e-02, -4.2082e-02,  4.7737e-02,  1.1122e-03,  4.1247e-02,\n",
       "        -6.6179e-02,  1.2616e-02, -3.4835e-02, -6.5496e-02, -2.0065e-02,\n",
       "        -2.4050e-03,  1.2752e-01, -3.3548e-02,  2.9069e-03,  6.0244e-03,\n",
       "         3.8790e-02, -1.9889e-02, -5.2084e-02,  1.3556e-02,  7.4122e-02,\n",
       "        -1.8150e-02,  4.5881e-02, -7.6674e-02, -1.6397e-02,  1.6860e-02,\n",
       "         7.5554e-02, -4.5430e-02,  4.6240e-02,  1.8891e-02,  4.6056e-02,\n",
       "        -5.3356e-02, -4.7187e-03,  1.7231e-02,  3.8095e-02, -4.6275e-02,\n",
       "        -2.7911e-02,  9.9471e-02, -5.3039e-02, -1.0890e-33,  1.2991e-01,\n",
       "        -6.4036e-03,  1.3858e-02, -8.2864e-02,  1.8651e-02,  6.8433e-02,\n",
       "         8.3629e-02,  6.6377e-02, -3.1906e-02, -1.8682e-03,  9.4951e-02,\n",
       "        -3.6740e-02, -2.0478e-02,  5.3023e-02,  2.5670e-02,  1.9433e-03,\n",
       "         6.3942e-03, -5.0238e-02, -1.0762e-01, -2.8480e-02,  7.8596e-04,\n",
       "         6.8429e-02, -9.8799e-03,  1.7832e-02,  1.0214e-03,  3.7320e-03,\n",
       "         3.1418e-02,  6.1013e-02, -7.1873e-02,  1.2601e-02,  1.3720e-02,\n",
       "         5.5045e-03, -4.4870e-02,  3.1552e-02,  1.1152e-03, -1.6330e-03,\n",
       "         6.8587e-02,  3.1625e-02,  4.3843e-02,  4.3220e-02,  7.8730e-02,\n",
       "        -7.7897e-02, -8.3744e-02, -4.3730e-02,  3.0119e-02, -3.9756e-02,\n",
       "        -1.5743e-02, -3.4585e-02,  1.8032e-02, -1.9825e-02, -3.1881e-02,\n",
       "        -4.9710e-02, -3.1258e-02, -1.5903e-02,  7.6570e-02,  2.3777e-02,\n",
       "         3.9713e-02, -3.4791e-02, -2.0734e-02, -2.6111e-03,  7.7315e-03,\n",
       "         1.0448e-01,  5.8785e-02,  2.5375e-02, -3.9127e-02, -2.6788e-02,\n",
       "         1.2177e-02, -4.2029e-02, -6.9536e-02,  9.5341e-02,  1.7182e-02,\n",
       "         1.1030e-01, -8.1969e-04, -1.2397e-01, -7.1878e-02,  4.1063e-02,\n",
       "         4.0792e-02, -9.0983e-02, -5.9649e-02,  6.5373e-03, -1.1831e-01,\n",
       "        -8.6913e-03, -7.0987e-02,  9.2960e-02, -2.3609e-02,  5.2708e-02,\n",
       "         5.3937e-02, -5.7072e-02,  1.0236e-03, -5.9659e-02, -6.0416e-02,\n",
       "        -2.0895e-02,  2.1713e-02, -2.0009e-02, -4.3782e-02, -2.4745e-08,\n",
       "        -3.3255e-02,  8.0088e-02, -5.9178e-02,  1.0442e-02, -1.7130e-02,\n",
       "         2.3009e-02, -9.9112e-02, -7.1707e-02, -1.2053e-02,  1.4190e-02,\n",
       "        -2.8237e-02, -4.7716e-02, -4.1981e-02, -3.3464e-02,  1.9701e-02,\n",
       "        -1.0399e-02, -6.1938e-02,  1.4433e-02,  3.5326e-02, -5.9824e-02,\n",
       "         4.3243e-02, -1.9379e-02,  1.2675e-02,  3.3618e-02, -1.7182e-02,\n",
       "         2.0765e-02,  7.6451e-03, -2.7259e-02, -3.7614e-03,  4.3418e-02,\n",
       "         4.2219e-02, -7.9126e-03,  1.7400e-02, -7.2439e-02,  7.8125e-02,\n",
       "        -1.8242e-02, -3.9498e-02, -7.4762e-02, -4.0797e-03,  4.2082e-02,\n",
       "         4.2996e-02, -1.4236e-02, -5.9925e-02,  1.8145e-02,  1.1572e-01,\n",
       "         6.8947e-03, -1.6753e-02,  9.6921e-02, -1.1013e-02,  9.1657e-03,\n",
       "         3.7196e-02,  3.8204e-03, -1.3778e-01, -2.6175e-02,  3.4218e-02,\n",
       "         2.3139e-02,  1.7900e-02, -4.0268e-02, -1.0566e-01,  4.4295e-02,\n",
       "         5.3318e-02, -1.4526e-01, -2.5792e-02, -5.5173e-03])"
      ]
     },
     "execution_count": 132,
     "metadata": {},
     "output_type": "execute_result"
    }
   ],
   "source": [
    "# check\n",
    "job_title_tensors[0]"
   ]
  },
  {
   "cell_type": "code",
   "execution_count": 133,
   "id": "1d798bfa",
   "metadata": {},
   "outputs": [
    {
     "name": "stdout",
     "output_type": "stream",
     "text": [
      "Data loaded successfully.\n"
     ]
    }
   ],
   "source": [
    "# load candidate ID and rank data\n",
    "with open('../joblib/candidate_ids.pkl', 'rb') as f:\n",
    "    candidate_ids = pickle.load(f)\n",
    "\n",
    "with open('../joblib/ranks.pkl', 'rb') as f:\n",
    "    ranks = pickle.load(f)\n",
    "    \n",
    "print(\"Data loaded successfully.\")"
   ]
  },
  {
   "cell_type": "code",
   "execution_count": 134,
   "id": "69fee4b5",
   "metadata": {},
   "outputs": [
    {
     "data": {
      "text/plain": [
       "[1, 2, 3, 4, 5]"
      ]
     },
     "execution_count": 134,
     "metadata": {},
     "output_type": "execute_result"
    }
   ],
   "source": [
    "# check\n",
    "candidate_ids[:5]"
   ]
  },
  {
   "cell_type": "code",
   "execution_count": 135,
   "id": "055c7dc2",
   "metadata": {},
   "outputs": [
    {
     "data": {
      "text/plain": [
       "[1, 1, 2, 2, 16]"
      ]
     },
     "execution_count": 135,
     "metadata": {},
     "output_type": "execute_result"
    }
   ],
   "source": [
    "# check\n",
    "ranks[:5]"
   ]
  },
  {
   "cell_type": "markdown",
   "id": "39ac698d",
   "metadata": {},
   "source": [
    "### Prepare the data"
   ]
  },
  {
   "cell_type": "markdown",
   "id": "941157e3",
   "metadata": {},
   "source": [
    "Now that we have our work from the previous notebook loaded, we will adapt them to the needs of the LambdaRank algorithm:\n",
    "* **Feature matrix (X)** will be the `job_titles`\n",
    "* **Relevance scores (y)** will be the `ranks`\n",
    "* **Group** equals `1` as we're looking at all candidates"
   ]
  },
  {
   "cell_type": "code",
   "execution_count": 136,
   "id": "72c536b1",
   "metadata": {},
   "outputs": [
    {
     "name": "stdout",
     "output_type": "stream",
     "text": [
      "Done.\n"
     ]
    }
   ],
   "source": [
    "# convert ranks to relevance scores (invert ranks: higher rank -> higher score)\n",
    "# example: if ranks are 1, 2, 3, scores become 3, 2, 1.\n",
    "relevance_scores = np.max(ranks) - np.array(ranks) + 1\n",
    "\n",
    "# feature matrix (X) from job_titles\n",
    "X = np.array([job.detach().cpu().numpy() for job in job_title_tensors])\n",
    "\n",
    "# we'll define group in the next code cell\n",
    "\n",
    "print('Done.')"
   ]
  },
  {
   "cell_type": "markdown",
   "id": "a5d2ff6a",
   "metadata": {},
   "source": [
    "### Split the data"
   ]
  },
  {
   "cell_type": "code",
   "execution_count": 137,
   "id": "b3324113",
   "metadata": {},
   "outputs": [
    {
     "name": "stdout",
     "output_type": "stream",
     "text": [
      "Done.\n"
     ]
    }
   ],
   "source": [
    "# split data into training+validation and testing sets\n",
    "X_train_val, X_test, y_train_val, y_test = train_test_split(\n",
    "    X, relevance_scores, test_size=0.2, random_state=seed\n",
    ")\n",
    "\n",
    "group_train_val = [len(X_train_val)]\n",
    "group_test = [len(X_test)]\n",
    "\n",
    "# split val set into training and validation sets\n",
    "X_train, X_val, y_train, y_val = train_test_split(\n",
    "    X_train_val, y_train_val, test_size=0.25, random_state=seed\n",
    ") # 0.25 x (1.0 - test_size) = 0.2, so validation set is 20% of the original data\n",
    "\n",
    "group_train = [len(X_train)]\n",
    "group_val = [len(X_val)]\n",
    "\n",
    "print('Done.')"
   ]
  },
  {
   "cell_type": "markdown",
   "id": "571c0fe6",
   "metadata": {},
   "source": [
    "### Train the LambdaRank model"
   ]
  },
  {
   "cell_type": "code",
   "execution_count": 138,
   "id": "dfa707a4",
   "metadata": {},
   "outputs": [
    {
     "data": {
      "text/html": [
       "<style>#sk-container-id-4 {\n",
       "  /* Definition of color scheme common for light and dark mode */\n",
       "  --sklearn-color-text: #000;\n",
       "  --sklearn-color-text-muted: #666;\n",
       "  --sklearn-color-line: gray;\n",
       "  /* Definition of color scheme for unfitted estimators */\n",
       "  --sklearn-color-unfitted-level-0: #fff5e6;\n",
       "  --sklearn-color-unfitted-level-1: #f6e4d2;\n",
       "  --sklearn-color-unfitted-level-2: #ffe0b3;\n",
       "  --sklearn-color-unfitted-level-3: chocolate;\n",
       "  /* Definition of color scheme for fitted estimators */\n",
       "  --sklearn-color-fitted-level-0: #f0f8ff;\n",
       "  --sklearn-color-fitted-level-1: #d4ebff;\n",
       "  --sklearn-color-fitted-level-2: #b3dbfd;\n",
       "  --sklearn-color-fitted-level-3: cornflowerblue;\n",
       "\n",
       "  /* Specific color for light theme */\n",
       "  --sklearn-color-text-on-default-background: var(--sg-text-color, var(--theme-code-foreground, var(--jp-content-font-color1, black)));\n",
       "  --sklearn-color-background: var(--sg-background-color, var(--theme-background, var(--jp-layout-color0, white)));\n",
       "  --sklearn-color-border-box: var(--sg-text-color, var(--theme-code-foreground, var(--jp-content-font-color1, black)));\n",
       "  --sklearn-color-icon: #696969;\n",
       "\n",
       "  @media (prefers-color-scheme: dark) {\n",
       "    /* Redefinition of color scheme for dark theme */\n",
       "    --sklearn-color-text-on-default-background: var(--sg-text-color, var(--theme-code-foreground, var(--jp-content-font-color1, white)));\n",
       "    --sklearn-color-background: var(--sg-background-color, var(--theme-background, var(--jp-layout-color0, #111)));\n",
       "    --sklearn-color-border-box: var(--sg-text-color, var(--theme-code-foreground, var(--jp-content-font-color1, white)));\n",
       "    --sklearn-color-icon: #878787;\n",
       "  }\n",
       "}\n",
       "\n",
       "#sk-container-id-4 {\n",
       "  color: var(--sklearn-color-text);\n",
       "}\n",
       "\n",
       "#sk-container-id-4 pre {\n",
       "  padding: 0;\n",
       "}\n",
       "\n",
       "#sk-container-id-4 input.sk-hidden--visually {\n",
       "  border: 0;\n",
       "  clip: rect(1px 1px 1px 1px);\n",
       "  clip: rect(1px, 1px, 1px, 1px);\n",
       "  height: 1px;\n",
       "  margin: -1px;\n",
       "  overflow: hidden;\n",
       "  padding: 0;\n",
       "  position: absolute;\n",
       "  width: 1px;\n",
       "}\n",
       "\n",
       "#sk-container-id-4 div.sk-dashed-wrapped {\n",
       "  border: 1px dashed var(--sklearn-color-line);\n",
       "  margin: 0 0.4em 0.5em 0.4em;\n",
       "  box-sizing: border-box;\n",
       "  padding-bottom: 0.4em;\n",
       "  background-color: var(--sklearn-color-background);\n",
       "}\n",
       "\n",
       "#sk-container-id-4 div.sk-container {\n",
       "  /* jupyter's `normalize.less` sets `[hidden] { display: none; }`\n",
       "     but bootstrap.min.css set `[hidden] { display: none !important; }`\n",
       "     so we also need the `!important` here to be able to override the\n",
       "     default hidden behavior on the sphinx rendered scikit-learn.org.\n",
       "     See: https://github.com/scikit-learn/scikit-learn/issues/21755 */\n",
       "  display: inline-block !important;\n",
       "  position: relative;\n",
       "}\n",
       "\n",
       "#sk-container-id-4 div.sk-text-repr-fallback {\n",
       "  display: none;\n",
       "}\n",
       "\n",
       "div.sk-parallel-item,\n",
       "div.sk-serial,\n",
       "div.sk-item {\n",
       "  /* draw centered vertical line to link estimators */\n",
       "  background-image: linear-gradient(var(--sklearn-color-text-on-default-background), var(--sklearn-color-text-on-default-background));\n",
       "  background-size: 2px 100%;\n",
       "  background-repeat: no-repeat;\n",
       "  background-position: center center;\n",
       "}\n",
       "\n",
       "/* Parallel-specific style estimator block */\n",
       "\n",
       "#sk-container-id-4 div.sk-parallel-item::after {\n",
       "  content: \"\";\n",
       "  width: 100%;\n",
       "  border-bottom: 2px solid var(--sklearn-color-text-on-default-background);\n",
       "  flex-grow: 1;\n",
       "}\n",
       "\n",
       "#sk-container-id-4 div.sk-parallel {\n",
       "  display: flex;\n",
       "  align-items: stretch;\n",
       "  justify-content: center;\n",
       "  background-color: var(--sklearn-color-background);\n",
       "  position: relative;\n",
       "}\n",
       "\n",
       "#sk-container-id-4 div.sk-parallel-item {\n",
       "  display: flex;\n",
       "  flex-direction: column;\n",
       "}\n",
       "\n",
       "#sk-container-id-4 div.sk-parallel-item:first-child::after {\n",
       "  align-self: flex-end;\n",
       "  width: 50%;\n",
       "}\n",
       "\n",
       "#sk-container-id-4 div.sk-parallel-item:last-child::after {\n",
       "  align-self: flex-start;\n",
       "  width: 50%;\n",
       "}\n",
       "\n",
       "#sk-container-id-4 div.sk-parallel-item:only-child::after {\n",
       "  width: 0;\n",
       "}\n",
       "\n",
       "/* Serial-specific style estimator block */\n",
       "\n",
       "#sk-container-id-4 div.sk-serial {\n",
       "  display: flex;\n",
       "  flex-direction: column;\n",
       "  align-items: center;\n",
       "  background-color: var(--sklearn-color-background);\n",
       "  padding-right: 1em;\n",
       "  padding-left: 1em;\n",
       "}\n",
       "\n",
       "\n",
       "/* Toggleable style: style used for estimator/Pipeline/ColumnTransformer box that is\n",
       "clickable and can be expanded/collapsed.\n",
       "- Pipeline and ColumnTransformer use this feature and define the default style\n",
       "- Estimators will overwrite some part of the style using the `sk-estimator` class\n",
       "*/\n",
       "\n",
       "/* Pipeline and ColumnTransformer style (default) */\n",
       "\n",
       "#sk-container-id-4 div.sk-toggleable {\n",
       "  /* Default theme specific background. It is overwritten whether we have a\n",
       "  specific estimator or a Pipeline/ColumnTransformer */\n",
       "  background-color: var(--sklearn-color-background);\n",
       "}\n",
       "\n",
       "/* Toggleable label */\n",
       "#sk-container-id-4 label.sk-toggleable__label {\n",
       "  cursor: pointer;\n",
       "  display: flex;\n",
       "  width: 100%;\n",
       "  margin-bottom: 0;\n",
       "  padding: 0.5em;\n",
       "  box-sizing: border-box;\n",
       "  text-align: center;\n",
       "  align-items: start;\n",
       "  justify-content: space-between;\n",
       "  gap: 0.5em;\n",
       "}\n",
       "\n",
       "#sk-container-id-4 label.sk-toggleable__label .caption {\n",
       "  font-size: 0.6rem;\n",
       "  font-weight: lighter;\n",
       "  color: var(--sklearn-color-text-muted);\n",
       "}\n",
       "\n",
       "#sk-container-id-4 label.sk-toggleable__label-arrow:before {\n",
       "  /* Arrow on the left of the label */\n",
       "  content: \"▸\";\n",
       "  float: left;\n",
       "  margin-right: 0.25em;\n",
       "  color: var(--sklearn-color-icon);\n",
       "}\n",
       "\n",
       "#sk-container-id-4 label.sk-toggleable__label-arrow:hover:before {\n",
       "  color: var(--sklearn-color-text);\n",
       "}\n",
       "\n",
       "/* Toggleable content - dropdown */\n",
       "\n",
       "#sk-container-id-4 div.sk-toggleable__content {\n",
       "  max-height: 0;\n",
       "  max-width: 0;\n",
       "  overflow: hidden;\n",
       "  text-align: left;\n",
       "  /* unfitted */\n",
       "  background-color: var(--sklearn-color-unfitted-level-0);\n",
       "}\n",
       "\n",
       "#sk-container-id-4 div.sk-toggleable__content.fitted {\n",
       "  /* fitted */\n",
       "  background-color: var(--sklearn-color-fitted-level-0);\n",
       "}\n",
       "\n",
       "#sk-container-id-4 div.sk-toggleable__content pre {\n",
       "  margin: 0.2em;\n",
       "  border-radius: 0.25em;\n",
       "  color: var(--sklearn-color-text);\n",
       "  /* unfitted */\n",
       "  background-color: var(--sklearn-color-unfitted-level-0);\n",
       "}\n",
       "\n",
       "#sk-container-id-4 div.sk-toggleable__content.fitted pre {\n",
       "  /* unfitted */\n",
       "  background-color: var(--sklearn-color-fitted-level-0);\n",
       "}\n",
       "\n",
       "#sk-container-id-4 input.sk-toggleable__control:checked~div.sk-toggleable__content {\n",
       "  /* Expand drop-down */\n",
       "  max-height: 200px;\n",
       "  max-width: 100%;\n",
       "  overflow: auto;\n",
       "}\n",
       "\n",
       "#sk-container-id-4 input.sk-toggleable__control:checked~label.sk-toggleable__label-arrow:before {\n",
       "  content: \"▾\";\n",
       "}\n",
       "\n",
       "/* Pipeline/ColumnTransformer-specific style */\n",
       "\n",
       "#sk-container-id-4 div.sk-label input.sk-toggleable__control:checked~label.sk-toggleable__label {\n",
       "  color: var(--sklearn-color-text);\n",
       "  background-color: var(--sklearn-color-unfitted-level-2);\n",
       "}\n",
       "\n",
       "#sk-container-id-4 div.sk-label.fitted input.sk-toggleable__control:checked~label.sk-toggleable__label {\n",
       "  background-color: var(--sklearn-color-fitted-level-2);\n",
       "}\n",
       "\n",
       "/* Estimator-specific style */\n",
       "\n",
       "/* Colorize estimator box */\n",
       "#sk-container-id-4 div.sk-estimator input.sk-toggleable__control:checked~label.sk-toggleable__label {\n",
       "  /* unfitted */\n",
       "  background-color: var(--sklearn-color-unfitted-level-2);\n",
       "}\n",
       "\n",
       "#sk-container-id-4 div.sk-estimator.fitted input.sk-toggleable__control:checked~label.sk-toggleable__label {\n",
       "  /* fitted */\n",
       "  background-color: var(--sklearn-color-fitted-level-2);\n",
       "}\n",
       "\n",
       "#sk-container-id-4 div.sk-label label.sk-toggleable__label,\n",
       "#sk-container-id-4 div.sk-label label {\n",
       "  /* The background is the default theme color */\n",
       "  color: var(--sklearn-color-text-on-default-background);\n",
       "}\n",
       "\n",
       "/* On hover, darken the color of the background */\n",
       "#sk-container-id-4 div.sk-label:hover label.sk-toggleable__label {\n",
       "  color: var(--sklearn-color-text);\n",
       "  background-color: var(--sklearn-color-unfitted-level-2);\n",
       "}\n",
       "\n",
       "/* Label box, darken color on hover, fitted */\n",
       "#sk-container-id-4 div.sk-label.fitted:hover label.sk-toggleable__label.fitted {\n",
       "  color: var(--sklearn-color-text);\n",
       "  background-color: var(--sklearn-color-fitted-level-2);\n",
       "}\n",
       "\n",
       "/* Estimator label */\n",
       "\n",
       "#sk-container-id-4 div.sk-label label {\n",
       "  font-family: monospace;\n",
       "  font-weight: bold;\n",
       "  display: inline-block;\n",
       "  line-height: 1.2em;\n",
       "}\n",
       "\n",
       "#sk-container-id-4 div.sk-label-container {\n",
       "  text-align: center;\n",
       "}\n",
       "\n",
       "/* Estimator-specific */\n",
       "#sk-container-id-4 div.sk-estimator {\n",
       "  font-family: monospace;\n",
       "  border: 1px dotted var(--sklearn-color-border-box);\n",
       "  border-radius: 0.25em;\n",
       "  box-sizing: border-box;\n",
       "  margin-bottom: 0.5em;\n",
       "  /* unfitted */\n",
       "  background-color: var(--sklearn-color-unfitted-level-0);\n",
       "}\n",
       "\n",
       "#sk-container-id-4 div.sk-estimator.fitted {\n",
       "  /* fitted */\n",
       "  background-color: var(--sklearn-color-fitted-level-0);\n",
       "}\n",
       "\n",
       "/* on hover */\n",
       "#sk-container-id-4 div.sk-estimator:hover {\n",
       "  /* unfitted */\n",
       "  background-color: var(--sklearn-color-unfitted-level-2);\n",
       "}\n",
       "\n",
       "#sk-container-id-4 div.sk-estimator.fitted:hover {\n",
       "  /* fitted */\n",
       "  background-color: var(--sklearn-color-fitted-level-2);\n",
       "}\n",
       "\n",
       "/* Specification for estimator info (e.g. \"i\" and \"?\") */\n",
       "\n",
       "/* Common style for \"i\" and \"?\" */\n",
       "\n",
       ".sk-estimator-doc-link,\n",
       "a:link.sk-estimator-doc-link,\n",
       "a:visited.sk-estimator-doc-link {\n",
       "  float: right;\n",
       "  font-size: smaller;\n",
       "  line-height: 1em;\n",
       "  font-family: monospace;\n",
       "  background-color: var(--sklearn-color-background);\n",
       "  border-radius: 1em;\n",
       "  height: 1em;\n",
       "  width: 1em;\n",
       "  text-decoration: none !important;\n",
       "  margin-left: 0.5em;\n",
       "  text-align: center;\n",
       "  /* unfitted */\n",
       "  border: var(--sklearn-color-unfitted-level-1) 1pt solid;\n",
       "  color: var(--sklearn-color-unfitted-level-1);\n",
       "}\n",
       "\n",
       ".sk-estimator-doc-link.fitted,\n",
       "a:link.sk-estimator-doc-link.fitted,\n",
       "a:visited.sk-estimator-doc-link.fitted {\n",
       "  /* fitted */\n",
       "  border: var(--sklearn-color-fitted-level-1) 1pt solid;\n",
       "  color: var(--sklearn-color-fitted-level-1);\n",
       "}\n",
       "\n",
       "/* On hover */\n",
       "div.sk-estimator:hover .sk-estimator-doc-link:hover,\n",
       ".sk-estimator-doc-link:hover,\n",
       "div.sk-label-container:hover .sk-estimator-doc-link:hover,\n",
       ".sk-estimator-doc-link:hover {\n",
       "  /* unfitted */\n",
       "  background-color: var(--sklearn-color-unfitted-level-3);\n",
       "  color: var(--sklearn-color-background);\n",
       "  text-decoration: none;\n",
       "}\n",
       "\n",
       "div.sk-estimator.fitted:hover .sk-estimator-doc-link.fitted:hover,\n",
       ".sk-estimator-doc-link.fitted:hover,\n",
       "div.sk-label-container:hover .sk-estimator-doc-link.fitted:hover,\n",
       ".sk-estimator-doc-link.fitted:hover {\n",
       "  /* fitted */\n",
       "  background-color: var(--sklearn-color-fitted-level-3);\n",
       "  color: var(--sklearn-color-background);\n",
       "  text-decoration: none;\n",
       "}\n",
       "\n",
       "/* Span, style for the box shown on hovering the info icon */\n",
       ".sk-estimator-doc-link span {\n",
       "  display: none;\n",
       "  z-index: 9999;\n",
       "  position: relative;\n",
       "  font-weight: normal;\n",
       "  right: .2ex;\n",
       "  padding: .5ex;\n",
       "  margin: .5ex;\n",
       "  width: min-content;\n",
       "  min-width: 20ex;\n",
       "  max-width: 50ex;\n",
       "  color: var(--sklearn-color-text);\n",
       "  box-shadow: 2pt 2pt 4pt #999;\n",
       "  /* unfitted */\n",
       "  background: var(--sklearn-color-unfitted-level-0);\n",
       "  border: .5pt solid var(--sklearn-color-unfitted-level-3);\n",
       "}\n",
       "\n",
       ".sk-estimator-doc-link.fitted span {\n",
       "  /* fitted */\n",
       "  background: var(--sklearn-color-fitted-level-0);\n",
       "  border: var(--sklearn-color-fitted-level-3);\n",
       "}\n",
       "\n",
       ".sk-estimator-doc-link:hover span {\n",
       "  display: block;\n",
       "}\n",
       "\n",
       "/* \"?\"-specific style due to the `<a>` HTML tag */\n",
       "\n",
       "#sk-container-id-4 a.estimator_doc_link {\n",
       "  float: right;\n",
       "  font-size: 1rem;\n",
       "  line-height: 1em;\n",
       "  font-family: monospace;\n",
       "  background-color: var(--sklearn-color-background);\n",
       "  border-radius: 1rem;\n",
       "  height: 1rem;\n",
       "  width: 1rem;\n",
       "  text-decoration: none;\n",
       "  /* unfitted */\n",
       "  color: var(--sklearn-color-unfitted-level-1);\n",
       "  border: var(--sklearn-color-unfitted-level-1) 1pt solid;\n",
       "}\n",
       "\n",
       "#sk-container-id-4 a.estimator_doc_link.fitted {\n",
       "  /* fitted */\n",
       "  border: var(--sklearn-color-fitted-level-1) 1pt solid;\n",
       "  color: var(--sklearn-color-fitted-level-1);\n",
       "}\n",
       "\n",
       "/* On hover */\n",
       "#sk-container-id-4 a.estimator_doc_link:hover {\n",
       "  /* unfitted */\n",
       "  background-color: var(--sklearn-color-unfitted-level-3);\n",
       "  color: var(--sklearn-color-background);\n",
       "  text-decoration: none;\n",
       "}\n",
       "\n",
       "#sk-container-id-4 a.estimator_doc_link.fitted:hover {\n",
       "  /* fitted */\n",
       "  background-color: var(--sklearn-color-fitted-level-3);\n",
       "}\n",
       "</style><div id=\"sk-container-id-4\" class=\"sk-top-container\"><div class=\"sk-text-repr-fallback\"><pre>LGBMRanker(importance_type=&#x27;gain&#x27;, metric=&#x27;ndcg&#x27;, objective=&#x27;lambdarank&#x27;,\n",
       "           random_state=2870)</pre><b>In a Jupyter environment, please rerun this cell to show the HTML representation or trust the notebook. <br />On GitHub, the HTML representation is unable to render, please try loading this page with nbviewer.org.</b></div><div class=\"sk-container\" hidden><div class=\"sk-item\"><div class=\"sk-estimator fitted sk-toggleable\"><input class=\"sk-toggleable__control sk-hidden--visually\" id=\"sk-estimator-id-4\" type=\"checkbox\" checked><label for=\"sk-estimator-id-4\" class=\"sk-toggleable__label fitted sk-toggleable__label-arrow\"><div><div>LGBMRanker</div></div><div><span class=\"sk-estimator-doc-link fitted\">i<span>Fitted</span></span></div></label><div class=\"sk-toggleable__content fitted\"><pre>LGBMRanker(importance_type=&#x27;gain&#x27;, metric=&#x27;ndcg&#x27;, objective=&#x27;lambdarank&#x27;,\n",
       "           random_state=2870)</pre></div> </div></div></div></div>"
      ],
      "text/plain": [
       "LGBMRanker(importance_type='gain', metric='ndcg', objective='lambdarank',\n",
       "           random_state=2870)"
      ]
     },
     "execution_count": 138,
     "metadata": {},
     "output_type": "execute_result"
    }
   ],
   "source": [
    "# initialize LambdaRank model\n",
    "ranker = lgb.LGBMRanker(\n",
    "    objective='lambdarank',\n",
    "    boosting_type='gbdt',\n",
    "    metric='ndcg', # evaluation metric\n",
    "    n_estimators=100,\n",
    "    learning_rate=0.1,\n",
    "    importance_type='gain',\n",
    "    random_state=seed\n",
    ")\n",
    "\n",
    "# train model\n",
    "ranker.fit(\n",
    "    X_train, y_train,\n",
    "    group=group_train,\n",
    "    eval_set=[(X_val, y_val)],\n",
    "    eval_group=[group_val],\n",
    "    eval_at=[5, 10] # evaluate nDCG at 5 and 10\n",
    ")"
   ]
  },
  {
   "cell_type": "markdown",
   "id": "2683c3e7",
   "metadata": {},
   "source": [
    "### Test, evaluate, and plot"
   ]
  },
  {
   "cell_type": "code",
   "execution_count": 139,
   "id": "e38e0fea",
   "metadata": {},
   "outputs": [
    {
     "name": "stdout",
     "output_type": "stream",
     "text": [
      "Candidate ID: 4, Predicted score: 0.6831914069355659\n",
      "Candidate ID: 6, Predicted score: 0.6831914069355659\n",
      "Candidate ID: 12, Predicted score: 0.3220738111400713\n",
      "Candidate ID: 7, Predicted score: -0.08345109119203761\n",
      "Candidate ID: 20, Predicted score: -0.38079116232617805\n",
      "Candidate ID: 10, Predicted score: -0.5287622853540623\n",
      "Candidate ID: 8, Predicted score: -0.6810206733100771\n",
      "Candidate ID: 1, Predicted score: -0.8063554906169652\n",
      "Candidate ID: 5, Predicted score: -0.8063554906169652\n",
      "Candidate ID: 14, Predicted score: -0.9363888925878047\n",
      "Candidate ID: 3, Predicted score: -1.1099522058990874\n",
      "Candidate ID: 21, Predicted score: -1.1579183721186497\n",
      "Candidate ID: 17, Predicted score: -1.1596234836195072\n",
      "Candidate ID: 13, Predicted score: -1.3191721782739276\n",
      "Candidate ID: 18, Predicted score: -1.3280857072905452\n",
      "Candidate ID: 9, Predicted score: -1.3280857072905452\n",
      "Candidate ID: 15, Predicted score: -1.3971962323856422\n",
      "Candidate ID: 11, Predicted score: -1.3971962323856422\n",
      "Candidate ID: 2, Predicted score: -1.5614689730298539\n",
      "Candidate ID: 16, Predicted score: -1.5614689730298539\n",
      "Candidate ID: 19, Predicted score: -1.5614689730298539\n"
     ]
    }
   ],
   "source": [
    "# predict relevance scores\n",
    "y_pred = ranker.predict(X_test)\n",
    "\n",
    "# sort test data by predicted relevance\n",
    "sorted_indices = np.argsort(-y_pred)  # descending order\n",
    "sorted_candidates = np.array(candidate_ids)[sorted_indices]\n",
    "sorted_relevance = y_pred[sorted_indices]\n",
    "\n",
    "for candidate, score in zip(sorted_candidates, sorted_relevance):\n",
    "    print(f'Candidate ID: {candidate}, Predicted score: {score}')"
   ]
  },
  {
   "cell_type": "code",
   "execution_count": 140,
   "id": "4890822a",
   "metadata": {},
   "outputs": [
    {
     "name": "stdout",
     "output_type": "stream",
     "text": [
      "NDCG@5: 0.9223\n"
     ]
    }
   ],
   "source": [
    "# define true relevance\n",
    "# sorted by prediction order\n",
    "true_relevance = relevance_scores[sorted_indices]\n",
    "\n",
    "# compute NDCG at k\n",
    "ndcg = ndcg_score([true_relevance], [sorted_relevance], k=5)\n",
    "print(f'NDCG@5: {ndcg:.4f}')"
   ]
  },
  {
   "cell_type": "markdown",
   "id": "eb44f7f7",
   "metadata": {},
   "source": [
    "A score of close to 1.0 means that the model did a good job of prioritizing the most relevant candidates."
   ]
  },
  {
   "cell_type": "code",
   "execution_count": 141,
   "id": "4c56a564",
   "metadata": {},
   "outputs": [
    {
     "name": "stdout",
     "output_type": "stream",
     "text": [
      "MRR: 1.0000\n"
     ]
    }
   ],
   "source": [
    "def mean_reciprocal_rank(y_true, y_pred):\n",
    "    # sort by predicted relevance (descending)\n",
    "    sorted_indices = np.argsort(-y_pred)\n",
    "    # align true relevance with predictions\n",
    "    y_true_sorted = np.array(y_true)[sorted_indices]\n",
    "\n",
    "    for i, relevance in enumerate(y_true_sorted):\n",
    "        if relevance > 0:  # Find first relevant item\n",
    "            return 1 / (i + 1)\n",
    "    return 0  # no relevant items found\n",
    "\n",
    "mrr = mean_reciprocal_rank(true_relevance, sorted_relevance)\n",
    "print(f'MRR: {mrr:.4f}')"
   ]
  },
  {
   "cell_type": "markdown",
   "id": "0c3d2e61",
   "metadata": {},
   "source": [
    "The MRR is the average of the reciprocal ranks (1 for first place, 1/2 for second place, 1/3 for third place, and so on). Values closer to 1 mean that the model did a good job of ordering candidates."
   ]
  },
  {
   "cell_type": "code",
   "execution_count": 142,
   "id": "c597a106",
   "metadata": {},
   "outputs": [
    {
     "name": "stderr",
     "output_type": "stream",
     "text": [
      "[I 2024-12-10 10:49:41,634] A new study created in memory with name: no-name-43067e09-86ca-40a4-9a6f-03259431e7c2\n",
      "[I 2024-12-10 10:49:41,797] Trial 0 finished with value: 0.2780234140403975 and parameters: {'n_estimators': 368, 'learning_rate': 0.2718716543601353, 'num_leaves': 99, 'min_child_samples': 10, 'lambda_l1': 0.8752717496341667, 'lambda_l2': 0.6023575463184334}. Best is trial 0 with value: 0.2780234140403975.\n",
      "[I 2024-12-10 10:49:41,832] Trial 1 finished with value: 0.2780234140403975 and parameters: {'n_estimators': 122, 'learning_rate': 0.2910689030417565, 'num_leaves': 86, 'min_child_samples': 33, 'lambda_l1': 0.6391499032982539, 'lambda_l2': 0.9838988755836388}. Best is trial 0 with value: 0.2780234140403975.\n",
      "[I 2024-12-10 10:49:41,989] Trial 2 finished with value: 0.2780234140403975 and parameters: {'n_estimators': 405, 'learning_rate': 0.12776044791692376, 'num_leaves': 26, 'min_child_samples': 29, 'lambda_l1': 0.7040596806158864, 'lambda_l2': 0.728194069619041}. Best is trial 0 with value: 0.2780234140403975.\n",
      "[I 2024-12-10 10:49:42,051] Trial 3 finished with value: 0.2780234140403975 and parameters: {'n_estimators': 229, 'learning_rate': 0.24367324583090644, 'num_leaves': 69, 'min_child_samples': 36, 'lambda_l1': 0.19622237614670235, 'lambda_l2': 0.6246712800093877}. Best is trial 0 with value: 0.2780234140403975.\n",
      "[I 2024-12-10 10:49:42,291] Trial 4 finished with value: 0.3742799893827492 and parameters: {'n_estimators': 368, 'learning_rate': 0.10593052946283274, 'num_leaves': 63, 'min_child_samples': 21, 'lambda_l1': 0.5486044386973263, 'lambda_l2': 0.7064953702368723}. Best is trial 4 with value: 0.3742799893827492.\n",
      "[I 2024-12-10 10:49:42,545] Trial 5 finished with value: 0.5440217798834552 and parameters: {'n_estimators': 352, 'learning_rate': 0.19566392830403467, 'num_leaves': 27, 'min_child_samples': 5, 'lambda_l1': 0.23591117466959755, 'lambda_l2': 0.13444664562409459}. Best is trial 5 with value: 0.5440217798834552.\n",
      "[I 2024-12-10 10:49:42,833] Trial 6 finished with value: 0.44483628264122543 and parameters: {'n_estimators': 344, 'learning_rate': 0.17242032907722155, 'num_leaves': 63, 'min_child_samples': 12, 'lambda_l1': 0.5685004469952801, 'lambda_l2': 0.29676878695916575}. Best is trial 5 with value: 0.5440217798834552.\n",
      "[I 2024-12-10 10:49:42,970] Trial 7 finished with value: 0.2780234140403975 and parameters: {'n_estimators': 166, 'learning_rate': 0.25745878590319615, 'num_leaves': 93, 'min_child_samples': 14, 'lambda_l1': 0.6987485305788316, 'lambda_l2': 0.9660819913901163}. Best is trial 5 with value: 0.5440217798834552.\n",
      "[I 2024-12-10 10:49:43,035] Trial 8 finished with value: 0.2780234140403975 and parameters: {'n_estimators': 145, 'learning_rate': 0.28198071044159423, 'num_leaves': 96, 'min_child_samples': 45, 'lambda_l1': 0.21299224633104819, 'lambda_l2': 0.5152372523615562}. Best is trial 5 with value: 0.5440217798834552.\n",
      "[I 2024-12-10 10:49:43,133] Trial 9 finished with value: 0.3742799893827492 and parameters: {'n_estimators': 71, 'learning_rate': 0.02622575471864511, 'num_leaves': 26, 'min_child_samples': 28, 'lambda_l1': 0.6436316344011206, 'lambda_l2': 0.6540124422541704}. Best is trial 5 with value: 0.5440217798834552.\n",
      "[I 2024-12-10 10:49:43,268] Trial 10 finished with value: 0.2780234140403975 and parameters: {'n_estimators': 486, 'learning_rate': 0.18850213187414608, 'num_leaves': 41, 'min_child_samples': 50, 'lambda_l1': 0.009630081752755981, 'lambda_l2': 0.05995387750330744}. Best is trial 5 with value: 0.5440217798834552.\n",
      "[I 2024-12-10 10:49:43,427] Trial 11 finished with value: 0.5233853870104085 and parameters: {'n_estimators': 286, 'learning_rate': 0.18542224347461256, 'num_leaves': 47, 'min_child_samples': 8, 'lambda_l1': 0.3832414675734513, 'lambda_l2': 0.17654323744987166}. Best is trial 5 with value: 0.5440217798834552.\n",
      "[I 2024-12-10 10:49:43,541] Trial 12 finished with value: 0.3742799893827492 and parameters: {'n_estimators': 269, 'learning_rate': 0.21202864260290807, 'num_leaves': 43, 'min_child_samples': 5, 'lambda_l1': 0.345826066166236, 'lambda_l2': 0.0029060622033655614}. Best is trial 5 with value: 0.5440217798834552.\n",
      "[I 2024-12-10 10:49:43,731] Trial 13 finished with value: 0.3742799893827492 and parameters: {'n_estimators': 290, 'learning_rate': 0.09128332134870004, 'num_leaves': 45, 'min_child_samples': 19, 'lambda_l1': 0.3771734538531131, 'lambda_l2': 0.22528768023818768}. Best is trial 5 with value: 0.5440217798834552.\n",
      "[I 2024-12-10 10:49:43,918] Trial 14 finished with value: 0.5233853870104085 and parameters: {'n_estimators': 441, 'learning_rate': 0.22206653663268375, 'num_leaves': 21, 'min_child_samples': 5, 'lambda_l1': 0.37730979921312885, 'lambda_l2': 0.2651136797732796}. Best is trial 5 with value: 0.5440217798834552.\n",
      "[I 2024-12-10 10:49:44,016] Trial 15 finished with value: 0.44483628264122543 and parameters: {'n_estimators': 301, 'learning_rate': 0.15047966271783753, 'num_leaves': 35, 'min_child_samples': 20, 'lambda_l1': 0.042153007027541545, 'lambda_l2': 0.3767426771443655}. Best is trial 5 with value: 0.5440217798834552.\n",
      "[I 2024-12-10 10:49:44,094] Trial 16 finished with value: 0.5233853870104085 and parameters: {'n_estimators': 203, 'learning_rate': 0.2011700605324646, 'num_leaves': 54, 'min_child_samples': 9, 'lambda_l1': 0.1926214627929106, 'lambda_l2': 0.07659339609787807}. Best is trial 5 with value: 0.5440217798834552.\n",
      "[I 2024-12-10 10:49:44,244] Trial 17 finished with value: 0.44483628264122543 and parameters: {'n_estimators': 324, 'learning_rate': 0.043659438281475116, 'num_leaves': 77, 'min_child_samples': 17, 'lambda_l1': 0.4456029484746282, 'lambda_l2': 0.1428160649523183}. Best is trial 5 with value: 0.5440217798834552.\n",
      "[I 2024-12-10 10:49:44,358] Trial 18 finished with value: 0.44483628264122543 and parameters: {'n_estimators': 236, 'learning_rate': 0.07078405360716472, 'num_leaves': 52, 'min_child_samples': 23, 'lambda_l1': 0.26122337233497694, 'lambda_l2': 0.44569100329914935}. Best is trial 5 with value: 0.5440217798834552.\n",
      "[I 2024-12-10 10:49:44,523] Trial 19 finished with value: 0.5440217798834552 and parameters: {'n_estimators': 425, 'learning_rate': 0.14413550915319662, 'num_leaves': 34, 'min_child_samples': 5, 'lambda_l1': 0.08872295855978701, 'lambda_l2': 0.16990056591669533}. Best is trial 5 with value: 0.5440217798834552.\n",
      "[I 2024-12-10 10:49:44,748] Trial 20 finished with value: 0.5440217798834552 and parameters: {'n_estimators': 497, 'learning_rate': 0.14661458000648964, 'num_leaves': 35, 'min_child_samples': 14, 'lambda_l1': 0.09568750901913894, 'lambda_l2': 0.3512624001206729}. Best is trial 5 with value: 0.5440217798834552.\n",
      "[I 2024-12-10 10:49:44,946] Trial 21 finished with value: 0.44483628264122543 and parameters: {'n_estimators': 490, 'learning_rate': 0.14481066345492474, 'num_leaves': 34, 'min_child_samples': 14, 'lambda_l1': 0.07875872171949584, 'lambda_l2': 0.35339911806650387}. Best is trial 5 with value: 0.5440217798834552.\n",
      "[I 2024-12-10 10:49:45,091] Trial 22 finished with value: 0.5440217798834552 and parameters: {'n_estimators': 447, 'learning_rate': 0.12169902176972222, 'num_leaves': 33, 'min_child_samples': 5, 'lambda_l1': 0.11939038214117711, 'lambda_l2': 0.15056789014759941}. Best is trial 5 with value: 0.5440217798834552.\n",
      "[I 2024-12-10 10:49:45,270] Trial 23 finished with value: 0.44483628264122543 and parameters: {'n_estimators': 417, 'learning_rate': 0.16511362402112256, 'num_leaves': 20, 'min_child_samples': 16, 'lambda_l1': 0.124910577199682, 'lambda_l2': 0.32032118121578007}. Best is trial 5 with value: 0.5440217798834552.\n",
      "[I 2024-12-10 10:49:45,410] Trial 24 finished with value: 0.44483628264122543 and parameters: {'n_estimators': 463, 'learning_rate': 0.231921163674411, 'num_leaves': 37, 'min_child_samples': 9, 'lambda_l1': 0.2722942206961704, 'lambda_l2': 0.4035621826359832}. Best is trial 5 with value: 0.5440217798834552.\n",
      "[I 2024-12-10 10:49:45,577] Trial 25 finished with value: 0.44483628264122543 and parameters: {'n_estimators': 379, 'learning_rate': 0.13438621994369884, 'num_leaves': 28, 'min_child_samples': 12, 'lambda_l1': 0.14769105633530405, 'lambda_l2': 0.2402197018793526}. Best is trial 5 with value: 0.5440217798834552.\n"
     ]
    },
    {
     "name": "stderr",
     "output_type": "stream",
     "text": [
      "[I 2024-12-10 10:49:45,821] Trial 26 finished with value: 0.5233853870104085 and parameters: {'n_estimators': 414, 'learning_rate': 0.080216293423369, 'num_leaves': 52, 'min_child_samples': 8, 'lambda_l1': 0.004280983331265073, 'lambda_l2': 0.49220518184899986}. Best is trial 5 with value: 0.5440217798834552.\n",
      "[I 2024-12-10 10:49:46,009] Trial 27 finished with value: 0.5233853870104085 and parameters: {'n_estimators': 465, 'learning_rate': 0.16562020317230888, 'num_leaves': 29, 'min_child_samples': 5, 'lambda_l1': 0.28832298840754567, 'lambda_l2': 0.08834879234727933}. Best is trial 5 with value: 0.5440217798834552.\n",
      "[I 2024-12-10 10:49:46,124] Trial 28 finished with value: 0.3536435965097025 and parameters: {'n_estimators': 397, 'learning_rate': 0.11020266943532356, 'num_leaves': 39, 'min_child_samples': 25, 'lambda_l1': 0.08116959867211361, 'lambda_l2': 0.20343538754131327}. Best is trial 5 with value: 0.5440217798834552.\n",
      "[I 2024-12-10 10:49:46,147] Trial 29 pruned. Trial was pruned at iteration 0.\n",
      "[I 2024-12-10 10:49:46,378] Trial 30 finished with value: 0.44483628264122543 and parameters: {'n_estimators': 340, 'learning_rate': 0.053202266807069076, 'num_leaves': 48, 'min_child_samples': 16, 'lambda_l1': 0.19649619408554364, 'lambda_l2': 0.5287451297203551}. Best is trial 5 with value: 0.5440217798834552.\n",
      "[I 2024-12-10 10:49:46,544] Trial 31 finished with value: 0.44483628264122543 and parameters: {'n_estimators': 453, 'learning_rate': 0.12026896913537125, 'num_leaves': 23, 'min_child_samples': 7, 'lambda_l1': 0.1287663937476313, 'lambda_l2': 0.1436876883999579}. Best is trial 5 with value: 0.5440217798834552.\n",
      "[I 2024-12-10 10:49:46,685] Trial 32 finished with value: 0.5233853870104085 and parameters: {'n_estimators': 434, 'learning_rate': 0.1429055409015977, 'num_leaves': 33, 'min_child_samples': 11, 'lambda_l1': 0.11208064735151631, 'lambda_l2': 0.11762570324281382}. Best is trial 5 with value: 0.5440217798834552.\n",
      "[I 2024-12-10 10:49:46,858] Trial 33 finished with value: 0.5233853870104085 and parameters: {'n_estimators': 393, 'learning_rate': 0.1023997369065249, 'num_leaves': 38, 'min_child_samples': 5, 'lambda_l1': 0.04954344393045379, 'lambda_l2': 0.18421857484077905}. Best is trial 5 with value: 0.5440217798834552.\n",
      "[I 2024-12-10 10:49:46,876] Trial 34 pruned. Trial was pruned at iteration 0.\n",
      "[I 2024-12-10 10:49:46,896] Trial 35 pruned. Trial was pruned at iteration 0.\n",
      "[I 2024-12-10 10:49:47,053] Trial 36 finished with value: 0.44483628264122543 and parameters: {'n_estimators': 471, 'learning_rate': 0.11951787247024613, 'num_leaves': 58, 'min_child_samples': 14, 'lambda_l1': 0.312157738747507, 'lambda_l2': 0.32379990741816633}. Best is trial 5 with value: 0.5440217798834552.\n",
      "[I 2024-12-10 10:49:47,191] Trial 37 finished with value: 0.44483628264122543 and parameters: {'n_estimators': 359, 'learning_rate': 0.15172233238251978, 'num_leaves': 32, 'min_child_samples': 7, 'lambda_l1': 0.24065046091180195, 'lambda_l2': 0.4138566254951316}. Best is trial 5 with value: 0.5440217798834552.\n",
      "[I 2024-12-10 10:49:47,314] Trial 38 finished with value: 0.5440217798834552 and parameters: {'n_estimators': 422, 'learning_rate': 0.2552366366470131, 'num_leaves': 24, 'min_child_samples': 11, 'lambda_l1': 0.4847030941766335, 'lambda_l2': 0.8151208411874198}. Best is trial 5 with value: 0.5440217798834552.\n",
      "[I 2024-12-10 10:49:47,467] Trial 39 finished with value: 0.5440217798834552 and parameters: {'n_estimators': 321, 'learning_rate': 0.17940518180271456, 'num_leaves': 87, 'min_child_samples': 13, 'lambda_l1': 0.0629469566727391, 'lambda_l2': 0.03736549667312905}. Best is trial 5 with value: 0.5440217798834552.\n",
      "[I 2024-12-10 10:49:47,623] Trial 40 finished with value: 0.28308730325122633 and parameters: {'n_estimators': 383, 'learning_rate': 0.16065581308272675, 'num_leaves': 42, 'min_child_samples': 25, 'lambda_l1': 0.1730323800759973, 'lambda_l2': 0.11407445687259189}. Best is trial 5 with value: 0.5440217798834552.\n",
      "[I 2024-12-10 10:49:47,765] Trial 41 finished with value: 0.44483628264122543 and parameters: {'n_estimators': 413, 'learning_rate': 0.25607713960091044, 'num_leaves': 23, 'min_child_samples': 10, 'lambda_l1': 0.44049056624840366, 'lambda_l2': 0.8831010054028721}. Best is trial 5 with value: 0.5440217798834552.\n",
      "[I 2024-12-10 10:49:47,917] Trial 42 finished with value: 0.5233853870104085 and parameters: {'n_estimators': 440, 'learning_rate': 0.2391846566218404, 'num_leaves': 25, 'min_child_samples': 7, 'lambda_l1': 0.56400306701139, 'lambda_l2': 0.7187294607202254}. Best is trial 5 with value: 0.5440217798834552.\n",
      "[I 2024-12-10 10:49:48,043] Trial 43 finished with value: 0.37427998938274926 and parameters: {'n_estimators': 477, 'learning_rate': 0.29923031049555415, 'num_leaves': 31, 'min_child_samples': 10, 'lambda_l1': 0.5020469345667575, 'lambda_l2': 0.8039787605252053}. Best is trial 5 with value: 0.5440217798834552.\n",
      "[I 2024-12-10 10:49:48,061] Trial 44 pruned. Trial was pruned at iteration 0.\n",
      "[I 2024-12-10 10:49:48,187] Trial 45 finished with value: 0.44483628264122543 and parameters: {'n_estimators': 428, 'learning_rate': 0.2761787785289149, 'num_leaves': 20, 'min_child_samples': 18, 'lambda_l1': 0.6180250144819777, 'lambda_l2': 0.6170346790477119}. Best is trial 5 with value: 0.5440217798834552.\n",
      "[I 2024-12-10 10:49:48,329] Trial 46 finished with value: 0.5233853870104085 and parameters: {'n_estimators': 448, 'learning_rate': 0.1354318081670784, 'num_leaves': 26, 'min_child_samples': 7, 'lambda_l1': 0.21946228672119397, 'lambda_l2': 0.8002649824769856}. Best is trial 5 with value: 0.5440217798834552.\n",
      "[I 2024-12-10 10:49:48,456] Trial 47 finished with value: 0.44483628264122543 and parameters: {'n_estimators': 399, 'learning_rate': 0.26338041394471123, 'num_leaves': 40, 'min_child_samples': 15, 'lambda_l1': 0.31835920528064926, 'lambda_l2': 0.23943811870570425}. Best is trial 5 with value: 0.5440217798834552.\n",
      "[I 2024-12-10 10:49:48,479] Trial 48 pruned. Trial was pruned at iteration 0.\n",
      "[I 2024-12-10 10:49:48,704] Trial 49 finished with value: 0.5233853870104085 and parameters: {'n_estimators': 471, 'learning_rate': 0.20260239425588145, 'num_leaves': 29, 'min_child_samples': 12, 'lambda_l1': 0.10487288474537476, 'lambda_l2': 0.2102595538710229}. Best is trial 5 with value: 0.5440217798834552.\n"
     ]
    },
    {
     "name": "stdout",
     "output_type": "stream",
     "text": [
      "Best parameters: {'n_estimators': 352, 'learning_rate': 0.19566392830403467, 'num_leaves': 27, 'min_child_samples': 5, 'lambda_l1': 0.23591117466959755, 'lambda_l2': 0.13444664562409459}\n"
     ]
    }
   ],
   "source": [
    "# Define objective function\n",
    "def objective(trial):\n",
    "    params = {\n",
    "        'objective': 'lambdarank',\n",
    "        'boosting_type': 'gbdt',\n",
    "        'metric': 'ndcg',\n",
    "        'n_estimators': trial.suggest_int('n_estimators', 50, 500),\n",
    "        'learning_rate': trial.suggest_float('learning_rate', 0.01, 0.3),\n",
    "        'num_leaves': trial.suggest_int('num_leaves', 20, 100),\n",
    "        'min_child_samples': trial.suggest_int('min_child_samples', 5, 50),\n",
    "        'lambda_l1': trial.suggest_float('lambda_l1', 0.0, 1.0),\n",
    "        'lambda_l2': trial.suggest_float('lambda_l2', 0.0, 1.0),\n",
    "        'random_state': seed,\n",
    "        'verbose': -1\n",
    "    }\n",
    "    \n",
    "    ranker = lgb.LGBMRanker(**params)\n",
    "    ranker.fit(\n",
    "        X_train, y_train,\n",
    "        group=group_train,\n",
    "        eval_set=[(X_val, y_val)],\n",
    "        eval_group=[group_val],\n",
    "        eval_at=[5],\n",
    "        callbacks=[LightGBMPruningCallback(trial, 'ndcg@5')]\n",
    "    )\n",
    "    \n",
    "    # Evaluate on validation set\n",
    "    y_val_pred = ranker.predict(X_val)\n",
    "    ndcg_val = ndcg_score([y_val], [y_val_pred], k=5)\n",
    "    return ndcg_val\n",
    "\n",
    "# Run Optuna study\n",
    "study = optuna.create_study(direction='maximize')\n",
    "study.optimize(objective, n_trials=50)\n",
    "\n",
    "# Best parameters\n",
    "print(\"Best parameters:\", study.best_params)"
   ]
  },
  {
   "cell_type": "code",
   "execution_count": 143,
   "id": "31b0c1fb",
   "metadata": {},
   "outputs": [
    {
     "name": "stdout",
     "output_type": "stream",
     "text": [
      "{'n_estimators': 352, 'learning_rate': 0.19566392830403467, 'num_leaves': 27, 'min_child_samples': 5, 'lambda_l1': 0.23591117466959755, 'lambda_l2': 0.13444664562409459, 'verbose_eval': -1, 'verbose': -1, 'random_state': 2870}\n"
     ]
    }
   ],
   "source": [
    "best_params = study.best_params\n",
    "\n",
    "# add verbosity to quiet LightGBM\n",
    "best_params['verbose_eval'] = -1\n",
    "best_params['verbose'] = -1\n",
    "best_params['random_state'] = seed\n",
    "\n",
    "print(best_params)"
   ]
  },
  {
   "cell_type": "code",
   "execution_count": 144,
   "id": "d4e0d071",
   "metadata": {},
   "outputs": [
    {
     "name": "stdout",
     "output_type": "stream",
     "text": [
      "Candidate ID: 4, Predicted score: 0.6370766166900856\n",
      "Candidate ID: 6, Predicted score: 0.6370766166900856\n",
      "Candidate ID: 12, Predicted score: 0.472044197895942\n",
      "Candidate ID: 8, Predicted score: 0.06768817671934683\n",
      "Candidate ID: 7, Predicted score: -0.07347050013215049\n",
      "Candidate ID: 20, Predicted score: -0.4587665128121516\n",
      "Candidate ID: 21, Predicted score: -0.5113807501353467\n",
      "Candidate ID: 10, Predicted score: -0.5283783634817041\n",
      "Candidate ID: 14, Predicted score: -0.5443249477717145\n",
      "Candidate ID: 1, Predicted score: -0.6086773743380278\n",
      "Candidate ID: 5, Predicted score: -0.6086773743380278\n",
      "Candidate ID: 15, Predicted score: -0.8188813855845817\n",
      "Candidate ID: 11, Predicted score: -0.8188813855845817\n",
      "Candidate ID: 3, Predicted score: -0.8307518628228412\n",
      "Candidate ID: 13, Predicted score: -0.8456203150662726\n",
      "Candidate ID: 18, Predicted score: -0.8456203150662726\n",
      "Candidate ID: 9, Predicted score: -0.8456203150662726\n",
      "Candidate ID: 2, Predicted score: -1.0409558740693967\n",
      "Candidate ID: 16, Predicted score: -1.0409558740693967\n",
      "Candidate ID: 19, Predicted score: -1.0409558740693967\n",
      "Candidate ID: 17, Predicted score: -1.207081376140402\n",
      "NDCG@5: 0.8330\n",
      "MRR: 1.0000\n"
     ]
    }
   ],
   "source": [
    "ranker = lgb.LGBMRanker(**best_params)\n",
    "\n",
    "# train model\n",
    "ranker.fit(\n",
    "    X_train, y_train,\n",
    "    group=group_train,\n",
    "    eval_set=[(X_val, y_val)],\n",
    "    eval_group=[group_val],\n",
    "    eval_at=[5, 10] # evaluate nDCG at 5 and 10\n",
    ")\n",
    "\n",
    "# predict relevance scores\n",
    "y_pred = ranker.predict(X_test)\n",
    "\n",
    "# sort test data by predicted relevance\n",
    "sorted_indices = np.argsort(-y_pred)  # descending order\n",
    "sorted_candidates = np.array(candidate_ids)[sorted_indices]\n",
    "sorted_relevance = y_pred[sorted_indices]\n",
    "\n",
    "for candidate, score in zip(sorted_candidates, sorted_relevance):\n",
    "    print(f'Candidate ID: {candidate}, Predicted score: {score}')\n",
    "    \n",
    "# define true relevance\n",
    "# sorted by prediction order\n",
    "true_relevance = relevance_scores[sorted_indices]\n",
    "\n",
    "# compute NDCG at k\n",
    "k = 5\n",
    "ndcg = ndcg_score([true_relevance], [sorted_relevance], k=k)\n",
    "print(f'NDCG@{k}: {ndcg:.4f}')\n",
    "\n",
    "def mean_reciprocal_rank(y_true, y_pred):\n",
    "    # sort by predicted relevance (descending)\n",
    "    sorted_indices = np.argsort(-y_pred)\n",
    "    # align true relevance with predictions\n",
    "    y_true_sorted = np.array(y_true)[sorted_indices]\n",
    "\n",
    "    for i, relevance in enumerate(y_true_sorted):\n",
    "        if relevance > 0:  # Find first relevant item\n",
    "            return 1 / (i + 1)\n",
    "    return 0  # no relevant items found\n",
    "\n",
    "mrr = mean_reciprocal_rank(true_relevance, sorted_relevance)\n",
    "print(f'MRR: {mrr:.4f}')"
   ]
  },
  {
   "cell_type": "markdown",
   "id": "c0cad989",
   "metadata": {},
   "source": [
    "Interestingly, the tuned model produced a worse result. We will use the base model for our visualization and wrap-up."
   ]
  },
  {
   "cell_type": "markdown",
   "id": "b7327a43",
   "metadata": {},
   "source": [
    "#### Plot results"
   ]
  },
  {
   "cell_type": "markdown",
   "id": "b1239a64",
   "metadata": {},
   "source": [
    "Again, we are using the base algorithm as it gave us a better NDCG score."
   ]
  },
  {
   "cell_type": "code",
   "execution_count": 145,
   "id": "83944d67",
   "metadata": {},
   "outputs": [
    {
     "name": "stdout",
     "output_type": "stream",
     "text": [
      "Candidate ID: 4, Predicted score: 0.6831914069355659\n",
      "Candidate ID: 6, Predicted score: 0.6831914069355659\n",
      "Candidate ID: 12, Predicted score: 0.3220738111400713\n",
      "Candidate ID: 7, Predicted score: -0.08345109119203761\n",
      "Candidate ID: 20, Predicted score: -0.38079116232617805\n",
      "Candidate ID: 10, Predicted score: -0.5287622853540623\n",
      "Candidate ID: 8, Predicted score: -0.6810206733100771\n",
      "Candidate ID: 1, Predicted score: -0.8063554906169652\n",
      "Candidate ID: 5, Predicted score: -0.8063554906169652\n",
      "Candidate ID: 14, Predicted score: -0.9363888925878047\n",
      "Candidate ID: 3, Predicted score: -1.1099522058990874\n",
      "Candidate ID: 21, Predicted score: -1.1579183721186497\n",
      "Candidate ID: 17, Predicted score: -1.1596234836195072\n",
      "Candidate ID: 13, Predicted score: -1.3191721782739276\n",
      "Candidate ID: 18, Predicted score: -1.3280857072905452\n",
      "Candidate ID: 9, Predicted score: -1.3280857072905452\n",
      "Candidate ID: 15, Predicted score: -1.3971962323856422\n",
      "Candidate ID: 11, Predicted score: -1.3971962323856422\n",
      "Candidate ID: 2, Predicted score: -1.5614689730298539\n",
      "Candidate ID: 16, Predicted score: -1.5614689730298539\n",
      "Candidate ID: 19, Predicted score: -1.5614689730298539\n",
      "NDCG@5, k=5: 0.9223\n",
      "MRR: 1.0000\n"
     ]
    }
   ],
   "source": [
    "# initialize LambdaRank model\n",
    "ranker = lgb.LGBMRanker(\n",
    "    objective='lambdarank',\n",
    "    boosting_type='gbdt',\n",
    "    metric='ndcg', # evaluation metric\n",
    "    n_estimators=100,\n",
    "    learning_rate=0.1,\n",
    "    importance_type='gain',\n",
    "    random_state=seed\n",
    ")\n",
    "\n",
    "# train model\n",
    "ranker.fit(\n",
    "    X_train, y_train,\n",
    "    group=group_train,\n",
    "    eval_set=[(X_val, y_val)],\n",
    "    eval_group=[group_val],\n",
    "    eval_at=[5, 10] # evaluate nDCG at 5 and 10\n",
    ")\n",
    "\n",
    "# predict relevance scores\n",
    "y_pred = ranker.predict(X_test)\n",
    "\n",
    "# sort test data by predicted relevance\n",
    "sorted_indices = np.argsort(-y_pred)  # descending order\n",
    "sorted_candidates = np.array(candidate_ids)[sorted_indices]\n",
    "sorted_relevance = y_pred[sorted_indices]\n",
    "true_relevance = relevance_scores[sorted_indices] # define true relevance sorted by prediction order\n",
    "\n",
    "for candidate, score in zip(sorted_candidates, sorted_relevance):\n",
    "    print(f'Candidate ID: {candidate}, Predicted score: {score}')\n",
    "\n",
    "# compute evaluation metrics\n",
    "def compute_metrics(y_true, y_pred, k=5):\n",
    "    ndcg = ndcg_score([y_true], [y_pred], k=k)\n",
    "    mrr = mean_reciprocal_rank(y_true, y_pred)\n",
    "    return ndcg, mrr\n",
    "\n",
    "k = 5\n",
    "ndcg, mrr = compute_metrics(true_relevance, sorted_relevance, k=k)\n",
    "print(f'NDCG@5, k={k}: {ndcg:.4f}')\n",
    "print(f'MRR: {mrr:.4f}')"
   ]
  },
  {
   "cell_type": "markdown",
   "id": "2e6ca16d",
   "metadata": {},
   "source": [
    "This figure below is replicated in the second figure at the end of this notebook, rendering it redundant."
   ]
  },
  {
   "cell_type": "code",
   "execution_count": 146,
   "id": "84cfc13e",
   "metadata": {},
   "outputs": [],
   "source": [
    "# # use sorted_candidates as the x-axis categories in the proper order\n",
    "# plt.bar(range(len(sorted_candidates)), sorted_relevance, color='cornflowerblue')\n",
    "\n",
    "# # adjust x-axis labels\n",
    "# plt.xticks(\n",
    "#     ticks=range(len(sorted_candidates)), # positions\n",
    "#     labels=sorted_candidates,            # candidate IDs in proper order\n",
    "#     rotation=90, \n",
    "#     fontsize=8\n",
    "# )\n",
    "\n",
    "# # labels and title\n",
    "# plt.xlabel('Candidate IDs (sorted by predicted relevance)', fontsize=12)\n",
    "# plt.ylabel('Predicted Relevance Score', fontsize=12)\n",
    "# plt.title('Predicted Relevance Scores (Descending)', fontsize=14)\n",
    "# plt.xticks(rotation=0)\n",
    "\n",
    "# # grid and layout adjustments\n",
    "# plt.grid(axis='y', linestyle='--', alpha=0.7)\n",
    "# plt.tight_layout()\n",
    "\n",
    "# plt.savefig('figures/3_predicted_relevance.jpg', bbox_inches='tight')\n",
    "\n",
    "# plt.show()"
   ]
  },
  {
   "cell_type": "code",
   "execution_count": 147,
   "id": "a44832ed",
   "metadata": {},
   "outputs": [
    {
     "data": {
      "image/png": "[encoded data removed]",
      "text/plain": [
       "<Figure size 1200x600 with 1 Axes>"
      ]
     },
     "metadata": {},
     "output_type": "display_data"
    }
   ],
   "source": [
    "N = len(sorted_candidates)\n",
    "top_sorted_relevance = sorted_relevance[:N]\n",
    "top_true_relevance = true_relevance[:N]\n",
    "top_candidates = sorted_candidates[:N]  # for x-axis labeling\n",
    "\n",
    "plt.figure(figsize=(12, 6))\n",
    "\n",
    "# plot predicted relevance scores\n",
    "plt.plot(\n",
    "    range(N),\n",
    "    top_sorted_relevance,\n",
    "    label='Predicted Relevance',\n",
    "    marker='o',\n",
    "    linestyle='--',\n",
    "    color='cornflowerblue'\n",
    ")\n",
    "\n",
    "# annotate predicted scores\n",
    "# for i, score in enumerate(top_sorted_relevance):\n",
    "#     plt.text(i, score, f\"{score:.2f}\", fontsize=8, color='blue', ha='center')\n",
    "\n",
    "# plot true relevance scores\n",
    "plt.plot(\n",
    "    range(N),\n",
    "    top_true_relevance,\n",
    "    label='True Relevance',\n",
    "    marker='o',\n",
    "    linestyle='-',\n",
    "    color='coral'\n",
    ")\n",
    "\n",
    "# annotate true scores\n",
    "# for i, score in enumerate(top_true_relevance):\n",
    "#     plt.text(i, score, f\"{score:.2f}\", fontsize=8, color='red', ha='center')\n",
    "\n",
    "# set x-axis with top candidate IDs\n",
    "plt.xticks(range(N), labels=top_candidates, fontsize=10)\n",
    "\n",
    "plt.xlabel('Candidates', fontsize=12)\n",
    "plt.ylabel('Relevance Score', fontsize=12)\n",
    "plt.title('Rank Comparison: Predicted vs True Relevance', fontsize=14)\n",
    "\n",
    "plt.legend(fontsize=12)\n",
    "plt.grid(alpha=0.3)\n",
    "plt.tight_layout()\n",
    "\n",
    "plt.savefig('figures/3_predicted_vs_true_relevance.jpg', bbox_inches='tight')\n",
    "\n",
    "plt.show()"
   ]
  },
  {
   "cell_type": "markdown",
   "id": "07aafd70",
   "metadata": {},
   "source": [
    "If we look at the predicted relevance first, we see that each bar represents a candidate ID with its predicted score on the y-axis. The model is showing that candidate 4 and 6 have the most relevance to the target, while 16 and 19 have the least.\n",
    "\n",
    "Comparing the predicted relevance to the true relevance shows that the model is not able to align with the true labels. Although it achieved high NDCG and MRR scores, there are only 21 candidates in the test set and 104 candidates in the entire dataset."
   ]
  },
  {
   "cell_type": "markdown",
   "id": "0e7e3fd7",
   "metadata": {},
   "source": [
    "Now, let's run the model over the entire dataset to compare it to the RankNet's results."
   ]
  },
  {
   "cell_type": "code",
   "execution_count": 148,
   "id": "c1514d6e",
   "metadata": {},
   "outputs": [
    {
     "name": "stdout",
     "output_type": "stream",
     "text": [
      "Candidate ID: 2, Predicted score: 0.6831914069355659\n",
      "Candidate ID: 32, Predicted score: 0.6831914069355659\n",
      "Candidate ID: 20, Predicted score: 0.6831914069355659\n",
      "Candidate ID: 45, Predicted score: 0.6831914069355659\n",
      "Candidate ID: 16, Predicted score: 0.6831914069355659\n",
      "Candidate ID: 92, Predicted score: 0.45974321629673015\n",
      "Candidate ID: 42, Predicted score: 0.3220738111400713\n",
      "Candidate ID: 64, Predicted score: 0.3220738111400713\n",
      "Candidate ID: 12, Predicted score: 0.3220738111400713\n",
      "Candidate ID: 55, Predicted score: 0.3220738111400713\n",
      "Candidate ID: 29, Predicted score: 0.18167173116084978\n",
      "Candidate ID: 27, Predicted score: 0.18167173116084978\n",
      "Candidate ID: 31, Predicted score: -0.08345109119203761\n",
      "Candidate ID: 44, Predicted score: -0.08345109119203761\n",
      "Candidate ID: 19, Predicted score: -0.08345109119203761\n",
      "Candidate ID: 1, Predicted score: -0.08345109119203761\n",
      "Candidate ID: 57, Predicted score: -0.08345109119203761\n",
      "Candidate ID: 15, Predicted score: -0.08345109119203761\n",
      "Candidate ID: 14, Predicted score: -0.08345109119203761\n",
      "Candidate ID: 102, Predicted score: -0.11077618097972464\n",
      "Candidate ID: 85, Predicted score: -0.2881349926371539\n",
      "Candidate ID: 82, Predicted score: -0.331462444131879\n",
      "Candidate ID: 70, Predicted score: -0.3697318752178253\n",
      "Candidate ID: 81, Predicted score: -0.38079116232617805\n",
      "Candidate ID: 72, Predicted score: -0.5287622853540623\n",
      "Candidate ID: 50, Predicted score: -0.5697049408378397\n",
      "Candidate ID: 39, Predicted score: -0.5697049408378397\n",
      "Candidate ID: 37, Predicted score: -0.5697049408378397\n",
      "Candidate ID: 52, Predicted score: -0.5697049408378397\n",
      "Candidate ID: 25, Predicted score: -0.5697049408378397\n",
      "Candidate ID: 9, Predicted score: -0.5697049408378397\n",
      "Candidate ID: 7, Predicted score: -0.5697049408378397\n",
      "Candidate ID: 6, Predicted score: -0.6667873880322642\n",
      "Candidate ID: 60, Predicted score: -0.6667873880322642\n",
      "Candidate ID: 36, Predicted score: -0.6667873880322642\n",
      "Candidate ID: 24, Predicted score: -0.6667873880322642\n",
      "Candidate ID: 49, Predicted score: -0.6667873880322642\n",
      "Candidate ID: 73, Predicted score: -0.6810206733100771\n",
      "Candidate ID: 69, Predicted score: -0.7147154708142156\n",
      "Candidate ID: 88, Predicted score: -0.7252147586847244\n",
      "Candidate ID: 33, Predicted score: -0.8063554906169652\n",
      "Candidate ID: 58, Predicted score: -0.8063554906169652\n",
      "Candidate ID: 21, Predicted score: -0.8063554906169652\n",
      "Candidate ID: 97, Predicted score: -0.8063554906169652\n",
      "Candidate ID: 46, Predicted score: -0.8063554906169652\n",
      "Candidate ID: 17, Predicted score: -0.8063554906169652\n",
      "Candidate ID: 3, Predicted score: -0.8063554906169652\n",
      "Candidate ID: 93, Predicted score: -0.8122643776083557\n",
      "Candidate ID: 98, Predicted score: -0.8636192055140087\n",
      "Candidate ID: 48, Predicted score: -0.8922009174945782\n",
      "Candidate ID: 23, Predicted score: -0.8922009174945782\n",
      "Candidate ID: 35, Predicted score: -0.8922009174945782\n",
      "Candidate ID: 5, Predicted score: -0.8922009174945782\n",
      "Candidate ID: 78, Predicted score: -0.9363888925878047\n",
      "Candidate ID: 77, Predicted score: -0.9421968063040917\n",
      "Candidate ID: 79, Predicted score: -0.9717934320606193\n",
      "Candidate ID: 87, Predicted score: -1.0164003961959378\n",
      "Candidate ID: 91, Predicted score: -1.0759230743882633\n",
      "Candidate ID: 71, Predicted score: -1.078496940259519\n",
      "Candidate ID: 68, Predicted score: -1.0997725134483032\n",
      "Candidate ID: 74, Predicted score: -1.1099522058990874\n",
      "Candidate ID: 104, Predicted score: -1.1579183721186497\n",
      "Candidate ID: 75, Predicted score: -1.1596234836195072\n",
      "Candidate ID: 103, Predicted score: -1.164156888097285\n",
      "Candidate ID: 101, Predicted score: -1.1785052685746906\n",
      "Candidate ID: 76, Predicted score: -1.1893823029362836\n",
      "Candidate ID: 66, Predicted score: -1.2177290391205629\n",
      "Candidate ID: 80, Predicted score: -1.2319048595966025\n",
      "Candidate ID: 86, Predicted score: -1.2470977396845422\n",
      "Candidate ID: 83, Predicted score: -1.2872921437073934\n",
      "Candidate ID: 84, Predicted score: -1.3124825958521276\n",
      "Candidate ID: 51, Predicted score: -1.3191721782739276\n",
      "Candidate ID: 38, Predicted score: -1.3191721782739276\n",
      "Candidate ID: 8, Predicted score: -1.3191721782739276\n",
      "Candidate ID: 26, Predicted score: -1.3191721782739276\n",
      "Candidate ID: 61, Predicted score: -1.3191721782739276\n",
      "Candidate ID: 53, Predicted score: -1.3280857072905452\n",
      "Candidate ID: 40, Predicted score: -1.3280857072905452\n",
      "Candidate ID: 62, Predicted score: -1.3280857072905452\n",
      "Candidate ID: 10, Predicted score: -1.3280857072905452\n",
      "Candidate ID: 100, Predicted score: -1.3413491081969406\n",
      "Candidate ID: 96, Predicted score: -1.3574350503826416\n",
      "Candidate ID: 67, Predicted score: -1.3576410040797748\n",
      "Candidate ID: 95, Predicted score: -1.3785827479794521\n",
      "Candidate ID: 63, Predicted score: -1.3971962323856422\n",
      "Candidate ID: 11, Predicted score: -1.3971962323856422\n",
      "Candidate ID: 41, Predicted score: -1.3971962323856422\n",
      "Candidate ID: 54, Predicted score: -1.3971962323856422\n",
      "Candidate ID: 94, Predicted score: -1.4628347855591826\n",
      "Candidate ID: 59, Predicted score: -1.4736475766825505\n",
      "Candidate ID: 34, Predicted score: -1.4736475766825505\n",
      "Candidate ID: 22, Predicted score: -1.4736475766825505\n",
      "Candidate ID: 18, Predicted score: -1.4736475766825505\n",
      "Candidate ID: 4, Predicted score: -1.4736475766825505\n",
      "Candidate ID: 47, Predicted score: -1.4736475766825505\n",
      "Candidate ID: 30, Predicted score: -1.4834545756684268\n",
      "Candidate ID: 28, Predicted score: -1.4834545756684268\n",
      "Candidate ID: 13, Predicted score: -1.5614689730298539\n",
      "Candidate ID: 43, Predicted score: -1.5614689730298539\n",
      "Candidate ID: 56, Predicted score: -1.5614689730298539\n",
      "Candidate ID: 65, Predicted score: -1.5614689730298539\n",
      "Candidate ID: 99, Predicted score: -1.5870772009504908\n",
      "Candidate ID: 90, Predicted score: -1.6328506027158873\n",
      "Candidate ID: 89, Predicted score: -1.691372873316819\n",
      "NDCG@5, k=5: 0.6944\n",
      "MRR: 1.0000\n"
     ]
    }
   ],
   "source": [
    "# initialize LambdaRank model\n",
    "ranker = lgb.LGBMRanker(\n",
    "    objective='lambdarank',\n",
    "    boosting_type='gbdt',\n",
    "    metric='ndcg', # evaluation metric\n",
    "    n_estimators=100,\n",
    "    learning_rate=0.1,\n",
    "    importance_type='gain',\n",
    "    random_state=seed\n",
    ")\n",
    "\n",
    "# train model\n",
    "ranker.fit(\n",
    "    X_train, y_train,\n",
    "    group=group_train,\n",
    "    eval_set=[(X_val, y_val)],\n",
    "    eval_group=[group_val],\n",
    "    eval_at=[5, 10] # evaluate nDCG at 5 and 10\n",
    ")\n",
    "\n",
    "# predict relevance scores\n",
    "# use full X here\n",
    "y_pred = ranker.predict(X)\n",
    "\n",
    "# sort test data by predicted relevance\n",
    "sorted_indices = np.argsort(-y_pred)  # descending order\n",
    "sorted_candidates = np.array(candidate_ids)[sorted_indices]\n",
    "sorted_relevance = y_pred[sorted_indices]\n",
    "true_relevance = relevance_scores[sorted_indices] # define true relevance sorted by prediction order\n",
    "\n",
    "for candidate, score in zip(sorted_candidates, sorted_relevance):\n",
    "    print(f'Candidate ID: {candidate}, Predicted score: {score}')\n",
    "\n",
    "# compute evaluation metrics\n",
    "def compute_metrics(y_true, y_pred, k=5):\n",
    "    ndcg = ndcg_score([y_true], [y_pred], k=k)\n",
    "    mrr = mean_reciprocal_rank(y_true, y_pred)\n",
    "    return ndcg, mrr\n",
    "\n",
    "k = 5\n",
    "ndcg, mrr = compute_metrics(true_relevance, sorted_relevance, k=k)\n",
    "print(f'NDCG@5, k={k}: {ndcg:.4f}')\n",
    "print(f'MRR: {mrr:.4f}')"
   ]
  },
  {
   "cell_type": "code",
   "execution_count": 172,
   "id": "4a53e805",
   "metadata": {},
   "outputs": [
    {
     "data": {
      "text/html": [
       "<div>\n",
       "<style scoped>\n",
       "    .dataframe tbody tr th:only-of-type {\n",
       "        vertical-align: middle;\n",
       "    }\n",
       "\n",
       "    .dataframe tbody tr th {\n",
       "        vertical-align: top;\n",
       "    }\n",
       "\n",
       "    .dataframe thead th {\n",
       "        text-align: right;\n",
       "    }\n",
       "</style>\n",
       "<table border=\"1\" class=\"dataframe\">\n",
       "  <thead>\n",
       "    <tr style=\"text-align: right;\">\n",
       "      <th></th>\n",
       "      <th>job_title</th>\n",
       "      <th>id</th>\n",
       "      <th>relevance</th>\n",
       "    </tr>\n",
       "  </thead>\n",
       "  <tbody>\n",
       "    <tr>\n",
       "      <th>0</th>\n",
       "      <td>Native English Teacher at EPIK (English Progra...</td>\n",
       "      <td>2</td>\n",
       "      <td>0.683191</td>\n",
       "    </tr>\n",
       "    <tr>\n",
       "      <th>1</th>\n",
       "      <td>Native English Teacher at EPIK (English Progra...</td>\n",
       "      <td>32</td>\n",
       "      <td>0.683191</td>\n",
       "    </tr>\n",
       "    <tr>\n",
       "      <th>2</th>\n",
       "      <td>Native English Teacher at EPIK (English Progra...</td>\n",
       "      <td>20</td>\n",
       "      <td>0.683191</td>\n",
       "    </tr>\n",
       "    <tr>\n",
       "      <th>3</th>\n",
       "      <td>Native English Teacher at EPIK (English Progra...</td>\n",
       "      <td>45</td>\n",
       "      <td>0.683191</td>\n",
       "    </tr>\n",
       "    <tr>\n",
       "      <th>4</th>\n",
       "      <td>Native English Teacher at EPIK (English Progra...</td>\n",
       "      <td>16</td>\n",
       "      <td>0.683191</td>\n",
       "    </tr>\n",
       "  </tbody>\n",
       "</table>\n",
       "</div>"
      ],
      "text/plain": [
       "                                           job_title  id  relevance\n",
       "0  Native English Teacher at EPIK (English Progra...   2   0.683191\n",
       "1  Native English Teacher at EPIK (English Progra...  32   0.683191\n",
       "2  Native English Teacher at EPIK (English Progra...  20   0.683191\n",
       "3  Native English Teacher at EPIK (English Progra...  45   0.683191\n",
       "4  Native English Teacher at EPIK (English Progra...  16   0.683191"
      ]
     },
     "execution_count": 172,
     "metadata": {},
     "output_type": "execute_result"
    }
   ],
   "source": [
    "# build dataframe of results for lambdarank\n",
    "lambdarank_df = pd.concat([pd.Series(sorted_candidates), \n",
    "                           pd.Series(sorted_relevance)],\n",
    "                          axis=1).rename(columns={0: 'id', 1: 'relevance'})\n",
    "lambdarank_df['id'] = lambdarank_df['id'].astype(str)\n",
    "lambdarank_df = pd.merge(df[['job_title','id']],lambdarank_df, on='id', how='right')\n",
    "lambdarank_df.head()"
   ]
  },
  {
   "cell_type": "code",
   "execution_count": 166,
   "id": "11702481",
   "metadata": {},
   "outputs": [
    {
     "data": {
      "text/html": [
       "<div>\n",
       "<style scoped>\n",
       "    .dataframe tbody tr th:only-of-type {\n",
       "        vertical-align: middle;\n",
       "    }\n",
       "\n",
       "    .dataframe tbody tr th {\n",
       "        vertical-align: top;\n",
       "    }\n",
       "\n",
       "    .dataframe thead th {\n",
       "        text-align: right;\n",
       "    }\n",
       "</style>\n",
       "<table border=\"1\" class=\"dataframe\">\n",
       "  <thead>\n",
       "    <tr style=\"text-align: right;\">\n",
       "      <th></th>\n",
       "      <th>id</th>\n",
       "      <th>score</th>\n",
       "      <th>job_title</th>\n",
       "    </tr>\n",
       "  </thead>\n",
       "  <tbody>\n",
       "    <tr>\n",
       "      <th>0</th>\n",
       "      <td>92</td>\n",
       "      <td>28</td>\n",
       "      <td>Seeking employment opportunities within Custom...</td>\n",
       "    </tr>\n",
       "    <tr>\n",
       "      <th>1</th>\n",
       "      <td>19</td>\n",
       "      <td>24</td>\n",
       "      <td>2019 C.T. Bauer College of Business Graduate (...</td>\n",
       "    </tr>\n",
       "    <tr>\n",
       "      <th>2</th>\n",
       "      <td>82</td>\n",
       "      <td>24</td>\n",
       "      <td>Aspiring Human Resources Professional | An ene...</td>\n",
       "    </tr>\n",
       "    <tr>\n",
       "      <th>3</th>\n",
       "      <td>12</td>\n",
       "      <td>22</td>\n",
       "      <td>SVP, CHRO, Marketing &amp; Communications, CSR Off...</td>\n",
       "    </tr>\n",
       "    <tr>\n",
       "      <th>4</th>\n",
       "      <td>24</td>\n",
       "      <td>21</td>\n",
       "      <td>Aspiring Human Resources Specialist</td>\n",
       "    </tr>\n",
       "  </tbody>\n",
       "</table>\n",
       "</div>"
      ],
      "text/plain": [
       "   id  score                                          job_title\n",
       "0  92     28  Seeking employment opportunities within Custom...\n",
       "1  19     24  2019 C.T. Bauer College of Business Graduate (...\n",
       "2  82     24  Aspiring Human Resources Professional | An ene...\n",
       "3  12     22  SVP, CHRO, Marketing & Communications, CSR Off...\n",
       "4  24     21                Aspiring Human Resources Specialist"
      ]
     },
     "execution_count": 166,
     "metadata": {},
     "output_type": "execute_result"
    }
   ],
   "source": [
    "# ranknet's scores\n",
    "final_ranking_merged.head()"
   ]
  },
  {
   "cell_type": "code",
   "execution_count": 173,
   "id": "09da549e",
   "metadata": {},
   "outputs": [],
   "source": [
    "# Helper function to offset labels\n",
    "def adjust_label_position(existing_positions, new_pos, offset=.2):\n",
    "    while new_pos in existing_positions:\n",
    "        new_pos += offset  # Adjust position to avoid overlap\n",
    "    existing_positions.add(new_pos)\n",
    "    return new_pos\n",
    "\n",
    "def plot_subplot(ax, data, pos_left, pos_right, hide_left, hide_right, max_label_rank, title, x_labels,\n",
    "                fontsize=10, fontweight='bold'):\n",
    "    \"\"\"Plots a subplot with given parameters.\"\"\"\n",
    "    existing_positions_left = set()  # Track used positions for left labels\n",
    "    existing_positions_right = set()  # Track used positions for right labels\n",
    "\n",
    "    for _, row in data.iterrows():\n",
    "        # Determine color based on rank improvement\n",
    "        if row[pos_right] < row[pos_left]:\n",
    "            arrow_color, right_label_color = 'green', 'green'\n",
    "        elif row[pos_right] > row[pos_left]:\n",
    "            arrow_color, right_label_color = 'red', 'red'\n",
    "        else:\n",
    "            arrow_color, right_label_color = 'black', 'black'\n",
    "\n",
    "        # Draw lines between positions\n",
    "        ax.plot(\n",
    "            [1, 2],  # Time points\n",
    "            [row[pos_left], row[pos_right]],  # Ranks\n",
    "            marker='o',\n",
    "            color=arrow_color,\n",
    "            linestyle='-'\n",
    "        )\n",
    "\n",
    "        # Add arrows\n",
    "        ax.annotate(\n",
    "            '',\n",
    "            xy=(2, row[pos_right]),\n",
    "            xytext=(1, row[pos_left]),\n",
    "            arrowprops=dict(color=arrow_color, arrowstyle=\"->\")\n",
    "        )\n",
    "\n",
    "        # Handle left labels\n",
    "        if row[pos_left] <= max_label_rank and row['id'] not in hide_left:\n",
    "            adjusted_position_left = adjust_label_position(existing_positions_left, row[pos_left])\n",
    "            ax.text(0.98, adjusted_position_left, f\"{int(row['id'])}\", ha='right', va='center', \n",
    "                    fontsize=fontsize, fontweight=fontweight, color='black')\n",
    "            if adjusted_position_left != row[pos_left]:\n",
    "                ax.plot([0.98, 1], [adjusted_position_left, row[pos_left]], color='gray', linestyle='--', linewidth=0.8)\n",
    "\n",
    "        # Handle right labels\n",
    "        if row[pos_right] <= max_label_rank and row['id'] not in hide_right:\n",
    "            adjusted_position_right = adjust_label_position(existing_positions_right, row[pos_right])\n",
    "            ax.text(2.02, adjusted_position_right, f\"{int(row['id'])}\", ha='left', va='center', \n",
    "                    fontsize=fontsize, fontweight=fontweight, color=right_label_color)\n",
    "            if adjusted_position_right != row[pos_right]:\n",
    "                ax.plot([2, 2.02], [row[pos_right], adjusted_position_right], color='gray', linestyle='--', linewidth=0.8)\n",
    "        else:\n",
    "            adjusted_position_right = row[pos_right]  # Default to the original position if not adjusted\n",
    "\n",
    "        # Customize axis and labels\n",
    "        ax.set_xticks([1, 2], x_labels)\n",
    "        ax.invert_yaxis()  # Rank 1 on top\n",
    "        ax.set_title(title)\n",
    "        ax.grid(axis='y', linestyle='--', alpha=0.5)"
   ]
  },
  {
   "cell_type": "code",
   "execution_count": null,
   "id": "babed9bc",
   "metadata": {},
   "outputs": [],
   "source": [
    "subplot_configs = [\n",
    "    {\n",
    "        'pos_left': 'position_cosine',\n",
    "        'pos_right': 'position_word2vec',\n",
    "        'hide_left': [36, 6, 24, 60, 49],\n",
    "        'hide_right': [28, 30],\n",
    "        'title': \"Tfidf vs Word2Vec\",\n",
    "        'x_labels': ['Tfidf', 'Word2Vec']\n",
    "    },\n",
    "    {\n",
    "        'pos_left': 'position_word2vec',\n",
    "        'pos_right': 'position_glove',\n",
    "        'hide_left': [36, 6, 24, 60, 49],\n",
    "        'hide_right': [99],\n",
    "        'title': \"Word2Vec vs GloVe\",\n",
    "        'x_labels': ['Word2Vec', 'GloVe']\n",
    "    }\n",
    "]"
   ]
  },
  {
   "cell_type": "code",
   "execution_count": null,
   "id": "7b444919",
   "metadata": {},
   "outputs": [],
   "source": [
    "# Define the maximum position rank to display labels\n",
    "max_position_to_label = 7  # Only label candidates within this rank\n",
    "\n",
    "fig, axs = plt.subplots(1, len(subplot_configs), figsize=(23, 5))\n",
    "\n",
    "for ax, config in zip(axs, subplot_configs):\n",
    "    plot_subplot(\n",
    "        ax=ax,\n",
    "        data=filtered_merged,\n",
    "        pos_left=config['pos_left'],\n",
    "        pos_right=config['pos_right'],\n",
    "        hide_left=config['hide_left'],\n",
    "        hide_right=config['hide_right'],\n",
    "        max_label_rank=7,  # Maximum rank to label\n",
    "        title=None,\n",
    "        x_labels=config['x_labels']\n",
    "    )\n",
    "    ax.set_ylim(7.5, 0.5)\n",
    "\n",
    "# plt.tight_layout()\n",
    "\n",
    "# Add an overall legend\n",
    "legend_elements = [\n",
    "    Line2D([0], [1], color='green', lw=2, label='Improvement (up)'),\n",
    "    Line2D([0], [1], color='black', lw=2, label='No Change (flat)'),\n",
    "    Line2D([0], [1], color='red', lw=2, label='Decrease (down)'),\n",
    "    Line2D([0], [1], color='gray', linestyle='--', lw=1, label='Label Tie Lines')\n",
    "]\n",
    "fig.legend(handles=legend_elements, \n",
    "           loc='lower center', \n",
    "           ncol=4, \n",
    "           frameon=False, \n",
    "           # title='\\n\\n\\n')\n",
    "           bbox_to_anchor=(0.5,-0.07))\n",
    "\n",
    "# Add an overall title and subtitle\n",
    "fig.suptitle(\"Comparing Candidates' Positions Using Five Successive Methods of Text Embedding\", fontsize=16, fontweight='bold')\n",
    "fig.text(\n",
    "    0.5, 0.90, \n",
    "    \"Tfidf (Method 1), Word2Vec (Method 2), GloVe (Method 3), fastText (Method 4), and SBERT (Method 5). Top candidates' IDs are listed at their respective position.\",\n",
    "    style='italic', \n",
    "    ha='center', \n",
    "    fontsize=12, \n",
    "    color='grey'\n",
    ")\n",
    "\n",
    "# fig.supxlabel('Method')\n",
    "fig.supylabel(t='Position', x=0.1)\n",
    "\n",
    "# plt.savefig('figures/3_pt2_comparison.pdf', bbox_inches='tight')\n",
    "# plt.savefig('figures/3_pt2_comparison.jpg', bbox_inches='tight')\n",
    "# plt.savefig('figures/3_pt2_comparison.png', bbox_inches='tight')\n",
    "\n",
    "plt.show()"
   ]
  },
  {
   "cell_type": "code",
   "execution_count": 88,
   "id": "ad340778",
   "metadata": {},
   "outputs": [
    {
     "ename": "NameError",
     "evalue": "name 'cumulative_scores_m_df' is not defined",
     "output_type": "error",
     "traceback": [
      "\u001b[0;31m---------------------------------------------------------------------------\u001b[0m",
      "\u001b[0;31mNameError\u001b[0m                                 Traceback (most recent call last)",
      "Cell \u001b[0;32mIn[88], line 2\u001b[0m\n\u001b[1;32m      1\u001b[0m \u001b[38;5;66;03m# convert the 'id' column to string to ensure categorical labeling\u001b[39;00m\n\u001b[0;32m----> 2\u001b[0m cumulative_scores_m_df[\u001b[38;5;124m'\u001b[39m\u001b[38;5;124mid\u001b[39m\u001b[38;5;124m'\u001b[39m] \u001b[38;5;241m=\u001b[39m cumulative_scores_m_df[\u001b[38;5;124m'\u001b[39m\u001b[38;5;124mid\u001b[39m\u001b[38;5;124m'\u001b[39m]\u001b[38;5;241m.\u001b[39mastype(\u001b[38;5;28mstr\u001b[39m)\n\u001b[1;32m      3\u001b[0m \u001b[38;5;66;03m# save dataframe\u001b[39;00m\n\u001b[1;32m      4\u001b[0m cumulative_scores_m_df\u001b[38;5;241m.\u001b[39mto_csv(\u001b[38;5;124m'\u001b[39m\u001b[38;5;124m../joblib/3_pt1_cumulative_scores.csv\u001b[39m\u001b[38;5;124m'\u001b[39m)\n",
      "\u001b[0;31mNameError\u001b[0m: name 'cumulative_scores_m_df' is not defined"
     ]
    }
   ],
   "source": [
    "# convert the 'id' column to string to ensure categorical labeling\n",
    "sorted_candidates['id'] = cumulative_scores_m_df['id'].astype(str)\n",
    "# save dataframe\n",
    "cumulative_scores_m_df.to_csv('../joblib/3_pt1_cumulative_scores.csv')\n",
    "\n",
    "# define threshold above which we won't consider/display candidates\n",
    "threshold=3\n",
    "cumulative_scores_m_df_top = cumulative_scores_m_df[cumulative_scores_m_df['total_mean_score']<threshold]\n",
    "\n",
    "# plot the horizontal bar chart\n",
    "plt.figure(figsize=(6, 6))\n",
    "plt.barh(y=cumulative_scores_m_df_top['id'], \n",
    "         width=cumulative_scores_m_df_top['total_mean_score'], \n",
    "         color='cornflowerblue')\n",
    "\n",
    "# add labels with scores from specified columns on the bars\n",
    "for index, row in cumulative_scores_m_df_top.iterrows():\n",
    "    # Format the text to display the four specific scores for each bar\n",
    "    label = (\n",
    "        f\"Tfidf: {row['position_cosine_score']:.0f}, \"\n",
    "        f\"Word2Vec: {row['position_word2vec_score']:.0f}, \"\n",
    "        f\"GloVe: {row['position_glove_score']:.0f}, \"\n",
    "        f\"fastText: {row['position_fasttext_score']:.0f}, \"\n",
    "        f\"SBERT: {row['position_sbert_score']:.0f}\"\n",
    "    )\n",
    "    plt.text(\n",
    "        # row['total_mean_score'] / 2, # Center the text horizontally on the bar\n",
    "        0.1, # distance from y-axis\n",
    "        row['id'], \n",
    "        label,\n",
    "        ha='left',\n",
    "        va='center',\n",
    "        fontsize=7,\n",
    "        color='black', # text color\n",
    "        bbox=dict(facecolor='white', edgecolor='none', boxstyle='round,pad=0.3') # White background\n",
    "    )\n",
    "\n",
    "    # add the job_title to each corresponding applicant\n",
    "    plt.text(\n",
    "        2.7,\n",
    "        row['id'],\n",
    "        f\"{row['job_title']}\",\n",
    "        ha='left',\n",
    "        va='center',\n",
    "        fontsize=7,\n",
    "        color='black'\n",
    "    )\n",
    "    \n",
    "# add labels and title for clarity\n",
    "plt.ylabel('Candidate ID')\n",
    "plt.xlabel('Mean Overall Score')\n",
    "plt.suptitle('Best Scoring Candidates by Mean Overall Score', fontsize=14, x=1)\n",
    "\n",
    "# add subtitle\n",
    "axes=plt.gca()\n",
    "ylim=axes.get_ylim()\n",
    "plt.text(x=0.5, y=ylim[1]+0.5, # position just above highest y-limit\n",
    "         s='Score for each method. Lower score is better.', fontsize=10, style='italic', ha='left', va='center')\n",
    "plt.text(x=2.75, y=ylim[1]+0.35,\n",
    "         s=\"Candidates' Job Titles\", fontsize=10, style='italic')\n",
    "plt.grid(axis='x')\n",
    "# plt.gca().invert_yaxis()\n",
    "\n",
    "# plt.savefig('figures/3_overallscores.pdf',bbox_inches='tight')\n",
    "# plt.savefig('figures/3_overallscores.jpg',bbox_inches='tight')\n",
    "# plt.savefig('figures/3_overallscores.png',bbox_inches='tight')\n",
    "\n",
    "plt.show()"
   ]
  },
  {
   "cell_type": "markdown",
   "id": "780376e1",
   "metadata": {},
   "source": [
    "This was a good exploration of the LambdaRank algorithm on comparing job candidates."
   ]
  }
 ],
 "metadata": {
  "kernelspec": {
   "display_name": "apziva_3nn",
   "language": "python",
   "name": "apziva_3nn"
  },
  "language_info": {
   "codemirror_mode": {
    "name": "ipython",
    "version": 3
   },
   "file_extension": ".py",
   "mimetype": "text/x-python",
   "name": "python",
   "nbconvert_exporter": "python",
   "pygments_lexer": "ipython3",
   "version": "3.12.7"
  }
 },
 "nbformat": 4,
 "nbformat_minor": 5
}
