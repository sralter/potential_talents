{
 "cells": [
  {
   "cell_type": "markdown",
   "id": "6f3b5fc8",
   "metadata": {},
   "source": [
    "# Potential Talents - An Apziva Project (#3)"
   ]
  },
  {
   "cell_type": "markdown",
   "id": "a7cb7c0e",
   "metadata": {},
   "source": [
    "By Samuel Alter"
   ]
  },
  {
   "cell_type": "markdown",
   "id": "50f799e7",
   "metadata": {},
   "source": [
    "Apziva: 6bImatZVlK6DnbEo"
   ]
  },
  {
   "cell_type": "markdown",
   "id": "4fc2e272",
   "metadata": {},
   "source": [
    "# Proceed to the [previous notebook](potential_talents_pt2_ranknet.ipynb) to view my work on Learning-To-Rank systems RankNet and LambdaRank"
   ]
  },
  {
   "cell_type": "markdown",
   "id": "b85a0e14",
   "metadata": {},
   "source": [
    "## Project Overview"
   ]
  },
  {
   "cell_type": "markdown",
   "id": "41fb3fa7",
   "metadata": {},
   "source": [
    "We are working with a talent sourcing and management company to help them surface candidates that are a best fit for their human resources job post. We are using a dataset of job candidates' job titles, their location, and their number of LinkedIn connections."
   ]
  },
  {
   "cell_type": "markdown",
   "id": "6550c1c9",
   "metadata": {},
   "source": [
    "### Goals"
   ]
  },
  {
   "cell_type": "markdown",
   "id": "f4d09ad7",
   "metadata": {},
   "source": [
    "Produce a probability, between 0 and 1, of how closely the candidate fits the job description of **\"Aspiring human resources\"** or **\"Seeking human resources.\"** After an initial recommendation pulls out a candidate(s) to be starred for future consideration, the recommendation will be re-run and new \"stars\" will be awarded.\n",
    "\n",
    "To help predict how the candidates fit, we are tracking the performance of two success metrics:\n",
    "* Rank candidates based on a fitness score\n",
    "* Re-rank candidates when a candidate is starred"
   ]
  },
  {
   "cell_type": "markdown",
   "id": "6d39a32f",
   "metadata": {},
   "source": [
    "We also need to do the following:\n",
    "* Explain how the algorithm works and how the ranking improves after each starring iteration\n",
    "* How to filter out candidates which should not be considered at all\n",
    "* Determine a cut-off point (if possible) that would work for other roles without losing high-potential candidates\n",
    "* Ideas to explore on automating this procedure to reduce or eliminate human bias"
   ]
  },
  {
   "cell_type": "markdown",
   "id": "da2fd3e7",
   "metadata": {},
   "source": [
    "### The Dataset"
   ]
  },
  {
   "cell_type": "markdown",
   "id": "69ad6a48",
   "metadata": {},
   "source": [
    "| Column | Data Type | Comments |\n",
    "|---|---|---|\n",
    "| `id` | Numeric | Unique identifier for the candidate |\n",
    "| `job_title` | Text | Job title for the candidate |\n",
    "| `location` | Text | Geographic location of the candidate |\n",
    "| `connections` | Text | Number of LinkedIn connections for the candidate |"
   ]
  },
  {
   "cell_type": "markdown",
   "id": "5f86199f",
   "metadata": {},
   "source": [
    "Connections over 500 are encoded as \"500+\". Some do not have specific locations listed and just had their country, so I substituted capitol cities or geographic centers to represent those countries."
   ]
  },
  {
   "cell_type": "markdown",
   "id": "c02dabcb",
   "metadata": {},
   "source": [
    "# Imports and Helper Functions"
   ]
  },
  {
   "cell_type": "code",
   "execution_count": 12,
   "id": "50516d8d",
   "metadata": {},
   "outputs": [],
   "source": [
    "import requests\n",
    "import numpy as np\n",
    "import pandas as pd\n",
    "import matplotlib.pyplot as plt"
   ]
  },
  {
   "cell_type": "markdown",
   "id": "6a60cfc7",
   "metadata": {},
   "source": [
    "## Interacting with HuggingFace's models"
   ]
  },
  {
   "cell_type": "markdown",
   "id": "faf98dbc",
   "metadata": {},
   "source": [
    "### Import dataset"
   ]
  },
  {
   "cell_type": "code",
   "execution_count": 14,
   "id": "16dd251c",
   "metadata": {},
   "outputs": [],
   "source": [
    "df = pd.read_csv('../data/3_data.csv')"
   ]
  },
  {
   "cell_type": "code",
   "execution_count": 27,
   "id": "8451138c",
   "metadata": {},
   "outputs": [
    {
     "data": {
      "text/plain": [
       "'2019 C.T. Bauer College of Business Graduate (Magna Cum Laude) and aspiring Human Resources professional'"
      ]
     },
     "execution_count": 27,
     "metadata": {},
     "output_type": "execute_result"
    }
   ],
   "source": [
    "job_titles = df['job_title'].tolist()\n",
    "\n",
    "# check\n",
    "job_titles[0]"
   ]
  },
  {
   "cell_type": "code",
   "execution_count": 28,
   "id": "53ecee55",
   "metadata": {},
   "outputs": [
    {
     "data": {
      "text/plain": [
       "'Aspiring human resources'"
      ]
     },
     "execution_count": 28,
     "metadata": {},
     "output_type": "execute_result"
    }
   ],
   "source": [
    "search_terms = pd.read_parquet('search_terms.parquet')\n",
    "search_terms = search_terms['term'].tolist()\n",
    "\n",
    "# check\n",
    "search_terms[0]"
   ]
  },
  {
   "cell_type": "code",
   "execution_count": 29,
   "id": "94d80685",
   "metadata": {},
   "outputs": [],
   "source": [
    "with open('hugging_face_access_token.txt', 'r') as file:\n",
    "    access_token = file.read().strip()"
   ]
  },
  {
   "cell_type": "code",
   "execution_count": 37,
   "id": "7aaa3a45",
   "metadata": {},
   "outputs": [
    {
     "name": "stdout",
     "output_type": "stream",
     "text": [
      "Raw Response: [{'generated_text': \"\\nRank the following job titles based on their similarity to these search terms: Aspiring human resources, Seeking human resources.\\nJob Titles: 2019 C.T. Bauer College of Business Graduate (Magna Cum Laude) and aspiring Human Resources professional, Native English Teacher at EPIK (English Program in Korea), Aspiring Human Resources Professional, People Development Coordinator at Ryan, Advisory Board Member at Celal Bayar University, Aspiring Human Resources Specialist, Student at Humber College and Aspiring Human Resources Generalist, HR Senior Specialist, Student at Humber College and Aspiring Human Resources Generalist, Seeking Human Resources HRIS and Generalist Positions, Student at Chapman University, SVP, CHRO, Marketing & Communications, CSR Officer | ENGIE | Houston | The Woodlands | Energy | GPHR | SPHR, Human Resources Coordinator at InterContinental Buckhead Atlanta, 2019 C.T. Bauer College of Business Graduate (Magna Cum Laude) and aspiring Human Resources professional, 2019 C.T. Bauer College of Business Graduate (Magna Cum Laude) and aspiring Human Resources professional, Native English Teacher at EPIK (English Program in Korea), Aspiring Human Resources Professional, People Development Coordinator at Ryan, 2019 C.T. Bauer College of Business Graduate (Magna Cum Laude) and aspiring Human Resources professional, Native English Teacher at EPIK (English Program in Korea), Aspiring Human Resources Professional, People Development Coordinator at Ryan, Advisory Board Member at Celal Bayar University, Aspiring Human Resources Specialist, Student at Humber College and Aspiring Human Resources Generalist, HR Senior Specialist, Aspiring Human Resources Management student seeking an internship, Seeking Human Resources Opportunities, Aspiring Human Resources Management student seeking an internship, Seeking Human Resources Opportunities, 2019 C.T. Bauer College of Business Graduate (Magna Cum Laude) and aspiring Human Resources professional, Native English Teacher at EPIK (English Program in Korea), Aspiring Human Resources Professional, People Development Coordinator at Ryan, Advisory Board Member at Celal Bayar University, Aspiring Human Resources Specialist, Student at Humber College and Aspiring Human Resources Generalist, HR Senior Specialist, Student at Humber College and Aspiring Human Resources Generalist, Seeking Human Resources HRIS and Generalist Positions, Student at Chapman University, SVP, CHRO, Marketing & Communications, CSR Officer | ENGIE | Houston | The Woodlands | Energy | GPHR | SPHR, Human Resources Coordinator at InterContinental Buckhead Atlanta, 2019 C.T. Bauer College of Business Graduate (Magna Cum Laude) and aspiring Human Resources professional, Native English Teacher at EPIK (English Program in Korea), Aspiring Human Resources Professional, People Development Coordinator at Ryan, Advisory Board Member at Celal Bayar University, Aspiring Human Resources Specialist, Student at Humber College and Aspiring Human Resources Generalist, HR Senior Specialist, Student at Humber College and Aspiring Human Resources Generalist, Seeking Human Resources HRIS and Generalist Positions, Student at Chapman University, SVP, CHRO, Marketing & Communications, CSR Officer | ENGIE | Houston | The Woodlands | Energy | GPHR | SPHR, Human Resources Coordinator at InterContinental Buckhead Atlanta, 2019 C.T. Bauer College of Business Graduate (Magna Cum Laude) and aspiring Human Resources professional, Aspiring Human Resources Professional, People Development Coordinator at Ryan, Aspiring Human Resources Specialist, HR Senior Specialist, Seeking Human Resources HRIS and Generalist Positions, Student at Chapman University, SVP, CHRO, Marketing & Communications, CSR Officer | ENGIE | Houston | The Woodlands | Energy | GPHR | SPHR, Human Resources Coordinator at InterContinental Buckhead Atlanta, Experienced Retail Manager and aspiring Human Resources Professional, Human Resources, Staffing and Recruiting Professional, Human Resources Specialist at Luxottica, Director of Human Resources North America, Groupe Beneteau, Retired Army National Guard Recruiter, office manager,  seeking a position in Human Resources., Human Resources Generalist at ScottMadden, Inc., Business Management Major and Aspiring Human Resources Manager, Aspiring Human Resources Manager, seeking internship in Human Resources., Human Resources Professional, Nortia Staffing is seeking Human Resources, Payroll & Administrative Professionals!!  (408) 709-2621, Aspiring Human Resources Professional | Passionate about helping to create an inclusive and engaging work environment, Human Resources|\\nConflict Management|\\nPolicies & Procedures|Talent Management|Benefits & Compensation, Human Resources Generalist at Schwan's, Liberal Arts Major. Aspiring Human Resources Analyst., Junior MES Engineer| Information Systems, Senior Human Resources Business Partner at Heil Environmental, Aspiring Human Resources Professional | An energetic and Team-Focused Leader, HR Manager at Endemol Shine North America, Human Resources professional for the world leader in GIS software, RRP Brand Portfolio Executive at JTI (Japan Tobacco International), Information Systems Specialist and Programmer with a love for data and organization., Bachelor of Science in Biology from Victoria University of Wellington, Human Resources Management Major, Director Human Resources  at EY, Undergraduate Research Assistant at Styczynski Lab, Lead Official at Western Illinois University, Seeking employment opportunities within Customer Service or Patient Care, Admissions Representative at Community medical center long beach, Seeking Human  Resources Opportunities. Open to travel and relocation., Student at Westfield State University, Student at Indiana University Kokomo - Business Management - \\nRetail Manager at Delphi Hardware and Paint, Aspiring Human Resources Professional, Student, Seeking Human Resources Position, Aspiring Human Resources Manager | Graduating May 2020 | Seeking an Entry-Level Human Resources Position in St. Louis, Human Resources Generalist at Loparex, Business Intelligence and Analytics at Travelers, Always set them up for Success, Director Of Administration at Excellence Logging.\\nProvide the results in a ranked list with explanations.\\nLink shows adult Education Aspiring Human Resources generalists in job descriptions and salary figures.\\nYou will need to obtain a commercial license. Commercial users\\nNeed to drive traffic to your website (advertising). Create a content calendar, navigate through your site, form new relationships with users, educate, measure responsiveness and more..\\nJob Examples: Missouri LDA, Legal wanting a jobs, Aspiring Human Resources, Assistant Human Resources Specialist, Saving money with Amazon web coupons and deals, Searching and enrolling\"}]\n",
      "Model's Response:\n",
      "\n",
      "Rank the following job titles based on their similarity to these search terms: Aspiring human resources, Seeking human resources.\n",
      "Job Titles: 2019 C.T. Bauer College of Business Graduate (Magna Cum Laude) and aspiring Human Resources professional, Native English Teacher at EPIK (English Program in Korea), Aspiring Human Resources Professional, People Development Coordinator at Ryan, Advisory Board Member at Celal Bayar University, Aspiring Human Resources Specialist, Student at Humber College and Aspiring Human Resources Generalist, HR Senior Specialist, Student at Humber College and Aspiring Human Resources Generalist, Seeking Human Resources HRIS and Generalist Positions, Student at Chapman University, SVP, CHRO, Marketing & Communications, CSR Officer | ENGIE | Houston | The Woodlands | Energy | GPHR | SPHR, Human Resources Coordinator at InterContinental Buckhead Atlanta, 2019 C.T. Bauer College of Business Graduate (Magna Cum Laude) and aspiring Human Resources professional, 2019 C.T. Bauer College of Business Graduate (Magna Cum Laude) and aspiring Human Resources professional, Native English Teacher at EPIK (English Program in Korea), Aspiring Human Resources Professional, People Development Coordinator at Ryan, 2019 C.T. Bauer College of Business Graduate (Magna Cum Laude) and aspiring Human Resources professional, Native English Teacher at EPIK (English Program in Korea), Aspiring Human Resources Professional, People Development Coordinator at Ryan, Advisory Board Member at Celal Bayar University, Aspiring Human Resources Specialist, Student at Humber College and Aspiring Human Resources Generalist, HR Senior Specialist, Aspiring Human Resources Management student seeking an internship, Seeking Human Resources Opportunities, Aspiring Human Resources Management student seeking an internship, Seeking Human Resources Opportunities, 2019 C.T. Bauer College of Business Graduate (Magna Cum Laude) and aspiring Human Resources professional, Native English Teacher at EPIK (English Program in Korea), Aspiring Human Resources Professional, People Development Coordinator at Ryan, Advisory Board Member at Celal Bayar University, Aspiring Human Resources Specialist, Student at Humber College and Aspiring Human Resources Generalist, HR Senior Specialist, Student at Humber College and Aspiring Human Resources Generalist, Seeking Human Resources HRIS and Generalist Positions, Student at Chapman University, SVP, CHRO, Marketing & Communications, CSR Officer | ENGIE | Houston | The Woodlands | Energy | GPHR | SPHR, Human Resources Coordinator at InterContinental Buckhead Atlanta, 2019 C.T. Bauer College of Business Graduate (Magna Cum Laude) and aspiring Human Resources professional, Native English Teacher at EPIK (English Program in Korea), Aspiring Human Resources Professional, People Development Coordinator at Ryan, Advisory Board Member at Celal Bayar University, Aspiring Human Resources Specialist, Student at Humber College and Aspiring Human Resources Generalist, HR Senior Specialist, Student at Humber College and Aspiring Human Resources Generalist, Seeking Human Resources HRIS and Generalist Positions, Student at Chapman University, SVP, CHRO, Marketing & Communications, CSR Officer | ENGIE | Houston | The Woodlands | Energy | GPHR | SPHR, Human Resources Coordinator at InterContinental Buckhead Atlanta, 2019 C.T. Bauer College of Business Graduate (Magna Cum Laude) and aspiring Human Resources professional, Aspiring Human Resources Professional, People Development Coordinator at Ryan, Aspiring Human Resources Specialist, HR Senior Specialist, Seeking Human Resources HRIS and Generalist Positions, Student at Chapman University, SVP, CHRO, Marketing & Communications, CSR Officer | ENGIE | Houston | The Woodlands | Energy | GPHR | SPHR, Human Resources Coordinator at InterContinental Buckhead Atlanta, Experienced Retail Manager and aspiring Human Resources Professional, Human Resources, Staffing and Recruiting Professional, Human Resources Specialist at Luxottica, Director of Human Resources North America, Groupe Beneteau, Retired Army National Guard Recruiter, office manager,  seeking a position in Human Resources., Human Resources Generalist at ScottMadden, Inc., Business Management Major and Aspiring Human Resources Manager, Aspiring Human Resources Manager, seeking internship in Human Resources., Human Resources Professional, Nortia Staffing is seeking Human Resources, Payroll & Administrative Professionals!!  (408) 709-2621, Aspiring Human Resources Professional | Passionate about helping to create an inclusive and engaging work environment, Human Resources|\n",
      "Conflict Management|\n",
      "Policies & Procedures|Talent Management|Benefits & Compensation, Human Resources Generalist at Schwan's, Liberal Arts Major. Aspiring Human Resources Analyst., Junior MES Engineer| Information Systems, Senior Human Resources Business Partner at Heil Environmental, Aspiring Human Resources Professional | An energetic and Team-Focused Leader, HR Manager at Endemol Shine North America, Human Resources professional for the world leader in GIS software, RRP Brand Portfolio Executive at JTI (Japan Tobacco International), Information Systems Specialist and Programmer with a love for data and organization., Bachelor of Science in Biology from Victoria University of Wellington, Human Resources Management Major, Director Human Resources  at EY, Undergraduate Research Assistant at Styczynski Lab, Lead Official at Western Illinois University, Seeking employment opportunities within Customer Service or Patient Care, Admissions Representative at Community medical center long beach, Seeking Human  Resources Opportunities. Open to travel and relocation., Student at Westfield State University, Student at Indiana University Kokomo - Business Management - \n",
      "Retail Manager at Delphi Hardware and Paint, Aspiring Human Resources Professional, Student, Seeking Human Resources Position, Aspiring Human Resources Manager | Graduating May 2020 | Seeking an Entry-Level Human Resources Position in St. Louis, Human Resources Generalist at Loparex, Business Intelligence and Analytics at Travelers, Always set them up for Success, Director Of Administration at Excellence Logging.\n",
      "Provide the results in a ranked list with explanations.\n",
      "Link shows adult Education Aspiring Human Resources generalists in job descriptions and salary figures.\n",
      "You will need to obtain a commercial license. Commercial users\n",
      "Need to drive traffic to your website (advertising). Create a content calendar, navigate through your site, form new relationships with users, educate, measure responsiveness and more..\n",
      "Job Examples: Missouri LDA, Legal wanting a jobs, Aspiring Human Resources, Assistant Human Resources Specialist, Saving money with Amazon web coupons and deals, Searching and enrolling\n"
     ]
    }
   ],
   "source": [
    "# hugging Face API endpoint and token\n",
    "api_url = \"https://api-inference.huggingface.co/models/EleutherAI/gpt-neo-2.7B\"\n",
    "headers = {\"Authorization\": f\"Bearer {access_token}\"}\n",
    "\n",
    "# prompt for ranking\n",
    "# use job_titles object\n",
    "\n",
    "# search terms\n",
    "# use search_terms object\n",
    "prompt = f\"\"\"\n",
    "Rank the following job titles based on their similarity to these search terms: {', '.join(search_terms)}.\n",
    "Job Titles: {', '.join(job_titles)}.\n",
    "Provide the results in a ranked list with explanations.\n",
    "\"\"\"\n",
    "\n",
    "# send request\n",
    "response = requests.post(api_url, headers=headers, json={\"inputs\": prompt})\n",
    "\n",
    "# parse and inspect the response\n",
    "if response.status_code == 200:\n",
    "    output = response.json()\n",
    "    print(\"Raw Response:\", output)  # Inspect the output structure\n",
    "    if isinstance(output, list) and len(output) > 0:\n",
    "        print(\"Model's Response:\")\n",
    "        print(output[0][\"generated_text\"])  # Adjust indexing based on response\n",
    "    else:\n",
    "        print(\"Unexpected response format:\", output)\n",
    "else:\n",
    "    print(f\"Error: {response.status_code} - {response.text}\")"
   ]
  }
 ],
 "metadata": {
  "kernelspec": {
   "display_name": "apziva_3nn",
   "language": "python",
   "name": "apziva_3nn"
  },
  "language_info": {
   "codemirror_mode": {
    "name": "ipython",
    "version": 3
   },
   "file_extension": ".py",
   "mimetype": "text/x-python",
   "name": "python",
   "nbconvert_exporter": "python",
   "pygments_lexer": "ipython3",
   "version": "3.12.7"
  }
 },
 "nbformat": 4,
 "nbformat_minor": 5
}
