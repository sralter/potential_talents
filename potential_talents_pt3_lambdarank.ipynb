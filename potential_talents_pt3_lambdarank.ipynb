{
 "cells": [
  {
   "cell_type": "markdown",
   "id": "7be11603-5634-4276-9b49-1276b6710330",
   "metadata": {},
   "source": [
    "# Potential Talents - An Apziva Project (#3)"
   ]
  },
  {
   "cell_type": "markdown",
   "id": "0de81d9f-0a9d-456f-a356-8d780ee8faba",
   "metadata": {},
   "source": [
    "By Samuel Alter"
   ]
  },
  {
   "cell_type": "markdown",
   "id": "8a65b755-455b-4e5f-ac83-c4cddd4106fe",
   "metadata": {},
   "source": [
    "Apziva: 6bImatZVlK6DnbEo"
   ]
  },
  {
   "cell_type": "markdown",
   "id": "b0aea5eb-6509-4ac6-9f5d-2cb70ac12f72",
   "metadata": {},
   "source": [
    "# Proceed to the [previous notebook](potential_talents_pt2_ranknet.ipynb) to view my work on RankNet."
   ]
  },
  {
   "cell_type": "markdown",
   "id": "a455e2f6-9a52-405f-b58f-2ecf05d14ebb",
   "metadata": {},
   "source": [
    "## Project Overview"
   ]
  },
  {
   "cell_type": "markdown",
   "id": "297719bf-96f1-4348-848b-81b1c7e7efc0",
   "metadata": {},
   "source": [
    "We are working with a talent sourcing and management company to help them surface candidates that are a best fit for their human resources job post. We are using a dataset of job candidates' job titles, their location, and their number of LinkedIn connections."
   ]
  },
  {
   "cell_type": "markdown",
   "id": "2d86ba17-4965-4b51-95b8-028ff4e3079a",
   "metadata": {},
   "source": [
    "### Goals"
   ]
  },
  {
   "cell_type": "markdown",
   "id": "18e8349a-b08e-4050-b332-098c25ed8d98",
   "metadata": {},
   "source": [
    "Produce a probability, between 0 and 1, of how closely the candidate fits the job description of **\"Aspiring human resources\"** or **\"Seeking human resources.\"** After an initial recommendation pulls out a candidate(s) to be starred for future consideration, the recommendation will be re-run and new \"stars\" will be awarded.\n",
    "\n",
    "To help predict how the candidates fit, we are tracking the performance of two success metrics:\n",
    "* Rank candidates based on a fitness score\n",
    "* Re-rank candidates when a candidate is starred"
   ]
  },
  {
   "cell_type": "markdown",
   "id": "2a6acd81-fec4-4931-9bae-4c56c18742c7",
   "metadata": {},
   "source": [
    "We also need to do the following:\n",
    "* Explain how the algorithm works and how the ranking improves after each starring iteration\n",
    "* How to filter out candidates which should not be considered at all\n",
    "* Determine a cut-off point (if possible) that would work for other roles without losing high-potential candidates\n",
    "* Ideas to explore on automating this procedure to reduce or eliminate human bias"
   ]
  },
  {
   "cell_type": "markdown",
   "id": "71b1272d-f942-4c06-b5db-c0ff5055c238",
   "metadata": {},
   "source": [
    "### The Dataset"
   ]
  },
  {
   "cell_type": "markdown",
   "id": "3d10ab64-f049-4e39-b393-1f392f844600",
   "metadata": {},
   "source": [
    "| Column | Data Type | Comments |\n",
    "|---|---|---|\n",
    "| `id` | Numeric | Unique identifier for the candidate |\n",
    "| `job_title` | Text | Job title for the candidate |\n",
    "| `location` | Text | Geographic location of the candidate |\n",
    "| `connections` | Text | Number of LinkedIn connections for the candidate |"
   ]
  },
  {
   "cell_type": "markdown",
   "id": "bc76c1ee-15a9-451e-88f3-1313cd98c2a0",
   "metadata": {},
   "source": [
    "Connections over 500 are encoded as \"500+\". Some do not have specific locations listed and just had their country, so I substituted capitol cities or geographic centers to represent those countries."
   ]
  },
  {
   "cell_type": "markdown",
   "id": "474e78ad-e88f-4353-be66-055b89a201a8",
   "metadata": {},
   "source": [
    "# Imports and Helper Functions"
   ]
  },
  {
   "cell_type": "code",
   "execution_count": 237,
   "id": "cef80551-83b8-4a14-b77f-02b510efd1a7",
   "metadata": {},
   "outputs": [],
   "source": [
    "# to install pandas, use\n",
    "# pip install 'lightgbm[pandas]'\n",
    "# or\n",
    "# pip install 'lightgbm[scikit-learn]'\n",
    "\n",
    "import pandas as pd\n",
    "import numpy as np\n",
    "import matplotlib.pyplot as plt\n",
    "import lightgbm as lgb\n",
    "import torch\n",
    "import pickle\n",
    "from sklearn.model_selection import train_test_split\n",
    "from sklearn.metrics import ndcg_score\n",
    "import optuna\n",
    "\n",
    "# use\n",
    "# pip install optuna-integration[lightgbm]\n",
    "from optuna.integration import LightGBMPruningCallback"
   ]
  },
  {
   "cell_type": "markdown",
   "id": "6dca60ee-69a7-49b0-8e3f-a1f9a1eb4f5b",
   "metadata": {},
   "source": [
    "# LambdaRank"
   ]
  },
  {
   "cell_type": "markdown",
   "id": "c19a1670-2688-4b1d-8a6e-56dedee89a69",
   "metadata": {},
   "source": [
    "In an effort to explore other ranking algorithms, we will now turn to LambdaRank. It is an evolution of the RankNet algorithm that we worked on above. While RankNet looks to optimize pairwise accuracy, LambdaRank optimizes for ranking metrics like NDCG, or Normalized Discounted Cumulative Gain. It does not require pairwise comparisons as input. \n",
    "\n",
    "NDCG checks not only if the first item should be ranked higher than the second, but also how much swapping their order would improve the final ranking. The gain can be thought of this way: if a relevant item is placed close to the top, it will have a greater gain than if a relevant item was placed towards the bottom. \n",
    "\n",
    "LambdaRank uses **lambdas** that help adjust the model's focus to help improve the overall ranking quality, while RankNet takes advantage of a loss function and cares about individual rankings.\n",
    "\n",
    "You can read more about LambdaRank [here](https://tamaracucumides.medium.com/learning-to-rank-with-lightgbm-code-example-in-python-843bd7b44574). There's a short snippet of information about LambdaRank [from Microsoft](https://www.microsoft.com/en-us/research/publication/from-ranknet-to-lambdarank-to-lambdamart-an-overview/). Researchers there designed the algorithm.\n",
    "\n",
    "[This repository](https://github.com/Ransaka/LTR-with-LIghtGBM) gives a good example of how to implement the algorithm."
   ]
  },
  {
   "cell_type": "markdown",
   "id": "f5a5fecc",
   "metadata": {},
   "source": [
    "LambdaRank uses the LightGBM algorithm and requires the following:\n",
    "* **Feature matrix (X)** of each item\n",
    "* **Relevance scores (y)** for each item\n",
    "* \"**Groups**,\" or the number of items per query group "
   ]
  },
  {
   "cell_type": "code",
   "execution_count": 238,
   "id": "c03ed791",
   "metadata": {},
   "outputs": [
    {
     "data": {
      "text/plain": [
       "2870"
      ]
     },
     "execution_count": 238,
     "metadata": {},
     "output_type": "execute_result"
    }
   ],
   "source": [
    "# get random seed from project\n",
    "with open('seed.txt', 'r') as file:\n",
    "    seed = int(file.read())\n",
    "    \n",
    "seed"
   ]
  },
  {
   "cell_type": "code",
   "execution_count": 239,
   "id": "3d5d69e1",
   "metadata": {},
   "outputs": [
    {
     "data": {
      "text/plain": [
       "Generator(PCG64) at 0x322D83140"
      ]
     },
     "execution_count": 239,
     "metadata": {},
     "output_type": "execute_result"
    }
   ],
   "source": [
    "# set the randomness seed throughout the notebook\n",
    "# source: # https://odsc.medium.com/properly-setting-the-random-seed-in-ml-experiments-not-as-simple-as-you-might-imagine-219969c84752\n",
    "\n",
    "## set `PYTHONHASHSEED` environment variable at a fixed value\n",
    "import os\n",
    "os.environ['PYTHONHASHSEED']=str(seed)\n",
    "## set `python` built-in pseudo-random generator at a fixed value\n",
    "import random\n",
    "random.seed(seed)\n",
    "## set `numpy` pseudo-random generator at a fixed value\n",
    "np.random.seed(seed)\n",
    "np.random.default_rng(seed)"
   ]
  },
  {
   "cell_type": "code",
   "execution_count": 240,
   "id": "1f322ae7",
   "metadata": {},
   "outputs": [
    {
     "name": "stdout",
     "output_type": "stream",
     "text": [
      "Loaded 104 embeddings. First element type: <class 'numpy.ndarray'>\n"
     ]
    }
   ],
   "source": [
    "# load the job title data\n",
    "loaded_data = np.load('../joblib/3_data_job_titles.npz', allow_pickle=True)\n",
    "job_title_sbert = [np.array(embedding) for embedding in loaded_data['embeddings']]\n",
    "print(f\"Loaded {len(job_title_sbert)} embeddings. First element type: {type(job_title_sbert[0])}\")"
   ]
  },
  {
   "cell_type": "code",
   "execution_count": 241,
   "id": "c7c9b1f7",
   "metadata": {},
   "outputs": [],
   "source": [
    "# convert back to tensors\n",
    "job_title_tensors = [torch.tensor(embedding) for embedding in job_title_sbert]"
   ]
  },
  {
   "cell_type": "code",
   "execution_count": 242,
   "id": "4c96a998",
   "metadata": {},
   "outputs": [
    {
     "data": {
      "text/plain": [
       "tensor([-7.1764e-02,  2.2637e-03, -1.7858e-02,  3.1808e-02,  8.6310e-03,\n",
       "         4.5645e-02, -6.7703e-02,  3.1216e-02,  1.8814e-02, -3.6150e-04,\n",
       "        -1.5786e-02, -3.0461e-02, -8.2910e-02, -5.0705e-02, -7.0172e-02,\n",
       "         3.2520e-02,  9.6550e-03, -8.0883e-02,  4.6644e-02, -3.8407e-02,\n",
       "         2.3128e-02,  3.6828e-02, -1.5138e-03, -9.5810e-02, -2.7337e-02,\n",
       "        -3.0467e-02, -1.6989e-02, -2.4439e-02, -2.1443e-04, -3.0366e-03,\n",
       "         1.0420e-02,  5.6600e-03,  2.4441e-02,  3.2096e-02,  6.2465e-02,\n",
       "         6.9278e-02,  4.4225e-02, -1.1663e-02,  1.5852e-01,  3.1511e-02,\n",
       "        -9.2587e-03, -8.1887e-02, -2.8538e-02,  3.3625e-02, -6.5775e-03,\n",
       "        -5.9914e-02,  2.1527e-02, -3.0205e-02,  3.8459e-02, -8.4312e-03,\n",
       "        -7.3194e-02, -6.0277e-02,  3.9353e-02, -4.5725e-02,  2.8139e-02,\n",
       "         3.0143e-02,  2.7823e-02, -1.5330e-02,  6.5976e-03, -6.2322e-02,\n",
       "        -1.5916e-02, -3.1975e-02,  2.1324e-02,  3.4776e-02,  8.1722e-02,\n",
       "         5.2771e-03, -5.2103e-02,  2.3793e-02,  3.8527e-02, -8.8017e-02,\n",
       "        -2.9698e-02, -1.1102e-02, -3.9710e-02,  1.3897e-02,  9.4293e-02,\n",
       "         2.3786e-02, -3.9860e-03,  2.4895e-02,  5.4456e-02,  2.3790e-02,\n",
       "         4.8017e-02,  6.9421e-02, -4.3053e-02,  3.7367e-02, -8.3389e-02,\n",
       "        -3.9554e-02, -3.0625e-02,  1.4594e-02,  6.1105e-03,  6.1274e-02,\n",
       "         8.6866e-03, -4.0442e-02,  1.2885e-02, -1.1718e-03, -8.1843e-02,\n",
       "         1.4024e-02, -9.5660e-02,  4.8773e-02,  1.6119e-02,  4.4493e-03,\n",
       "        -7.3601e-02,  7.6218e-02, -3.8007e-02,  1.9535e-02,  6.1472e-03,\n",
       "         1.6961e-02,  3.5967e-02,  9.7436e-03,  7.1682e-02,  3.1386e-02,\n",
       "        -1.4554e-02, -1.5890e-02, -8.2825e-02, -1.6305e-02,  9.7006e-03,\n",
       "         2.5257e-02,  2.6843e-04,  4.0493e-02,  9.2181e-02, -1.9046e-03,\n",
       "         2.7567e-02,  5.1132e-02, -7.3212e-02, -6.3115e-02, -7.9823e-03,\n",
       "        -1.6765e-01, -2.9606e-02, -1.3230e-33,  3.2905e-03,  9.4100e-02,\n",
       "         4.6308e-02,  7.4895e-02, -4.0938e-02, -2.2898e-02, -6.1546e-02,\n",
       "         2.3439e-02, -1.0703e-02,  5.7815e-02, -2.7025e-02,  1.0929e-01,\n",
       "        -3.5596e-02,  2.7121e-02, -4.3518e-02, -4.2956e-02, -3.6647e-02,\n",
       "         2.7006e-02, -3.4044e-03,  7.2917e-02,  3.3263e-02,  4.0946e-02,\n",
       "        -4.9946e-03, -8.9749e-02, -1.0261e-02, -1.5499e-03,  6.4816e-02,\n",
       "        -6.7815e-03,  8.4745e-02,  2.1064e-02,  8.4459e-03,  1.2042e-02,\n",
       "        -6.5129e-02, -8.5254e-02,  5.0156e-02, -1.5025e-02, -1.4243e-01,\n",
       "        -1.0929e-02,  1.9596e-02, -1.6974e-02, -7.1898e-02,  1.1936e-01,\n",
       "         2.8736e-02, -1.6113e-03,  1.6926e-02,  2.1461e-02,  1.4876e-01,\n",
       "         6.5798e-02,  7.5223e-02, -3.7247e-02, -8.2096e-02, -8.9025e-02,\n",
       "         6.3531e-03, -3.5823e-02,  6.1774e-02, -5.0907e-02,  2.2478e-03,\n",
       "         5.0267e-02, -4.2082e-02,  4.7737e-02,  1.1122e-03,  4.1247e-02,\n",
       "        -6.6179e-02,  1.2616e-02, -3.4835e-02, -6.5496e-02, -2.0065e-02,\n",
       "        -2.4050e-03,  1.2752e-01, -3.3548e-02,  2.9069e-03,  6.0244e-03,\n",
       "         3.8790e-02, -1.9889e-02, -5.2084e-02,  1.3556e-02,  7.4122e-02,\n",
       "        -1.8150e-02,  4.5881e-02, -7.6674e-02, -1.6397e-02,  1.6860e-02,\n",
       "         7.5554e-02, -4.5430e-02,  4.6240e-02,  1.8891e-02,  4.6056e-02,\n",
       "        -5.3356e-02, -4.7187e-03,  1.7231e-02,  3.8095e-02, -4.6275e-02,\n",
       "        -2.7911e-02,  9.9471e-02, -5.3039e-02, -1.0890e-33,  1.2991e-01,\n",
       "        -6.4036e-03,  1.3858e-02, -8.2864e-02,  1.8651e-02,  6.8433e-02,\n",
       "         8.3629e-02,  6.6377e-02, -3.1906e-02, -1.8682e-03,  9.4951e-02,\n",
       "        -3.6740e-02, -2.0478e-02,  5.3023e-02,  2.5670e-02,  1.9433e-03,\n",
       "         6.3942e-03, -5.0238e-02, -1.0762e-01, -2.8480e-02,  7.8596e-04,\n",
       "         6.8429e-02, -9.8799e-03,  1.7832e-02,  1.0214e-03,  3.7320e-03,\n",
       "         3.1418e-02,  6.1013e-02, -7.1873e-02,  1.2601e-02,  1.3720e-02,\n",
       "         5.5045e-03, -4.4870e-02,  3.1552e-02,  1.1152e-03, -1.6330e-03,\n",
       "         6.8587e-02,  3.1625e-02,  4.3843e-02,  4.3220e-02,  7.8730e-02,\n",
       "        -7.7897e-02, -8.3744e-02, -4.3730e-02,  3.0119e-02, -3.9756e-02,\n",
       "        -1.5743e-02, -3.4585e-02,  1.8032e-02, -1.9825e-02, -3.1881e-02,\n",
       "        -4.9710e-02, -3.1258e-02, -1.5903e-02,  7.6570e-02,  2.3777e-02,\n",
       "         3.9713e-02, -3.4791e-02, -2.0734e-02, -2.6111e-03,  7.7315e-03,\n",
       "         1.0448e-01,  5.8785e-02,  2.5375e-02, -3.9127e-02, -2.6788e-02,\n",
       "         1.2177e-02, -4.2029e-02, -6.9536e-02,  9.5341e-02,  1.7182e-02,\n",
       "         1.1030e-01, -8.1969e-04, -1.2397e-01, -7.1878e-02,  4.1063e-02,\n",
       "         4.0792e-02, -9.0983e-02, -5.9649e-02,  6.5373e-03, -1.1831e-01,\n",
       "        -8.6913e-03, -7.0987e-02,  9.2960e-02, -2.3609e-02,  5.2708e-02,\n",
       "         5.3937e-02, -5.7072e-02,  1.0236e-03, -5.9659e-02, -6.0416e-02,\n",
       "        -2.0895e-02,  2.1713e-02, -2.0009e-02, -4.3782e-02, -2.4745e-08,\n",
       "        -3.3255e-02,  8.0088e-02, -5.9178e-02,  1.0442e-02, -1.7130e-02,\n",
       "         2.3009e-02, -9.9112e-02, -7.1707e-02, -1.2053e-02,  1.4190e-02,\n",
       "        -2.8237e-02, -4.7716e-02, -4.1981e-02, -3.3464e-02,  1.9701e-02,\n",
       "        -1.0399e-02, -6.1938e-02,  1.4433e-02,  3.5326e-02, -5.9824e-02,\n",
       "         4.3243e-02, -1.9379e-02,  1.2675e-02,  3.3618e-02, -1.7182e-02,\n",
       "         2.0765e-02,  7.6451e-03, -2.7259e-02, -3.7614e-03,  4.3418e-02,\n",
       "         4.2219e-02, -7.9126e-03,  1.7400e-02, -7.2439e-02,  7.8125e-02,\n",
       "        -1.8242e-02, -3.9498e-02, -7.4762e-02, -4.0797e-03,  4.2082e-02,\n",
       "         4.2996e-02, -1.4236e-02, -5.9925e-02,  1.8145e-02,  1.1572e-01,\n",
       "         6.8947e-03, -1.6753e-02,  9.6921e-02, -1.1013e-02,  9.1657e-03,\n",
       "         3.7196e-02,  3.8204e-03, -1.3778e-01, -2.6175e-02,  3.4218e-02,\n",
       "         2.3139e-02,  1.7900e-02, -4.0268e-02, -1.0566e-01,  4.4295e-02,\n",
       "         5.3318e-02, -1.4526e-01, -2.5792e-02, -5.5173e-03])"
      ]
     },
     "execution_count": 242,
     "metadata": {},
     "output_type": "execute_result"
    }
   ],
   "source": [
    "# check\n",
    "job_title_tensors[0]"
   ]
  },
  {
   "cell_type": "code",
   "execution_count": 243,
   "id": "f6e6afd4",
   "metadata": {},
   "outputs": [
    {
     "name": "stdout",
     "output_type": "stream",
     "text": [
      "Data loaded successfully.\n"
     ]
    }
   ],
   "source": [
    "# load candidate ID and rank data\n",
    "with open('../joblib/candidate_ids.pkl', 'rb') as f:\n",
    "    candidate_ids = pickle.load(f)\n",
    "\n",
    "with open('../joblib/ranks.pkl', 'rb') as f:\n",
    "    ranks = pickle.load(f)\n",
    "    \n",
    "print(\"Data loaded successfully.\")"
   ]
  },
  {
   "cell_type": "code",
   "execution_count": 244,
   "id": "676363c8",
   "metadata": {},
   "outputs": [
    {
     "data": {
      "text/plain": [
       "[1, 2, 3, 4, 5]"
      ]
     },
     "execution_count": 244,
     "metadata": {},
     "output_type": "execute_result"
    }
   ],
   "source": [
    "# check\n",
    "candidate_ids[:5]"
   ]
  },
  {
   "cell_type": "code",
   "execution_count": 245,
   "id": "ff495fcc",
   "metadata": {},
   "outputs": [
    {
     "data": {
      "text/plain": [
       "[1, 1, 2, 2, 16]"
      ]
     },
     "execution_count": 245,
     "metadata": {},
     "output_type": "execute_result"
    }
   ],
   "source": [
    "# check\n",
    "ranks[:5]"
   ]
  },
  {
   "cell_type": "markdown",
   "id": "cf188d34",
   "metadata": {},
   "source": [
    "## Prepare the data"
   ]
  },
  {
   "cell_type": "markdown",
   "id": "ac6a6034",
   "metadata": {},
   "source": [
    "Now that we have our work from the previous notebook loaded, we will adapt them to the needs of the LambdaRank algorithm:\n",
    "* **Feature matrix (X)** will be the `job_titles`\n",
    "* **Relevance scores (y)** will be the `ranks`\n",
    "* **Group** equals `1` as we're looking at all candidates"
   ]
  },
  {
   "cell_type": "code",
   "execution_count": 246,
   "id": "33af1f4f",
   "metadata": {},
   "outputs": [
    {
     "name": "stdout",
     "output_type": "stream",
     "text": [
      "Done.\n"
     ]
    }
   ],
   "source": [
    "# convert ranks to relevance scores (invert ranks: higher rank -> higher score)\n",
    "# example: if ranks are 1, 2, 3, scores become 3, 2, 1.\n",
    "relevance_scores = np.max(ranks) - np.array(ranks) + 1\n",
    "\n",
    "# feature matrix (X) from job_titles\n",
    "X = np.array([job.detach().cpu().numpy() for job in job_titles])\n",
    "\n",
    "# we'll define group in the next code cell\n",
    "\n",
    "print('Done.')"
   ]
  },
  {
   "cell_type": "markdown",
   "id": "c77f8d17",
   "metadata": {},
   "source": [
    "## Split the data"
   ]
  },
  {
   "cell_type": "code",
   "execution_count": 247,
   "id": "4862b959",
   "metadata": {},
   "outputs": [
    {
     "name": "stdout",
     "output_type": "stream",
     "text": [
      "Done.\n"
     ]
    }
   ],
   "source": [
    "# split data into training+validation and testing sets\n",
    "X_train_val, X_test, y_train_val, y_test = train_test_split(\n",
    "    X, relevance_scores, test_size=0.2, random_state=seed\n",
    ")\n",
    "\n",
    "group_train_val = [len(X_train_val)]\n",
    "group_test = [len(X_test)]\n",
    "\n",
    "# split val set into training and validation sets\n",
    "X_train, X_val, y_train, y_val = train_test_split(\n",
    "    X_train_val, y_train_val, test_size=0.25, random_state=seed\n",
    ") # 0.25 x (1.0 - test_size) = 0.2, so validation set is 20% of the original data\n",
    "\n",
    "group_train = [len(X_train)]\n",
    "group_val = [len(X_val)]\n",
    "\n",
    "print('Done.')"
   ]
  },
  {
   "cell_type": "markdown",
   "id": "a382140a",
   "metadata": {},
   "source": [
    "## Train the LambdaRank model"
   ]
  },
  {
   "cell_type": "code",
   "execution_count": 248,
   "id": "db445fce",
   "metadata": {},
   "outputs": [
    {
     "data": {
      "text/html": [
       "<style>#sk-container-id-6 {\n",
       "  /* Definition of color scheme common for light and dark mode */\n",
       "  --sklearn-color-text: black;\n",
       "  --sklearn-color-line: gray;\n",
       "  /* Definition of color scheme for unfitted estimators */\n",
       "  --sklearn-color-unfitted-level-0: #fff5e6;\n",
       "  --sklearn-color-unfitted-level-1: #f6e4d2;\n",
       "  --sklearn-color-unfitted-level-2: #ffe0b3;\n",
       "  --sklearn-color-unfitted-level-3: chocolate;\n",
       "  /* Definition of color scheme for fitted estimators */\n",
       "  --sklearn-color-fitted-level-0: #f0f8ff;\n",
       "  --sklearn-color-fitted-level-1: #d4ebff;\n",
       "  --sklearn-color-fitted-level-2: #b3dbfd;\n",
       "  --sklearn-color-fitted-level-3: cornflowerblue;\n",
       "\n",
       "  /* Specific color for light theme */\n",
       "  --sklearn-color-text-on-default-background: var(--sg-text-color, var(--theme-code-foreground, var(--jp-content-font-color1, black)));\n",
       "  --sklearn-color-background: var(--sg-background-color, var(--theme-background, var(--jp-layout-color0, white)));\n",
       "  --sklearn-color-border-box: var(--sg-text-color, var(--theme-code-foreground, var(--jp-content-font-color1, black)));\n",
       "  --sklearn-color-icon: #696969;\n",
       "\n",
       "  @media (prefers-color-scheme: dark) {\n",
       "    /* Redefinition of color scheme for dark theme */\n",
       "    --sklearn-color-text-on-default-background: var(--sg-text-color, var(--theme-code-foreground, var(--jp-content-font-color1, white)));\n",
       "    --sklearn-color-background: var(--sg-background-color, var(--theme-background, var(--jp-layout-color0, #111)));\n",
       "    --sklearn-color-border-box: var(--sg-text-color, var(--theme-code-foreground, var(--jp-content-font-color1, white)));\n",
       "    --sklearn-color-icon: #878787;\n",
       "  }\n",
       "}\n",
       "\n",
       "#sk-container-id-6 {\n",
       "  color: var(--sklearn-color-text);\n",
       "}\n",
       "\n",
       "#sk-container-id-6 pre {\n",
       "  padding: 0;\n",
       "}\n",
       "\n",
       "#sk-container-id-6 input.sk-hidden--visually {\n",
       "  border: 0;\n",
       "  clip: rect(1px 1px 1px 1px);\n",
       "  clip: rect(1px, 1px, 1px, 1px);\n",
       "  height: 1px;\n",
       "  margin: -1px;\n",
       "  overflow: hidden;\n",
       "  padding: 0;\n",
       "  position: absolute;\n",
       "  width: 1px;\n",
       "}\n",
       "\n",
       "#sk-container-id-6 div.sk-dashed-wrapped {\n",
       "  border: 1px dashed var(--sklearn-color-line);\n",
       "  margin: 0 0.4em 0.5em 0.4em;\n",
       "  box-sizing: border-box;\n",
       "  padding-bottom: 0.4em;\n",
       "  background-color: var(--sklearn-color-background);\n",
       "}\n",
       "\n",
       "#sk-container-id-6 div.sk-container {\n",
       "  /* jupyter's `normalize.less` sets `[hidden] { display: none; }`\n",
       "     but bootstrap.min.css set `[hidden] { display: none !important; }`\n",
       "     so we also need the `!important` here to be able to override the\n",
       "     default hidden behavior on the sphinx rendered scikit-learn.org.\n",
       "     See: https://github.com/scikit-learn/scikit-learn/issues/21755 */\n",
       "  display: inline-block !important;\n",
       "  position: relative;\n",
       "}\n",
       "\n",
       "#sk-container-id-6 div.sk-text-repr-fallback {\n",
       "  display: none;\n",
       "}\n",
       "\n",
       "div.sk-parallel-item,\n",
       "div.sk-serial,\n",
       "div.sk-item {\n",
       "  /* draw centered vertical line to link estimators */\n",
       "  background-image: linear-gradient(var(--sklearn-color-text-on-default-background), var(--sklearn-color-text-on-default-background));\n",
       "  background-size: 2px 100%;\n",
       "  background-repeat: no-repeat;\n",
       "  background-position: center center;\n",
       "}\n",
       "\n",
       "/* Parallel-specific style estimator block */\n",
       "\n",
       "#sk-container-id-6 div.sk-parallel-item::after {\n",
       "  content: \"\";\n",
       "  width: 100%;\n",
       "  border-bottom: 2px solid var(--sklearn-color-text-on-default-background);\n",
       "  flex-grow: 1;\n",
       "}\n",
       "\n",
       "#sk-container-id-6 div.sk-parallel {\n",
       "  display: flex;\n",
       "  align-items: stretch;\n",
       "  justify-content: center;\n",
       "  background-color: var(--sklearn-color-background);\n",
       "  position: relative;\n",
       "}\n",
       "\n",
       "#sk-container-id-6 div.sk-parallel-item {\n",
       "  display: flex;\n",
       "  flex-direction: column;\n",
       "}\n",
       "\n",
       "#sk-container-id-6 div.sk-parallel-item:first-child::after {\n",
       "  align-self: flex-end;\n",
       "  width: 50%;\n",
       "}\n",
       "\n",
       "#sk-container-id-6 div.sk-parallel-item:last-child::after {\n",
       "  align-self: flex-start;\n",
       "  width: 50%;\n",
       "}\n",
       "\n",
       "#sk-container-id-6 div.sk-parallel-item:only-child::after {\n",
       "  width: 0;\n",
       "}\n",
       "\n",
       "/* Serial-specific style estimator block */\n",
       "\n",
       "#sk-container-id-6 div.sk-serial {\n",
       "  display: flex;\n",
       "  flex-direction: column;\n",
       "  align-items: center;\n",
       "  background-color: var(--sklearn-color-background);\n",
       "  padding-right: 1em;\n",
       "  padding-left: 1em;\n",
       "}\n",
       "\n",
       "\n",
       "/* Toggleable style: style used for estimator/Pipeline/ColumnTransformer box that is\n",
       "clickable and can be expanded/collapsed.\n",
       "- Pipeline and ColumnTransformer use this feature and define the default style\n",
       "- Estimators will overwrite some part of the style using the `sk-estimator` class\n",
       "*/\n",
       "\n",
       "/* Pipeline and ColumnTransformer style (default) */\n",
       "\n",
       "#sk-container-id-6 div.sk-toggleable {\n",
       "  /* Default theme specific background. It is overwritten whether we have a\n",
       "  specific estimator or a Pipeline/ColumnTransformer */\n",
       "  background-color: var(--sklearn-color-background);\n",
       "}\n",
       "\n",
       "/* Toggleable label */\n",
       "#sk-container-id-6 label.sk-toggleable__label {\n",
       "  cursor: pointer;\n",
       "  display: block;\n",
       "  width: 100%;\n",
       "  margin-bottom: 0;\n",
       "  padding: 0.5em;\n",
       "  box-sizing: border-box;\n",
       "  text-align: center;\n",
       "}\n",
       "\n",
       "#sk-container-id-6 label.sk-toggleable__label-arrow:before {\n",
       "  /* Arrow on the left of the label */\n",
       "  content: \"▸\";\n",
       "  float: left;\n",
       "  margin-right: 0.25em;\n",
       "  color: var(--sklearn-color-icon);\n",
       "}\n",
       "\n",
       "#sk-container-id-6 label.sk-toggleable__label-arrow:hover:before {\n",
       "  color: var(--sklearn-color-text);\n",
       "}\n",
       "\n",
       "/* Toggleable content - dropdown */\n",
       "\n",
       "#sk-container-id-6 div.sk-toggleable__content {\n",
       "  max-height: 0;\n",
       "  max-width: 0;\n",
       "  overflow: hidden;\n",
       "  text-align: left;\n",
       "  /* unfitted */\n",
       "  background-color: var(--sklearn-color-unfitted-level-0);\n",
       "}\n",
       "\n",
       "#sk-container-id-6 div.sk-toggleable__content.fitted {\n",
       "  /* fitted */\n",
       "  background-color: var(--sklearn-color-fitted-level-0);\n",
       "}\n",
       "\n",
       "#sk-container-id-6 div.sk-toggleable__content pre {\n",
       "  margin: 0.2em;\n",
       "  border-radius: 0.25em;\n",
       "  color: var(--sklearn-color-text);\n",
       "  /* unfitted */\n",
       "  background-color: var(--sklearn-color-unfitted-level-0);\n",
       "}\n",
       "\n",
       "#sk-container-id-6 div.sk-toggleable__content.fitted pre {\n",
       "  /* unfitted */\n",
       "  background-color: var(--sklearn-color-fitted-level-0);\n",
       "}\n",
       "\n",
       "#sk-container-id-6 input.sk-toggleable__control:checked~div.sk-toggleable__content {\n",
       "  /* Expand drop-down */\n",
       "  max-height: 200px;\n",
       "  max-width: 100%;\n",
       "  overflow: auto;\n",
       "}\n",
       "\n",
       "#sk-container-id-6 input.sk-toggleable__control:checked~label.sk-toggleable__label-arrow:before {\n",
       "  content: \"▾\";\n",
       "}\n",
       "\n",
       "/* Pipeline/ColumnTransformer-specific style */\n",
       "\n",
       "#sk-container-id-6 div.sk-label input.sk-toggleable__control:checked~label.sk-toggleable__label {\n",
       "  color: var(--sklearn-color-text);\n",
       "  background-color: var(--sklearn-color-unfitted-level-2);\n",
       "}\n",
       "\n",
       "#sk-container-id-6 div.sk-label.fitted input.sk-toggleable__control:checked~label.sk-toggleable__label {\n",
       "  background-color: var(--sklearn-color-fitted-level-2);\n",
       "}\n",
       "\n",
       "/* Estimator-specific style */\n",
       "\n",
       "/* Colorize estimator box */\n",
       "#sk-container-id-6 div.sk-estimator input.sk-toggleable__control:checked~label.sk-toggleable__label {\n",
       "  /* unfitted */\n",
       "  background-color: var(--sklearn-color-unfitted-level-2);\n",
       "}\n",
       "\n",
       "#sk-container-id-6 div.sk-estimator.fitted input.sk-toggleable__control:checked~label.sk-toggleable__label {\n",
       "  /* fitted */\n",
       "  background-color: var(--sklearn-color-fitted-level-2);\n",
       "}\n",
       "\n",
       "#sk-container-id-6 div.sk-label label.sk-toggleable__label,\n",
       "#sk-container-id-6 div.sk-label label {\n",
       "  /* The background is the default theme color */\n",
       "  color: var(--sklearn-color-text-on-default-background);\n",
       "}\n",
       "\n",
       "/* On hover, darken the color of the background */\n",
       "#sk-container-id-6 div.sk-label:hover label.sk-toggleable__label {\n",
       "  color: var(--sklearn-color-text);\n",
       "  background-color: var(--sklearn-color-unfitted-level-2);\n",
       "}\n",
       "\n",
       "/* Label box, darken color on hover, fitted */\n",
       "#sk-container-id-6 div.sk-label.fitted:hover label.sk-toggleable__label.fitted {\n",
       "  color: var(--sklearn-color-text);\n",
       "  background-color: var(--sklearn-color-fitted-level-2);\n",
       "}\n",
       "\n",
       "/* Estimator label */\n",
       "\n",
       "#sk-container-id-6 div.sk-label label {\n",
       "  font-family: monospace;\n",
       "  font-weight: bold;\n",
       "  display: inline-block;\n",
       "  line-height: 1.2em;\n",
       "}\n",
       "\n",
       "#sk-container-id-6 div.sk-label-container {\n",
       "  text-align: center;\n",
       "}\n",
       "\n",
       "/* Estimator-specific */\n",
       "#sk-container-id-6 div.sk-estimator {\n",
       "  font-family: monospace;\n",
       "  border: 1px dotted var(--sklearn-color-border-box);\n",
       "  border-radius: 0.25em;\n",
       "  box-sizing: border-box;\n",
       "  margin-bottom: 0.5em;\n",
       "  /* unfitted */\n",
       "  background-color: var(--sklearn-color-unfitted-level-0);\n",
       "}\n",
       "\n",
       "#sk-container-id-6 div.sk-estimator.fitted {\n",
       "  /* fitted */\n",
       "  background-color: var(--sklearn-color-fitted-level-0);\n",
       "}\n",
       "\n",
       "/* on hover */\n",
       "#sk-container-id-6 div.sk-estimator:hover {\n",
       "  /* unfitted */\n",
       "  background-color: var(--sklearn-color-unfitted-level-2);\n",
       "}\n",
       "\n",
       "#sk-container-id-6 div.sk-estimator.fitted:hover {\n",
       "  /* fitted */\n",
       "  background-color: var(--sklearn-color-fitted-level-2);\n",
       "}\n",
       "\n",
       "/* Specification for estimator info (e.g. \"i\" and \"?\") */\n",
       "\n",
       "/* Common style for \"i\" and \"?\" */\n",
       "\n",
       ".sk-estimator-doc-link,\n",
       "a:link.sk-estimator-doc-link,\n",
       "a:visited.sk-estimator-doc-link {\n",
       "  float: right;\n",
       "  font-size: smaller;\n",
       "  line-height: 1em;\n",
       "  font-family: monospace;\n",
       "  background-color: var(--sklearn-color-background);\n",
       "  border-radius: 1em;\n",
       "  height: 1em;\n",
       "  width: 1em;\n",
       "  text-decoration: none !important;\n",
       "  margin-left: 1ex;\n",
       "  /* unfitted */\n",
       "  border: var(--sklearn-color-unfitted-level-1) 1pt solid;\n",
       "  color: var(--sklearn-color-unfitted-level-1);\n",
       "}\n",
       "\n",
       ".sk-estimator-doc-link.fitted,\n",
       "a:link.sk-estimator-doc-link.fitted,\n",
       "a:visited.sk-estimator-doc-link.fitted {\n",
       "  /* fitted */\n",
       "  border: var(--sklearn-color-fitted-level-1) 1pt solid;\n",
       "  color: var(--sklearn-color-fitted-level-1);\n",
       "}\n",
       "\n",
       "/* On hover */\n",
       "div.sk-estimator:hover .sk-estimator-doc-link:hover,\n",
       ".sk-estimator-doc-link:hover,\n",
       "div.sk-label-container:hover .sk-estimator-doc-link:hover,\n",
       ".sk-estimator-doc-link:hover {\n",
       "  /* unfitted */\n",
       "  background-color: var(--sklearn-color-unfitted-level-3);\n",
       "  color: var(--sklearn-color-background);\n",
       "  text-decoration: none;\n",
       "}\n",
       "\n",
       "div.sk-estimator.fitted:hover .sk-estimator-doc-link.fitted:hover,\n",
       ".sk-estimator-doc-link.fitted:hover,\n",
       "div.sk-label-container:hover .sk-estimator-doc-link.fitted:hover,\n",
       ".sk-estimator-doc-link.fitted:hover {\n",
       "  /* fitted */\n",
       "  background-color: var(--sklearn-color-fitted-level-3);\n",
       "  color: var(--sklearn-color-background);\n",
       "  text-decoration: none;\n",
       "}\n",
       "\n",
       "/* Span, style for the box shown on hovering the info icon */\n",
       ".sk-estimator-doc-link span {\n",
       "  display: none;\n",
       "  z-index: 9999;\n",
       "  position: relative;\n",
       "  font-weight: normal;\n",
       "  right: .2ex;\n",
       "  padding: .5ex;\n",
       "  margin: .5ex;\n",
       "  width: min-content;\n",
       "  min-width: 20ex;\n",
       "  max-width: 50ex;\n",
       "  color: var(--sklearn-color-text);\n",
       "  box-shadow: 2pt 2pt 4pt #999;\n",
       "  /* unfitted */\n",
       "  background: var(--sklearn-color-unfitted-level-0);\n",
       "  border: .5pt solid var(--sklearn-color-unfitted-level-3);\n",
       "}\n",
       "\n",
       ".sk-estimator-doc-link.fitted span {\n",
       "  /* fitted */\n",
       "  background: var(--sklearn-color-fitted-level-0);\n",
       "  border: var(--sklearn-color-fitted-level-3);\n",
       "}\n",
       "\n",
       ".sk-estimator-doc-link:hover span {\n",
       "  display: block;\n",
       "}\n",
       "\n",
       "/* \"?\"-specific style due to the `<a>` HTML tag */\n",
       "\n",
       "#sk-container-id-6 a.estimator_doc_link {\n",
       "  float: right;\n",
       "  font-size: 1rem;\n",
       "  line-height: 1em;\n",
       "  font-family: monospace;\n",
       "  background-color: var(--sklearn-color-background);\n",
       "  border-radius: 1rem;\n",
       "  height: 1rem;\n",
       "  width: 1rem;\n",
       "  text-decoration: none;\n",
       "  /* unfitted */\n",
       "  color: var(--sklearn-color-unfitted-level-1);\n",
       "  border: var(--sklearn-color-unfitted-level-1) 1pt solid;\n",
       "}\n",
       "\n",
       "#sk-container-id-6 a.estimator_doc_link.fitted {\n",
       "  /* fitted */\n",
       "  border: var(--sklearn-color-fitted-level-1) 1pt solid;\n",
       "  color: var(--sklearn-color-fitted-level-1);\n",
       "}\n",
       "\n",
       "/* On hover */\n",
       "#sk-container-id-6 a.estimator_doc_link:hover {\n",
       "  /* unfitted */\n",
       "  background-color: var(--sklearn-color-unfitted-level-3);\n",
       "  color: var(--sklearn-color-background);\n",
       "  text-decoration: none;\n",
       "}\n",
       "\n",
       "#sk-container-id-6 a.estimator_doc_link.fitted:hover {\n",
       "  /* fitted */\n",
       "  background-color: var(--sklearn-color-fitted-level-3);\n",
       "}\n",
       "</style><div id=\"sk-container-id-6\" class=\"sk-top-container\"><div class=\"sk-text-repr-fallback\"><pre>LGBMRanker(importance_type=&#x27;gain&#x27;, metric=&#x27;ndcg&#x27;, objective=&#x27;lambdarank&#x27;,\n",
       "           random_state=2870)</pre><b>In a Jupyter environment, please rerun this cell to show the HTML representation or trust the notebook. <br />On GitHub, the HTML representation is unable to render, please try loading this page with nbviewer.org.</b></div><div class=\"sk-container\" hidden><div class=\"sk-item\"><div class=\"sk-estimator fitted sk-toggleable\"><input class=\"sk-toggleable__control sk-hidden--visually\" id=\"sk-estimator-id-6\" type=\"checkbox\" checked><label for=\"sk-estimator-id-6\" class=\"sk-toggleable__label fitted sk-toggleable__label-arrow fitted\">&nbsp;LGBMRanker<span class=\"sk-estimator-doc-link fitted\">i<span>Fitted</span></span></label><div class=\"sk-toggleable__content fitted\"><pre>LGBMRanker(importance_type=&#x27;gain&#x27;, metric=&#x27;ndcg&#x27;, objective=&#x27;lambdarank&#x27;,\n",
       "           random_state=2870)</pre></div> </div></div></div></div>"
      ],
      "text/plain": [
       "LGBMRanker(importance_type='gain', metric='ndcg', objective='lambdarank',\n",
       "           random_state=2870)"
      ]
     },
     "execution_count": 248,
     "metadata": {},
     "output_type": "execute_result"
    }
   ],
   "source": [
    "# initialize LambdaRank model\n",
    "ranker = lgb.LGBMRanker(\n",
    "    objective='lambdarank',\n",
    "    boosting_type='gbdt',\n",
    "    metric='ndcg', # evaluation metric\n",
    "    n_estimators=100,\n",
    "    learning_rate=0.1,\n",
    "    importance_type='gain',\n",
    "    random_state=seed\n",
    ")\n",
    "\n",
    "# train model\n",
    "ranker.fit(\n",
    "    X_train, y_train,\n",
    "    group=group_train,\n",
    "    eval_set=[(X_val, y_val)],\n",
    "    eval_group=[group_val],\n",
    "    eval_at=[5, 10] # evaluate nDCG at 5 and 10\n",
    ")"
   ]
  },
  {
   "cell_type": "markdown",
   "id": "7c1e791a",
   "metadata": {},
   "source": [
    "## Test, evaluate, and plot"
   ]
  },
  {
   "cell_type": "code",
   "execution_count": 249,
   "id": "40938bcc",
   "metadata": {},
   "outputs": [
    {
     "name": "stdout",
     "output_type": "stream",
     "text": [
      "Candidate ID: 4, Predicted score: 0.6831914069355659\n",
      "Candidate ID: 6, Predicted score: 0.6831914069355659\n",
      "Candidate ID: 12, Predicted score: 0.3220738111400713\n",
      "Candidate ID: 7, Predicted score: -0.08345109119203761\n",
      "Candidate ID: 20, Predicted score: -0.38079116232617805\n",
      "Candidate ID: 10, Predicted score: -0.5287622853540623\n",
      "Candidate ID: 8, Predicted score: -0.6810206733100771\n",
      "Candidate ID: 1, Predicted score: -0.8063554906169652\n",
      "Candidate ID: 5, Predicted score: -0.8063554906169652\n",
      "Candidate ID: 14, Predicted score: -0.9363888925878047\n",
      "Candidate ID: 3, Predicted score: -1.1099522058990874\n",
      "Candidate ID: 21, Predicted score: -1.1579183721186497\n",
      "Candidate ID: 17, Predicted score: -1.1596234836195072\n",
      "Candidate ID: 13, Predicted score: -1.3191721782739276\n",
      "Candidate ID: 18, Predicted score: -1.3280857072905452\n",
      "Candidate ID: 9, Predicted score: -1.3280857072905452\n",
      "Candidate ID: 15, Predicted score: -1.3971962323856422\n",
      "Candidate ID: 11, Predicted score: -1.3971962323856422\n",
      "Candidate ID: 2, Predicted score: -1.5614689730298539\n",
      "Candidate ID: 16, Predicted score: -1.5614689730298539\n",
      "Candidate ID: 19, Predicted score: -1.5614689730298539\n"
     ]
    }
   ],
   "source": [
    "# predict relevance scores\n",
    "y_pred = ranker.predict(X_test)\n",
    "\n",
    "# sort test data by predicted relevance\n",
    "sorted_indices = np.argsort(-y_pred)  # descending order\n",
    "sorted_candidates = np.array(candidate_ids)[sorted_indices]\n",
    "sorted_relevance = y_pred[sorted_indices]\n",
    "\n",
    "for candidate, score in zip(sorted_candidates, sorted_relevance):\n",
    "    print(f'Candidate ID: {candidate}, Predicted score: {score}')"
   ]
  },
  {
   "cell_type": "code",
   "execution_count": 250,
   "id": "bb61f7f3",
   "metadata": {},
   "outputs": [
    {
     "name": "stdout",
     "output_type": "stream",
     "text": [
      "NDCG@5: 0.9223\n"
     ]
    }
   ],
   "source": [
    "# define true relevance\n",
    "# sorted by prediction order\n",
    "true_relevance = relevance_scores[sorted_indices]\n",
    "\n",
    "# compute NDCG at k\n",
    "ndcg = ndcg_score([true_relevance], [sorted_relevance], k=5)\n",
    "print(f'NDCG@5: {ndcg:.4f}')"
   ]
  },
  {
   "cell_type": "markdown",
   "id": "c22ade06",
   "metadata": {},
   "source": [
    "A score of close to 1.0 means that the model did a good job of prioritizing the most relevant candidates."
   ]
  },
  {
   "cell_type": "code",
   "execution_count": 251,
   "id": "714e8c2d",
   "metadata": {},
   "outputs": [
    {
     "name": "stdout",
     "output_type": "stream",
     "text": [
      "MRR: 1.0000\n"
     ]
    }
   ],
   "source": [
    "def mean_reciprocal_rank(y_true, y_pred):\n",
    "    # sort by predicted relevance (descending)\n",
    "    sorted_indices = np.argsort(-y_pred)\n",
    "    # align true relevance with predictions\n",
    "    y_true_sorted = np.array(y_true)[sorted_indices]\n",
    "\n",
    "    for i, relevance in enumerate(y_true_sorted):\n",
    "        if relevance > 0:  # Find first relevant item\n",
    "            return 1 / (i + 1)\n",
    "    return 0  # no relevant items found\n",
    "\n",
    "mrr = mean_reciprocal_rank(true_relevance, sorted_relevance)\n",
    "print(f'MRR: {mrr:.4f}')"
   ]
  },
  {
   "cell_type": "markdown",
   "id": "8e20a5ea",
   "metadata": {},
   "source": [
    "The MRR is the average of the reciprocal ranks (1 for first place, 1/2 for second place, 1/3 for third place, and so on). Values closer to 1 mean that the model did a good job of ordering candidates."
   ]
  },
  {
   "cell_type": "code",
   "execution_count": 252,
   "id": "a09db6f3",
   "metadata": {},
   "outputs": [
    {
     "name": "stderr",
     "output_type": "stream",
     "text": [
      "[I 2024-12-09 17:29:02,315] A new study created in memory with name: no-name-08712bb6-fb56-4c97-93fc-84c7858fe5c5\n",
      "[I 2024-12-09 17:29:02,346] Trial 0 finished with value: 0.2780234140403975 and parameters: {'n_estimators': 90, 'learning_rate': 0.062225825037531, 'num_leaves': 22, 'min_child_samples': 13, 'lambda_l1': 0.904589337273857, 'lambda_l2': 0.34606677118728446}. Best is trial 0 with value: 0.2780234140403975.\n",
      "[I 2024-12-09 17:29:02,397] Trial 1 finished with value: 0.2780234140403975 and parameters: {'n_estimators': 210, 'learning_rate': 0.25189455481927503, 'num_leaves': 23, 'min_child_samples': 10, 'lambda_l1': 0.7763802697440708, 'lambda_l2': 0.8601047579098179}. Best is trial 0 with value: 0.2780234140403975.\n",
      "[I 2024-12-09 17:29:02,478] Trial 2 finished with value: 0.2780234140403975 and parameters: {'n_estimators': 482, 'learning_rate': 0.16751977125720752, 'num_leaves': 20, 'min_child_samples': 18, 'lambda_l1': 0.9466116085532581, 'lambda_l2': 0.11242222504827004}. Best is trial 0 with value: 0.2780234140403975.\n",
      "[I 2024-12-09 17:29:02,557] Trial 3 finished with value: 0.44483628264122543 and parameters: {'n_estimators': 242, 'learning_rate': 0.10426235384973434, 'num_leaves': 57, 'min_child_samples': 19, 'lambda_l1': 0.6110419730461658, 'lambda_l2': 0.24543431032727248}. Best is trial 3 with value: 0.44483628264122543.\n",
      "[I 2024-12-09 17:29:02,703] Trial 4 finished with value: 0.44483628264122543 and parameters: {'n_estimators': 428, 'learning_rate': 0.04065562667613509, 'num_leaves': 51, 'min_child_samples': 18, 'lambda_l1': 0.3235488352851915, 'lambda_l2': 0.12788900478462173}. Best is trial 3 with value: 0.44483628264122543.\n",
      "[I 2024-12-09 17:29:02,756] Trial 5 finished with value: 0.2780234140403975 and parameters: {'n_estimators': 351, 'learning_rate': 0.054475112615461806, 'num_leaves': 77, 'min_child_samples': 39, 'lambda_l1': 0.8763916518753532, 'lambda_l2': 0.9001542896854938}. Best is trial 3 with value: 0.44483628264122543.\n",
      "[I 2024-12-09 17:29:02,800] Trial 6 finished with value: 0.5233853870104085 and parameters: {'n_estimators': 127, 'learning_rate': 0.2999397240600253, 'num_leaves': 64, 'min_child_samples': 10, 'lambda_l1': 0.18578253205965234, 'lambda_l2': 0.3502667908043334}. Best is trial 6 with value: 0.5233853870104085.\n",
      "[I 2024-12-09 17:29:02,843] Trial 7 finished with value: 0.2780234140403975 and parameters: {'n_estimators': 181, 'learning_rate': 0.23738447110532665, 'num_leaves': 27, 'min_child_samples': 31, 'lambda_l1': 0.6435588762033898, 'lambda_l2': 0.6033442438407548}. Best is trial 6 with value: 0.5233853870104085.\n",
      "[I 2024-12-09 17:29:02,950] Trial 8 finished with value: 0.5233853870104085 and parameters: {'n_estimators': 398, 'learning_rate': 0.2993108669320039, 'num_leaves': 46, 'min_child_samples': 14, 'lambda_l1': 0.24367126423369123, 'lambda_l2': 0.25025698360719617}. Best is trial 6 with value: 0.5233853870104085.\n",
      "[I 2024-12-09 17:29:03,017] Trial 9 finished with value: 0.2780234140403975 and parameters: {'n_estimators': 280, 'learning_rate': 0.19804006722864761, 'num_leaves': 36, 'min_child_samples': 13, 'lambda_l1': 0.8360036993467816, 'lambda_l2': 0.7803918329801215}. Best is trial 6 with value: 0.5233853870104085.\n",
      "[I 2024-12-09 17:29:03,043] Trial 10 finished with value: 0.2780234140403975 and parameters: {'n_estimators': 57, 'learning_rate': 0.29814675323352086, 'num_leaves': 98, 'min_child_samples': 45, 'lambda_l1': 0.023405740805575975, 'lambda_l2': 0.5189635555651774}. Best is trial 6 with value: 0.5233853870104085.\n",
      "[I 2024-12-09 17:29:03,152] Trial 11 finished with value: 0.5233853870104085 and parameters: {'n_estimators': 350, 'learning_rate': 0.29237377075684506, 'num_leaves': 73, 'min_child_samples': 5, 'lambda_l1': 0.24642023232429777, 'lambda_l2': 0.3281523105021356}. Best is trial 6 with value: 0.5233853870104085.\n",
      "[I 2024-12-09 17:29:03,283] Trial 12 finished with value: 0.24656404964344736 and parameters: {'n_estimators': 339, 'learning_rate': 0.24388278081267206, 'num_leaves': 46, 'min_child_samples': 26, 'lambda_l1': 0.21080035365480732, 'lambda_l2': 0.025523176443656315}. Best is trial 6 with value: 0.5233853870104085.\n",
      "[I 2024-12-09 17:29:03,352] Trial 13 finished with value: 0.3742799893827492 and parameters: {'n_estimators': 135, 'learning_rate': 0.20596164483240542, 'num_leaves': 69, 'min_child_samples': 5, 'lambda_l1': 0.4109871313187939, 'lambda_l2': 0.41057837496060373}. Best is trial 6 with value: 0.5233853870104085.\n",
      "[I 2024-12-09 17:29:03,518] Trial 14 finished with value: 0.44483628264122543 and parameters: {'n_estimators': 426, 'learning_rate': 0.1256862627211352, 'num_leaves': 40, 'min_child_samples': 28, 'lambda_l1': 0.054807303657532974, 'lambda_l2': 0.5997369867555856}. Best is trial 6 with value: 0.5233853870104085.\n",
      "[I 2024-12-09 17:29:03,630] Trial 15 finished with value: 0.3742799893827492 and parameters: {'n_estimators': 307, 'learning_rate': 0.2666232270593181, 'num_leaves': 86, 'min_child_samples': 20, 'lambda_l1': 0.15429199426078213, 'lambda_l2': 0.21309225329999015}. Best is trial 6 with value: 0.5233853870104085.\n",
      "[I 2024-12-09 17:29:03,686] Trial 16 finished with value: 0.44483628264122543 and parameters: {'n_estimators': 142, 'learning_rate': 0.2982807589282336, 'num_leaves': 63, 'min_child_samples': 11, 'lambda_l1': 0.4051165808892784, 'lambda_l2': 0.4659014933417036}. Best is trial 6 with value: 0.5233853870104085.\n",
      "[I 2024-12-09 17:29:03,702] Trial 17 pruned. Trial was pruned at iteration 0.\n",
      "[I 2024-12-09 17:29:03,833] Trial 18 finished with value: 0.44483628264122543 and parameters: {'n_estimators': 483, 'learning_rate': 0.15483172132862735, 'num_leaves': 84, 'min_child_samples': 24, 'lambda_l1': 0.11554660638501449, 'lambda_l2': 0.7024832749185058}. Best is trial 6 with value: 0.5233853870104085.\n",
      "[I 2024-12-09 17:29:03,973] Trial 19 finished with value: 0.44483628264122543 and parameters: {'n_estimators': 230, 'learning_rate': 0.013893340196551002, 'num_leaves': 33, 'min_child_samples': 8, 'lambda_l1': 0.2904581504876433, 'lambda_l2': 0.014577020519205508}. Best is trial 6 with value: 0.5233853870104085.\n",
      "[I 2024-12-09 17:29:04,084] Trial 20 finished with value: 0.44483628264122543 and parameters: {'n_estimators': 391, 'learning_rate': 0.27156145243746155, 'num_leaves': 50, 'min_child_samples': 15, 'lambda_l1': 0.38100309401482946, 'lambda_l2': 0.3574842262043514}. Best is trial 6 with value: 0.5233853870104085.\n",
      "[I 2024-12-09 17:29:04,231] Trial 21 finished with value: 0.5233853870104085 and parameters: {'n_estimators': 360, 'learning_rate': 0.2865920195654486, 'num_leaves': 70, 'min_child_samples': 5, 'lambda_l1': 0.21821577546903304, 'lambda_l2': 0.30999145170594855}. Best is trial 6 with value: 0.5233853870104085.\n",
      "[I 2024-12-09 17:29:04,332] Trial 22 finished with value: 0.44483628264122543 and parameters: {'n_estimators': 296, 'learning_rate': 0.2696938471383191, 'num_leaves': 67, 'min_child_samples': 8, 'lambda_l1': 0.2651864065660762, 'lambda_l2': 0.16188326351424875}. Best is trial 6 with value: 0.5233853870104085.\n",
      "[I 2024-12-09 17:29:04,436] Trial 23 finished with value: 0.5233853870104085 and parameters: {'n_estimators': 343, 'learning_rate': 0.23025335318476203, 'num_leaves': 78, 'min_child_samples': 5, 'lambda_l1': 0.1381884310192129, 'lambda_l2': 0.43764001996456114}. Best is trial 6 with value: 0.5233853870104085.\n",
      "[I 2024-12-09 17:29:04,623] Trial 24 finished with value: 0.5233853870104085 and parameters: {'n_estimators': 385, 'learning_rate': 0.27606812570943334, 'num_leaves': 76, 'min_child_samples': 15, 'lambda_l1': 0.0006468128059353428, 'lambda_l2': 0.2937309435406251}. Best is trial 6 with value: 0.5233853870104085.\n",
      "[I 2024-12-09 17:29:04,705] Trial 25 finished with value: 0.44483628264122543 and parameters: {'n_estimators': 260, 'learning_rate': 0.22332175883642008, 'num_leaves': 45, 'min_child_samples': 22, 'lambda_l1': 0.5373878428247794, 'lambda_l2': 0.5447112690897035}. Best is trial 6 with value: 0.5233853870104085.\n",
      "[I 2024-12-09 17:29:04,837] Trial 26 finished with value: 0.5233853870104085 and parameters: {'n_estimators': 455, 'learning_rate': 0.29983014232961386, 'num_leaves': 96, 'min_child_samples': 9, 'lambda_l1': 0.20708434392738476, 'lambda_l2': 0.3957958965014392}. Best is trial 6 with value: 0.5233853870104085.\n"
     ]
    },
    {
     "name": "stderr",
     "output_type": "stream",
     "text": [
      "[I 2024-12-09 17:29:04,939] Trial 27 finished with value: 0.44483628264122543 and parameters: {'n_estimators': 314, 'learning_rate': 0.25533087069157956, 'num_leaves': 53, 'min_child_samples': 16, 'lambda_l1': 0.34173933422124847, 'lambda_l2': 0.17312604887638156}. Best is trial 6 with value: 0.5233853870104085.\n",
      "[I 2024-12-09 17:29:05,019] Trial 28 finished with value: 0.5233853870104085 and parameters: {'n_estimators': 177, 'learning_rate': 0.19294262092433873, 'num_leaves': 64, 'min_child_samples': 12, 'lambda_l1': 0.11503656981940036, 'lambda_l2': 0.09553118409552253}. Best is trial 6 with value: 0.5233853870104085.\n",
      "[I 2024-12-09 17:29:05,038] Trial 29 pruned. Trial was pruned at iteration 0.\n",
      "[I 2024-12-09 17:29:05,181] Trial 30 finished with value: 0.44483628264122543 and parameters: {'n_estimators': 389, 'learning_rate': 0.09575871913631376, 'num_leaves': 58, 'min_child_samples': 13, 'lambda_l1': 0.2497638542676224, 'lambda_l2': 0.3478517459865689}. Best is trial 6 with value: 0.5233853870104085.\n",
      "[I 2024-12-09 17:29:05,287] Trial 31 finished with value: 0.5233853870104085 and parameters: {'n_estimators': 377, 'learning_rate': 0.2829765925914227, 'num_leaves': 72, 'min_child_samples': 5, 'lambda_l1': 0.19761993030458436, 'lambda_l2': 0.2806074390452424}. Best is trial 6 with value: 0.5233853870104085.\n",
      "[I 2024-12-09 17:29:05,412] Trial 32 finished with value: 0.3742799893827492 and parameters: {'n_estimators': 356, 'learning_rate': 0.2865559270632279, 'num_leaves': 73, 'min_child_samples': 8, 'lambda_l1': 0.27448795767438017, 'lambda_l2': 0.38643306859648313}. Best is trial 6 with value: 0.5233853870104085.\n",
      "[I 2024-12-09 17:29:05,539] Trial 33 finished with value: 0.5233853870104085 and parameters: {'n_estimators': 441, 'learning_rate': 0.2596414289111287, 'num_leaves': 83, 'min_child_samples': 10, 'lambda_l1': 0.060349872118029196, 'lambda_l2': 0.2015428205451224}. Best is trial 6 with value: 0.5233853870104085.\n",
      "[I 2024-12-09 17:29:05,637] Trial 34 finished with value: 0.5233853870104085 and parameters: {'n_estimators': 317, 'learning_rate': 0.2856447455217474, 'num_leaves': 64, 'min_child_samples': 7, 'lambda_l1': 0.3463775645144509, 'lambda_l2': 0.294937026293984}. Best is trial 6 with value: 0.5233853870104085.\n",
      "[I 2024-12-09 17:29:05,763] Trial 35 finished with value: 0.44483628264122543 and parameters: {'n_estimators': 410, 'learning_rate': 0.24905719405861496, 'num_leaves': 70, 'min_child_samples': 11, 'lambda_l1': 0.1769830592143756, 'lambda_l2': 0.45891199519498416}. Best is trial 6 with value: 0.5233853870104085.\n",
      "[I 2024-12-09 17:29:05,781] Trial 36 pruned. Trial was pruned at iteration 0.\n",
      "[I 2024-12-09 17:29:05,905] Trial 37 finished with value: 0.44483628264122543 and parameters: {'n_estimators': 363, 'learning_rate': 0.2523459445706633, 'num_leaves': 79, 'min_child_samples': 5, 'lambda_l1': 0.4344330815047581, 'lambda_l2': 0.33068033179492146}. Best is trial 6 with value: 0.5233853870104085.\n",
      "[I 2024-12-09 17:29:05,929] Trial 38 pruned. Trial was pruned at iteration 0.\n",
      "[I 2024-12-09 17:29:06,011] Trial 39 finished with value: 0.3742799893827492 and parameters: {'n_estimators': 199, 'learning_rate': 0.23648049090948475, 'num_leaves': 62, 'min_child_samples': 7, 'lambda_l1': 0.3085769414114446, 'lambda_l2': 0.2351985355454903}. Best is trial 6 with value: 0.5233853870104085.\n",
      "[I 2024-12-09 17:29:06,137] Trial 40 finished with value: 0.5440217798834552 and parameters: {'n_estimators': 330, 'learning_rate': 0.2650877400554769, 'num_leaves': 27, 'min_child_samples': 13, 'lambda_l1': 0.23649613067389294, 'lambda_l2': 0.5505887376152638}. Best is trial 40 with value: 0.5440217798834552.\n",
      "[I 2024-12-09 17:29:06,276] Trial 41 finished with value: 0.44483628264122543 and parameters: {'n_estimators': 319, 'learning_rate': 0.29037552125549315, 'num_leaves': 28, 'min_child_samples': 14, 'lambda_l1': 0.18482826593563045, 'lambda_l2': 0.5060447898939089}. Best is trial 40 with value: 0.5440217798834552.\n",
      "[I 2024-12-09 17:29:06,415] Trial 42 finished with value: 0.5233853870104085 and parameters: {'n_estimators': 335, 'learning_rate': 0.2652319677680587, 'num_leaves': 24, 'min_child_samples': 10, 'lambda_l1': 0.24819011623301104, 'lambda_l2': 0.5769986846117066}. Best is trial 40 with value: 0.5440217798834552.\n",
      "[I 2024-12-09 17:29:06,515] Trial 43 finished with value: 0.44483628264122543 and parameters: {'n_estimators': 293, 'learning_rate': 0.2797927805959973, 'num_leaves': 33, 'min_child_samples': 17, 'lambda_l1': 0.2354142970766196, 'lambda_l2': 0.6536006276745527}. Best is trial 40 with value: 0.5440217798834552.\n",
      "[I 2024-12-09 17:29:06,535] Trial 44 pruned. Trial was pruned at iteration 0.\n",
      "[I 2024-12-09 17:29:06,614] Trial 45 finished with value: 0.5440217798834552 and parameters: {'n_estimators': 234, 'learning_rate': 0.24098347134013026, 'num_leaves': 67, 'min_child_samples': 13, 'lambda_l1': 0.35667190549507455, 'lambda_l2': 0.3983265109856727}. Best is trial 40 with value: 0.5440217798834552.\n",
      "[I 2024-12-09 17:29:06,633] Trial 46 pruned. Trial was pruned at iteration 0.\n",
      "[I 2024-12-09 17:29:06,677] Trial 47 finished with value: 0.5440217798834552 and parameters: {'n_estimators': 77, 'learning_rate': 0.24019449233274934, 'num_leaves': 66, 'min_child_samples': 13, 'lambda_l1': 0.30266716300958113, 'lambda_l2': 0.47576317884455355}. Best is trial 40 with value: 0.5440217798834552.\n",
      "[I 2024-12-09 17:29:06,698] Trial 48 pruned. Trial was pruned at iteration 0.\n",
      "[I 2024-12-09 17:29:06,720] Trial 49 pruned. Trial was pruned at iteration 0.\n"
     ]
    },
    {
     "name": "stdout",
     "output_type": "stream",
     "text": [
      "Best parameters: {'n_estimators': 330, 'learning_rate': 0.2650877400554769, 'num_leaves': 27, 'min_child_samples': 13, 'lambda_l1': 0.23649613067389294, 'lambda_l2': 0.5505887376152638}\n"
     ]
    }
   ],
   "source": [
    "# Define objective function\n",
    "def objective(trial):\n",
    "    params = {\n",
    "        'objective': 'lambdarank',\n",
    "        'boosting_type': 'gbdt',\n",
    "        'metric': 'ndcg',\n",
    "        'n_estimators': trial.suggest_int('n_estimators', 50, 500),\n",
    "        'learning_rate': trial.suggest_float('learning_rate', 0.01, 0.3),\n",
    "        'num_leaves': trial.suggest_int('num_leaves', 20, 100),\n",
    "        'min_child_samples': trial.suggest_int('min_child_samples', 5, 50),\n",
    "        'lambda_l1': trial.suggest_float('lambda_l1', 0.0, 1.0),\n",
    "        'lambda_l2': trial.suggest_float('lambda_l2', 0.0, 1.0),\n",
    "        'random_state': seed,\n",
    "        'verbose': -1\n",
    "    }\n",
    "    \n",
    "    ranker = lgb.LGBMRanker(**params)\n",
    "    ranker.fit(\n",
    "        X_train, y_train,\n",
    "        group=group_train,\n",
    "        eval_set=[(X_val, y_val)],\n",
    "        eval_group=[group_val],\n",
    "        eval_at=[5],\n",
    "        callbacks=[LightGBMPruningCallback(trial, 'ndcg@5')]\n",
    "    )\n",
    "    \n",
    "    # Evaluate on validation set\n",
    "    y_val_pred = ranker.predict(X_val)\n",
    "    ndcg_val = ndcg_score([y_val], [y_val_pred], k=5)\n",
    "    return ndcg_val\n",
    "\n",
    "# Run Optuna study\n",
    "study = optuna.create_study(direction='maximize')\n",
    "study.optimize(objective, n_trials=50)\n",
    "\n",
    "# Best parameters\n",
    "print(\"Best parameters:\", study.best_params)"
   ]
  },
  {
   "cell_type": "code",
   "execution_count": 253,
   "id": "e91ebb9c",
   "metadata": {},
   "outputs": [
    {
     "name": "stdout",
     "output_type": "stream",
     "text": [
      "{'n_estimators': 330, 'learning_rate': 0.2650877400554769, 'num_leaves': 27, 'min_child_samples': 13, 'lambda_l1': 0.23649613067389294, 'lambda_l2': 0.5505887376152638, 'verbose_eval': -1, 'verbose': -1, 'random_state': 2870}\n"
     ]
    }
   ],
   "source": [
    "best_params = study.best_params\n",
    "\n",
    "# add verbosity to quiet LightGBM\n",
    "best_params['verbose_eval'] = -1\n",
    "best_params['verbose'] = -1\n",
    "best_params['random_state'] = seed\n",
    "\n",
    "print(best_params)"
   ]
  },
  {
   "cell_type": "code",
   "execution_count": 254,
   "id": "2eb688b6",
   "metadata": {
    "scrolled": false
   },
   "outputs": [
    {
     "name": "stdout",
     "output_type": "stream",
     "text": [
      "Candidate ID: 4, Predicted score: 0.6694749543529086\n",
      "Candidate ID: 6, Predicted score: 0.6694749543529086\n",
      "Candidate ID: 12, Predicted score: 0.45922109636842073\n",
      "Candidate ID: 7, Predicted score: -0.02359517978021628\n",
      "Candidate ID: 14, Predicted score: -0.18109075713835937\n",
      "Candidate ID: 8, Predicted score: -0.26385552978588345\n",
      "Candidate ID: 10, Predicted score: -0.34639538030624795\n",
      "Candidate ID: 20, Predicted score: -0.3926010577320901\n",
      "Candidate ID: 21, Predicted score: -0.5083628246111311\n",
      "Candidate ID: 1, Predicted score: -0.6969702529991453\n",
      "Candidate ID: 5, Predicted score: -0.6969702529991453\n",
      "Candidate ID: 3, Predicted score: -0.7735751894603126\n",
      "Candidate ID: 17, Predicted score: -0.8251214377581804\n",
      "Candidate ID: 15, Predicted score: -0.8949038473907283\n",
      "Candidate ID: 11, Predicted score: -0.8949038473907283\n",
      "Candidate ID: 13, Predicted score: -0.967172851508665\n",
      "Candidate ID: 2, Predicted score: -0.9990014096790636\n",
      "Candidate ID: 16, Predicted score: -0.9990014096790636\n",
      "Candidate ID: 19, Predicted score: -0.9990014096790636\n",
      "Candidate ID: 18, Predicted score: -1.0835112757787415\n",
      "Candidate ID: 9, Predicted score: -1.0835112757787415\n",
      "NDCG@5: 0.8969\n",
      "MRR: 1.0000\n"
     ]
    }
   ],
   "source": [
    "ranker = lgb.LGBMRanker(**best_params)\n",
    "\n",
    "# train model\n",
    "ranker.fit(\n",
    "    X_train, y_train,\n",
    "    group=group_train,\n",
    "    eval_set=[(X_val, y_val)],\n",
    "    eval_group=[group_val],\n",
    "    eval_at=[5, 10] # evaluate nDCG at 5 and 10\n",
    ")\n",
    "\n",
    "# predict relevance scores\n",
    "y_pred = ranker.predict(X_test)\n",
    "\n",
    "# sort test data by predicted relevance\n",
    "sorted_indices = np.argsort(-y_pred)  # descending order\n",
    "sorted_candidates = np.array(candidate_ids)[sorted_indices]\n",
    "sorted_relevance = y_pred[sorted_indices]\n",
    "\n",
    "for candidate, score in zip(sorted_candidates, sorted_relevance):\n",
    "    print(f'Candidate ID: {candidate}, Predicted score: {score}')\n",
    "    \n",
    "# define true relevance\n",
    "# sorted by prediction order\n",
    "true_relevance = relevance_scores[sorted_indices]\n",
    "\n",
    "# compute NDCG at k\n",
    "k = 5\n",
    "ndcg = ndcg_score([true_relevance], [sorted_relevance], k=k)\n",
    "print(f'NDCG@{k}: {ndcg:.4f}')\n",
    "\n",
    "def mean_reciprocal_rank(y_true, y_pred):\n",
    "    # sort by predicted relevance (descending)\n",
    "    sorted_indices = np.argsort(-y_pred)\n",
    "    # align true relevance with predictions\n",
    "    y_true_sorted = np.array(y_true)[sorted_indices]\n",
    "\n",
    "    for i, relevance in enumerate(y_true_sorted):\n",
    "        if relevance > 0:  # Find first relevant item\n",
    "            return 1 / (i + 1)\n",
    "    return 0  # no relevant items found\n",
    "\n",
    "mrr = mean_reciprocal_rank(true_relevance, sorted_relevance)\n",
    "print(f'MRR: {mrr:.4f}')"
   ]
  },
  {
   "cell_type": "markdown",
   "id": "926bc446",
   "metadata": {},
   "source": [
    "Interestingly, the tuned model produced a worse result. We will use the base model for our visualization and wrap-up."
   ]
  },
  {
   "cell_type": "markdown",
   "id": "e54ee3a6",
   "metadata": {},
   "source": [
    "### Plot results"
   ]
  },
  {
   "cell_type": "markdown",
   "id": "b16447c9",
   "metadata": {},
   "source": [
    "Again, we are using the base algorithm as it gave us a better NDCG score."
   ]
  },
  {
   "cell_type": "code",
   "execution_count": 255,
   "id": "01ea610c",
   "metadata": {},
   "outputs": [
    {
     "name": "stdout",
     "output_type": "stream",
     "text": [
      "Candidate ID: 4, Predicted score: 0.6831914069355659\n",
      "Candidate ID: 6, Predicted score: 0.6831914069355659\n",
      "Candidate ID: 12, Predicted score: 0.3220738111400713\n",
      "Candidate ID: 7, Predicted score: -0.08345109119203761\n",
      "Candidate ID: 20, Predicted score: -0.38079116232617805\n",
      "Candidate ID: 10, Predicted score: -0.5287622853540623\n",
      "Candidate ID: 8, Predicted score: -0.6810206733100771\n",
      "Candidate ID: 1, Predicted score: -0.8063554906169652\n",
      "Candidate ID: 5, Predicted score: -0.8063554906169652\n",
      "Candidate ID: 14, Predicted score: -0.9363888925878047\n",
      "Candidate ID: 3, Predicted score: -1.1099522058990874\n",
      "Candidate ID: 21, Predicted score: -1.1579183721186497\n",
      "Candidate ID: 17, Predicted score: -1.1596234836195072\n",
      "Candidate ID: 13, Predicted score: -1.3191721782739276\n",
      "Candidate ID: 18, Predicted score: -1.3280857072905452\n",
      "Candidate ID: 9, Predicted score: -1.3280857072905452\n",
      "Candidate ID: 15, Predicted score: -1.3971962323856422\n",
      "Candidate ID: 11, Predicted score: -1.3971962323856422\n",
      "Candidate ID: 2, Predicted score: -1.5614689730298539\n",
      "Candidate ID: 16, Predicted score: -1.5614689730298539\n",
      "Candidate ID: 19, Predicted score: -1.5614689730298539\n",
      "NDCG@5, k=5: 0.9223\n",
      "MRR: 1.0000\n"
     ]
    }
   ],
   "source": [
    "# initialize LambdaRank model\n",
    "ranker = lgb.LGBMRanker(\n",
    "    objective='lambdarank',\n",
    "    boosting_type='gbdt',\n",
    "    metric='ndcg', # evaluation metric\n",
    "    n_estimators=100,\n",
    "    learning_rate=0.1,\n",
    "    importance_type='gain',\n",
    "    random_state=seed\n",
    ")\n",
    "\n",
    "# train model\n",
    "ranker.fit(\n",
    "    X_train, y_train,\n",
    "    group=group_train,\n",
    "    eval_set=[(X_val, y_val)],\n",
    "    eval_group=[group_val],\n",
    "    eval_at=[5, 10] # evaluate nDCG at 5 and 10\n",
    ")\n",
    "\n",
    "# predict relevance scores\n",
    "y_pred = ranker.predict(X_test)\n",
    "\n",
    "# sort test data by predicted relevance\n",
    "sorted_indices = np.argsort(-y_pred)  # descending order\n",
    "sorted_candidates = np.array(candidate_ids)[sorted_indices]\n",
    "sorted_relevance = y_pred[sorted_indices]\n",
    "true_relevance = relevance_scores[sorted_indices] # define true relevance sorted by prediction order\n",
    "\n",
    "for candidate, score in zip(sorted_candidates, sorted_relevance):\n",
    "    print(f'Candidate ID: {candidate}, Predicted score: {score}')\n",
    "\n",
    "# compute evaluation metrics\n",
    "def compute_metrics(y_true, y_pred, k=5):\n",
    "    ndcg = ndcg_score([y_true], [y_pred], k=k)\n",
    "    mrr = mean_reciprocal_rank(y_true, y_pred)\n",
    "    return ndcg, mrr\n",
    "\n",
    "k = 5\n",
    "ndcg, mrr = compute_metrics(true_relevance, sorted_relevance, k=k)\n",
    "print(f'NDCG@5, k={k}: {ndcg:.4f}')\n",
    "print(f'MRR: {mrr:.4f}')"
   ]
  },
  {
   "cell_type": "code",
   "execution_count": 263,
   "id": "2c993093",
   "metadata": {},
   "outputs": [
    {
     "data": {
      "image/png": "[encoded data removed]",
      "text/plain": [
       "<Figure size 640x480 with 1 Axes>"
      ]
     },
     "metadata": {},
     "output_type": "display_data"
    }
   ],
   "source": [
    "# use sorted_candidates as the x-axis categories in the proper order\n",
    "plt.bar(range(len(sorted_candidates)), sorted_relevance, color='cornflowerblue')\n",
    "\n",
    "# adjust x-axis labels\n",
    "plt.xticks(\n",
    "    ticks=range(len(sorted_candidates)), # positions\n",
    "    labels=sorted_candidates,            # candidate IDs in proper order\n",
    "    rotation=90, \n",
    "    fontsize=8\n",
    ")\n",
    "\n",
    "# labels and title\n",
    "plt.xlabel('Candidate IDs (sorted by predicted relevance)', fontsize=12)\n",
    "plt.ylabel('Predicted Relevance Score', fontsize=12)\n",
    "plt.title('Predicted Relevance Scores (Descending)', fontsize=14)\n",
    "plt.xticks(rotation=0)\n",
    "\n",
    "# grid and layout adjustments\n",
    "plt.grid(axis='y', linestyle='--', alpha=0.7)\n",
    "plt.tight_layout()\n",
    "\n",
    "plt.savefig('figures/3_predicted_relevance.jpg', bbox_inches='tight')\n",
    "\n",
    "plt.show()"
   ]
  },
  {
   "cell_type": "markdown",
   "id": "403f60f6",
   "metadata": {},
   "source": [
    "Here, each bar represents a candidate ID with its predicted score on the y-axis. The model is showing that candidate 4 and 6 have the most relevance to the target, while 16 and 19 have the least."
   ]
  },
  {
   "cell_type": "code",
   "execution_count": 266,
   "id": "19408e07",
   "metadata": {},
   "outputs": [
    {
     "data": {
      "image/png": "[encoded data removed]",
      "text/plain": [
       "<Figure size 1200x600 with 1 Axes>"
      ]
     },
     "metadata": {},
     "output_type": "display_data"
    }
   ],
   "source": [
    "N = len(sorted_candidates)\n",
    "top_sorted_relevance = sorted_relevance[:N]\n",
    "top_true_relevance = true_relevance[:N]\n",
    "top_candidates = sorted_candidates[:N]  # for x-axis labeling\n",
    "\n",
    "plt.figure(figsize=(12, 6))\n",
    "\n",
    "# plot predicted relevance scores\n",
    "plt.plot(\n",
    "    range(N),\n",
    "    top_sorted_relevance,\n",
    "    label='Predicted Relevance',\n",
    "    marker='o',\n",
    "    linestyle='--',\n",
    "    color='cornflowerblue'\n",
    ")\n",
    "\n",
    "# annotate predicted scores\n",
    "# for i, score in enumerate(top_sorted_relevance):\n",
    "#     plt.text(i, score, f\"{score:.2f}\", fontsize=8, color='blue', ha='center')\n",
    "\n",
    "# plot true relevance scores\n",
    "plt.plot(\n",
    "    range(N),\n",
    "    top_true_relevance,\n",
    "    label='True Relevance',\n",
    "    marker='o',\n",
    "    linestyle='-',\n",
    "    color='coral'\n",
    ")\n",
    "\n",
    "# annotate true scores\n",
    "# for i, score in enumerate(top_true_relevance):\n",
    "#     plt.text(i, score, f\"{score:.2f}\", fontsize=8, color='red', ha='center')\n",
    "\n",
    "# set x-axis with top candidate IDs\n",
    "plt.xticks(range(N), labels=top_candidates, fontsize=10)\n",
    "\n",
    "plt.xlabel('Candidates', fontsize=12)\n",
    "plt.ylabel('Relevance Score', fontsize=12)\n",
    "plt.title('Rank Comparison: Predicted vs True Relevance', fontsize=14)\n",
    "\n",
    "plt.legend(fontsize=12)\n",
    "plt.grid(alpha=0.3)\n",
    "plt.tight_layout()\n",
    "\n",
    "plt.savefig('figures/3_predicted_vs_true_relevance.jpg', bbox_inches='tight')\n",
    "\n",
    "plt.show()"
   ]
  },
  {
   "cell_type": "markdown",
   "id": "0b4e120b",
   "metadata": {},
   "source": [
    "The results of this figure suggest that the model is not able to align with the true labels. Although it achieved high NDCG and MRR scores, there are only 21 candidates in the test set and 104 candidates in the entire dataset."
   ]
  },
  {
   "cell_type": "markdown",
   "id": "3c9d1491",
   "metadata": {},
   "source": [
    "This was a good exploration of the LambdaRank algorithm on comparing job candidates."
   ]
  }
 ],
 "metadata": {
  "kernelspec": {
   "display_name": "apziva_3lgb",
   "language": "python",
   "name": "apziva_3lgb"
  },
  "language_info": {
   "codemirror_mode": {
    "name": "ipython",
    "version": 3
   },
   "file_extension": ".py",
   "mimetype": "text/x-python",
   "name": "python",
   "nbconvert_exporter": "python",
   "pygments_lexer": "ipython3",
   "version": "3.12.7"
  }
 },
 "nbformat": 4,
 "nbformat_minor": 5
}
