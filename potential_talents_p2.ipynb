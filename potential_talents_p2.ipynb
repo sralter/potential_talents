{
 "cells": [
  {
   "cell_type": "markdown",
   "id": "37b2f32a-c997-4d43-968a-a0963e556dbc",
   "metadata": {},
   "source": [
    "# Potential Talents - An Apziva Project (#3)"
   ]
  },
  {
   "cell_type": "markdown",
   "id": "45280031-db40-495c-9dad-cc58a57a5dd7",
   "metadata": {},
   "source": [
    "# Proceed to the [previous notebook](potential_talents_p1.ipynb) to view the EDA and initial NLP work."
   ]
  },
  {
   "cell_type": "markdown",
   "id": "a60e075c-97b1-4aa3-8396-fe660e6d9707",
   "metadata": {},
   "source": [
    "# Modeling"
   ]
  },
  {
   "cell_type": "markdown",
   "id": "fb875fcb-ee22-4a1a-8d4a-8eea9ce24dcf",
   "metadata": {},
   "source": [
    "By Samuel Alter"
   ]
  },
  {
   "cell_type": "markdown",
   "id": "6562e442-1f9d-4e22-977b-94499c9788b8",
   "metadata": {},
   "source": [
    "Apziva: 6bImatZVlK6DnbEo"
   ]
  },
  {
   "cell_type": "markdown",
   "id": "1e9720bb-32b3-4f1f-9bc7-dd279f452251",
   "metadata": {},
   "source": [
    "## Project Overview"
   ]
  },
  {
   "cell_type": "markdown",
   "id": "aae8ba0a-baad-4823-8240-c128467f8021",
   "metadata": {},
   "source": [
    "We are working with a talent sourcing and management company to help them surface candidates that are a best fit for their human resources job post. We are using a dataset of job candidates' job titles, their location, and their number of LinkedIn connections."
   ]
  },
  {
   "cell_type": "markdown",
   "id": "7ca00f2c-2194-42b0-90bf-5b650826d022",
   "metadata": {},
   "source": [
    "### Goals"
   ]
  },
  {
   "cell_type": "markdown",
   "id": "63c7fc0a-a325-4fa0-b3ae-cb6da92530b4",
   "metadata": {},
   "source": [
    "Produce a probability, between 0 and 1, of how closely the candidate fits the job description of **\"Aspiring human resources\"** or **\"Seeking human resources.\"** After an initial recommendation pulls out a candidate(s) to be starred for future consideration, the recommendation will be re-run and new \"stars\" will be awarded.\n",
    "\n",
    "To help predict how the candidates fit, we are tracking the performance of two success metrics:\n",
    "* Rank candidates based on a fitness score\n",
    "* Re-rank candidates when a candidate is starred"
   ]
  },
  {
   "cell_type": "markdown",
   "id": "bf4981bb-5dbb-4de7-8f49-e69346c76a05",
   "metadata": {},
   "source": [
    "We also need to do the following:\n",
    "* Explain how the algorithm works and how the ranking improves after each starring iteration\n",
    "* How to filter out candidates which should not be considered at all\n",
    "* Determine a cut-off point (if possible) that would work for other roles without losing high-potential candidates\n",
    "* Ideas to explore on automating this procedure to reduce or eliminate human bias"
   ]
  },
  {
   "cell_type": "markdown",
   "id": "08b95e26-1ada-4283-b732-deb0779168d0",
   "metadata": {},
   "source": [
    "### The Dataset"
   ]
  },
  {
   "cell_type": "markdown",
   "id": "c1c08ff1-a851-46f8-a66d-192d15d34a91",
   "metadata": {},
   "source": [
    "| Column | Data Type | Comments |\n",
    "|---|---|---|\n",
    "| `id` | Numeric | Unique identifier for the candidate |\n",
    "| `job_title` | Text | Job title for the candidate |\n",
    "| `location` | Text | Geographic location of the candidate |\n",
    "| `connections` | Text | Number of LinkedIn connections for the candidate |"
   ]
  },
  {
   "cell_type": "markdown",
   "id": "3264aa5d-7682-4e2f-84cd-b773e5e6f4f9",
   "metadata": {},
   "source": [
    "Connections over 500 are encoded as \"500+\". Some do not have specific locations listed and just had their country, so I substituted capitol cities or geographic centers to represent those countries."
   ]
  },
  {
   "cell_type": "markdown",
   "id": "ef08a44b-95af-489f-ae1b-94ccffc89d82",
   "metadata": {},
   "source": [
    "# Imports and Helper Functions"
   ]
  },
  {
   "cell_type": "code",
   "execution_count": 7,
   "id": "4e2ae21e-9eb4-46d3-bcca-37176ff47842",
   "metadata": {},
   "outputs": [],
   "source": [
    "import pandas as pd\n",
    "import numpy as np\n",
    "import matplotlib.pyplot as plt\n",
    "import seaborn as sns\n",
    "from pathlib import Path\n",
    "\n",
    "import torch\n",
    "from torch import nn\n",
    "from torch.utils.data import DataLoader\n",
    "from torchvision import datasets\n",
    "from torchvision.transforms import ToTensor\n",
    "import random\n",
    "import torch\n",
    "import torch.nn as nn\n",
    "import torch.optim as optim\n",
    "import matplotlib\n",
    "from matplotlib import pyplot as plt\n",
    "from torchview import draw_graph\n",
    "import torch.nn.functional as F"
   ]
  },
  {
   "cell_type": "code",
   "execution_count": 8,
   "id": "985ffa7a-553e-4c3a-abd7-418a4830a060",
   "metadata": {},
   "outputs": [],
   "source": [
    "# simple function to generate random integers\n",
    "\n",
    "def rand_gen(low=1,high=1e4):\n",
    "    '''\n",
    "    Generates a pseudo-random integer\n",
    "    consisting of up to four digits\n",
    "    '''\n",
    "    import numpy as np\n",
    "    rng=np.random.default_rng()\n",
    "    random_state=int(rng.integers(low=low,high=high))\n",
    "    \n",
    "    return random_state"
   ]
  },
  {
   "cell_type": "code",
   "execution_count": 9,
   "id": "8533b28b-2ea8-410e-a3ce-87b95ac97057",
   "metadata": {},
   "outputs": [
    {
     "data": {
      "text/plain": [
       "1153"
      ]
     },
     "execution_count": 9,
     "metadata": {},
     "output_type": "execute_result"
    }
   ],
   "source": [
    "seed=rand_gen()\n",
    "seed"
   ]
  },
  {
   "cell_type": "code",
   "execution_count": 10,
   "id": "f7cc5d5b-5495-47b9-9982-84b81f5ba498",
   "metadata": {},
   "outputs": [
    {
     "data": {
      "text/plain": [
       "Generator(PCG64) at 0x15B64FD60"
      ]
     },
     "execution_count": 10,
     "metadata": {},
     "output_type": "execute_result"
    }
   ],
   "source": [
    "# set the randomness seed throughout the notebook\n",
    "# source: # https://odsc.medium.com/properly-setting-the-random-seed-in-ml-experiments-not-as-simple-as-you-might-imagine-219969c84752\n",
    "\n",
    "## set `PYTHONHASHSEED` environment variable at a fixed value\n",
    "import os\n",
    "os.environ['PYTHONHASHSEED']=str(seed)\n",
    "## set `python` built-in pseudo-random generator at a fixed value\n",
    "import random\n",
    "random.seed(seed)\n",
    "## set `numpy` pseudo-random generator at a fixed value\n",
    "np.random.seed(seed)\n",
    "np.random.default_rng(seed)"
   ]
  },
  {
   "cell_type": "code",
   "execution_count": 11,
   "id": "edac1dcb-2c3a-49a5-bf1f-195b48feb5c6",
   "metadata": {},
   "outputs": [],
   "source": [
    "def get_variable_name(var):\n",
    "    callers_local_vars = inspect.currentframe().f_back.f_locals.items()\n",
    "    return [name for name, val in callers_local_vars if val is var]\n",
    "\n",
    "def fileDaterSaver(location: str,\n",
    "                   filetype: str,\n",
    "                   object_,\n",
    "                   extra: str = '',\n",
    "                   verbose: bool = True):\n",
    "\n",
    "    '''\n",
    "    Function that gets a timestamped filename and saves it\n",
    "    to a user-specified location.\n",
    "\n",
    "    Parameters:\n",
    "    -----------\n",
    "    location: str - The location where the file will be saved.\n",
    "    filetype: str - The type of the file to save ('csv' or 'json').\n",
    "    object_: The object to be saved. Should be a pandas DataFrame\n",
    "        for 'csv' or serializable for 'json'.\n",
    "    extra: str - Additional string to include in the filename.\n",
    "    verbose: bool - Whether to print verbose messages.\n",
    "    '''\n",
    "\n",
    "    # get current date and time\n",
    "    current_datetime = datetime.now()\n",
    "\n",
    "    # print current date and time to check\n",
    "    if verbose:\n",
    "        print('current_datetime:', current_datetime)\n",
    "\n",
    "    # format the datetime for a filename\n",
    "    datetime_suffix = current_datetime.strftime(\"%Y-%m-%d_%H-%M-%S\")\n",
    "\n",
    "    # create filename with the datetime suffix\n",
    "    if extra != '':\n",
    "        file_name = f'{location}{extra}_{datetime_suffix}.{filetype}'\n",
    "    else:\n",
    "        file_name = f'{location}{datetime_suffix}.{filetype}'\n",
    "\n",
    "    # print file name\n",
    "    if verbose:\n",
    "        print(file_name)\n",
    "\n",
    "    # save object\n",
    "    if filetype == 'csv':\n",
    "        object_.to_csv(file_name, index=True)\n",
    "    elif filetype == 'json':\n",
    "        with open(file_name, 'w') as file:\n",
    "            file.write(json.dumps(object_, default=str))\n",
    "    else:\n",
    "        raise ValueError(\"Unsupported file type. Use 'csv' or 'json'.\")\n",
    "\n",
    "    # confirm save\n",
    "    file_path = Path(file_name)\n",
    "    if file_path.exists():\n",
    "        variable_name = get_variable_name(object_)\n",
    "        if variable_name:\n",
    "            print(f'Successfully saved {variable_name[0]} to {file_path}')\n",
    "        else:\n",
    "            print(f'Successfully saved object to {file_path}')\n",
    "    else:\n",
    "        print(\"File save error.\")"
   ]
  },
  {
   "cell_type": "markdown",
   "id": "9ecfe2d7-88dc-43e6-b60c-3c32bbe617fe",
   "metadata": {
    "jp-MarkdownHeadingCollapsed": true,
    "tags": []
   },
   "source": [
    "# Tutorial "
   ]
  },
  {
   "cell_type": "markdown",
   "id": "f39a77be-eeb8-4d01-a09a-5abea130de44",
   "metadata": {},
   "source": [
    "taken from here: https://pytorch.org/tutorials/beginner/basics/quickstart_tutorial.html"
   ]
  },
  {
   "cell_type": "markdown",
   "id": "368c27fa-cc4c-462d-a96c-e18e8662117f",
   "metadata": {},
   "source": [
    "Quickstart\n",
    "\n",
    "This section runs through the API for common tasks in machine learning. Refer to the links in each section to dive deeper.\n",
    "\n",
    "Working with data\n",
    "\n",
    "PyTorch has two primitives to work with data: torch.utils.data.DataLoader and torch.utils.data.Dataset. Dataset stores the samples and their corresponding labels, and DataLoader wraps an iterable around the Dataset."
   ]
  },
  {
   "cell_type": "markdown",
   "id": "868cf095-00b2-4827-b413-3a4d4881883d",
   "metadata": {},
   "source": [
    "```python\n",
    "import torch\n",
    "from torch import nn\n",
    "from torch.utils.data import DataLoader\n",
    "from torchvision import datasets\n",
    "from torchvision.transforms import ToTensor\n",
    "```\n",
    "\n",
    "PyTorch offers domain-specific libraries such as TorchText, TorchVision, and TorchAudio, all of which include datasets. For this tutorial, we will be using a TorchVision dataset.\n",
    "\n",
    "The torchvision.datasets module contains Dataset objects for many real-world vision data like CIFAR, COCO (full list here). In this tutorial, we use the FashionMNIST dataset. Every TorchVision Dataset includes two arguments: transform and target_transform to modify the samples and labels respectively."
   ]
  },
  {
   "cell_type": "code",
   "execution_count": 7,
   "id": "9cc1f4e0-5b63-4de7-90ae-78a3fe86072a",
   "metadata": {},
   "outputs": [
    {
     "name": "stdout",
     "output_type": "stream",
     "text": [
      "Downloading http://fashion-mnist.s3-website.eu-central-1.amazonaws.com/train-images-idx3-ubyte.gz\n",
      "Downloading http://fashion-mnist.s3-website.eu-central-1.amazonaws.com/train-images-idx3-ubyte.gz to data/FashionMNIST/raw/train-images-idx3-ubyte.gz\n"
     ]
    },
    {
     "name": "stderr",
     "output_type": "stream",
     "text": [
      "100%|███████████████████████████████████████████████████████████████████████████████████████████████████████████████████| 26.4M/26.4M [00:02<00:00, 10.8MB/s]\n"
     ]
    },
    {
     "name": "stdout",
     "output_type": "stream",
     "text": [
      "Extracting data/FashionMNIST/raw/train-images-idx3-ubyte.gz to data/FashionMNIST/raw\n",
      "\n",
      "Downloading http://fashion-mnist.s3-website.eu-central-1.amazonaws.com/train-labels-idx1-ubyte.gz\n",
      "Downloading http://fashion-mnist.s3-website.eu-central-1.amazonaws.com/train-labels-idx1-ubyte.gz to data/FashionMNIST/raw/train-labels-idx1-ubyte.gz\n"
     ]
    },
    {
     "name": "stderr",
     "output_type": "stream",
     "text": [
      "100%|████████████████████████████████████████████████████████████████████████████████████████████████████████████████████| 29.5k/29.5k [00:00<00:00, 272kB/s]\n"
     ]
    },
    {
     "name": "stdout",
     "output_type": "stream",
     "text": [
      "Extracting data/FashionMNIST/raw/train-labels-idx1-ubyte.gz to data/FashionMNIST/raw\n",
      "\n",
      "Downloading http://fashion-mnist.s3-website.eu-central-1.amazonaws.com/t10k-images-idx3-ubyte.gz\n",
      "Downloading http://fashion-mnist.s3-website.eu-central-1.amazonaws.com/t10k-images-idx3-ubyte.gz to data/FashionMNIST/raw/t10k-images-idx3-ubyte.gz\n"
     ]
    },
    {
     "name": "stderr",
     "output_type": "stream",
     "text": [
      "100%|███████████████████████████████████████████████████████████████████████████████████████████████████████████████████| 4.42M/4.42M [00:00<00:00, 5.03MB/s]\n"
     ]
    },
    {
     "name": "stdout",
     "output_type": "stream",
     "text": [
      "Extracting data/FashionMNIST/raw/t10k-images-idx3-ubyte.gz to data/FashionMNIST/raw\n",
      "\n",
      "Downloading http://fashion-mnist.s3-website.eu-central-1.amazonaws.com/t10k-labels-idx1-ubyte.gz\n",
      "Downloading http://fashion-mnist.s3-website.eu-central-1.amazonaws.com/t10k-labels-idx1-ubyte.gz to data/FashionMNIST/raw/t10k-labels-idx1-ubyte.gz\n"
     ]
    },
    {
     "name": "stderr",
     "output_type": "stream",
     "text": [
      "100%|███████████████████████████████████████████████████████████████████████████████████████████████████████████████████| 5.15k/5.15k [00:00<00:00, 14.8MB/s]"
     ]
    },
    {
     "name": "stdout",
     "output_type": "stream",
     "text": [
      "Extracting data/FashionMNIST/raw/t10k-labels-idx1-ubyte.gz to data/FashionMNIST/raw\n",
      "\n"
     ]
    },
    {
     "name": "stderr",
     "output_type": "stream",
     "text": [
      "\n"
     ]
    }
   ],
   "source": [
    "# Download training data from open datasets.\n",
    "training_data = datasets.FashionMNIST(\n",
    "    root=\"data\",\n",
    "    train=True,\n",
    "    download=True,\n",
    "    transform=ToTensor(),\n",
    ")\n",
    "\n",
    "# Download test data from open datasets.\n",
    "test_data = datasets.FashionMNIST(\n",
    "    root=\"data\",\n",
    "    train=False,\n",
    "    download=True,\n",
    "    transform=ToTensor(),\n",
    ")"
   ]
  },
  {
   "cell_type": "markdown",
   "id": "0fdb1021-89fc-476c-b455-42707b32677a",
   "metadata": {},
   "source": [
    "We pass the Dataset as an argument to DataLoader. This wraps an iterable over our dataset, and supports automatic batching, sampling, shuffling and multiprocess data loading. Here we define a batch size of 64, i.e. each element in the dataloader iterable will return a batch of 64 features and labels."
   ]
  },
  {
   "cell_type": "code",
   "execution_count": 8,
   "id": "51e43079-4c43-4a2a-8ae8-244db2cb66c2",
   "metadata": {},
   "outputs": [
    {
     "name": "stdout",
     "output_type": "stream",
     "text": [
      "Shape of X [N, C, H, W]: torch.Size([64, 1, 28, 28])\n",
      "Shape of y: torch.Size([64]) torch.int64\n"
     ]
    }
   ],
   "source": [
    "batch_size = 64\n",
    "\n",
    "# Create data loaders.\n",
    "train_dataloader = DataLoader(training_data, batch_size=batch_size)\n",
    "test_dataloader = DataLoader(test_data, batch_size=batch_size)\n",
    "\n",
    "for X, y in test_dataloader:\n",
    "    print(f\"Shape of X [N, C, H, W]: {X.shape}\")\n",
    "    print(f\"Shape of y: {y.shape} {y.dtype}\")\n",
    "    break"
   ]
  },
  {
   "cell_type": "markdown",
   "id": "1acdb131-58e8-413c-a124-6abbaa3dba11",
   "metadata": {},
   "source": [
    "Creating Models\n",
    "\n",
    "To define a neural network in PyTorch, we create a class that inherits from nn.Module. We define the layers of the network in the __init__ function and specify how data will pass through the network in the forward function. To accelerate operations in the neural network, we move it to the GPU or MPS if available."
   ]
  },
  {
   "cell_type": "code",
   "execution_count": 9,
   "id": "f1f37604-ae5e-48b4-aaca-d2009906b40c",
   "metadata": {},
   "outputs": [
    {
     "name": "stdout",
     "output_type": "stream",
     "text": [
      "Using mps device\n",
      "NeuralNetwork(\n",
      "  (flatten): Flatten(start_dim=1, end_dim=-1)\n",
      "  (linear_relu_stack): Sequential(\n",
      "    (0): Linear(in_features=784, out_features=512, bias=True)\n",
      "    (1): ReLU()\n",
      "    (2): Linear(in_features=512, out_features=512, bias=True)\n",
      "    (3): ReLU()\n",
      "    (4): Linear(in_features=512, out_features=10, bias=True)\n",
      "  )\n",
      ")\n"
     ]
    }
   ],
   "source": [
    "# Get cpu, gpu or mps device for training.\n",
    "device = (\n",
    "    \"cuda\"\n",
    "    if torch.cuda.is_available()\n",
    "    else \"mps\"\n",
    "    if torch.backends.mps.is_available()\n",
    "    else \"cpu\"\n",
    ")\n",
    "print(f\"Using {device} device\")\n",
    "\n",
    "# Define model\n",
    "class NeuralNetwork(nn.Module):\n",
    "    def __init__(self):\n",
    "        super().__init__()\n",
    "        self.flatten = nn.Flatten()\n",
    "        self.linear_relu_stack = nn.Sequential(\n",
    "            nn.Linear(28*28, 512),\n",
    "            nn.ReLU(),\n",
    "            nn.Linear(512, 512),\n",
    "            nn.ReLU(),\n",
    "            nn.Linear(512, 10)\n",
    "        )\n",
    "\n",
    "    def forward(self, x):\n",
    "        x = self.flatten(x)\n",
    "        logits = self.linear_relu_stack(x)\n",
    "        return logits\n",
    "\n",
    "model = NeuralNetwork().to(device)\n",
    "print(model)"
   ]
  },
  {
   "cell_type": "markdown",
   "id": "e9fb3dfa-1b64-47b8-8442-b50650dd3baf",
   "metadata": {},
   "source": [
    "Optimizing the Model Parameters\n",
    "\n",
    "To train a model, we need a loss function and an optimizer."
   ]
  },
  {
   "cell_type": "code",
   "execution_count": 10,
   "id": "755e939d-2e94-44e6-a4d0-56575e3ed089",
   "metadata": {},
   "outputs": [],
   "source": [
    "loss_fn = nn.CrossEntropyLoss()\n",
    "optimizer = torch.optim.SGD(model.parameters(), lr=1e-3)"
   ]
  },
  {
   "cell_type": "markdown",
   "id": "1de8dce6-3f43-47e6-a668-91cc9544b345",
   "metadata": {},
   "source": [
    "In a single training loop, the model makes predictions on the training dataset (fed to it in batches), and backpropagates the prediction error to adjust the model’s parameters."
   ]
  },
  {
   "cell_type": "code",
   "execution_count": 11,
   "id": "6326e8b7-0bbc-44b5-be67-5de47f65f616",
   "metadata": {},
   "outputs": [],
   "source": [
    "def train(dataloader, model, loss_fn, optimizer):\n",
    "    size = len(dataloader.dataset)\n",
    "    model.train()\n",
    "    for batch, (X, y) in enumerate(dataloader):\n",
    "        X, y = X.to(device), y.to(device)\n",
    "\n",
    "        # Compute prediction error\n",
    "        pred = model(X)\n",
    "        loss = loss_fn(pred, y)\n",
    "\n",
    "        # Backpropagation\n",
    "        loss.backward()\n",
    "        optimizer.step()\n",
    "        optimizer.zero_grad()\n",
    "\n",
    "        if batch % 100 == 0:\n",
    "            loss, current = loss.item(), (batch + 1) * len(X)\n",
    "            print(f\"loss: {loss:>7f}  [{current:>5d}/{size:>5d}]\")"
   ]
  },
  {
   "cell_type": "markdown",
   "id": "e98a182d-c8be-4335-8f58-601613283166",
   "metadata": {},
   "source": [
    "We also check the model’s performance against the test dataset to ensure it is learning."
   ]
  },
  {
   "cell_type": "code",
   "execution_count": 12,
   "id": "4b46a4e2-b869-4e9e-8f5c-3787d1b615ac",
   "metadata": {},
   "outputs": [],
   "source": [
    "def test(dataloader, model, loss_fn):\n",
    "    size = len(dataloader.dataset)\n",
    "    num_batches = len(dataloader)\n",
    "    model.eval()\n",
    "    test_loss, correct = 0, 0\n",
    "    with torch.no_grad():\n",
    "        for X, y in dataloader:\n",
    "            X, y = X.to(device), y.to(device)\n",
    "            pred = model(X)\n",
    "            test_loss += loss_fn(pred, y).item()\n",
    "            correct += (pred.argmax(1) == y).type(torch.float).sum().item()\n",
    "    test_loss /= num_batches\n",
    "    correct /= size\n",
    "    print(f\"Test Error: \\n Accuracy: {(100*correct):>0.1f}%, Avg loss: {test_loss:>8f} \\n\")"
   ]
  },
  {
   "cell_type": "markdown",
   "id": "705bab30-e0af-4ed9-b89c-c8d2e776dc0b",
   "metadata": {},
   "source": [
    "The training process is conducted over several iterations (epochs). During each epoch, the model learns parameters to make better predictions. We print the model’s accuracy and loss at each epoch; we’d like to see the accuracy increase and the loss decrease with every epoch."
   ]
  },
  {
   "cell_type": "code",
   "execution_count": 13,
   "id": "d19045d2-0ebc-43f5-9027-d6b064cf9263",
   "metadata": {},
   "outputs": [
    {
     "name": "stdout",
     "output_type": "stream",
     "text": [
      "Epoch 1\n",
      "-------------------------------\n",
      "loss: 2.303011  [   64/60000]\n",
      "loss: 2.291584  [ 6464/60000]\n",
      "loss: 2.274099  [12864/60000]\n",
      "loss: 2.267307  [19264/60000]\n",
      "loss: 2.250116  [25664/60000]\n",
      "loss: 2.230864  [32064/60000]\n",
      "loss: 2.229679  [38464/60000]\n",
      "loss: 2.203681  [44864/60000]\n",
      "loss: 2.192027  [51264/60000]\n",
      "loss: 2.159209  [57664/60000]\n",
      "Test Error: \n",
      " Accuracy: 40.9%, Avg loss: 2.161030 \n",
      "\n",
      "Epoch 2\n",
      "-------------------------------\n",
      "loss: 2.168986  [   64/60000]\n",
      "loss: 2.159302  [ 6464/60000]\n",
      "loss: 2.107279  [12864/60000]\n",
      "loss: 2.118158  [19264/60000]\n",
      "loss: 2.061820  [25664/60000]\n",
      "loss: 2.015434  [32064/60000]\n",
      "loss: 2.028449  [38464/60000]\n",
      "loss: 1.959897  [44864/60000]\n",
      "loss: 1.956728  [51264/60000]\n",
      "loss: 1.869744  [57664/60000]\n",
      "Test Error: \n",
      " Accuracy: 53.0%, Avg loss: 1.884175 \n",
      "\n",
      "Epoch 3\n",
      "-------------------------------\n",
      "loss: 1.916584  [   64/60000]\n",
      "loss: 1.886279  [ 6464/60000]\n",
      "loss: 1.776994  [12864/60000]\n",
      "loss: 1.807841  [19264/60000]\n",
      "loss: 1.686821  [25664/60000]\n",
      "loss: 1.655178  [32064/60000]\n",
      "loss: 1.657931  [38464/60000]\n",
      "loss: 1.574731  [44864/60000]\n",
      "loss: 1.589727  [51264/60000]\n",
      "loss: 1.478607  [57664/60000]\n",
      "Test Error: \n",
      " Accuracy: 59.0%, Avg loss: 1.510736 \n",
      "\n",
      "Epoch 4\n",
      "-------------------------------\n",
      "loss: 1.573909  [   64/60000]\n",
      "loss: 1.543663  [ 6464/60000]\n",
      "loss: 1.402543  [12864/60000]\n",
      "loss: 1.466933  [19264/60000]\n",
      "loss: 1.345387  [25664/60000]\n",
      "loss: 1.352271  [32064/60000]\n",
      "loss: 1.351904  [38464/60000]\n",
      "loss: 1.289499  [44864/60000]\n",
      "loss: 1.316440  [51264/60000]\n",
      "loss: 1.221972  [57664/60000]\n",
      "Test Error: \n",
      " Accuracy: 62.1%, Avg loss: 1.251159 \n",
      "\n",
      "Epoch 5\n",
      "-------------------------------\n",
      "loss: 1.321822  [   64/60000]\n",
      "loss: 1.307989  [ 6464/60000]\n",
      "loss: 1.149508  [12864/60000]\n",
      "loss: 1.252721  [19264/60000]\n",
      "loss: 1.127409  [25664/60000]\n",
      "loss: 1.157023  [32064/60000]\n",
      "loss: 1.167999  [38464/60000]\n",
      "loss: 1.113640  [44864/60000]\n",
      "loss: 1.147074  [51264/60000]\n",
      "loss: 1.070408  [57664/60000]\n",
      "Test Error: \n",
      " Accuracy: 64.2%, Avg loss: 1.091217 \n",
      "\n",
      "Done!\n"
     ]
    }
   ],
   "source": [
    "epochs = 5\n",
    "for t in range(epochs):\n",
    "    print(f\"Epoch {t+1}\\n-------------------------------\")\n",
    "    train(train_dataloader, model, loss_fn, optimizer)\n",
    "    test(test_dataloader, model, loss_fn)\n",
    "print(\"Done!\")"
   ]
  },
  {
   "cell_type": "markdown",
   "id": "1386de5e-e2c1-4cfc-8b9e-1f969594d704",
   "metadata": {},
   "source": [
    "Saving Models\n",
    "\n",
    "A common way to save a model is to serialize the internal state dictionary (containing the model parameters)."
   ]
  },
  {
   "cell_type": "code",
   "execution_count": 15,
   "id": "b130813a-ddd2-4140-a8b2-7df3015f725b",
   "metadata": {},
   "outputs": [
    {
     "name": "stdout",
     "output_type": "stream",
     "text": [
      "Saved PyTorch Model State to ../joblib/3_testmodel.pth\n"
     ]
    }
   ],
   "source": [
    "path=Path(\"../joblib/3_testmodel.pth\")\n",
    "torch.save(model.state_dict(), path)\n",
    "print(f\"Saved PyTorch Model State to {path}\")"
   ]
  },
  {
   "cell_type": "markdown",
   "id": "1f18c3c7-6fd7-4d55-9be9-452448a2c666",
   "metadata": {},
   "source": [
    "Loading Models\n",
    "\n",
    "The process for loading a model includes re-creating the model structure and loading the state dictionary into it."
   ]
  },
  {
   "cell_type": "code",
   "execution_count": 16,
   "id": "3a867248-c3b4-44e0-a37c-d31dd3dfcbaa",
   "metadata": {},
   "outputs": [
    {
     "data": {
      "text/plain": [
       "<All keys matched successfully>"
      ]
     },
     "execution_count": 16,
     "metadata": {},
     "output_type": "execute_result"
    }
   ],
   "source": [
    "model = NeuralNetwork().to(device)\n",
    "model.load_state_dict(torch.load(path, weights_only=True))"
   ]
  },
  {
   "cell_type": "markdown",
   "id": "77540c06-de30-438e-ba89-148ed0ccac30",
   "metadata": {},
   "source": [
    "This model can now be used to make predictions."
   ]
  },
  {
   "cell_type": "code",
   "execution_count": 17,
   "id": "1d45d710-2aa2-4f54-8cb7-49eb435479f5",
   "metadata": {},
   "outputs": [
    {
     "name": "stdout",
     "output_type": "stream",
     "text": [
      "Predicted: \"Ankle boot\", Actual: \"Ankle boot\"\n"
     ]
    }
   ],
   "source": [
    "classes = [\n",
    "    \"T-shirt/top\",\n",
    "    \"Trouser\",\n",
    "    \"Pullover\",\n",
    "    \"Dress\",\n",
    "    \"Coat\",\n",
    "    \"Sandal\",\n",
    "    \"Shirt\",\n",
    "    \"Sneaker\",\n",
    "    \"Bag\",\n",
    "    \"Ankle boot\",\n",
    "]\n",
    "\n",
    "model.eval()\n",
    "x, y = test_data[0][0], test_data[0][1]\n",
    "with torch.no_grad():\n",
    "    x = x.to(device)\n",
    "    pred = model(x)\n",
    "    predicted, actual = classes[pred[0].argmax(0)], classes[y]\n",
    "    print(f'Predicted: \"{predicted}\", Actual: \"{actual}\"')"
   ]
  },
  {
   "cell_type": "markdown",
   "id": "86207be9-a635-4388-9c1f-39b6397353a2",
   "metadata": {},
   "source": [
    "Tensor tutorial here: https://pytorch.org/tutorials/beginner/basics/tensorqs_tutorial.html"
   ]
  },
  {
   "cell_type": "markdown",
   "id": "47adae6b-ed93-4dc7-92f9-8bf7b0bd3505",
   "metadata": {},
   "source": [
    "Datasets & dataloaders here: https://pytorch.org/tutorials/beginner/basics/data_tutorial.html"
   ]
  },
  {
   "cell_type": "code",
   "execution_count": 18,
   "id": "63c18f97-0578-4797-9232-7a1793373afb",
   "metadata": {},
   "outputs": [],
   "source": [
    "import torch\n",
    "from torch.utils.data import Dataset\n",
    "from torchvision import datasets\n",
    "from torchvision.transforms import ToTensor\n",
    "import matplotlib.pyplot as plt\n",
    "\n",
    "\n",
    "training_data = datasets.FashionMNIST(\n",
    "    root=\"data\",\n",
    "    train=True,\n",
    "    download=True,\n",
    "    transform=ToTensor()\n",
    ")\n",
    "\n",
    "test_data = datasets.FashionMNIST(\n",
    "    root=\"data\",\n",
    "    train=False,\n",
    "    download=True,\n",
    "    transform=ToTensor()\n",
    ")"
   ]
  },
  {
   "cell_type": "code",
   "execution_count": 19,
   "id": "85a22802-ca0d-4ea7-b1b9-ee7a109e900f",
   "metadata": {},
   "outputs": [
    {
     "data": {
      "image/png": "[encoded data removed]",
      "text/plain": [
       "<Figure size 800x800 with 9 Axes>"
      ]
     },
     "metadata": {},
     "output_type": "display_data"
    }
   ],
   "source": [
    "labels_map = {\n",
    "    0: \"T-Shirt\",\n",
    "    1: \"Trouser\",\n",
    "    2: \"Pullover\",\n",
    "    3: \"Dress\",\n",
    "    4: \"Coat\",\n",
    "    5: \"Sandal\",\n",
    "    6: \"Shirt\",\n",
    "    7: \"Sneaker\",\n",
    "    8: \"Bag\",\n",
    "    9: \"Ankle Boot\",\n",
    "}\n",
    "figure = plt.figure(figsize=(8, 8))\n",
    "cols, rows = 3, 3\n",
    "for i in range(1, cols * rows + 1):\n",
    "    sample_idx = torch.randint(len(training_data), size=(1,)).item()\n",
    "    img, label = training_data[sample_idx]\n",
    "    figure.add_subplot(rows, cols, i)\n",
    "    plt.title(labels_map[label])\n",
    "    plt.axis(\"off\")\n",
    "    plt.imshow(img.squeeze(), cmap=\"gray\")\n",
    "plt.show()"
   ]
  },
  {
   "cell_type": "markdown",
   "id": "7936a7d5-3f90-43bb-968c-82c3667a4678",
   "metadata": {},
   "source": [
    "Optimizing model parameters\n",
    "\n",
    "https://pytorch.org/tutorials/beginner/basics/optimization_tutorial.html"
   ]
  },
  {
   "cell_type": "markdown",
   "id": "b7f91978-c307-4c09-8fe5-1cc39f41e9ae",
   "metadata": {},
   "source": [
    "Here is a tutorial about using RankNet in PyTorch that I am also following, especially for help on constructing the neural network:\n",
    "\n",
    "https://medium.com/@mandeep0405/learning-to-rank-ranknet-simplified-5d7f7334133d"
   ]
  },
  {
   "cell_type": "markdown",
   "id": "e6c1d9ef-d623-40af-b630-35a3294013a7",
   "metadata": {},
   "source": [
    "# Learning to Rank (LTR) systems "
   ]
  },
  {
   "cell_type": "markdown",
   "id": "d005e804-69e0-49ab-9439-11b3a438dc1b",
   "metadata": {},
   "source": [
    "[RankNet](https://icml.cc/Conferences/2015/wp-content/uploads/2015/06/icml_ranking.pdf) is an influential algorithm that is designed to rank items given an objective. LTR systems are used for information retrieval, which is crucial for search engines, recommender systems like on Netflix or Amazon, travel agencies, and online advertising."
   ]
  },
  {
   "cell_type": "markdown",
   "id": "12ce01b4-1113-4da2-a7a3-5e4f098ab46b",
   "metadata": {},
   "source": [
    "You can learn more about LTR systems from [this](https://towardsdatascience.com/learning-to-rank-a-complete-guide-to-ranking-using-machine-learning-4c9688d370d4) Medium post by [Francesco Casalegno](https://medium.com/@francesco.casalegno)."
   ]
  },
  {
   "cell_type": "markdown",
   "id": "e8f0045d-3218-490c-bf4a-192ca893b4a3",
   "metadata": {},
   "source": [
    "RankNet uses a \"pairwise\" method of training, meaning it predices which item in a pair should be ranked higher based on a probabilistic model. With pairs of items, using RankNet makes our task a binary classification problem."
   ]
  },
  {
   "cell_type": "markdown",
   "id": "90894799-a03f-40b1-8eba-7eb65ed0994d",
   "metadata": {},
   "source": [
    "Example PyTorch setup with RankNet from [here](https://medium.com/@mandeep0405/learning-to-rank-ranknet-simplified-5d7f7334133d):"
   ]
  },
  {
   "cell_type": "code",
   "execution_count": 13,
   "id": "b1cecece-0dac-4fd6-ba00-7be738a44e1f",
   "metadata": {},
   "outputs": [],
   "source": [
    "# define RankNet\n",
    "class RankNet(nn.Module):\n",
    "    def __init__(self, input_size, hidden_size):\n",
    "        super().__init__()\n",
    "        self.input = nn.Linear(input_size, hidden_size)\n",
    "        self.hidden = nn.Linear(hidden_size, hidden_size)\n",
    "        self.output = nn.Linear(hidden_size, 1)\n",
    "        self.activation = nn.ReLU()\n",
    "\n",
    "    def forward(self, x1, x2):\n",
    "        # Process first item\n",
    "        x1_in = self.activation(self.input(x1))\n",
    "        h1 = self.activation(self.hidden(x1_in))\n",
    "        out1 = self.output(h1)\n",
    "\n",
    "        # Process second item\n",
    "        x2_in = self.activation(self.input(x2))\n",
    "        h2 = self.activation(self.hidden(x2_in))\n",
    "        out2 = self.output(h2)\n",
    "\n",
    "        # Compute difference\n",
    "        return out1 - out2"
   ]
  },
  {
   "cell_type": "code",
   "execution_count": 14,
   "id": "c9654120-e4cc-4f2b-b992-8ee03e18f475",
   "metadata": {},
   "outputs": [],
   "source": [
    "# define hyperparameters\n",
    "input_size = 10  # dimension of item feature vector e.g., relevance_to_genre, rating etc.\n",
    "hidden_size = 16 # hidden layer params\n",
    "learning_rate = 0.01\n",
    "\n",
    "# instantiate model\n",
    "model = RankNet(input_size, hidden_size)\n",
    "\n",
    "# loss function and optimizer\n",
    "criterion = nn.BCEWithLogitsLoss() # applies sigmoid\n",
    "optimizer = optim.Adam(model.parameters(), lr=learning_rate)"
   ]
  },
  {
   "cell_type": "code",
   "execution_count": 37,
   "id": "bdd25b32-09d6-453e-994d-214037c2ca61",
   "metadata": {},
   "outputs": [
    {
     "name": "stdout",
     "output_type": "stream",
     "text": [
      "Epoch 0, Loss: 0.6396029591560364\n",
      "Epoch 10, Loss: 0.16233943402767181\n",
      "Epoch 20, Loss: 0.0061502535827457905\n",
      "Epoch 30, Loss: 0.0004269464989192784\n",
      "Epoch 40, Loss: 0.00010883847426157445\n",
      "Epoch 50, Loss: 5.909448736929335e-05\n",
      "Epoch 60, Loss: 4.535562402452342e-05\n",
      "Epoch 70, Loss: 4.022498251288198e-05\n",
      "Epoch 80, Loss: 3.776342418859713e-05\n",
      "Epoch 90, Loss: 3.6231034755473956e-05\n"
     ]
    }
   ],
   "source": [
    "# example usage\n",
    "x1 = torch.randn(1, input_size)  # Feature vector for item 1\n",
    "x2 = torch.randn(1, input_size)  # Feature vector for item 2\n",
    "target = torch.tensor([[1.0]])  # 1 if x1 should be ranked higher, 0 otherwise\n",
    "\n",
    "train_loss = []\n",
    "for epoch in range(100):\n",
    "    model.train()\n",
    "    \n",
    "    # clear gradients\n",
    "    optimizer.zero_grad()\n",
    "    \n",
    "    # Forward pass\n",
    "    diff = model(x1, x2)\n",
    "    \n",
    "    # Compute loss\n",
    "    loss = criterion(diff, target)\n",
    "    \n",
    "    # Backward pass and optimize\n",
    "    loss.backward()\n",
    "    optimizer.step()\n",
    "    \n",
    "    train_loss.append(loss.item())\n",
    "    if epoch % 10 == 0:\n",
    "        print(f\"Epoch {epoch}, Loss: {loss.item()}\")"
   ]
  },
  {
   "cell_type": "code",
   "execution_count": 40,
   "id": "8e355848-2130-481b-8b4a-137375396629",
   "metadata": {},
   "outputs": [
    {
     "data": {
      "image/svg+xml": [
       "<?xml version=\"1.0\" encoding=\"UTF-8\" standalone=\"no\"?>\n",
       "<!DOCTYPE svg PUBLIC \"-//W3C//DTD SVG 1.1//EN\"\n",
       " \"http://www.w3.org/Graphics/SVG/1.1/DTD/svg11.dtd\">\n",
       "<!-- Generated by graphviz version 12.2.0 (20241103.1931)\n",
       " -->\n",
       "<!-- Title: RankNet Pages: 1 -->\n",
       "<svg width=\"864pt\" height=\"79pt\"\n",
       " viewBox=\"0.00 0.00 864.00 78.61\" xmlns=\"http://www.w3.org/2000/svg\" xmlns:xlink=\"http://www.w3.org/1999/xlink\">\n",
       "<g id=\"graph0\" class=\"graph\" transform=\"scale(0.705018 0.705018) rotate(0) translate(4 107.5)\">\n",
       "<title>RankNet</title>\n",
       "<polygon fill=\"white\" stroke=\"none\" points=\"-4,4 -4,-107.5 1221.5,-107.5 1221.5,4 -4,4\"/>\n",
       "<!-- 0 -->\n",
       "<g id=\"node1\" class=\"node\">\n",
       "<title>0</title>\n",
       "<polygon fill=\"lightyellow\" stroke=\"none\" points=\"98.75,-98.5 0,-98.5 0,-66 98.75,-66 98.75,-98.5\"/>\n",
       "<polygon fill=\"none\" stroke=\"black\" points=\"0,-66 0,-98.5 61,-98.5 61,-66 0,-66\"/>\n",
       "<text text-anchor=\"start\" x=\"5\" y=\"-84\" font-family=\"Linux libertine\" font-size=\"10.00\">input&#45;tensor</text>\n",
       "<text text-anchor=\"start\" x=\"14.38\" y=\"-72.75\" font-family=\"Linux libertine\" font-size=\"10.00\">depth:0</text>\n",
       "<polygon fill=\"none\" stroke=\"black\" points=\"61,-66 61,-98.5 98.75,-98.5 98.75,-66 61,-66\"/>\n",
       "<text text-anchor=\"start\" x=\"66\" y=\"-78.38\" font-family=\"Linux libertine\" font-size=\"10.00\">(1, 10)</text>\n",
       "</g>\n",
       "<!-- 2 -->\n",
       "<g id=\"node3\" class=\"node\">\n",
       "<title>2</title>\n",
       "<polygon fill=\"#c1ffc1\" stroke=\"none\" points=\"260.75,-103.5 134.75,-103.5 134.75,-61 260.75,-61 260.75,-103.5\"/>\n",
       "<polygon fill=\"none\" stroke=\"black\" points=\"134.75,-61 134.75,-103.5 177,-103.5 177,-61 134.75,-61\"/>\n",
       "<text text-anchor=\"start\" x=\"142.75\" y=\"-84\" font-family=\"Linux libertine\" font-size=\"10.00\">Linear</text>\n",
       "<text text-anchor=\"start\" x=\"139.75\" y=\"-72.75\" font-family=\"Linux libertine\" font-size=\"10.00\">depth:1</text>\n",
       "<polygon fill=\"none\" stroke=\"black\" points=\"177,-82.25 177,-103.5 220,-103.5 220,-82.25 177,-82.25\"/>\n",
       "<text text-anchor=\"start\" x=\"186.5\" y=\"-89\" font-family=\"Linux libertine\" font-size=\"10.00\">input:</text>\n",
       "<polygon fill=\"none\" stroke=\"black\" points=\"220,-82.25 220,-103.5 260.75,-103.5 260.75,-82.25 220,-82.25\"/>\n",
       "<text text-anchor=\"start\" x=\"225\" y=\"-89\" font-family=\"Linux libertine\" font-size=\"10.00\">(1, 10) </text>\n",
       "<polygon fill=\"none\" stroke=\"black\" points=\"177,-61 177,-82.25 220,-82.25 220,-61 177,-61\"/>\n",
       "<text text-anchor=\"start\" x=\"182\" y=\"-67.75\" font-family=\"Linux libertine\" font-size=\"10.00\">output: </text>\n",
       "<polygon fill=\"none\" stroke=\"black\" points=\"220,-61 220,-82.25 260.75,-82.25 260.75,-61 220,-61\"/>\n",
       "<text text-anchor=\"start\" x=\"225\" y=\"-67.75\" font-family=\"Linux libertine\" font-size=\"10.00\">(1, 16) </text>\n",
       "</g>\n",
       "<!-- 0&#45;&gt;2 -->\n",
       "<g id=\"edge1\" class=\"edge\">\n",
       "<title>0&#45;&gt;2</title>\n",
       "<path fill=\"none\" stroke=\"black\" d=\"M98.71,-82.25C106.67,-82.25 115.07,-82.25 123.47,-82.25\"/>\n",
       "<polygon fill=\"black\" stroke=\"black\" points=\"123.38,-85.75 133.38,-82.25 123.38,-78.75 123.38,-85.75\"/>\n",
       "</g>\n",
       "<!-- 1 -->\n",
       "<g id=\"node2\" class=\"node\">\n",
       "<title>1</title>\n",
       "<polygon fill=\"lightyellow\" stroke=\"none\" points=\"98.75,-37.5 0,-37.5 0,-5 98.75,-5 98.75,-37.5\"/>\n",
       "<polygon fill=\"none\" stroke=\"black\" points=\"0,-5 0,-37.5 61,-37.5 61,-5 0,-5\"/>\n",
       "<text text-anchor=\"start\" x=\"5\" y=\"-23\" font-family=\"Linux libertine\" font-size=\"10.00\">input&#45;tensor</text>\n",
       "<text text-anchor=\"start\" x=\"14.38\" y=\"-11.75\" font-family=\"Linux libertine\" font-size=\"10.00\">depth:0</text>\n",
       "<polygon fill=\"none\" stroke=\"black\" points=\"61,-5 61,-37.5 98.75,-37.5 98.75,-5 61,-5\"/>\n",
       "<text text-anchor=\"start\" x=\"66\" y=\"-17.38\" font-family=\"Linux libertine\" font-size=\"10.00\">(1, 10)</text>\n",
       "</g>\n",
       "<!-- 7 -->\n",
       "<g id=\"node8\" class=\"node\">\n",
       "<title>7</title>\n",
       "<polygon fill=\"#c1ffc1\" stroke=\"none\" points=\"260.75,-42.5 134.75,-42.5 134.75,0 260.75,0 260.75,-42.5\"/>\n",
       "<polygon fill=\"none\" stroke=\"black\" points=\"134.75,0 134.75,-42.5 177,-42.5 177,0 134.75,0\"/>\n",
       "<text text-anchor=\"start\" x=\"142.75\" y=\"-23\" font-family=\"Linux libertine\" font-size=\"10.00\">Linear</text>\n",
       "<text text-anchor=\"start\" x=\"139.75\" y=\"-11.75\" font-family=\"Linux libertine\" font-size=\"10.00\">depth:1</text>\n",
       "<polygon fill=\"none\" stroke=\"black\" points=\"177,-21.25 177,-42.5 220,-42.5 220,-21.25 177,-21.25\"/>\n",
       "<text text-anchor=\"start\" x=\"186.5\" y=\"-28\" font-family=\"Linux libertine\" font-size=\"10.00\">input:</text>\n",
       "<polygon fill=\"none\" stroke=\"black\" points=\"220,-21.25 220,-42.5 260.75,-42.5 260.75,-21.25 220,-21.25\"/>\n",
       "<text text-anchor=\"start\" x=\"225\" y=\"-28\" font-family=\"Linux libertine\" font-size=\"10.00\">(1, 10) </text>\n",
       "<polygon fill=\"none\" stroke=\"black\" points=\"177,0 177,-21.25 220,-21.25 220,0 177,0\"/>\n",
       "<text text-anchor=\"start\" x=\"182\" y=\"-6.75\" font-family=\"Linux libertine\" font-size=\"10.00\">output: </text>\n",
       "<polygon fill=\"none\" stroke=\"black\" points=\"220,0 220,-21.25 260.75,-21.25 260.75,0 220,0\"/>\n",
       "<text text-anchor=\"start\" x=\"225\" y=\"-6.75\" font-family=\"Linux libertine\" font-size=\"10.00\">(1, 16) </text>\n",
       "</g>\n",
       "<!-- 1&#45;&gt;7 -->\n",
       "<g id=\"edge2\" class=\"edge\">\n",
       "<title>1&#45;&gt;7</title>\n",
       "<path fill=\"none\" stroke=\"black\" d=\"M98.71,-21.25C106.67,-21.25 115.07,-21.25 123.47,-21.25\"/>\n",
       "<polygon fill=\"black\" stroke=\"black\" points=\"123.38,-24.75 133.38,-21.25 123.38,-17.75 123.38,-24.75\"/>\n",
       "</g>\n",
       "<!-- 3 -->\n",
       "<g id=\"node4\" class=\"node\">\n",
       "<title>3</title>\n",
       "<polygon fill=\"#c1ffc1\" stroke=\"none\" points=\"422.75,-103.5 296.75,-103.5 296.75,-61 422.75,-61 422.75,-103.5\"/>\n",
       "<polygon fill=\"none\" stroke=\"black\" points=\"296.75,-61 296.75,-103.5 339,-103.5 339,-61 296.75,-61\"/>\n",
       "<text text-anchor=\"start\" x=\"305.12\" y=\"-84\" font-family=\"Linux libertine\" font-size=\"10.00\">ReLU</text>\n",
       "<text text-anchor=\"start\" x=\"301.75\" y=\"-72.75\" font-family=\"Linux libertine\" font-size=\"10.00\">depth:1</text>\n",
       "<polygon fill=\"none\" stroke=\"black\" points=\"339,-82.25 339,-103.5 382,-103.5 382,-82.25 339,-82.25\"/>\n",
       "<text text-anchor=\"start\" x=\"348.5\" y=\"-89\" font-family=\"Linux libertine\" font-size=\"10.00\">input:</text>\n",
       "<polygon fill=\"none\" stroke=\"black\" points=\"382,-82.25 382,-103.5 422.75,-103.5 422.75,-82.25 382,-82.25\"/>\n",
       "<text text-anchor=\"start\" x=\"387\" y=\"-89\" font-family=\"Linux libertine\" font-size=\"10.00\">(1, 16) </text>\n",
       "<polygon fill=\"none\" stroke=\"black\" points=\"339,-61 339,-82.25 382,-82.25 382,-61 339,-61\"/>\n",
       "<text text-anchor=\"start\" x=\"344\" y=\"-67.75\" font-family=\"Linux libertine\" font-size=\"10.00\">output: </text>\n",
       "<polygon fill=\"none\" stroke=\"black\" points=\"382,-61 382,-82.25 422.75,-82.25 422.75,-61 382,-61\"/>\n",
       "<text text-anchor=\"start\" x=\"387\" y=\"-67.75\" font-family=\"Linux libertine\" font-size=\"10.00\">(1, 16) </text>\n",
       "</g>\n",
       "<!-- 2&#45;&gt;3 -->\n",
       "<g id=\"edge3\" class=\"edge\">\n",
       "<title>2&#45;&gt;3</title>\n",
       "<path fill=\"none\" stroke=\"black\" d=\"M260.61,-82.25C268.77,-82.25 277.2,-82.25 285.53,-82.25\"/>\n",
       "<polygon fill=\"black\" stroke=\"black\" points=\"285.28,-85.75 295.28,-82.25 285.28,-78.75 285.28,-85.75\"/>\n",
       "</g>\n",
       "<!-- 4 -->\n",
       "<g id=\"node5\" class=\"node\">\n",
       "<title>4</title>\n",
       "<polygon fill=\"#c1ffc1\" stroke=\"none\" points=\"584.75,-103.5 458.75,-103.5 458.75,-61 584.75,-61 584.75,-103.5\"/>\n",
       "<polygon fill=\"none\" stroke=\"black\" points=\"458.75,-61 458.75,-103.5 501,-103.5 501,-61 458.75,-61\"/>\n",
       "<text text-anchor=\"start\" x=\"466.75\" y=\"-84\" font-family=\"Linux libertine\" font-size=\"10.00\">Linear</text>\n",
       "<text text-anchor=\"start\" x=\"463.75\" y=\"-72.75\" font-family=\"Linux libertine\" font-size=\"10.00\">depth:1</text>\n",
       "<polygon fill=\"none\" stroke=\"black\" points=\"501,-82.25 501,-103.5 544,-103.5 544,-82.25 501,-82.25\"/>\n",
       "<text text-anchor=\"start\" x=\"510.5\" y=\"-89\" font-family=\"Linux libertine\" font-size=\"10.00\">input:</text>\n",
       "<polygon fill=\"none\" stroke=\"black\" points=\"544,-82.25 544,-103.5 584.75,-103.5 584.75,-82.25 544,-82.25\"/>\n",
       "<text text-anchor=\"start\" x=\"549\" y=\"-89\" font-family=\"Linux libertine\" font-size=\"10.00\">(1, 16) </text>\n",
       "<polygon fill=\"none\" stroke=\"black\" points=\"501,-61 501,-82.25 544,-82.25 544,-61 501,-61\"/>\n",
       "<text text-anchor=\"start\" x=\"506\" y=\"-67.75\" font-family=\"Linux libertine\" font-size=\"10.00\">output: </text>\n",
       "<polygon fill=\"none\" stroke=\"black\" points=\"544,-61 544,-82.25 584.75,-82.25 584.75,-61 544,-61\"/>\n",
       "<text text-anchor=\"start\" x=\"549\" y=\"-67.75\" font-family=\"Linux libertine\" font-size=\"10.00\">(1, 16) </text>\n",
       "</g>\n",
       "<!-- 3&#45;&gt;4 -->\n",
       "<g id=\"edge4\" class=\"edge\">\n",
       "<title>3&#45;&gt;4</title>\n",
       "<path fill=\"none\" stroke=\"black\" d=\"M422.61,-82.25C430.77,-82.25 439.2,-82.25 447.53,-82.25\"/>\n",
       "<polygon fill=\"black\" stroke=\"black\" points=\"447.28,-85.75 457.28,-82.25 447.28,-78.75 447.28,-85.75\"/>\n",
       "</g>\n",
       "<!-- 5 -->\n",
       "<g id=\"node6\" class=\"node\">\n",
       "<title>5</title>\n",
       "<polygon fill=\"#c1ffc1\" stroke=\"none\" points=\"746.75,-103.5 620.75,-103.5 620.75,-61 746.75,-61 746.75,-103.5\"/>\n",
       "<polygon fill=\"none\" stroke=\"black\" points=\"620.75,-61 620.75,-103.5 663,-103.5 663,-61 620.75,-61\"/>\n",
       "<text text-anchor=\"start\" x=\"629.12\" y=\"-84\" font-family=\"Linux libertine\" font-size=\"10.00\">ReLU</text>\n",
       "<text text-anchor=\"start\" x=\"625.75\" y=\"-72.75\" font-family=\"Linux libertine\" font-size=\"10.00\">depth:1</text>\n",
       "<polygon fill=\"none\" stroke=\"black\" points=\"663,-82.25 663,-103.5 706,-103.5 706,-82.25 663,-82.25\"/>\n",
       "<text text-anchor=\"start\" x=\"672.5\" y=\"-89\" font-family=\"Linux libertine\" font-size=\"10.00\">input:</text>\n",
       "<polygon fill=\"none\" stroke=\"black\" points=\"706,-82.25 706,-103.5 746.75,-103.5 746.75,-82.25 706,-82.25\"/>\n",
       "<text text-anchor=\"start\" x=\"711\" y=\"-89\" font-family=\"Linux libertine\" font-size=\"10.00\">(1, 16) </text>\n",
       "<polygon fill=\"none\" stroke=\"black\" points=\"663,-61 663,-82.25 706,-82.25 706,-61 663,-61\"/>\n",
       "<text text-anchor=\"start\" x=\"668\" y=\"-67.75\" font-family=\"Linux libertine\" font-size=\"10.00\">output: </text>\n",
       "<polygon fill=\"none\" stroke=\"black\" points=\"706,-61 706,-82.25 746.75,-82.25 746.75,-61 706,-61\"/>\n",
       "<text text-anchor=\"start\" x=\"711\" y=\"-67.75\" font-family=\"Linux libertine\" font-size=\"10.00\">(1, 16) </text>\n",
       "</g>\n",
       "<!-- 4&#45;&gt;5 -->\n",
       "<g id=\"edge5\" class=\"edge\">\n",
       "<title>4&#45;&gt;5</title>\n",
       "<path fill=\"none\" stroke=\"black\" d=\"M584.61,-82.25C592.77,-82.25 601.2,-82.25 609.53,-82.25\"/>\n",
       "<polygon fill=\"black\" stroke=\"black\" points=\"609.28,-85.75 619.28,-82.25 609.28,-78.75 609.28,-85.75\"/>\n",
       "</g>\n",
       "<!-- 6 -->\n",
       "<g id=\"node7\" class=\"node\">\n",
       "<title>6</title>\n",
       "<polygon fill=\"#c1ffc1\" stroke=\"none\" points=\"908.75,-103.5 782.75,-103.5 782.75,-61 908.75,-61 908.75,-103.5\"/>\n",
       "<polygon fill=\"none\" stroke=\"black\" points=\"782.75,-61 782.75,-103.5 825,-103.5 825,-61 782.75,-61\"/>\n",
       "<text text-anchor=\"start\" x=\"790.75\" y=\"-84\" font-family=\"Linux libertine\" font-size=\"10.00\">Linear</text>\n",
       "<text text-anchor=\"start\" x=\"787.75\" y=\"-72.75\" font-family=\"Linux libertine\" font-size=\"10.00\">depth:1</text>\n",
       "<polygon fill=\"none\" stroke=\"black\" points=\"825,-82.25 825,-103.5 868,-103.5 868,-82.25 825,-82.25\"/>\n",
       "<text text-anchor=\"start\" x=\"834.5\" y=\"-89\" font-family=\"Linux libertine\" font-size=\"10.00\">input:</text>\n",
       "<polygon fill=\"none\" stroke=\"black\" points=\"868,-82.25 868,-103.5 908.75,-103.5 908.75,-82.25 868,-82.25\"/>\n",
       "<text text-anchor=\"start\" x=\"873\" y=\"-89\" font-family=\"Linux libertine\" font-size=\"10.00\">(1, 16) </text>\n",
       "<polygon fill=\"none\" stroke=\"black\" points=\"825,-61 825,-82.25 868,-82.25 868,-61 825,-61\"/>\n",
       "<text text-anchor=\"start\" x=\"830\" y=\"-67.75\" font-family=\"Linux libertine\" font-size=\"10.00\">output: </text>\n",
       "<polygon fill=\"none\" stroke=\"black\" points=\"868,-61 868,-82.25 908.75,-82.25 908.75,-61 868,-61\"/>\n",
       "<text text-anchor=\"start\" x=\"875.62\" y=\"-67.75\" font-family=\"Linux libertine\" font-size=\"10.00\">(1, 1) </text>\n",
       "</g>\n",
       "<!-- 5&#45;&gt;6 -->\n",
       "<g id=\"edge6\" class=\"edge\">\n",
       "<title>5&#45;&gt;6</title>\n",
       "<path fill=\"none\" stroke=\"black\" d=\"M746.61,-82.25C754.77,-82.25 763.2,-82.25 771.53,-82.25\"/>\n",
       "<polygon fill=\"black\" stroke=\"black\" points=\"771.28,-85.75 781.28,-82.25 771.28,-78.75 771.28,-85.75\"/>\n",
       "</g>\n",
       "<!-- 12 -->\n",
       "<g id=\"node13\" class=\"node\">\n",
       "<title>12</title>\n",
       "<polygon fill=\"aliceblue\" stroke=\"none\" points=\"1082,-72.5 944.75,-72.5 944.75,-30 1082,-30 1082,-72.5\"/>\n",
       "<polygon fill=\"none\" stroke=\"black\" points=\"944.75,-30 944.75,-72.5 987,-72.5 987,-30 944.75,-30\"/>\n",
       "<text text-anchor=\"start\" x=\"958\" y=\"-53\" font-family=\"Linux libertine\" font-size=\"10.00\">sub</text>\n",
       "<text text-anchor=\"start\" x=\"949.75\" y=\"-41.75\" font-family=\"Linux libertine\" font-size=\"10.00\">depth:1</text>\n",
       "<polygon fill=\"none\" stroke=\"black\" points=\"987,-51.25 987,-72.5 1030,-72.5 1030,-51.25 987,-51.25\"/>\n",
       "<text text-anchor=\"start\" x=\"996.5\" y=\"-58\" font-family=\"Linux libertine\" font-size=\"10.00\">input:</text>\n",
       "<polygon fill=\"none\" stroke=\"black\" points=\"1030,-51.25 1030,-72.5 1082,-72.5 1082,-51.25 1030,-51.25\"/>\n",
       "<text text-anchor=\"start\" x=\"1035\" y=\"-58\" font-family=\"Linux libertine\" font-size=\"10.00\">2 x (1, 1) </text>\n",
       "<polygon fill=\"none\" stroke=\"black\" points=\"987,-30 987,-51.25 1030,-51.25 1030,-30 987,-30\"/>\n",
       "<text text-anchor=\"start\" x=\"992\" y=\"-36.75\" font-family=\"Linux libertine\" font-size=\"10.00\">output: </text>\n",
       "<polygon fill=\"none\" stroke=\"black\" points=\"1030,-30 1030,-51.25 1082,-51.25 1082,-30 1030,-30\"/>\n",
       "<text text-anchor=\"start\" x=\"1043.25\" y=\"-36.75\" font-family=\"Linux libertine\" font-size=\"10.00\">(1, 1) </text>\n",
       "</g>\n",
       "<!-- 6&#45;&gt;12 -->\n",
       "<g id=\"edge7\" class=\"edge\">\n",
       "<title>6&#45;&gt;12</title>\n",
       "<path fill=\"none\" stroke=\"black\" d=\"M908.42,-70.71C916.67,-69.16 925.22,-67.56 933.71,-65.97\"/>\n",
       "<polygon fill=\"black\" stroke=\"black\" points=\"934.14,-69.45 943.32,-64.17 932.85,-62.57 934.14,-69.45\"/>\n",
       "</g>\n",
       "<!-- 8 -->\n",
       "<g id=\"node9\" class=\"node\">\n",
       "<title>8</title>\n",
       "<polygon fill=\"#c1ffc1\" stroke=\"none\" points=\"422.75,-42.5 296.75,-42.5 296.75,0 422.75,0 422.75,-42.5\"/>\n",
       "<polygon fill=\"none\" stroke=\"black\" points=\"296.75,0 296.75,-42.5 339,-42.5 339,0 296.75,0\"/>\n",
       "<text text-anchor=\"start\" x=\"305.12\" y=\"-23\" font-family=\"Linux libertine\" font-size=\"10.00\">ReLU</text>\n",
       "<text text-anchor=\"start\" x=\"301.75\" y=\"-11.75\" font-family=\"Linux libertine\" font-size=\"10.00\">depth:1</text>\n",
       "<polygon fill=\"none\" stroke=\"black\" points=\"339,-21.25 339,-42.5 382,-42.5 382,-21.25 339,-21.25\"/>\n",
       "<text text-anchor=\"start\" x=\"348.5\" y=\"-28\" font-family=\"Linux libertine\" font-size=\"10.00\">input:</text>\n",
       "<polygon fill=\"none\" stroke=\"black\" points=\"382,-21.25 382,-42.5 422.75,-42.5 422.75,-21.25 382,-21.25\"/>\n",
       "<text text-anchor=\"start\" x=\"387\" y=\"-28\" font-family=\"Linux libertine\" font-size=\"10.00\">(1, 16) </text>\n",
       "<polygon fill=\"none\" stroke=\"black\" points=\"339,0 339,-21.25 382,-21.25 382,0 339,0\"/>\n",
       "<text text-anchor=\"start\" x=\"344\" y=\"-6.75\" font-family=\"Linux libertine\" font-size=\"10.00\">output: </text>\n",
       "<polygon fill=\"none\" stroke=\"black\" points=\"382,0 382,-21.25 422.75,-21.25 422.75,0 382,0\"/>\n",
       "<text text-anchor=\"start\" x=\"387\" y=\"-6.75\" font-family=\"Linux libertine\" font-size=\"10.00\">(1, 16) </text>\n",
       "</g>\n",
       "<!-- 7&#45;&gt;8 -->\n",
       "<g id=\"edge8\" class=\"edge\">\n",
       "<title>7&#45;&gt;8</title>\n",
       "<path fill=\"none\" stroke=\"black\" d=\"M260.61,-21.25C268.77,-21.25 277.2,-21.25 285.53,-21.25\"/>\n",
       "<polygon fill=\"black\" stroke=\"black\" points=\"285.28,-24.75 295.28,-21.25 285.28,-17.75 285.28,-24.75\"/>\n",
       "</g>\n",
       "<!-- 9 -->\n",
       "<g id=\"node10\" class=\"node\">\n",
       "<title>9</title>\n",
       "<polygon fill=\"#c1ffc1\" stroke=\"none\" points=\"584.75,-42.5 458.75,-42.5 458.75,0 584.75,0 584.75,-42.5\"/>\n",
       "<polygon fill=\"none\" stroke=\"black\" points=\"458.75,0 458.75,-42.5 501,-42.5 501,0 458.75,0\"/>\n",
       "<text text-anchor=\"start\" x=\"466.75\" y=\"-23\" font-family=\"Linux libertine\" font-size=\"10.00\">Linear</text>\n",
       "<text text-anchor=\"start\" x=\"463.75\" y=\"-11.75\" font-family=\"Linux libertine\" font-size=\"10.00\">depth:1</text>\n",
       "<polygon fill=\"none\" stroke=\"black\" points=\"501,-21.25 501,-42.5 544,-42.5 544,-21.25 501,-21.25\"/>\n",
       "<text text-anchor=\"start\" x=\"510.5\" y=\"-28\" font-family=\"Linux libertine\" font-size=\"10.00\">input:</text>\n",
       "<polygon fill=\"none\" stroke=\"black\" points=\"544,-21.25 544,-42.5 584.75,-42.5 584.75,-21.25 544,-21.25\"/>\n",
       "<text text-anchor=\"start\" x=\"549\" y=\"-28\" font-family=\"Linux libertine\" font-size=\"10.00\">(1, 16) </text>\n",
       "<polygon fill=\"none\" stroke=\"black\" points=\"501,0 501,-21.25 544,-21.25 544,0 501,0\"/>\n",
       "<text text-anchor=\"start\" x=\"506\" y=\"-6.75\" font-family=\"Linux libertine\" font-size=\"10.00\">output: </text>\n",
       "<polygon fill=\"none\" stroke=\"black\" points=\"544,0 544,-21.25 584.75,-21.25 584.75,0 544,0\"/>\n",
       "<text text-anchor=\"start\" x=\"549\" y=\"-6.75\" font-family=\"Linux libertine\" font-size=\"10.00\">(1, 16) </text>\n",
       "</g>\n",
       "<!-- 8&#45;&gt;9 -->\n",
       "<g id=\"edge9\" class=\"edge\">\n",
       "<title>8&#45;&gt;9</title>\n",
       "<path fill=\"none\" stroke=\"black\" d=\"M422.61,-21.25C430.77,-21.25 439.2,-21.25 447.53,-21.25\"/>\n",
       "<polygon fill=\"black\" stroke=\"black\" points=\"447.28,-24.75 457.28,-21.25 447.28,-17.75 447.28,-24.75\"/>\n",
       "</g>\n",
       "<!-- 10 -->\n",
       "<g id=\"node11\" class=\"node\">\n",
       "<title>10</title>\n",
       "<polygon fill=\"#c1ffc1\" stroke=\"none\" points=\"746.75,-42.5 620.75,-42.5 620.75,0 746.75,0 746.75,-42.5\"/>\n",
       "<polygon fill=\"none\" stroke=\"black\" points=\"620.75,0 620.75,-42.5 663,-42.5 663,0 620.75,0\"/>\n",
       "<text text-anchor=\"start\" x=\"629.12\" y=\"-23\" font-family=\"Linux libertine\" font-size=\"10.00\">ReLU</text>\n",
       "<text text-anchor=\"start\" x=\"625.75\" y=\"-11.75\" font-family=\"Linux libertine\" font-size=\"10.00\">depth:1</text>\n",
       "<polygon fill=\"none\" stroke=\"black\" points=\"663,-21.25 663,-42.5 706,-42.5 706,-21.25 663,-21.25\"/>\n",
       "<text text-anchor=\"start\" x=\"672.5\" y=\"-28\" font-family=\"Linux libertine\" font-size=\"10.00\">input:</text>\n",
       "<polygon fill=\"none\" stroke=\"black\" points=\"706,-21.25 706,-42.5 746.75,-42.5 746.75,-21.25 706,-21.25\"/>\n",
       "<text text-anchor=\"start\" x=\"711\" y=\"-28\" font-family=\"Linux libertine\" font-size=\"10.00\">(1, 16) </text>\n",
       "<polygon fill=\"none\" stroke=\"black\" points=\"663,0 663,-21.25 706,-21.25 706,0 663,0\"/>\n",
       "<text text-anchor=\"start\" x=\"668\" y=\"-6.75\" font-family=\"Linux libertine\" font-size=\"10.00\">output: </text>\n",
       "<polygon fill=\"none\" stroke=\"black\" points=\"706,0 706,-21.25 746.75,-21.25 746.75,0 706,0\"/>\n",
       "<text text-anchor=\"start\" x=\"711\" y=\"-6.75\" font-family=\"Linux libertine\" font-size=\"10.00\">(1, 16) </text>\n",
       "</g>\n",
       "<!-- 9&#45;&gt;10 -->\n",
       "<g id=\"edge10\" class=\"edge\">\n",
       "<title>9&#45;&gt;10</title>\n",
       "<path fill=\"none\" stroke=\"black\" d=\"M584.61,-21.25C592.77,-21.25 601.2,-21.25 609.53,-21.25\"/>\n",
       "<polygon fill=\"black\" stroke=\"black\" points=\"609.28,-24.75 619.28,-21.25 609.28,-17.75 609.28,-24.75\"/>\n",
       "</g>\n",
       "<!-- 11 -->\n",
       "<g id=\"node12\" class=\"node\">\n",
       "<title>11</title>\n",
       "<polygon fill=\"#c1ffc1\" stroke=\"none\" points=\"908.75,-42.5 782.75,-42.5 782.75,0 908.75,0 908.75,-42.5\"/>\n",
       "<polygon fill=\"none\" stroke=\"black\" points=\"782.75,0 782.75,-42.5 825,-42.5 825,0 782.75,0\"/>\n",
       "<text text-anchor=\"start\" x=\"790.75\" y=\"-23\" font-family=\"Linux libertine\" font-size=\"10.00\">Linear</text>\n",
       "<text text-anchor=\"start\" x=\"787.75\" y=\"-11.75\" font-family=\"Linux libertine\" font-size=\"10.00\">depth:1</text>\n",
       "<polygon fill=\"none\" stroke=\"black\" points=\"825,-21.25 825,-42.5 868,-42.5 868,-21.25 825,-21.25\"/>\n",
       "<text text-anchor=\"start\" x=\"834.5\" y=\"-28\" font-family=\"Linux libertine\" font-size=\"10.00\">input:</text>\n",
       "<polygon fill=\"none\" stroke=\"black\" points=\"868,-21.25 868,-42.5 908.75,-42.5 908.75,-21.25 868,-21.25\"/>\n",
       "<text text-anchor=\"start\" x=\"873\" y=\"-28\" font-family=\"Linux libertine\" font-size=\"10.00\">(1, 16) </text>\n",
       "<polygon fill=\"none\" stroke=\"black\" points=\"825,0 825,-21.25 868,-21.25 868,0 825,0\"/>\n",
       "<text text-anchor=\"start\" x=\"830\" y=\"-6.75\" font-family=\"Linux libertine\" font-size=\"10.00\">output: </text>\n",
       "<polygon fill=\"none\" stroke=\"black\" points=\"868,0 868,-21.25 908.75,-21.25 908.75,0 868,0\"/>\n",
       "<text text-anchor=\"start\" x=\"875.62\" y=\"-6.75\" font-family=\"Linux libertine\" font-size=\"10.00\">(1, 1) </text>\n",
       "</g>\n",
       "<!-- 10&#45;&gt;11 -->\n",
       "<g id=\"edge11\" class=\"edge\">\n",
       "<title>10&#45;&gt;11</title>\n",
       "<path fill=\"none\" stroke=\"black\" d=\"M746.61,-21.25C754.77,-21.25 763.2,-21.25 771.53,-21.25\"/>\n",
       "<polygon fill=\"black\" stroke=\"black\" points=\"771.28,-24.75 781.28,-21.25 771.28,-17.75 771.28,-24.75\"/>\n",
       "</g>\n",
       "<!-- 11&#45;&gt;12 -->\n",
       "<g id=\"edge12\" class=\"edge\">\n",
       "<title>11&#45;&gt;12</title>\n",
       "<path fill=\"none\" stroke=\"black\" d=\"M908.42,-32.42C916.67,-33.92 925.22,-35.46 933.71,-37\"/>\n",
       "<polygon fill=\"black\" stroke=\"black\" points=\"932.86,-40.4 943.32,-38.74 934.11,-33.52 932.86,-40.4\"/>\n",
       "</g>\n",
       "<!-- 13 -->\n",
       "<g id=\"node14\" class=\"node\">\n",
       "<title>13</title>\n",
       "<polygon fill=\"lightyellow\" stroke=\"none\" points=\"1217.5,-67.5 1118,-67.5 1118,-35 1217.5,-35 1217.5,-67.5\"/>\n",
       "<polygon fill=\"none\" stroke=\"black\" points=\"1118,-35 1118,-67.5 1185,-67.5 1185,-35 1118,-35\"/>\n",
       "<text text-anchor=\"start\" x=\"1123\" y=\"-53\" font-family=\"Linux libertine\" font-size=\"10.00\">output&#45;tensor</text>\n",
       "<text text-anchor=\"start\" x=\"1135.38\" y=\"-41.75\" font-family=\"Linux libertine\" font-size=\"10.00\">depth:0</text>\n",
       "<polygon fill=\"none\" stroke=\"black\" points=\"1185,-35 1185,-67.5 1217.5,-67.5 1217.5,-35 1185,-35\"/>\n",
       "<text text-anchor=\"start\" x=\"1190\" y=\"-47.38\" font-family=\"Linux libertine\" font-size=\"10.00\">(1, 1)</text>\n",
       "</g>\n",
       "<!-- 12&#45;&gt;13 -->\n",
       "<g id=\"edge13\" class=\"edge\">\n",
       "<title>12&#45;&gt;13</title>\n",
       "<path fill=\"none\" stroke=\"black\" d=\"M1081.65,-51.25C1090,-51.25 1098.49,-51.25 1106.71,-51.25\"/>\n",
       "<polygon fill=\"black\" stroke=\"black\" points=\"1106.61,-54.75 1116.61,-51.25 1106.61,-47.75 1106.61,-54.75\"/>\n",
       "</g>\n",
       "</g>\n",
       "</svg>\n"
      ],
      "text/plain": [
       "<graphviz.graphs.Digraph at 0x301926820>"
      ]
     },
     "execution_count": 40,
     "metadata": {},
     "output_type": "execute_result"
    },
    {
     "data": {
      "image/png": "[encoded data removed]",
      "text/plain": [
       "<Figure size 640x480 with 1 Axes>"
      ]
     },
     "metadata": {},
     "output_type": "display_data"
    }
   ],
   "source": [
    "# plot Loss\n",
    "plt.plot(train_loss, label='train_loss')\n",
    "plt.ylabel(\"Loss\")\n",
    "plt.xlabel(\"Epochs\")\n",
    "plt.legend()\n",
    "plt.show\n",
    "\n",
    "# plot model architecture\n",
    "model_graph = draw_graph(model, input_data = [x1,x2], graph_dir = \"LR\", save_graph = True, graph_name=\"RankNet\")\n",
    "model_graph.visual_graph"
   ]
  },
  {
   "cell_type": "markdown",
   "id": "ab761f72-a093-45b7-9c56-253b7b4a7f9b",
   "metadata": {},
   "source": [
    "from here: https://github.com/yanshanjing/RankNet-Pytorch/blob/master/RankNet-Pytorch.py"
   ]
  },
  {
   "cell_type": "code",
   "execution_count": 15,
   "id": "c57b3ceb-ac1c-406c-a0a4-98fe625c07f0",
   "metadata": {},
   "outputs": [
    {
     "data": {
      "text/plain": [
       "<torch._C.Generator at 0x10ba97a30>"
      ]
     },
     "execution_count": 15,
     "metadata": {},
     "output_type": "execute_result"
    }
   ],
   "source": [
    "# set random seed\n",
    "torch.manual_seed(seed)"
   ]
  },
  {
   "cell_type": "code",
   "execution_count": 17,
   "id": "baf9c006-ca1d-40e4-9dcd-501f9d1f4031",
   "metadata": {},
   "outputs": [],
   "source": [
    "# setup device for Apple Silicon or NVIDIA\n",
    "device = torch.device('mps') if torch.backends.mps.is_available() else torch.device('cpu')\n",
    "\n",
    "class RankNet(nn.Module):\n",
    "    def __init__(self, num_feature):\n",
    "        super(RankNet, self).__init__()\n",
    "        self.model = nn.Sequential(\n",
    "            nn.Linear( num_feature, 512),\n",
    "            nn.Dropout(0.5),\n",
    "            nn.LeakyReLU(0.2, inplace=True),\n",
    "            nn.Linear(512, 256),\n",
    "            nn.Dropout(0.5),\n",
    "            nn.LeakyReLU(0.2, inplace=True),\n",
    "            nn.Linear(256, 1),\n",
    "        )\n",
    "        self.output_sig = nn.Sigmoid()\n",
    "\n",
    "    def forward(self, input_1,input_2):\n",
    "        input_1, input_2 = input_1.to(device), input_2.to(device)\n",
    "        s1 = self.model(input_1)\n",
    "        s2 = self.model(input_2)\n",
    "        out = self.output_sig(s1 - s2)\n",
    "        return out\n",
    "    \n",
    "    def predict(self, input_):\n",
    "        s = self.model(input_)\n",
    "        return s"
   ]
  },
  {
   "cell_type": "code",
   "execution_count": 20,
   "id": "ba04d193-2b29-4245-b27f-3b37077ab759",
   "metadata": {},
   "outputs": [
    {
     "name": "stdout",
     "output_type": "stream",
     "text": [
      "Epoch 0, Loss: 0.6950718760490417\n",
      "Epoch 250, Loss: 0.610492467880249\n",
      "Epoch 500, Loss: 0.5866444706916809\n",
      "Epoch 750, Loss: 0.58066326379776\n"
     ]
    }
   ],
   "source": [
    "# generate random data\n",
    "n_sample = 30000\n",
    "n_feature = 300\n",
    "data1 = torch.rand((n_sample,n_feature)).to(device)\n",
    "data2 = torch.rand((n_sample, n_feature)).to(device)\n",
    "y = torch.rand((n_sample, 1)).to(device)\n",
    "\n",
    "# model, organizer, and loss function setup\n",
    "rank_model = RankNet(num_feature=n_feature).to(device)\n",
    "optimizer = torch.optim.Adam(rank_model.parameters())\n",
    "loss_fun = torch.nn.BCELoss().to(device)\n",
    "\n",
    "# training loop initialization\n",
    "epoch = 1000\n",
    "losses = []\n",
    "\n",
    "for i in range(epoch):\n",
    "    rank_model.train()\n",
    "    rank_model.zero_grad()\n",
    "    y_pred = rank_model(data1, data2)\n",
    "    loss = loss_fun(y_pred, y)\n",
    "    loss.backward()\n",
    "    optimizer.step()\n",
    "    losses.append(loss.item())\n",
    "\n",
    "    if i % 250 == 0:\n",
    "        print(f'Epoch {i}, Loss: {loss.item()}')"
   ]
  },
  {
   "cell_type": "code",
   "execution_count": 21,
   "id": "ad688bf4-78e4-4691-b09f-a23e12b91f68",
   "metadata": {},
   "outputs": [
    {
     "data": {
      "image/png": "[encoded data removed]",
      "text/plain": [
       "<Figure size 640x480 with 1 Axes>"
      ]
     },
     "metadata": {},
     "output_type": "display_data"
    }
   ],
   "source": [
    "# plot loss curve\n",
    "plt.plot(losses)\n",
    "plt.xlabel(\"Epoch\")\n",
    "plt.ylabel(\"Loss\")\n",
    "plt.title(\"Training Loss Curve\")\n",
    "plt.show()"
   ]
  },
  {
   "cell_type": "code",
   "execution_count": null,
   "id": "8d5b7a42-dc08-46fa-9381-fdb08081482a",
   "metadata": {},
   "outputs": [],
   "source": []
  }
 ],
 "metadata": {
  "kernelspec": {
   "display_name": "apziva",
   "language": "python",
   "name": "apziva"
  },
  "language_info": {
   "codemirror_mode": {
    "name": "ipython",
    "version": 3
   },
   "file_extension": ".py",
   "mimetype": "text/x-python",
   "name": "python",
   "nbconvert_exporter": "python",
   "pygments_lexer": "ipython3",
   "version": "3.9.20"
  }
 },
 "nbformat": 4,
 "nbformat_minor": 5
}
