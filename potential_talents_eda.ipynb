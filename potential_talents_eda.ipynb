{
 "cells": [
  {
   "cell_type": "markdown",
   "id": "475321f8-27bd-413b-840f-59f203577e80",
   "metadata": {},
   "source": [
    "# Potential Talents - An Apziva Project (#3)"
   ]
  },
  {
   "cell_type": "markdown",
   "id": "f6e4ffcd-3ebe-46dc-8f29-9ffec9c17dc2",
   "metadata": {},
   "source": [
    "# EDA"
   ]
  },
  {
   "cell_type": "markdown",
   "id": "8e779d93-dc3a-4e9c-bcaf-42a94f5056dd",
   "metadata": {},
   "source": [
    "By Samuel Alter"
   ]
  },
  {
   "cell_type": "markdown",
   "id": "8e52f988-ef83-4ecb-a5cf-b1a93556e117",
   "metadata": {},
   "source": [
    "Apziva: 6bImatZVlK6DnbEo"
   ]
  },
  {
   "cell_type": "markdown",
   "id": "956a7d3d-a201-44bd-8123-eacaddcb4069",
   "metadata": {},
   "source": [
    "## Project Overview"
   ]
  },
  {
   "cell_type": "markdown",
   "id": "874bf7ce-d1eb-4d45-9339-4821382b93d6",
   "metadata": {},
   "source": [
    "#### Goals"
   ]
  },
  {
   "cell_type": "markdown",
   "id": "884cf463-3b7c-461a-b094-9a5fd2182a6d",
   "metadata": {},
   "source": [
    "#### The Dataset"
   ]
  },
  {
   "cell_type": "markdown",
   "id": "621c288e-6e1b-4196-a318-984df113bd50",
   "metadata": {},
   "source": [
    "## Imports and Helper Functions"
   ]
  },
  {
   "cell_type": "code",
   "execution_count": 92,
   "id": "a0b12ae9-b001-455b-a6be-e5221bc27e45",
   "metadata": {},
   "outputs": [],
   "source": [
    "import numpy as np\n",
    "import pandas as pd\n",
    "import matplotlib.pyplot as plt\n",
    "import seaborn as sns\n",
    "import copy\n",
    "import joblib\n",
    "import time\n",
    "from datetime import datetime\n",
    "import json\n",
    "from pathlib import Path\n",
    "import inspect\n",
    "import re\n",
    "import string\n",
    "from pandas.api.types import is_string_dtype\n",
    "from pandas.api.types import is_numeric_dtype"
   ]
  },
  {
   "cell_type": "code",
   "execution_count": 93,
   "id": "8c90afd9-61d3-4aea-aa0f-763b43fbe9f6",
   "metadata": {},
   "outputs": [
    {
     "name": "stderr",
     "output_type": "stream",
     "text": [
      "[nltk_data] Downloading package punkt to /Users/sra/nltk_data...\n",
      "[nltk_data]   Package punkt is already up-to-date!\n",
      "[nltk_data] Downloading package wordnet to /Users/sra/nltk_data...\n",
      "[nltk_data]   Package wordnet is already up-to-date!\n",
      "[nltk_data] Downloading package omw-1.4 to /Users/sra/nltk_data...\n",
      "[nltk_data]   Package omw-1.4 is already up-to-date!\n",
      "[nltk_data] Downloading package averaged_perceptron_tagger to\n",
      "[nltk_data]     /Users/sra/nltk_data...\n",
      "[nltk_data]   Package averaged_perceptron_tagger is already up-to-\n",
      "[nltk_data]       date!\n"
     ]
    }
   ],
   "source": [
    "import nltk\n",
    "nltk.download('punkt')\n",
    "nltk.download('wordnet')\n",
    "nltk.download('omw-1.4')\n",
    "nltk.download('averaged_perceptron_tagger')\n",
    "from nltk.corpus import stopwords # lists of stopwords\n",
    "from nltk.tokenize import word_tokenize # tool for splitting documents into tokens\n",
    "from nltk.tokenize import sent_tokenize\n",
    "from nltk.stem import PorterStemmer # basic stemmer\n",
    "from nltk.stem import WordNetLemmatizer # more sophisticated word->lemma"
   ]
  },
  {
   "cell_type": "code",
   "execution_count": 94,
   "id": "170bfeb6-f514-4a2e-a199-9096e22d3bf6",
   "metadata": {},
   "outputs": [],
   "source": [
    "# simple function to generate random integers\n",
    "\n",
    "def rand_gen(low=1,high=1e4):\n",
    "    '''\n",
    "    Generates a pseudo-random integer\n",
    "    consisting of up to four digits\n",
    "    '''\n",
    "    import numpy as np\n",
    "    rng=np.random.default_rng()\n",
    "    random_state=int(rng.integers(low=low,high=high))\n",
    "    \n",
    "    return random_state"
   ]
  },
  {
   "cell_type": "code",
   "execution_count": 95,
   "id": "ebbb28ab-89d8-4a7f-8f50-0ea55e9b25f1",
   "metadata": {},
   "outputs": [
    {
     "data": {
      "text/plain": [
       "8118"
      ]
     },
     "execution_count": 95,
     "metadata": {},
     "output_type": "execute_result"
    }
   ],
   "source": [
    "seed=rand_gen()\n",
    "seed"
   ]
  },
  {
   "cell_type": "code",
   "execution_count": 96,
   "id": "6fb9c656-48c3-41f1-9c89-df55993cde43",
   "metadata": {},
   "outputs": [
    {
     "data": {
      "text/plain": [
       "Generator(PCG64) at 0x161FCC200"
      ]
     },
     "execution_count": 96,
     "metadata": {},
     "output_type": "execute_result"
    }
   ],
   "source": [
    "# set the randomness seed throughout the notebook\n",
    "# source: # https://odsc.medium.com/properly-setting-the-random-seed-in-ml-experiments-not-as-simple-as-you-might-imagine-219969c84752\n",
    "\n",
    "## set `PYTHONHASHSEED` environment variable at a fixed value\n",
    "import os\n",
    "os.environ['PYTHONHASHSEED']=str(seed)\n",
    "## set `python` built-in pseudo-random generator at a fixed value\n",
    "import random\n",
    "random.seed(seed)\n",
    "## set `numpy` pseudo-random generator at a fixed value\n",
    "np.random.seed(seed)\n",
    "np.random.default_rng(seed)"
   ]
  },
  {
   "cell_type": "code",
   "execution_count": 97,
   "id": "3d210da9-c401-4db6-89b9-6b857e15047b",
   "metadata": {},
   "outputs": [],
   "source": [
    "def get_variable_name(var):\n",
    "    callers_local_vars = inspect.currentframe().f_back.f_locals.items()\n",
    "    return [name for name, val in callers_local_vars if val is var]\n",
    "\n",
    "def fileDaterSaver(location: str,\n",
    "                   filetype: str,\n",
    "                   object_,\n",
    "                   extra: str = '',\n",
    "                   verbose: bool = True):\n",
    "\n",
    "    '''\n",
    "    Function that gets a timestamped filename and saves it\n",
    "    to a user-specified location.\n",
    "\n",
    "    Parameters:\n",
    "    -----------\n",
    "    location: str - The location where the file will be saved.\n",
    "    filetype: str - The type of the file to save ('csv' or 'json').\n",
    "    object_: The object to be saved. Should be a pandas DataFrame\n",
    "        for 'csv' or serializable for 'json'.\n",
    "    extra: str - Additional string to include in the filename.\n",
    "    verbose: bool - Whether to print verbose messages.\n",
    "    '''\n",
    "\n",
    "    # get current date and time\n",
    "    current_datetime = datetime.now()\n",
    "\n",
    "    # print current date and time to check\n",
    "    if verbose:\n",
    "        print('current_datetime:', current_datetime)\n",
    "\n",
    "    # format the datetime for a filename\n",
    "    datetime_suffix = current_datetime.strftime(\"%Y-%m-%d_%H-%M-%S\")\n",
    "\n",
    "    # create filename with the datetime suffix\n",
    "    if extra != '':\n",
    "        file_name = f'{location}{extra}_{datetime_suffix}.{filetype}'\n",
    "    else:\n",
    "        file_name = f'{location}{datetime_suffix}.{filetype}'\n",
    "\n",
    "    # print file name\n",
    "    if verbose:\n",
    "        print(file_name)\n",
    "\n",
    "    # save object\n",
    "    if filetype == 'csv':\n",
    "        object_.to_csv(file_name, index=True)\n",
    "    elif filetype == 'json':\n",
    "        with open(file_name, 'w') as file:\n",
    "            file.write(json.dumps(object_, default=str))\n",
    "    else:\n",
    "        raise ValueError(\"Unsupported file type. Use 'csv' or 'json'.\")\n",
    "\n",
    "    # confirm save\n",
    "    file_path = Path(file_name)\n",
    "    if file_path.exists():\n",
    "        variable_name = get_variable_name(object_)\n",
    "        if variable_name:\n",
    "            print(f'Successfully saved {variable_name[0]} to {file_path}')\n",
    "        else:\n",
    "            print(f'Successfully saved object to {file_path}')\n",
    "    else:\n",
    "        print(\"File save error.\")"
   ]
  },
  {
   "cell_type": "markdown",
   "id": "fad724e2-678c-44c4-8b40-6b7d28ccb048",
   "metadata": {},
   "source": [
    "Read in the datset:"
   ]
  },
  {
   "cell_type": "code",
   "execution_count": 98,
   "id": "ef457c21-9427-42fa-9fd0-6b117df7e480",
   "metadata": {},
   "outputs": [
    {
     "data": {
      "text/html": [
       "<div>\n",
       "<style scoped>\n",
       "    .dataframe tbody tr th:only-of-type {\n",
       "        vertical-align: middle;\n",
       "    }\n",
       "\n",
       "    .dataframe tbody tr th {\n",
       "        vertical-align: top;\n",
       "    }\n",
       "\n",
       "    .dataframe thead th {\n",
       "        text-align: right;\n",
       "    }\n",
       "</style>\n",
       "<table border=\"1\" class=\"dataframe\">\n",
       "  <thead>\n",
       "    <tr style=\"text-align: right;\">\n",
       "      <th></th>\n",
       "      <th>id</th>\n",
       "      <th>job_title</th>\n",
       "      <th>location</th>\n",
       "      <th>connection</th>\n",
       "      <th>fit</th>\n",
       "    </tr>\n",
       "  </thead>\n",
       "  <tbody>\n",
       "    <tr>\n",
       "      <th>0</th>\n",
       "      <td>1</td>\n",
       "      <td>2019 C.T. Bauer College of Business Graduate (...</td>\n",
       "      <td>Houston, Texas</td>\n",
       "      <td>85</td>\n",
       "      <td>NaN</td>\n",
       "    </tr>\n",
       "    <tr>\n",
       "      <th>1</th>\n",
       "      <td>2</td>\n",
       "      <td>Native English Teacher at EPIK (English Progra...</td>\n",
       "      <td>Kanada</td>\n",
       "      <td>500+</td>\n",
       "      <td>NaN</td>\n",
       "    </tr>\n",
       "    <tr>\n",
       "      <th>2</th>\n",
       "      <td>3</td>\n",
       "      <td>Aspiring Human Resources Professional</td>\n",
       "      <td>Raleigh-Durham, North Carolina Area</td>\n",
       "      <td>44</td>\n",
       "      <td>NaN</td>\n",
       "    </tr>\n",
       "  </tbody>\n",
       "</table>\n",
       "</div>"
      ],
      "text/plain": [
       "   id                                          job_title  \\\n",
       "0   1  2019 C.T. Bauer College of Business Graduate (...   \n",
       "1   2  Native English Teacher at EPIK (English Progra...   \n",
       "2   3              Aspiring Human Resources Professional   \n",
       "\n",
       "                              location connection  fit  \n",
       "0                       Houston, Texas         85  NaN  \n",
       "1                               Kanada      500+   NaN  \n",
       "2  Raleigh-Durham, North Carolina Area         44  NaN  "
      ]
     },
     "execution_count": 98,
     "metadata": {},
     "output_type": "execute_result"
    }
   ],
   "source": [
    "df=pd.read_csv('../data/3_data.csv')\n",
    "df.head(3)"
   ]
  },
  {
   "cell_type": "markdown",
   "id": "664da8f9-1cc8-42aa-b61f-345181cfd24c",
   "metadata": {},
   "source": [
    "## Analysis"
   ]
  },
  {
   "cell_type": "code",
   "execution_count": 99,
   "id": "5588f3a3-79c7-4b53-a583-04b8b7db7e2a",
   "metadata": {},
   "outputs": [
    {
     "name": "stdout",
     "output_type": "stream",
     "text": [
      "<class 'pandas.core.frame.DataFrame'>\n",
      "RangeIndex: 104 entries, 0 to 103\n",
      "Data columns (total 5 columns):\n",
      " #   Column      Non-Null Count  Dtype  \n",
      "---  ------      --------------  -----  \n",
      " 0   id          104 non-null    int64  \n",
      " 1   job_title   104 non-null    object \n",
      " 2   location    104 non-null    object \n",
      " 3   connection  104 non-null    object \n",
      " 4   fit         0 non-null      float64\n",
      "dtypes: float64(1), int64(1), object(3)\n",
      "memory usage: 4.2+ KB\n"
     ]
    }
   ],
   "source": [
    "df.info()"
   ]
  },
  {
   "cell_type": "markdown",
   "id": "7c2d80f3-65ac-4a80-9751-f60915032a60",
   "metadata": {},
   "source": [
    "No nulls in the dataset. That is nice for us!"
   ]
  },
  {
   "cell_type": "code",
   "execution_count": 100,
   "id": "f950c4e7-492a-471c-b5e8-b216e7eceeb3",
   "metadata": {},
   "outputs": [
    {
     "data": {
      "text/plain": [
       "Series([], Name: count, dtype: int64)"
      ]
     },
     "execution_count": 100,
     "metadata": {},
     "output_type": "execute_result"
    }
   ],
   "source": [
    "df['fit'].value_counts()"
   ]
  },
  {
   "cell_type": "markdown",
   "id": "a878f527-ba5d-4b45-9a8e-6d67c39d3cbb",
   "metadata": {},
   "source": [
    "We'll remove `fit` as it is a column with no data."
   ]
  },
  {
   "cell_type": "code",
   "execution_count": 101,
   "id": "412b43a5-6dbd-442c-a426-ccff66bbecb3",
   "metadata": {},
   "outputs": [
    {
     "data": {
      "text/html": [
       "<div>\n",
       "<style scoped>\n",
       "    .dataframe tbody tr th:only-of-type {\n",
       "        vertical-align: middle;\n",
       "    }\n",
       "\n",
       "    .dataframe tbody tr th {\n",
       "        vertical-align: top;\n",
       "    }\n",
       "\n",
       "    .dataframe thead th {\n",
       "        text-align: right;\n",
       "    }\n",
       "</style>\n",
       "<table border=\"1\" class=\"dataframe\">\n",
       "  <thead>\n",
       "    <tr style=\"text-align: right;\">\n",
       "      <th></th>\n",
       "      <th>id</th>\n",
       "      <th>job_title</th>\n",
       "      <th>location</th>\n",
       "      <th>connection</th>\n",
       "    </tr>\n",
       "  </thead>\n",
       "  <tbody>\n",
       "    <tr>\n",
       "      <th>0</th>\n",
       "      <td>1</td>\n",
       "      <td>2019 C.T. Bauer College of Business Graduate (...</td>\n",
       "      <td>Houston, Texas</td>\n",
       "      <td>85</td>\n",
       "    </tr>\n",
       "    <tr>\n",
       "      <th>1</th>\n",
       "      <td>2</td>\n",
       "      <td>Native English Teacher at EPIK (English Progra...</td>\n",
       "      <td>Kanada</td>\n",
       "      <td>500+</td>\n",
       "    </tr>\n",
       "    <tr>\n",
       "      <th>2</th>\n",
       "      <td>3</td>\n",
       "      <td>Aspiring Human Resources Professional</td>\n",
       "      <td>Raleigh-Durham, North Carolina Area</td>\n",
       "      <td>44</td>\n",
       "    </tr>\n",
       "    <tr>\n",
       "      <th>3</th>\n",
       "      <td>4</td>\n",
       "      <td>People Development Coordinator at Ryan</td>\n",
       "      <td>Denton, Texas</td>\n",
       "      <td>500+</td>\n",
       "    </tr>\n",
       "    <tr>\n",
       "      <th>4</th>\n",
       "      <td>5</td>\n",
       "      <td>Advisory Board Member at Celal Bayar University</td>\n",
       "      <td>İzmir, Türkiye</td>\n",
       "      <td>500+</td>\n",
       "    </tr>\n",
       "  </tbody>\n",
       "</table>\n",
       "</div>"
      ],
      "text/plain": [
       "   id                                          job_title  \\\n",
       "0   1  2019 C.T. Bauer College of Business Graduate (...   \n",
       "1   2  Native English Teacher at EPIK (English Progra...   \n",
       "2   3              Aspiring Human Resources Professional   \n",
       "3   4             People Development Coordinator at Ryan   \n",
       "4   5    Advisory Board Member at Celal Bayar University   \n",
       "\n",
       "                              location connection  \n",
       "0                       Houston, Texas         85  \n",
       "1                               Kanada      500+   \n",
       "2  Raleigh-Durham, North Carolina Area         44  \n",
       "3                        Denton, Texas      500+   \n",
       "4                       İzmir, Türkiye      500+   "
      ]
     },
     "execution_count": 101,
     "metadata": {},
     "output_type": "execute_result"
    }
   ],
   "source": [
    "if 'fit' in df.columns: # flow control for repeat code executions\n",
    "    df.drop('fit',axis=1,inplace=True)\n",
    "\n",
    "df.head()"
   ]
  },
  {
   "cell_type": "code",
   "execution_count": 102,
   "id": "4adbe8c8-5738-446b-b762-62f9fffcc2c0",
   "metadata": {},
   "outputs": [
    {
     "data": {
      "text/plain": [
       "connection\n",
       "500+     44\n",
       "85        7\n",
       "61        7\n",
       "44        6\n",
       "1         5\n",
       "2         4\n",
       "4         2\n",
       "7         2\n",
       "57        2\n",
       "390       2\n",
       "103       1\n",
       "48        1\n",
       "18        1\n",
       "71        1\n",
       "19        1\n",
       "415       1\n",
       "9         1\n",
       "64        1\n",
       "39        1\n",
       "155       1\n",
       "349       1\n",
       "174       1\n",
       "40        1\n",
       "50        1\n",
       "268       1\n",
       "455       1\n",
       "52        1\n",
       "409       1\n",
       "212       1\n",
       "16        1\n",
       "5         1\n",
       "82        1\n",
       "49        1\n",
       "Name: count, dtype: int64"
      ]
     },
     "execution_count": 102,
     "metadata": {},
     "output_type": "execute_result"
    }
   ],
   "source": [
    "connections=df['connection'].value_counts()\n",
    "\n",
    "connections"
   ]
  },
  {
   "cell_type": "markdown",
   "id": "4770d59b-f145-42dc-a47a-d6c24cbec6e7",
   "metadata": {},
   "source": [
    "I will change the \"500+\" into 500 so that it can remain a numeric value."
   ]
  },
  {
   "cell_type": "code",
   "execution_count": 103,
   "id": "b0db1256-fdaa-46d4-a893-e9444b0f0b92",
   "metadata": {},
   "outputs": [
    {
     "name": "stdout",
     "output_type": "stream",
     "text": [
      "Amount of '+' in column: 0\n",
      "id             int64\n",
      "job_title     object\n",
      "location      object\n",
      "connection     int64\n",
      "dtype: object\n",
      "Was conversion successful?\n",
      "Yes.\n"
     ]
    }
   ],
   "source": [
    "# remove all non-numeric characters from the column\n",
    "if not pd.api.types.is_numeric_dtype(df['connection']):\n",
    "    df['connection']=df['connection'].str.replace(r'\\D','',regex=True)\n",
    "\n",
    "    # check if any '+' characters are still present\n",
    "    print(\"Amount of '+' in column:\",df['connection'].str.contains(r'\\+').sum())\n",
    "\n",
    "    # convert to integer\n",
    "    df['connection']=pd.to_numeric(df['connection'],errors='coerce')\n",
    "    print(df.dtypes)\n",
    "\n",
    "    # check if conversion was successful\n",
    "    print('Was conversion successful?')\n",
    "    if pd.api.types.is_numeric_dtype(df['connection']):\n",
    "        print('Yes.')\n",
    "    else:\n",
    "        print('No.')"
   ]
  },
  {
   "cell_type": "markdown",
   "id": "89b271ed-4f3b-41f7-a4b9-95ddf1a47e69",
   "metadata": {},
   "source": [
    "### Histogram of Connections"
   ]
  },
  {
   "cell_type": "code",
   "execution_count": 104,
   "id": "347e4c6f-653d-46fb-a9a0-f16eac27aa36",
   "metadata": {},
   "outputs": [],
   "source": [
    "# make a subset without those with >500\n",
    "# to simplify histogram\n",
    "df_no5=df[df['connection']<500]"
   ]
  },
  {
   "cell_type": "code",
   "execution_count": 109,
   "id": "f1eccc7f-e585-43cd-b0d8-1e97564163fd",
   "metadata": {},
   "outputs": [
    {
     "data": {
      "image/png": "[encoded data removed]",
      "text/plain": [
       "<Figure size 800x600 with 1 Axes>"
      ]
     },
     "metadata": {},
     "output_type": "display_data"
    }
   ],
   "source": [
    "plt.figure(figsize=(8,6))\n",
    "plt.hist(x=df_no5['connection'],\n",
    "         color='cornflowerblue',\n",
    "         bins=20)\n",
    "plt.title('Histogram of Connections')\n",
    "plt.xlabel('Connections')\n",
    "plt.ylabel('Count')\n",
    "plt.grid('minor',axis='y')\n",
    "plt.show()"
   ]
  },
  {
   "cell_type": "code",
   "execution_count": null,
   "id": "fcb6ed36-3dc9-4a4f-9553-8649552b1362",
   "metadata": {},
   "outputs": [],
   "source": []
  }
 ],
 "metadata": {
  "kernelspec": {
   "display_name": "apziva",
   "language": "python",
   "name": "apziva"
  },
  "language_info": {
   "codemirror_mode": {
    "name": "ipython",
    "version": 3
   },
   "file_extension": ".py",
   "mimetype": "text/x-python",
   "name": "python",
   "nbconvert_exporter": "python",
   "pygments_lexer": "ipython3",
   "version": "3.9.20"
  }
 },
 "nbformat": 4,
 "nbformat_minor": 5
}
