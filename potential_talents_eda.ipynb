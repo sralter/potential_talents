{
 "cells": [
  {
   "cell_type": "markdown",
   "id": "475321f8-27bd-413b-840f-59f203577e80",
   "metadata": {},
   "source": [
    "# Potential Talents - An Apziva Project (#3)"
   ]
  },
  {
   "cell_type": "markdown",
   "id": "f6e4ffcd-3ebe-46dc-8f29-9ffec9c17dc2",
   "metadata": {},
   "source": [
    "# EDA"
   ]
  },
  {
   "cell_type": "markdown",
   "id": "8e779d93-dc3a-4e9c-bcaf-42a94f5056dd",
   "metadata": {},
   "source": [
    "By Samuel Alter"
   ]
  },
  {
   "cell_type": "markdown",
   "id": "8e52f988-ef83-4ecb-a5cf-b1a93556e117",
   "metadata": {},
   "source": [
    "Apziva: 6bImatZVlK6DnbEo"
   ]
  },
  {
   "cell_type": "markdown",
   "id": "956a7d3d-a201-44bd-8123-eacaddcb4069",
   "metadata": {},
   "source": [
    "## Project Overview"
   ]
  },
  {
   "cell_type": "markdown",
   "id": "874bf7ce-d1eb-4d45-9339-4821382b93d6",
   "metadata": {},
   "source": [
    "### Goals"
   ]
  },
  {
   "cell_type": "markdown",
   "id": "884cf463-3b7c-461a-b094-9a5fd2182a6d",
   "metadata": {},
   "source": [
    "### The Dataset"
   ]
  },
  {
   "cell_type": "markdown",
   "id": "621c288e-6e1b-4196-a318-984df113bd50",
   "metadata": {},
   "source": [
    "## Imports and Helper Functions"
   ]
  },
  {
   "cell_type": "code",
   "execution_count": 2,
   "id": "a0b12ae9-b001-455b-a6be-e5221bc27e45",
   "metadata": {},
   "outputs": [],
   "source": [
    "import numpy as np\n",
    "import pandas as pd\n",
    "import matplotlib.pyplot as plt\n",
    "import seaborn as sns\n",
    "import copy\n",
    "import joblib\n",
    "import time\n",
    "from datetime import datetime\n",
    "import json\n",
    "from pathlib import Path\n",
    "import inspect\n",
    "import re\n",
    "import string\n",
    "from pandas.api.types import is_string_dtype\n",
    "from pandas.api.types import is_numeric_dtype\n",
    "import geopandas as gpd\n",
    "import duckdb as dd"
   ]
  },
  {
   "cell_type": "code",
   "execution_count": null,
   "id": "8c90afd9-61d3-4aea-aa0f-763b43fbe9f6",
   "metadata": {},
   "outputs": [],
   "source": [
    "import nltk\n",
    "nltk.download('punkt')\n",
    "nltk.download('wordnet')\n",
    "nltk.download('omw-1.4')\n",
    "nltk.download('averaged_perceptron_tagger')\n",
    "from nltk.corpus import stopwords # lists of stopwords\n",
    "from nltk.tokenize import word_tokenize # tool for splitting documents into tokens\n",
    "from nltk.tokenize import sent_tokenize\n",
    "from nltk.stem import PorterStemmer # basic stemmer\n",
    "from nltk.stem import WordNetLemmatizer # more sophisticated word->lemma\n",
    "from nltk.corpus import wordnet"
   ]
  },
  {
   "cell_type": "code",
   "execution_count": null,
   "id": "170bfeb6-f514-4a2e-a199-9096e22d3bf6",
   "metadata": {},
   "outputs": [],
   "source": [
    "# simple function to generate random integers\n",
    "\n",
    "def rand_gen(low=1,high=1e4):\n",
    "    '''\n",
    "    Generates a pseudo-random integer\n",
    "    consisting of up to four digits\n",
    "    '''\n",
    "    import numpy as np\n",
    "    rng=np.random.default_rng()\n",
    "    random_state=int(rng.integers(low=low,high=high))\n",
    "    \n",
    "    return random_state"
   ]
  },
  {
   "cell_type": "code",
   "execution_count": null,
   "id": "ebbb28ab-89d8-4a7f-8f50-0ea55e9b25f1",
   "metadata": {},
   "outputs": [],
   "source": [
    "seed=rand_gen()\n",
    "seed"
   ]
  },
  {
   "cell_type": "code",
   "execution_count": null,
   "id": "6fb9c656-48c3-41f1-9c89-df55993cde43",
   "metadata": {},
   "outputs": [],
   "source": [
    "# set the randomness seed throughout the notebook\n",
    "# source: # https://odsc.medium.com/properly-setting-the-random-seed-in-ml-experiments-not-as-simple-as-you-might-imagine-219969c84752\n",
    "\n",
    "## set `PYTHONHASHSEED` environment variable at a fixed value\n",
    "import os\n",
    "os.environ['PYTHONHASHSEED']=str(seed)\n",
    "## set `python` built-in pseudo-random generator at a fixed value\n",
    "import random\n",
    "random.seed(seed)\n",
    "## set `numpy` pseudo-random generator at a fixed value\n",
    "np.random.seed(seed)\n",
    "np.random.default_rng(seed)"
   ]
  },
  {
   "cell_type": "code",
   "execution_count": null,
   "id": "3d210da9-c401-4db6-89b9-6b857e15047b",
   "metadata": {},
   "outputs": [],
   "source": [
    "def get_variable_name(var):\n",
    "    callers_local_vars = inspect.currentframe().f_back.f_locals.items()\n",
    "    return [name for name, val in callers_local_vars if val is var]\n",
    "\n",
    "def fileDaterSaver(location: str,\n",
    "                   filetype: str,\n",
    "                   object_,\n",
    "                   extra: str = '',\n",
    "                   verbose: bool = True):\n",
    "\n",
    "    '''\n",
    "    Function that gets a timestamped filename and saves it\n",
    "    to a user-specified location.\n",
    "\n",
    "    Parameters:\n",
    "    -----------\n",
    "    location: str - The location where the file will be saved.\n",
    "    filetype: str - The type of the file to save ('csv' or 'json').\n",
    "    object_: The object to be saved. Should be a pandas DataFrame\n",
    "        for 'csv' or serializable for 'json'.\n",
    "    extra: str - Additional string to include in the filename.\n",
    "    verbose: bool - Whether to print verbose messages.\n",
    "    '''\n",
    "\n",
    "    # get current date and time\n",
    "    current_datetime = datetime.now()\n",
    "\n",
    "    # print current date and time to check\n",
    "    if verbose:\n",
    "        print('current_datetime:', current_datetime)\n",
    "\n",
    "    # format the datetime for a filename\n",
    "    datetime_suffix = current_datetime.strftime(\"%Y-%m-%d_%H-%M-%S\")\n",
    "\n",
    "    # create filename with the datetime suffix\n",
    "    if extra != '':\n",
    "        file_name = f'{location}{extra}_{datetime_suffix}.{filetype}'\n",
    "    else:\n",
    "        file_name = f'{location}{datetime_suffix}.{filetype}'\n",
    "\n",
    "    # print file name\n",
    "    if verbose:\n",
    "        print(file_name)\n",
    "\n",
    "    # save object\n",
    "    if filetype == 'csv':\n",
    "        object_.to_csv(file_name, index=True)\n",
    "    elif filetype == 'json':\n",
    "        with open(file_name, 'w') as file:\n",
    "            file.write(json.dumps(object_, default=str))\n",
    "    else:\n",
    "        raise ValueError(\"Unsupported file type. Use 'csv' or 'json'.\")\n",
    "\n",
    "    # confirm save\n",
    "    file_path = Path(file_name)\n",
    "    if file_path.exists():\n",
    "        variable_name = get_variable_name(object_)\n",
    "        if variable_name:\n",
    "            print(f'Successfully saved {variable_name[0]} to {file_path}')\n",
    "        else:\n",
    "            print(f'Successfully saved object to {file_path}')\n",
    "    else:\n",
    "        print(\"File save error.\")"
   ]
  },
  {
   "cell_type": "markdown",
   "id": "fad724e2-678c-44c4-8b40-6b7d28ccb048",
   "metadata": {},
   "source": [
    "Read in the datset:"
   ]
  },
  {
   "cell_type": "code",
   "execution_count": null,
   "id": "ef457c21-9427-42fa-9fd0-6b117df7e480",
   "metadata": {},
   "outputs": [],
   "source": [
    "df=pd.read_csv('../data/3_data.csv')\n",
    "df.head(3)"
   ]
  },
  {
   "cell_type": "markdown",
   "id": "664da8f9-1cc8-42aa-b61f-345181cfd24c",
   "metadata": {},
   "source": [
    "## Analysis"
   ]
  },
  {
   "cell_type": "code",
   "execution_count": null,
   "id": "5588f3a3-79c7-4b53-a583-04b8b7db7e2a",
   "metadata": {},
   "outputs": [],
   "source": [
    "df.info()"
   ]
  },
  {
   "cell_type": "markdown",
   "id": "7c2d80f3-65ac-4a80-9751-f60915032a60",
   "metadata": {},
   "source": [
    "No nulls in the dataset. That is nice for us! There are 104 total observations."
   ]
  },
  {
   "cell_type": "code",
   "execution_count": null,
   "id": "f950c4e7-492a-471c-b5e8-b216e7eceeb3",
   "metadata": {},
   "outputs": [],
   "source": [
    "df['fit'].value_counts()"
   ]
  },
  {
   "cell_type": "markdown",
   "id": "a878f527-ba5d-4b45-9a8e-6d67c39d3cbb",
   "metadata": {},
   "source": [
    "We'll remove `fit` as it is a column with no data."
   ]
  },
  {
   "cell_type": "code",
   "execution_count": null,
   "id": "412b43a5-6dbd-442c-a426-ccff66bbecb3",
   "metadata": {},
   "outputs": [],
   "source": [
    "if 'fit' in df.columns: # flow control for repeat code executions\n",
    "    df.drop('fit',axis=1,inplace=True)\n",
    "\n",
    "df.head()"
   ]
  },
  {
   "cell_type": "markdown",
   "id": "a46792bc-1e61-4a52-bc54-a3e0c28a043a",
   "metadata": {},
   "source": [
    "Inspect the connections column:"
   ]
  },
  {
   "cell_type": "code",
   "execution_count": null,
   "id": "4adbe8c8-5738-446b-b762-62f9fffcc2c0",
   "metadata": {},
   "outputs": [],
   "source": [
    "connections=df['connection'].value_counts()\n",
    "\n",
    "connections"
   ]
  },
  {
   "cell_type": "markdown",
   "id": "4770d59b-f145-42dc-a47a-d6c24cbec6e7",
   "metadata": {},
   "source": [
    "I will change the \"500+\" into 500 so that it can remain a numeric value."
   ]
  },
  {
   "cell_type": "code",
   "execution_count": null,
   "id": "b0db1256-fdaa-46d4-a893-e9444b0f0b92",
   "metadata": {},
   "outputs": [],
   "source": [
    "# remove all non-numeric characters from the column\n",
    "column='connection'\n",
    "if not pd.api.types.is_numeric_dtype(df[column]):\n",
    "    df[column]=df[column].str.replace(r'\\D','',regex=True)\n",
    "\n",
    "    # check if any '+' characters are still present\n",
    "    print(\"Amount of '+' in column:\",df[column].str.contains(r'\\+').sum())\n",
    "\n",
    "    # convert to integer\n",
    "    df[column]=pd.to_numeric(df[column],errors='coerce')\n",
    "    print(df.dtypes)\n",
    "\n",
    "    # check if conversion was successful\n",
    "    print('\\nWas conversion successful?')\n",
    "    if pd.api.types.is_numeric_dtype(df[column]):\n",
    "        print('Yes.')\n",
    "    else:\n",
    "        print('No.')\n",
    "else:\n",
    "    print(f'There are no non-numeric characters in the column: {column}')"
   ]
  },
  {
   "cell_type": "markdown",
   "id": "89b271ed-4f3b-41f7-a4b9-95ddf1a47e69",
   "metadata": {},
   "source": [
    "### Histogram of Connections"
   ]
  },
  {
   "cell_type": "code",
   "execution_count": null,
   "id": "d8ec465a-c67b-4544-919a-451c2a50839f",
   "metadata": {},
   "outputs": [],
   "source": [
    "# remove the >500 connection observations\n",
    "df_no500=df[df['connection']<500]\n",
    "\n",
    "# check\n",
    "df_no500['connection'].value_counts().head(3)"
   ]
  },
  {
   "cell_type": "code",
   "execution_count": null,
   "id": "f1eccc7f-e585-43cd-b0d8-1e97564163fd",
   "metadata": {
    "tags": []
   },
   "outputs": [],
   "source": [
    "plt.figure(figsize=(8,6))\n",
    "plt.hist(x=df_no500['connection'],\n",
    "         color='cornflowerblue',\n",
    "         bins=20)\n",
    "plt.title('Histogram of Connections\\n\\nNote:\\nThose with greater than 500 connections are not shown\\nThere are 44 observations with >500 connections')\n",
    "plt.xlabel('Number of Connections')\n",
    "plt.ylabel('Count')\n",
    "plt.grid(which='both',axis='y')\n",
    "plt.xticks(range(0,501,50)) # get xticks to appear every 50 connections\n",
    "\n",
    "plt.savefig('figures/histogram_connections.pdf')\n",
    "plt.savefig('figures/histogram_connections.jpg')\n",
    "plt.savefig('figures/histogram_connections.png')\n",
    "\n",
    "plt.show()"
   ]
  },
  {
   "cell_type": "markdown",
   "id": "43bc33a2-f2dd-4111-9c62-8dfc2c53ad7d",
   "metadata": {},
   "source": [
    "### Boxplot of Connections"
   ]
  },
  {
   "cell_type": "code",
   "execution_count": null,
   "id": "ddaa166c-f90d-467a-a0cc-ffb3fca5e33c",
   "metadata": {},
   "outputs": [],
   "source": [
    "plt.figure(figsize=(6,2))\n",
    "sns.boxplot(x=df['connection'],color='cornflowerblue')\n",
    "plt.title('Boxplot of Connections\\nIncluding those with >500 Connections')\n",
    "plt.xlabel('Connection')\n",
    "plt.xticks(range(0,501,50))\n",
    "\n",
    "plt.savefig('figures/boxplot_connections.pdf')\n",
    "plt.savefig('figures/boxplot_connections.jpg')\n",
    "plt.savefig('figures/boxplot_connections.png')\n",
    "\n",
    "plt.show()"
   ]
  },
  {
   "cell_type": "code",
   "execution_count": null,
   "id": "d5a7afe5-f538-4803-b389-4cce71394d7c",
   "metadata": {},
   "outputs": [],
   "source": [
    "plt.figure(figsize=(6,2))\n",
    "sns.boxplot(x=df_no500['connection'],color='cornflowerblue')\n",
    "plt.title('Boxplot of Connections\\nNot including those with >500 Connections')\n",
    "plt.xlabel('Connection')\n",
    "plt.xticks(range(0,501,50))\n",
    "\n",
    "plt.savefig('figures/boxplot_no500.pdf')\n",
    "plt.savefig('figures/boxplot_no500.jpg')\n",
    "plt.savefig('figures/boxplot_no500.png')\n",
    "\n",
    "plt.show()"
   ]
  },
  {
   "cell_type": "markdown",
   "id": "2e30fbd6-d799-44fb-a344-aee21fe89280",
   "metadata": {},
   "source": [
    "### Map of Observations"
   ]
  },
  {
   "cell_type": "code",
   "execution_count": null,
   "id": "0ed4eadc-0d7a-47bb-b6d2-14e6749ddc52",
   "metadata": {},
   "outputs": [],
   "source": [
    "df['location'].value_counts()"
   ]
  },
  {
   "cell_type": "code",
   "execution_count": null,
   "id": "9bad7bd3-b0d7-4d0d-ace0-33a073f97932",
   "metadata": {},
   "outputs": [],
   "source": [
    "# number of unique locations in dataset\n",
    "df['location'].nunique()"
   ]
  },
  {
   "cell_type": "markdown",
   "id": "be0b11ee-741a-40be-9961-44e64d446750",
   "metadata": {},
   "source": [
    "This is not terrible. I'd like to get the location for each municipality to create a chloropleth map of the locations.\n",
    "\n",
    "First step is to clean this column to make it easier to get the locations. We won't go fully intense with the geospatial information, so if the city says \"Greater CITY Area,\" I'll just make that \"CITY\" to simplify things."
   ]
  },
  {
   "cell_type": "code",
   "execution_count": 9,
   "id": "7d05b11c-bfd3-46c5-8a60-51114a502bac",
   "metadata": {},
   "outputs": [
    {
     "data": {
      "text/html": [
       "<div>\n",
       "<style scoped>\n",
       "    .dataframe tbody tr th:only-of-type {\n",
       "        vertical-align: middle;\n",
       "    }\n",
       "\n",
       "    .dataframe tbody tr th {\n",
       "        vertical-align: top;\n",
       "    }\n",
       "\n",
       "    .dataframe thead th {\n",
       "        text-align: right;\n",
       "    }\n",
       "</style>\n",
       "<table border=\"1\" class=\"dataframe\">\n",
       "  <thead>\n",
       "    <tr style=\"text-align: right;\">\n",
       "      <th></th>\n",
       "      <th>ID</th>\n",
       "      <th>STATE_CODE</th>\n",
       "      <th>STATE_NAME</th>\n",
       "      <th>CITY</th>\n",
       "      <th>COUNTY</th>\n",
       "      <th>LATITUDE</th>\n",
       "      <th>LONGITUDE</th>\n",
       "    </tr>\n",
       "  </thead>\n",
       "  <tbody>\n",
       "    <tr>\n",
       "      <th>0</th>\n",
       "      <td>1</td>\n",
       "      <td>AK</td>\n",
       "      <td>Alaska</td>\n",
       "      <td>Adak</td>\n",
       "      <td>Aleutians West</td>\n",
       "      <td>55.999722</td>\n",
       "      <td>-161.207778</td>\n",
       "    </tr>\n",
       "    <tr>\n",
       "      <th>1</th>\n",
       "      <td>2</td>\n",
       "      <td>AK</td>\n",
       "      <td>Alaska</td>\n",
       "      <td>Akiachak</td>\n",
       "      <td>Bethel</td>\n",
       "      <td>60.891854</td>\n",
       "      <td>-161.392330</td>\n",
       "    </tr>\n",
       "    <tr>\n",
       "      <th>2</th>\n",
       "      <td>3</td>\n",
       "      <td>AK</td>\n",
       "      <td>Alaska</td>\n",
       "      <td>Akiak</td>\n",
       "      <td>Bethel</td>\n",
       "      <td>60.890632</td>\n",
       "      <td>-161.199325</td>\n",
       "    </tr>\n",
       "  </tbody>\n",
       "</table>\n",
       "</div>"
      ],
      "text/plain": [
       "   ID STATE_CODE STATE_NAME      CITY          COUNTY   LATITUDE   LONGITUDE\n",
       "0   1         AK     Alaska      Adak  Aleutians West  55.999722 -161.207778\n",
       "1   2         AK     Alaska  Akiachak          Bethel  60.891854 -161.392330\n",
       "2   3         AK     Alaska     Akiak          Bethel  60.890632 -161.199325"
      ]
     },
     "execution_count": 9,
     "metadata": {},
     "output_type": "execute_result"
    }
   ],
   "source": [
    "# data from here:\n",
    "# https://github.com/kelvins/US-Cities-Database\n",
    "cities=pd.read_csv('../data/us_cities.csv')\n",
    "cities.head(3)"
   ]
  },
  {
   "cell_type": "code",
   "execution_count": 35,
   "id": "ff15d9d9-872b-431d-9fa7-fd7bc12e411f",
   "metadata": {},
   "outputs": [
    {
     "data": {
      "text/html": [
       "<div>\n",
       "<style scoped>\n",
       "    .dataframe tbody tr th:only-of-type {\n",
       "        vertical-align: middle;\n",
       "    }\n",
       "\n",
       "    .dataframe tbody tr th {\n",
       "        vertical-align: top;\n",
       "    }\n",
       "\n",
       "    .dataframe thead th {\n",
       "        text-align: right;\n",
       "    }\n",
       "</style>\n",
       "<table border=\"1\" class=\"dataframe\">\n",
       "  <thead>\n",
       "    <tr style=\"text-align: right;\">\n",
       "      <th></th>\n",
       "      <th>ID</th>\n",
       "      <th>STATE_CODE</th>\n",
       "      <th>STATE_NAME</th>\n",
       "      <th>CITY</th>\n",
       "      <th>COUNTY</th>\n",
       "      <th>LATITUDE</th>\n",
       "      <th>LONGITUDE</th>\n",
       "    </tr>\n",
       "  </thead>\n",
       "  <tbody>\n",
       "    <tr>\n",
       "      <th>2802</th>\n",
       "      <td>2803</td>\n",
       "      <td>CA</td>\n",
       "      <td>California</td>\n",
       "      <td>Torrance</td>\n",
       "      <td>Los Angeles</td>\n",
       "      <td>33.826817</td>\n",
       "      <td>-118.311830</td>\n",
       "    </tr>\n",
       "    <tr>\n",
       "      <th>8312</th>\n",
       "      <td>8313</td>\n",
       "      <td>KS</td>\n",
       "      <td>Kansas</td>\n",
       "      <td>Dorrance</td>\n",
       "      <td>Russell</td>\n",
       "      <td>38.834784</td>\n",
       "      <td>-98.569471</td>\n",
       "    </tr>\n",
       "    <tr>\n",
       "      <th>23159</th>\n",
       "      <td>23160</td>\n",
       "      <td>PA</td>\n",
       "      <td>Pennsylvania</td>\n",
       "      <td>Torrance</td>\n",
       "      <td>Westmoreland</td>\n",
       "      <td>40.417222</td>\n",
       "      <td>-79.223056</td>\n",
       "    </tr>\n",
       "  </tbody>\n",
       "</table>\n",
       "</div>"
      ],
      "text/plain": [
       "          ID STATE_CODE    STATE_NAME      CITY        COUNTY   LATITUDE  \\\n",
       "2802    2803         CA    California  Torrance   Los Angeles  33.826817   \n",
       "8312    8313         KS        Kansas  Dorrance       Russell  38.834784   \n",
       "23159  23160         PA  Pennsylvania  Torrance  Westmoreland  40.417222   \n",
       "\n",
       "        LONGITUDE  \n",
       "2802  -118.311830  \n",
       "8312   -98.569471  \n",
       "23159  -79.223056  "
      ]
     },
     "execution_count": 35,
     "metadata": {},
     "output_type": "execute_result"
    }
   ],
   "source": [
    "_=cities[cities['CITY'].str.contains('orrance')]\n",
    "_"
   ]
  },
  {
   "cell_type": "code",
   "execution_count": null,
   "id": "c60bb1c1-fad1-429d-a70e-37b49b38fe43",
   "metadata": {},
   "outputs": [],
   "source": [
    "city_loc_map={\n",
    "    'Kanada':{'lat':56.130366,'lon':-106.346771,'name':'Canada'},\n",
    "    'Raleigh-Durham, North Carolina Area':{'lat':35.772701,'lon':-78.632439,'name':'Raleigh-Durham'},\n",
    "    'Houston, Texas Area':{'lat':29.765200,'lon':-95.365700,'name':'Houston'},\n",
    "    'Greater New York City Area':{'lat':40.748380,'lon':-73.996705,'name':'New York City'},\n",
    "    'Houston, Texas':{'lat':29.765200,'lon':-95.365700,'name':'Houston'},\n",
    "    'Denton, Texas':{'lat':33.22893,'lon':-97.131436,'name':'Denton'},\n",
    "    'San Francisco Bay Area':{'lat':37.775,'lon':-122.4183,'name':'San Francisco'},\n",
    "    'Greater Philadelphia Area':{'lat':39.864998,'lon':-75.275196,'name':'Philadelphia'},\n",
    "    'İzmir, Türkiye':{'lat':38.4228,'lon':27.1404,'name':'İzmir'},\n",
    "    'Lake Forest, California':{'lat':33.640015,'lon':-117.68819,'name':'Lake Forest (CA)'},\n",
    "    'Atlanta, Georgia':{'lat':33.7564,'lon':-84.3918,'name':'Atlanta'},\n",
    "    'Chicago, Illinois':{'lat':41.885847,'lon':-87.618123,'name':'Chicago'},\n",
    "    'Austin, Texas Area':{'lat':30.2303,'lon':-97.7144,'name':'Austin'},\n",
    "    'Greater Atlanta Area':{'lat':33.7564,'lon':-84.3918,'name':'Atlanta'},\n",
    "    'Amerika Birleşik Devletleri':{'lat':39.833333,'lon':-98.583333,'name':'United States'}\n",
    "    'Long Beach, California':{'lat':33.7705,'lon':-118.1885,'name':'Long Beach'}\n",
    "    'Milpitas, California':{'lat':37.436491,'lon':-121.892885,'name':'Milpitas'}\n",
    "    'Greater Chicago Area':{'lat':41.885847,'lon':-87.618123,'name':'Chicago'},\n",
    "    'Torrance, California':{'lat':33.826817,'lon':-118.31183,'name':'Torrance'}\n",
    "    'Greater Los Angeles Area':{'lat':,'lon':,'name':''}\n",
    "    'Bridgewater, Massachusetts':{'lat':,'lon':,'name':''}\n",
    "    'Lafayette, Indiana':{'lat':,'lon':,'name':''}\n",
    "    'Kokomo, Indiana Area':{'lat':,'lon':,'name':''}\n",
    "    'Las Vegas, Nevada Area':{'lat':,'lon':,'name':''}\n",
    "    'Cape Girardeau, Missouri':{'lat':,'lon':,'name':''}\n",
    "    'Gaithersburg, Maryland':{'lat':,'lon':,'name':''}\n",
    "    'Baltimore, Maryland':{'lat':,'lon':,'name':''}\n",
    "    'Dallas/Fort Worth Area':{'lat':,'lon':,'name':''}\n",
    "    'Highland, California':{'lat':,'lon':,'name':''}\n",
    "    'Los Angeles, California':{'lat':,'lon':,'name':''}\n",
    "    'Chattanooga, Tennessee Area':{'lat':,'lon':,'name':''}\n",
    "    'Myrtle Beach, South Carolina Area':{'lat':,'lon':,'name':''}\n",
    "    'Baton Rouge, Louisiana Area':{'lat':,'lon':,'name':''}\n",
    "    'New York, New York':{'lat':,'lon':,'name':''}\n",
    "    'San Jose, California':{'lat':,'lon':,'name':''}\n",
    "    'Greater Boston Area':{'lat':,'lon':,'name':''}\n",
    "    'Monroe, Louisiana Area':{'lat':,'lon':,'name':''}\n",
    "    'Virginia Beach, Virginia':{'lat':,'lon':,'name':''}\n",
    "    'Greater Grand Rapids, Michigan Area':{'lat':,'lon':,'name':''}\n",
    "    'Jackson, Mississippi Area':{'lat':,'lon':,'name':''}\n",
    "    'Katy, Texas':{'lat':,'lon':,'name':''}\n",
    "}"
   ]
  },
  {
   "cell_type": "markdown",
   "id": "1c19b522-6e2b-44dc-b1b1-e039b5ce9940",
   "metadata": {},
   "source": [
    "Then we'll apply the city boundary data to each city, using the data from [this repo](https://github.com/drei01/geojson-world-cities/tree/master)."
   ]
  },
  {
   "cell_type": "markdown",
   "id": "9baa45f5-37c6-4a09-9125-2df6a7bb261f",
   "metadata": {},
   "source": [
    "I'm following a tutorial of SpatialSQL + DuckDB from [here](https://blobs.duckdb.org/papers/duckdb-spatial-geopython-2024.pdf)."
   ]
  },
  {
   "cell_type": "code",
   "execution_count": 5,
   "id": "d3d5ff9d-290e-46bd-b4ef-ae62024e7f90",
   "metadata": {},
   "outputs": [
    {
     "name": "stdout",
     "output_type": "stream",
     "text": [
      "┌─────────────┬────────────────────────────────────────────────────────────────────────────────────────────────────────────────────────┐\n",
      "│ column_name │                                                      column_type                                                       │\n",
      "│   varchar   │                                                        varchar                                                         │\n",
      "├─────────────┼────────────────────────────────────────────────────────────────────────────────────────────────────────────────────────┤\n",
      "│ type        │ VARCHAR                                                                                                                │\n",
      "│ features    │ STRUCT(\"type\" VARCHAR, properties STRUCT(\"NAME\" VARCHAR), geometry STRUCT(\"type\" VARCHAR, coordinates DOUBLE[][][]))[] │\n",
      "└─────────────┴────────────────────────────────────────────────────────────────────────────────────────────────────────────────────────┘\n",
      "\n"
     ]
    }
   ],
   "source": [
    "# install and load spatial extension\n",
    "dd.execute('INSTALL spatial')\n",
    "dd.execute('LOAD spatial')\n",
    "\n",
    "# load cities geojson\n",
    "cities=dd.read_json('../data/cities.geojson')\n",
    "\n",
    "# show schema of the \"rel\" relation\n",
    "dd.sql('summarize cities').select('column_name','column_type').show()"
   ]
  },
  {
   "cell_type": "code",
   "execution_count": 7,
   "id": "9ed32201-85a9-42ca-8d26-b127b97f7039",
   "metadata": {},
   "outputs": [
    {
     "data": {
      "text/html": [
       "<div>\n",
       "<style scoped>\n",
       "    .dataframe tbody tr th:only-of-type {\n",
       "        vertical-align: middle;\n",
       "    }\n",
       "\n",
       "    .dataframe tbody tr th {\n",
       "        vertical-align: top;\n",
       "    }\n",
       "\n",
       "    .dataframe thead th {\n",
       "        text-align: right;\n",
       "    }\n",
       "</style>\n",
       "<table border=\"1\" class=\"dataframe\">\n",
       "  <thead>\n",
       "    <tr style=\"text-align: right;\">\n",
       "      <th></th>\n",
       "      <th>type</th>\n",
       "      <th>features</th>\n",
       "    </tr>\n",
       "  </thead>\n",
       "  <tbody>\n",
       "    <tr>\n",
       "      <th>0</th>\n",
       "      <td>FeatureCollection</td>\n",
       "      <td>[{'type': 'Feature', 'properties': {'NAME': 'T...</td>\n",
       "    </tr>\n",
       "  </tbody>\n",
       "</table>\n",
       "</div>"
      ],
      "text/plain": [
       "                type                                           features\n",
       "0  FeatureCollection  [{'type': 'Feature', 'properties': {'NAME': 'T..."
      ]
     },
     "execution_count": 7,
     "metadata": {},
     "output_type": "execute_result"
    }
   ],
   "source": [
    "result=dd.execute('''\n",
    "select *\n",
    "from read_json_auto('../data/cities.geojson')\n",
    "limit 10\n",
    "''').df()\n",
    "\n",
    "result"
   ]
  },
  {
   "cell_type": "code",
   "execution_count": 4,
   "id": "579d6589-3d76-4e0f-81bf-e08551dfecbf",
   "metadata": {},
   "outputs": [
    {
     "name": "stdout",
     "output_type": "stream",
     "text": [
      "┌───────────────────┬──────────────────────────────────────────────────────────────────────────────────────────────────────────────────────────────────────────────────────────────────────────────────────────────────────────────────────────────────────────────────────────────────────────────────────────────────────────────────────────────────────────────────────────────────────────────────────────────────────────────────────────────────────────────────────────────────────────────────────────────────────────────────────────────────────────────────────────────────────────────────────────────────────────────────────────────────────────────────────────────────────────────────────────────────────────────────────────────────────────────────────────────────────────────────────────────────────────────────────────────────────────────────────────────────────────────────────────────────────────────────────────────────────────────────────────────────────────────────────────────────────────────────────────────────────────────────────────────────────────────────────────────────────────────────────────────────────────────────────────────────────────────────────────────────────────────────────────────────────────────────────────────────────────────────────────────────────────────────────────────────────────────────────────────────────────────────────────────────────────────────────────────────────────────────────────────────────────────────────────────────────────────────────────────────────────────────────────────────────────────────────────────────────────────────────────────────────────────────────────────────────────────────────────────────────────────────────────────────────────────────────────────────────────────────────────────────────────────────────────────────────────────────────────────────────────────────────────────────────────────────────────────────────────────────────────────────────────────────────────────────────────────────────────────────────────────────────────────────────────────────────────────────────────────────────────────────────────────────────────────────────────────────────────────────────────────────────────────────────────────────────────────────────────────────────────────────────────────────────────────────────────────────────────────────────────────────────────────────────────────────────────────────────────────────────────────────────────────────────────────────────────────────────────────────────────────────────────────────────────────────────────────────────────────────────────────────────────────────────────────────────────────────────────────────────────────────────────────────────────────────────────────────────────────────────────────────────────────────────────────────────────────────────────────────────────────────────────────────────────────────────────────────────────────────────────────────────────────────────────────────────────────────────────────────────────────────────────────────────────────────────────────────────────────────────────────────────────────────────────────────────────────────────────────────────────────────────────────────────────────────────────────────────────────────────────────────────────────────────────────────────────────────────────────────────────────────────────────────────────────────────────────────────────────────────────────────────────────────────────────────────────────────────────────────────────────────────────────────────────────────────────────────────────────────────────────────────────────────────────────────────────────────────────────────────────────────────────────────────────────────────────────────────────────────────────────────────────────────────────────────────────────────────────────────────────────────────────────────────────────────────────────────────────────────────────────────────────────────────────────────────────────────────────────────────────────────────────────────────────────────────────────────────────────────────────────────────────────────────────────────────────────────────────────────────────────────────────────────────────────────────────────────────────────────────────────────────────────────────────────────────────────────────────────────────────────────────────────────────────────────────────────────────────────────────────────────────────────────────────────────────────────────────────────────────────────────────────────────────────────────────────────────────────────────────────────────────────────────────────────────────────────────────────────────────────────────────────────────────────────────────────────────────────────────────────────────────────────────────────────────────────────────────────────────────────────────────────────────────────────────────────────────────────────────────────────────────────────────────────────────────────────────────────────────────────────────────────────────────────────────────────────────────────────────────────────────────────────────────────────────────────────────────────────────────────────────────────────────────────────────────────────────────────────────────────────────────────────────────────────────────────────────────────────────────────────────────────────────────────────────────────────────────────────────────────────────────────────────────────────────────────────────────────────────────────────────────────────────────────────────────────────────────────────────────────────────────────────────────────────────────────────────────────────────────────────────────────────────────────────────────────────────────────────────────────────────────────────────────────────────────────────────────────────────────────────────────────────────────────────────────────────────────────────────────────────────────────────────────────────────────────────────────────────────────────────────────────────────────────────────────────────────────────────────────────────────────────────────────────────────────────────────────────────────────────────────────────────────────────────────────────────────────────────────────────────────────────────────────────────────────────────────────────────────────────────────────────────────────────────────────────────────────────────────────────────────────────────────────────────────────────────────────────────────────────────────────────────────────────────────────────────────────────────────────────────────────────────────────────────────────────────────────────────────────────────────────────────────────────────────────────────────────────────────────────────────────────────────────────────────────────────────────────────────────────────────────────────────────────────────────────────────────────────────────────────────────────────────────────────────────────────────────────────────────────────────────────────────────────────────────────────────────────────────────────────────────────────────────────────────────────────────────────────────────────────────────────────────────────────────────────────────────────────────────────────────────────────────────────────────────────────────────────────────────────────────────────────────────────────────────────────────────────────────────────────────────────────────────────────────────────────────────────────────────────────────────────────────────────────────────────────────────────────────────────────────────────────────────────────────────────────────────────────────────────────────────────────────────────────────────────────────────────────────────────────────────────────────────────────────────────────────────────────────────────────────────────────────────────────────────────────────────────────────────────────────────────────────────────────────────────────────────────────────────────────────────────────────────────────────────────────────────────────────────────────────────────────────────────────────────────────────────────────────────────────────────────────────────────────────────────────────────────────────────────────────────────────────────────────────────────────────────────────────────────────────────────────────────────────────────────────────────────────────────────────────────────────────────────────────────────────────────────────────────────────────────────────────────────────────────────────────────────────────────────────────────────────────────────────────────────────────────────────────────────────────────────────────────────────────────────────────────────────────────────────────────────────────────────────────────────────────────────────────────────────────────────────────────────────────────────────────────────────────────────────────────────────────────────────────────────────────────────────────────────────────────────────────────────────────────────────────────────────────────────────────────────────────────────────────────────────────────────────────────────────────────────────────────────────────────────────────────────────────────────────────────────────────────────────────────────────────────────────────────────────────────────────────────────────────────────────────────────────────────────────────────────────────────────────────────────────────────────────────────────────────────────────────────────────────────────────────────────────────────────────────────────────────────────────────────────────────────────────────────────────────────────────────────────────────────────────────────────────────────────────────────────────────────────────────────────────────────────────────────────────────────────────────────────────────────────────────────────────────────────────────────────────────────────────────────────────────────────────────────────────────────────────────────────────────────────────────────────────────────────────────────────────────────────────────────────────────────────────────────────────────────────────────────────────────────────────────────────────────────────────────────────────────────────────────────────────────────────────────────────────────────────┐\n",
      "│       type        │                                                                                                                                                                                                                                                                                                                                                                                                                                                                                                                                                                                                                                                                                                                                                                                                                                                                                                                                                                                                                                                                                                                                                                                                                                                                                                                                                                                                                                                                                                                                                                                                                                                                                                                                                                                                                                                                                                                                                                                                                                                                                                                                                                                                                                                                                                                                                                                                                                                                                                                                                                                                                                                                                                                                                                                                                                                                                                                                                                                                                                                                                                                                                                                                                                                                                                                                                                                                                                                                                                                                                                                                                                                                                                                                                                                                                                                                                                                                                                                                                                                                                                                                                                                                                                                                                                                                                                                                                                                                                                                                                                                                                                                                                                                                                                                                                                                                                                                                                                                                                                                                                                                                                                                         features                                                                                                                                                                                                                                                                                                                                                                                                                                                                                                                                                                                                                                                                                                                                                                                                                                                                                                                                                                                                                                                                                                                                                                                                                                                                                                                                                                                                                                                                                                                                                                                                                                                                                                                                                                                                                                                                                                                                                                                                                                                                                                                                                                                                                                                                                                                                                                                                                                                                                                                                                                                                                                                                                                                                                                                                                                                                                                                                                                                                                                                                                                                                                                                                                                                                                                                                                                                                                                                                                                                                                                                                                                                                                                                                                                                                                                                                                                                                                                                                                                                                                                                                                                                                                                                                                                                                                                                                                                                                                                                                                                                                                                                                                                                                                                                                                                                                                                                                                                                                                                                                                                                                                                                         │\n",
      "│      varchar      │                                                                                                                                                                                                                                                                                                                                                                                                                                                                                                                                                                                                                                                                                                                                                                                                                                                                                                                                                                                                                                                                                                                                                                                                                                                                                                                                                                                                                                                                                                                                                                                                                                                                                                                                                                                                                                                                                                                                                                                                                                                                                                                                                                                                                                                                                                                                                                                                                                                                                                                                                                                                                                                                                                                                                                                                                                                                                                                                                                                                                                                                                                                                                                                                                                                                                                                                                                                                                                                                                                                                                                                                                                                                                                                                                                                                                                                                                                                                                                                                                                                                                                                                                                                                                                                                                                                                                                                                                                                                                                                                                                                                                                                                                                                                                                                                                                                                                                                                                                                                                                                                                                                                  struct(\"type\" varchar, properties struct(\"name\" varchar), geometry struct(\"type\" varchar, coordinates double[][][]))[]                                                                                                                                                                                                                                                                                                                                                                                                                                                                                                                                                                                                                                                                                                                                                                                                                                                                                                                                                                                                                                                                                                                                                                                                                                                                                                                                                                                                                                                                                                                                                                                                                                                                                                                                                                                                                                                                                                                                                                                                                                                                                                                                                                                                                                                                                                                                                                                                                                                                                                                                                                                                                                                                                                                                                                                                                                                                                                                                                                                                                                                                                                                                                                                                                                                                                                                                                                                                                                                                                                                                                                                                                                                                                                                                                                                                                                                                                                                                                                                                                                                                                                                                                                                                                                                                                                                                                                                                                                                                                                                                                                                                                                                                                                                                                                                                                                                                                                                                                                                                                                                                                                                                  │\n",
      "├───────────────────┼──────────────────────────────────────────────────────────────────────────────────────────────────────────────────────────────────────────────────────────────────────────────────────────────────────────────────────────────────────────────────────────────────────────────────────────────────────────────────────────────────────────────────────────────────────────────────────────────────────────────────────────────────────────────────────────────────────────────────────────────────────────────────────────────────────────────────────────────────────────────────────────────────────────────────────────────────────────────────────────────────────────────────────────────────────────────────────────────────────────────────────────────────────────────────────────────────────────────────────────────────────────────────────────────────────────────────────────────────────────────────────────────────────────────────────────────────────────────────────────────────────────────────────────────────────────────────────────────────────────────────────────────────────────────────────────────────────────────────────────────────────────────────────────────────────────────────────────────────────────────────────────────────────────────────────────────────────────────────────────────────────────────────────────────────────────────────────────────────────────────────────────────────────────────────────────────────────────────────────────────────────────────────────────────────────────────────────────────────────────────────────────────────────────────────────────────────────────────────────────────────────────────────────────────────────────────────────────────────────────────────────────────────────────────────────────────────────────────────────────────────────────────────────────────────────────────────────────────────────────────────────────────────────────────────────────────────────────────────────────────────────────────────────────────────────────────────────────────────────────────────────────────────────────────────────────────────────────────────────────────────────────────────────────────────────────────────────────────────────────────────────────────────────────────────────────────────────────────────────────────────────────────────────────────────────────────────────────────────────────────────────────────────────────────────────────────────────────────────────────────────────────────────────────────────────────────────────────────────────────────────────────────────────────────────────────────────────────────────────────────────────────────────────────────────────────────────────────────────────────────────────────────────────────────────────────────────────────────────────────────────────────────────────────────────────────────────────────────────────────────────────────────────────────────────────────────────────────────────────────────────────────────────────────────────────────────────────────────────────────────────────────────────────────────────────────────────────────────────────────────────────────────────────────────────────────────────────────────────────────────────────────────────────────────────────────────────────────────────────────────────────────────────────────────────────────────────────────────────────────────────────────────────────────────────────────────────────────────────────────────────────────────────────────────────────────────────────────────────────────────────────────────────────────────────────────────────────────────────────────────────────────────────────────────────────────────────────────────────────────────────────────────────────────────────────────────────────────────────────────────────────────────────────────────────────────────────────────────────────────────────────────────────────────────────────────────────────────────────────────────────────────────────────────────────────────────────────────────────────────────────────────────────────────────────────────────────────────────────────────────────────────────────────────────────────────────────────────────────────────────────────────────────────────────────────────────────────────────────────────────────────────────────────────────────────────────────────────────────────────────────────────────────────────────────────────────────────────────────────────────────────────────────────────────────────────────────────────────────────────────────────────────────────────────────────────────────────────────────────────────────────────────────────────────────────────────────────────────────────────────────────────────────────────────────────────────────────────────────────────────────────────────────────────────────────────────────────────────────────────────────────────────────────────────────────────────────────────────────────────────────────────────────────────────────────────────────────────────────────────────────────────────────────────────────────────────────────────────────────────────────────────────────────────────────────────────────────────────────────────────────────────────────────────────────────────────────────────────────────────────────────────────────────────────────────────────────────────────────────────────────────────────────────────────────────────────────────────────────────────────────────────────────────────────────────────────────────────────────────────────────────────────────────────────────────────────────────────────────────────────────────────────────────────────────────────────────────────────────────────────────────────────────────────────────────────────────────────────────────────────────────────────────────────────────────────────────────────────────────────────────────────────────────────────────────────────────────────────────────────────────────────────────────────────────────────────────────────────────────────────────────────────────────────────────────────────────────────────────────────────────────────────────────────────────────────────────────────────────────────────────────────────────────────────────────────────────────────────────────────────────────────────────────────────────────────────────────────────────────────────────────────────────────────────────────────────────────────────────────────────────────────────────────────────────────────────────────────────────────────────────────────────────────────────────────────────────────────────────────────────────────────────────────────────────────────────────────────────────────────────────────────────────────────────────────────────────────────────────────────────────────────────────────────────────────────────────────────────────────────────────────────────────────────────────────────────────────────────────────────────────────────────────────────────────────────────────────────────────────────────────────────────────────────────────────────────────────────────────────────────────────────────────────────────────────────────────────────────────────────────────────────────────────────────────────────────────────────────────────────────────────────────────────────────────────────────────────────────────────────────────────────────────────────────────────────────────────────────────────────────────────────────────────────────────────────────────────────────────────────────────────────────────────────────────────────────────────────────────────────────────────────────────────────────────────────────────────────────────────────────────────────────────────────────────────────────────────────────────────────────────────────────────────────────────────────────────────────────────────────────────────────────────────────────────────────────────────────────────────────────────────────────────────────────────────────────────────────────────────────────────────────────────────────────────────────────────────────────────────────────────────────────────────────────────────────────────────────────────────────────────────────────────────────────────────────────────────────────────────────────────────────────────────────────────────────────────────────────────────────────────────────────────────────────────────────────────────────────────────────────────────────────────────────────────────────────────────────────────────────────────────────────────────────────────────────────────────────────────────────────────────────────────────────────────────────────────────────────────────────────────────────────────────────────────────────────────────────────────────────────────────────────────────────────────────────────────────────────────────────────────────────────────────────────────────────────────────────────────────────────────────────────────────────────────────────────────────────────────────────────────────────────────────────────────────────────────────────────────────────────────────────────────────────────────────────────────────────────────────────────────────────────────────────────────────────────────────────────────────────────────────────────────────────────────────────────────────────────────────────────────────────────────────────────────────────────────────────────────────────────────────────────────────────────────────────────────────────────────────────────────────────────────────────────────────────────────────────────────────────────────────────────────────────────────────────────────────────────────────────────────────────────────────────────────────────────────────────────────────────────────────────────────────────────────────────────────────────────────────────────────────────────────────────────────────────────────────────────────────────────────────────────────────────────────────────────────────────────────────────────────────────────────────────────────────────────────────────────────────────────────────────────────────────────────────────────────────────────────────────────────────────────────────────────────────────────────────────────────────────────────────────────────────────────────────────────────────────┤\n",
      "│ FeatureCollection │ [{'type': Feature, 'properties': {'NAME': TORSHAVN}, 'geometry': {'type': Polygon, 'coordinates': [[[-6.75864, 62.01517], [-6.76184, 62.01528], [-6.77094, 62.00592], [-6.78213, 62.01058], [-6.78955, 62.01057], [-6.78014, 62.01684], [-6.78008, 62.02489], [-6.78007, 62.02657], [-6.76876, 62.02221], [-6.75841, 62.02336], [-6.75534, 62.01801], [-6.75864, 62.01517]]]}}, {'type': Feature, 'properties': {'NAME': LERWICK}, 'geometry': {'type': Polygon, 'coordinates': [[[-1.16446, 60.16395], [-1.16168, 60.16221], [-1.15894, 60.16247], [-1.15728, 60.16261], [-1.15343, 60.15965], [-1.14495, 60.1531], [-1.14546, 60.15247], [-1.14954, 60.14748], [-1.15199, 60.14803], [-1.16346, 60.15058], [-1.16576, 60.15185], [-1.16922, 60.15376], [-1.17443, 60.16082], [-1.17653, 60.16368], [-1.17452, 60.17022], [-1.16446, 60.16395]]]}}, {'type': Feature, 'properties': {'NAME': HONNINGSVAG}, 'geometry': {'type': Polygon, 'coordinates': [[[26.00776, 70.97373], [25.99542, 70.97484], [25.97799, 70.97927], [25.98511, 70.98642], [25.99141, 70.99273], [26.00916, 70.99013], [26.00954, 70.98814], [26.01065, 70.98233], [26.01863, 70.9799], [26.01694, 70.97613], [26.00778, 70.97374], [26.00776, 70.97373]]]}}, {'type': Feature, 'properties': {'NAME': DYFJORD}, 'geometry': {'type': Polygon, 'coordinates': [[[27.31813, 70.9571], [27.31875, 70.95818], [27.32603, 70.95938], [27.33843, 70.95861], [27.36047, 70.95518], [27.3675, 70.95409], [27.37351, 70.95315], [27.37843, 70.95027], [27.37479, 70.94671], [27.35609, 70.94444], [27.35331, 70.94466], [27.34675, 70.94518], [27.33715, 70.94595], [27.34605, 70.94698], [27.34725, 70.94711], [27.34723, 70.94712], [27.34726, 70.94712], [27.3367, 70.95069], [27.31872, 70.95678], [27.31813, 70.9571]]]}}, {'type': Feature, 'properties': {'NAME': HAMMERFEST}, 'geometry': {'type': Polygon, 'coordinates': [[[23.68397, 70.67101], [23.68239, 70.6712], [23.67388, 70.66996], [23.66573, 70.66879], [23.65332, 70.6684], [23.65049, 70.66936], [23.64858, 70.67003], [23.65084, 70.67389], [23.63651, 70.67648], [23.63552, 70.67757], [23.64157, 70.67868], [23.63907, 70.68371], [23.64328, 70.68552], [23.67359, 70.68625], [23.68348, 70.69122], [23.69176, 70.69162], [23.71481, 70.68509], [23.7395, 70.68357], [23.75175, 70.68121], [23.75818, 70.67296], [23.74831, 70.66846], [23.72326, 70.66268], [23.71101, 70.66198], [23.69431, 70.66103], [23.67785, 70.66158], [23.66811, 70.65936], [23.66266, 70.6603], [23.66469, 70.66194], [23.68561, 70.66639], [23.6865, 70.67069], [23.68649, 70.67069], [23.68649, 70.67071], [23.68397, 70.67101]]]}}, {'type': Feature, 'properties': {'NAME': BATSFORD}, 'geometry': {'type': Polygon, 'coordinates': [[[29.72095, 70.62622], [29.7185, 70.628], [29.70353, 70.62859], [29.68853, 70.62917], [29.68492, 70.63069], [29.69522, 70.63258], [29.70847, 70.6377], [29.72875, 70.64553], [29.73708, 70.64567], [29.74383, 70.64128], [29.75097, 70.64191], [29.75417, 70.64059], [29.74772, 70.63725], [29.72467, 70.63264], [29.72186, 70.62653], [29.72095, 70.62622]]]}}, {'type': Feature, 'properties': {'NAME': VADSO}, 'geometry': {'type': Polygon, 'coordinates': [[[29.71878, 70.08644], [29.71894, 70.08672], [29.72486, 70.0883], [29.75236, 70.085], [29.75245, 70.085], [29.75331, 70.08489], [29.78531, 70.08408], [29.79397, 70.08189], [29.79422, 70.07867], [29.79219, 70.07761], [29.79156, 70.07728], [29.78933, 70.07611], [29.77353, 70.07578], [29.77186, 70.07611], [29.73175, 70.07703], [29.72122, 70.07839], [29.71561, 70.08086], [29.71856, 70.08603], [29.71878, 70.08644]]]}}, {'type': Feature, 'properties': {'NAME': TROMSO}, 'geometry': {'type': Polygon, 'coordinates': [[[18.94666, 69.64468], [18.94211, 69.64841], [18.94004, 69.6501], [18.94488, 69.65249], [18.94281, 69.65344], [18.94417, 69.65659], [18.96041, 69.66697], [18.96191, 69.66793], [18.97376, 69.66772], [18.96313, 69.65868], [18.9631, 69.65865], [18.96299, 69.65856], [18.95502, 69.65179], [18.94666, 69.64468]]]}}, {'type': Feature, 'properties': {'NAME': TROMSO}, 'geometry': {'type': Polygon, 'coordinates': [[[19.01637, 69.65717], [19.02019, 69.65616], [19.02427, 69.65508], [19.02348, 69.65317], [19.02756, 69.65234], [19.0324, 69.64694], [19.0211, 69.64397], [19.0091, 69.6451], [18.99803, 69.64854], [18.99757, 69.64915], [19.004, 69.65175], [19.01163, 69.65482], [19.01279, 69.65529], [19.01483, 69.65611], [19.01636, 69.65717], [19.01637, 69.65717]]]}}, {'type': Feature, 'properties': {'NAME': ANDENES}, 'geometry': {'type': Polygon, 'coordinates': [[[16.10021, 69.31805], [16.10025, 69.31805], [16.10505, 69.31931], [16.10622, 69.32005], [16.11758, 69.32733], [16.12431, 69.32821], [16.12645, 69.32848], [16.12921, 69.32774], [16.12622, 69.32634], [16.13102, 69.3233], [16.1174, 69.31683], [16.10021, 69.31805]]]}}, {'type': Feature, 'properties': {'NAME': HARSTAD}, 'geometry': {'type': Polygon, 'coordinates': [[[16.53759, 68.79157], [16.53759, 68.79157], [16.52943, 68.79135], [16.52618, 68.79858], [16.53297, 68.80617], [16.53084, 68.8093], [16.55335, 68.81669], [16.54863, 68.8107], [16.54031, 68.80016], [16.53758, 68.79158], [16.53759, 68.79157]]]}}, {'type': Feature, 'properties': {'NAME': HARSTAD}, 'geometry': {'type': Polygon, 'coordinates': [[[16.56212, 68.80392], [16.56832, 68.80389], [16.56466, 68.79674], [16.59169, 68.79141], [16.59151, 68.79121], [16.59105, 68.7907], [16.59143, 68.78768], [16.59158, 68.78636], [16.58658, 68.78189], [16.58657, 68.78188], [16.569, 68.78082], [16.54646, 68.78958], [16.54938, 68.79015], [16.54938, 68.79017], [16.54939, 68.79017], [16.55269, 68.80128], [16.56118, 68.80366], [16.56211, 68.80392], [16.56212, 68.80392]]]}}, {'type': Feature, 'properties': {'NAME': AVVIL}, 'geometry': {'type': Polygon, 'coordinates': [[[27.58256, 68.67479], [27.5873, 68.67355], [27.5867, 68.67082], [27.57761, 68.66376], [27.59288, 68.66468], [27.60772, 68.66928], [27.61386, 68.66864], [27.6145, 68.66587], [27.58707, 68.64972], [27.60558, 68.64825], [27.61027, 68.64674], [27.60852, 68.6445], [27.5752, 68.64137], [27.56542, 68.64257], [27.56094, 68.64893], [27.55788, 68.65325], [27.55584, 68.65614], [27.54414, 68.66261], [27.55374, 68.6695], [27.56722, 68.67368], [27.58136, 68.6751], [27.58256, 68.67479]]]}}, {'type': Feature, 'properties': {'NAME': NARVIK}, 'geometry': {'type': Polygon, 'coordinates': [[[17.44805, 68.45228], [17.44914, 68.44749], [17.44942, 68.4463], [17.45041, 68.44198], [17.43875, 68.43634], [17.42913, 68.43169], [17.42193, 68.43056], [17.41614, 68.43067], [17.41581, 68.43111], [17.40707, 68.43268], [17.40281, 68.43345], [17.39671, 68.43375], [17.3868, 68.43425], [17.38619, 68.4345], [17.38492, 68.43996], [17.39499, 68.44485], [17.41053, 68.44763], [17.41908, 68.45219], [17.44805, 68.45228]]]}}, {'type': Feature, 'properties': {'NAME': MUONIO}, 'geometry': {'type': Polygon, 'coordinates': [[[23.65864, 67.95425], [23.66644, 67.96152], [23.66303, 67.96658], [23.65239, 67.97305], [23.64636, 67.97444], [23.64642, 67.97583], [23.65539, 67.97714], [23.66722, 67.97889], [23.67206, 67.97839], [23.68069, 67.95964], [23.68092, 67.95914], [23.67708, 67.95506], [23.67219, 67.95417], [23.67142, 67.95419], [23.65864, 67.95425]]]}}, {'type': Feature, 'properties': {'NAME': KROKVIK}, 'geometry': {'type': Polygon, 'coordinates': [[[20.22606, 67.85108], [20.22608, 67.85114], [20.22083, 67.85741], [20.21986, 67.85858], [20.20883, 67.86575], [20.20033, 67.86916], [20.21672, 67.87395], [20.22003, 67.87492], [20.23689, 67.87981], [20.24797, 67.87814], [20.25233, 67.87089], [20.28064, 67.86625], [20.289, 67.86728], [20.29656, 67.86333], [20.29667, 67.86328], [20.30086, 67.85783], [20.30594, 67.85516], [20.30958, 67.85522], [20.31, 67.85103], [20.31003, 67.85067], [20.30419, 67.84875], [20.28867, 67.84669], [20.27953, 67.84155], [20.26508, 67.84089], [20.26122, 67.84119], [20.24814, 67.84222], [20.24192, 67.84272], [20.23206, 67.8435], [20.23094, 67.84361], [20.22553, 67.84995], [20.22606, 67.85108]]]}}, {'type': Feature, 'properties': {'NAME': VITTANGI}, 'geometry': {'type': Polygon, 'coordinates': [[[21.62206, 67.68314], [21.64003, 67.68436], [21.64464, 67.68266], [21.65714, 67.67809], [21.69614, 67.67964], [21.69578, 67.67641], [21.69536, 67.67253], [21.68703, 67.67155], [21.68578, 67.67159], [21.65819, 67.6723], [21.65108, 67.67044], [21.63669, 67.67036], [21.63581, 67.67122], [21.63542, 67.67161], [21.63294, 67.674], [21.60853, 67.68344], [21.60722, 67.6862], [21.611, 67.68828], [21.62206, 67.68314]]]}}, {'type': Feature, 'properties': {'NAME': KITTILA}, 'geometry': {'type': Polygon, 'coordinates': [[[24.90055, 67.66052], [24.901, 67.66105], [24.90677, 67.65807], [24.91186, 67.65546], [24.92841, 67.65293], [24.92189, 67.64754], [24.91439, 67.64571], [24.90593, 67.64365], [24.88495, 67.6499], [24.86657, 67.65839], [24.85982, 67.66306], [24.86628, 67.668], [24.87475, 67.66729], [24.87938, 67.6669], [24.88344, 67.6646], [24.87879, 67.66136], [24.88088, 67.66007], [24.88219, 67.65925], [24.89101, 67.65936], [24.89963, 67.65946], [24.89964, 67.65947], [24.89964, 67.65947], [24.90033, 67.66028], [24.90055, 67.66052]]]}}, {'type': Feature, 'properties': {'NAME': BODO}, 'geometry': {'type': Polygon, 'coordinates': [[[14.39936, 67.28972], [14.4014, 67.28773], [14.40458, 67.28742], [14.40756, 67.28712], [14.409, 67.285], [14.40999, 67.28356], [14.4029, 67.27998], [14.38069, 67.27883], [14.37228, 67.27563], [14.36075, 67.27457], [14.35487, 67.27811], [14.39936, 67.28972]]]}}, {'type': Feature, 'properties': {'NAME': PAJALA}, 'geometry': {'type': Polygon, 'coordinates': [[[23.42469, 67.21042], [23.42128, 67.20661], [23.41942, 67.20611], [23.41297, 67.20439], [23.40828, 67.20441], [23.39897, 67.20764], [23.38958, 67.20814], [23.38592, 67.20953], [23.37097, 67.21511], [23.36997, 67.21783], [23.3688, 67.22105], [23.36072, 67.22659], [23.3672, 67.22903], [23.369, 67.2297], [23.36903, 67.2297], [23.42469, 67.21042]]]}}, {'type': Feature, 'properties': {'NAME': GALLIVARE}, 'geometry': {'type': Polygon, 'coordinates': [[[20.73422, 67.18359], [20.72044, 67…  │\n",
      "└───────────────────┴──────────────────────────────────────────────────────────────────────────────────────────────────────────────────────────────────────────────────────────────────────────────────────────────────────────────────────────────────────────────────────────────────────────────────────────────────────────────────────────────────────────────────────────────────────────────────────────────────────────────────────────────────────────────────────────────────────────────────────────────────────────────────────────────────────────────────────────────────────────────────────────────────────────────────────────────────────────────────────────────────────────────────────────────────────────────────────────────────────────────────────────────────────────────────────────────────────────────────────────────────────────────────────────────────────────────────────────────────────────────────────────────────────────────────────────────────────────────────────────────────────────────────────────────────────────────────────────────────────────────────────────────────────────────────────────────────────────────────────────────────────────────────────────────────────────────────────────────────────────────────────────────────────────────────────────────────────────────────────────────────────────────────────────────────────────────────────────────────────────────────────────────────────────────────────────────────────────────────────────────────────────────────────────────────────────────────────────────────────────────────────────────────────────────────────────────────────────────────────────────────────────────────────────────────────────────────────────────────────────────────────────────────────────────────────────────────────────────────────────────────────────────────────────────────────────────────────────────────────────────────────────────────────────────────────────────────────────────────────────────────────────────────────────────────────────────────────────────────────────────────────────────────────────────────────────────────────────────────────────────────────────────────────────────────────────────────────────────────────────────────────────────────────────────────────────────────────────────────────────────────────────────────────────────────────────────────────────────────────────────────────────────────────────────────────────────────────────────────────────────────────────────────────────────────────────────────────────────────────────────────────────────────────────────────────────────────────────────────────────────────────────────────────────────────────────────────────────────────────────────────────────────────────────────────────────────────────────────────────────────────────────────────────────────────────────────────────────────────────────────────────────────────────────────────────────────────────────────────────────────────────────────────────────────────────────────────────────────────────────────────────────────────────────────────────────────────────────────────────────────────────────────────────────────────────────────────────────────────────────────────────────────────────────────────────────────────────────────────────────────────────────────────────────────────────────────────────────────────────────────────────────────────────────────────────────────────────────────────────────────────────────────────────────────────────────────────────────────────────────────────────────────────────────────────────────────────────────────────────────────────────────────────────────────────────────────────────────────────────────────────────────────────────────────────────────────────────────────────────────────────────────────────────────────────────────────────────────────────────────────────────────────────────────────────────────────────────────────────────────────────────────────────────────────────────────────────────────────────────────────────────────────────────────────────────────────────────────────────────────────────────────────────────────────────────────────────────────────────────────────────────────────────────────────────────────────────────────────────────────────────────────────────────────────────────────────────────────────────────────────────────────────────────────────────────────────────────────────────────────────────────────────────────────────────────────────────────────────────────────────────────────────────────────────────────────────────────────────────────────────────────────────────────────────────────────────────────────────────────────────────────────────────────────────────────────────────────────────────────────────────────────────────────────────────────────────────────────────────────────────────────────────────────────────────────────────────────────────────────────────────────────────────────────────────────────────────────────────────────────────────────────────────────────────────────────────────────────────────────────────────────────────────────────────────────────────────────────────────────────────────────────────────────────────────────────────────────────────────────────────────────────────────────────────────────────────────────────────────────────────────────────────────────────────────────────────────────────────────────────────────────────────────────────────────────────────────────────────────────────────────────────────────────────────────────────────────────────────────────────────────────────────────────────────────────────────────────────────────────────────────────────────────────────────────────────────────────────────────────────────────────────────────────────────────────────────────────────────────────────────────────────────────────────────────────────────────────────────────────────────────────────────────────────────────────────────────────────────────────────────────────────────────────────────────────────────────────────────────────────────────────────────────────────────────────────────────────────────────────────────────────────────────────────────────────────────────────────────────────────────────────────────────────────────────────────────────────────────────────────────────────────────────────────────────────────────────────────────────────────────────────────────────────────────────────────────────────────────────────────────────────────────────────────────────────────────────────────────────────────────────────────────────────────────────────────────────────────────────────────────────────────────────────────────────────────────────────────────────────────────────────────────────────────────────────────────────────────────────────────────────────────────────────────────────────────────────────────────────────────────────────────────────────────────────────────────────────────────────────────────────────────────────────────────────────────────────────────────────────────────────────────────────────────────────────────────────────────────────────────────────────────────────────────────────────────────────────────────────────────────────────────────────────────────────────────────────────────────────────────────────────────────────────────────────────────────────────────────────────────────────────────────────────────────────────────────────────────────────────────────────────────────────────────────────────────────────────────────────────────────────────────────────────────────────────────────────────────────────────────────────────────────────────────────────────────────────────────────────────────────────────────────────────────────────────────────────────────────────────────────────────────────────────────────────────────────────────────────────────────────────────────────────────────────────────────────────────────────────────────────────────────────────────────────────────────────────────────────────────────────────────────────────────────────────────────────────────────────────────────────────────────────────────────────────────────────────────────────────────────────────────────────────────────────────────────────────────────────────────────────────────────────────────────────────────────────────────────────────────────────────────────────────────────────────────────────────────────────────────────────────────────────────────────────────────────────────────────────────────────────────────────────────────────────────────────────────────────────────────────────────────────────────────────────────────────────────────────────────────────────────────────────────────────────────────────────────────────────────────────────────────────────────────────────────────────────────────────────────────────────────────────────────────────────────────────────────────────────────────────────────────────────────────────────────────────────────────────────────────────────────────────────────────────────────────────────────────────────────────────────────────────────────────────────────────────────────────────────────────────────────────────────────────────────────────────────────────────────────────────────────────────────────────────────────────────────────────────────────────────────────────────────────────────────────────────────────────────────────────────────────────────────────────────────────────────────────────────────────────────────────────────────────────────────────────────────────────────────────────────────────────────────────────────────────────────────────────────────────────────────────────────────────────────────────────────────────────────────────────────────────────────────────────────────────────────────────────────────────────────────────────────────────────────────────────────────────────────────────────────────────────────────────────────────────────────────────────────────────────────────────────────────────────────────────────────────────────────────────────────────────────────────────────────────────────────────────────────────────────────────────────────────────────────────────────────────────────────┘\n",
      "\n"
     ]
    }
   ],
   "source": [
    "dd.sql('summarize rel').\n",
    "    '''\n",
    "select *\n",
    "from rel\n",
    "limit 5\n",
    "''').show()"
   ]
  },
  {
   "cell_type": "code",
   "execution_count": null,
   "id": "60cc57be-49e8-4eaa-9bed-14fb52c28733",
   "metadata": {},
   "outputs": [],
   "source": [
    "df[df['connection']<150].count().iloc[0]"
   ]
  },
  {
   "cell_type": "code",
   "execution_count": null,
   "id": "20971800-af7c-4f60-ab47-8565399997d4",
   "metadata": {},
   "outputs": [],
   "source": [
    "df[df['connection']>150].count().iloc[0]"
   ]
  },
  {
   "cell_type": "code",
   "execution_count": null,
   "id": "2dee1044-964c-46b2-83bf-2a3a36f4a5fa",
   "metadata": {},
   "outputs": [],
   "source": [
    "print(f\"{df[df['connection']<150].sum()}\")"
   ]
  },
  {
   "cell_type": "markdown",
   "id": "befbdb46-877a-45b5-8aaa-e81933f17ad7",
   "metadata": {},
   "source": [
    "Most observations have more than 500 connections."
   ]
  }
 ],
 "metadata": {
  "kernelspec": {
   "display_name": "apziva",
   "language": "python",
   "name": "apziva"
  },
  "language_info": {
   "codemirror_mode": {
    "name": "ipython",
    "version": 3
   },
   "file_extension": ".py",
   "mimetype": "text/x-python",
   "name": "python",
   "nbconvert_exporter": "python",
   "pygments_lexer": "ipython3",
   "version": "3.9.20"
  }
 },
 "nbformat": 4,
 "nbformat_minor": 5
}
