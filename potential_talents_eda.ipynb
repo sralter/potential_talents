{
 "cells": [
  {
   "cell_type": "markdown",
   "id": "475321f8-27bd-413b-840f-59f203577e80",
   "metadata": {},
   "source": [
    "# Potential Talents - An Apziva Project (#3)"
   ]
  },
  {
   "cell_type": "markdown",
   "id": "f6e4ffcd-3ebe-46dc-8f29-9ffec9c17dc2",
   "metadata": {},
   "source": [
    "# EDA"
   ]
  },
  {
   "cell_type": "markdown",
   "id": "8e779d93-dc3a-4e9c-bcaf-42a94f5056dd",
   "metadata": {},
   "source": [
    "By Samuel Alter"
   ]
  },
  {
   "cell_type": "markdown",
   "id": "8e52f988-ef83-4ecb-a5cf-b1a93556e117",
   "metadata": {},
   "source": [
    "Apziva: 6bImatZVlK6DnbEo"
   ]
  },
  {
   "cell_type": "markdown",
   "id": "956a7d3d-a201-44bd-8123-eacaddcb4069",
   "metadata": {},
   "source": [
    "## Project Overview"
   ]
  },
  {
   "cell_type": "markdown",
   "id": "874bf7ce-d1eb-4d45-9339-4821382b93d6",
   "metadata": {},
   "source": [
    "### Goals"
   ]
  },
  {
   "cell_type": "markdown",
   "id": "884cf463-3b7c-461a-b094-9a5fd2182a6d",
   "metadata": {},
   "source": [
    "### The Dataset"
   ]
  },
  {
   "cell_type": "markdown",
   "id": "621c288e-6e1b-4196-a318-984df113bd50",
   "metadata": {},
   "source": [
    "## Imports and Helper Functions"
   ]
  },
  {
   "cell_type": "code",
   "execution_count": 1,
   "id": "a0b12ae9-b001-455b-a6be-e5221bc27e45",
   "metadata": {},
   "outputs": [],
   "source": [
    "import numpy as np\n",
    "import pandas as pd\n",
    "import matplotlib.pyplot as plt\n",
    "import seaborn as sns\n",
    "import copy\n",
    "import joblib\n",
    "import time\n",
    "from datetime import datetime\n",
    "import json\n",
    "from pathlib import Path\n",
    "import inspect\n",
    "import re\n",
    "import string\n",
    "from pandas.api.types import is_string_dtype\n",
    "from pandas.api.types import is_numeric_dtype\n",
    "import geopandas as gpd\n",
    "import duckdb\n",
    "from matplotlib_scalebar.scalebar import ScaleBar\n",
    "from mpl_toolkits.axes_grid1.inset_locator import inset_axes\n",
    "from matplotlib.lines import Line2D"
   ]
  },
  {
   "cell_type": "code",
   "execution_count": 2,
   "id": "8c90afd9-61d3-4aea-aa0f-763b43fbe9f6",
   "metadata": {},
   "outputs": [
    {
     "name": "stderr",
     "output_type": "stream",
     "text": [
      "[nltk_data] Downloading package punkt to /Users/sra/nltk_data...\n",
      "[nltk_data]   Package punkt is already up-to-date!\n",
      "[nltk_data] Downloading package wordnet to /Users/sra/nltk_data...\n",
      "[nltk_data]   Package wordnet is already up-to-date!\n",
      "[nltk_data] Downloading package omw-1.4 to /Users/sra/nltk_data...\n",
      "[nltk_data]   Package omw-1.4 is already up-to-date!\n",
      "[nltk_data] Downloading package averaged_perceptron_tagger to\n",
      "[nltk_data]     /Users/sra/nltk_data...\n",
      "[nltk_data]   Package averaged_perceptron_tagger is already up-to-\n",
      "[nltk_data]       date!\n"
     ]
    }
   ],
   "source": [
    "import nltk\n",
    "nltk.download('punkt')\n",
    "nltk.download('wordnet')\n",
    "nltk.download('omw-1.4')\n",
    "nltk.download('averaged_perceptron_tagger')\n",
    "from nltk.corpus import stopwords # lists of stopwords\n",
    "from nltk.tokenize import word_tokenize # tool for splitting documents into tokens\n",
    "from nltk.tokenize import sent_tokenize\n",
    "from nltk.stem import PorterStemmer # basic stemmer\n",
    "from nltk.stem import WordNetLemmatizer # more sophisticated word->lemma\n",
    "from nltk.corpus import wordnet"
   ]
  },
  {
   "cell_type": "code",
   "execution_count": 3,
   "id": "170bfeb6-f514-4a2e-a199-9096e22d3bf6",
   "metadata": {},
   "outputs": [],
   "source": [
    "# simple function to generate random integers\n",
    "\n",
    "def rand_gen(low=1,high=1e4):\n",
    "    '''\n",
    "    Generates a pseudo-random integer\n",
    "    consisting of up to four digits\n",
    "    '''\n",
    "    import numpy as np\n",
    "    rng=np.random.default_rng()\n",
    "    random_state=int(rng.integers(low=low,high=high))\n",
    "    \n",
    "    return random_state"
   ]
  },
  {
   "cell_type": "code",
   "execution_count": 4,
   "id": "ebbb28ab-89d8-4a7f-8f50-0ea55e9b25f1",
   "metadata": {},
   "outputs": [
    {
     "data": {
      "text/plain": [
       "7609"
      ]
     },
     "execution_count": 4,
     "metadata": {},
     "output_type": "execute_result"
    }
   ],
   "source": [
    "seed=rand_gen()\n",
    "seed"
   ]
  },
  {
   "cell_type": "code",
   "execution_count": 5,
   "id": "6fb9c656-48c3-41f1-9c89-df55993cde43",
   "metadata": {},
   "outputs": [
    {
     "data": {
      "text/plain": [
       "Generator(PCG64) at 0x1346F6740"
      ]
     },
     "execution_count": 5,
     "metadata": {},
     "output_type": "execute_result"
    }
   ],
   "source": [
    "# set the randomness seed throughout the notebook\n",
    "# source: # https://odsc.medium.com/properly-setting-the-random-seed-in-ml-experiments-not-as-simple-as-you-might-imagine-219969c84752\n",
    "\n",
    "## set `PYTHONHASHSEED` environment variable at a fixed value\n",
    "import os\n",
    "os.environ['PYTHONHASHSEED']=str(seed)\n",
    "## set `python` built-in pseudo-random generator at a fixed value\n",
    "import random\n",
    "random.seed(seed)\n",
    "## set `numpy` pseudo-random generator at a fixed value\n",
    "np.random.seed(seed)\n",
    "np.random.default_rng(seed)"
   ]
  },
  {
   "cell_type": "code",
   "execution_count": 6,
   "id": "3d210da9-c401-4db6-89b9-6b857e15047b",
   "metadata": {},
   "outputs": [],
   "source": [
    "def get_variable_name(var):\n",
    "    callers_local_vars = inspect.currentframe().f_back.f_locals.items()\n",
    "    return [name for name, val in callers_local_vars if val is var]\n",
    "\n",
    "def fileDaterSaver(location: str,\n",
    "                   filetype: str,\n",
    "                   object_,\n",
    "                   extra: str = '',\n",
    "                   verbose: bool = True):\n",
    "\n",
    "    '''\n",
    "    Function that gets a timestamped filename and saves it\n",
    "    to a user-specified location.\n",
    "\n",
    "    Parameters:\n",
    "    -----------\n",
    "    location: str - The location where the file will be saved.\n",
    "    filetype: str - The type of the file to save ('csv' or 'json').\n",
    "    object_: The object to be saved. Should be a pandas DataFrame\n",
    "        for 'csv' or serializable for 'json'.\n",
    "    extra: str - Additional string to include in the filename.\n",
    "    verbose: bool - Whether to print verbose messages.\n",
    "    '''\n",
    "\n",
    "    # get current date and time\n",
    "    current_datetime = datetime.now()\n",
    "\n",
    "    # print current date and time to check\n",
    "    if verbose:\n",
    "        print('current_datetime:', current_datetime)\n",
    "\n",
    "    # format the datetime for a filename\n",
    "    datetime_suffix = current_datetime.strftime(\"%Y-%m-%d_%H-%M-%S\")\n",
    "\n",
    "    # create filename with the datetime suffix\n",
    "    if extra != '':\n",
    "        file_name = f'{location}{extra}_{datetime_suffix}.{filetype}'\n",
    "    else:\n",
    "        file_name = f'{location}{datetime_suffix}.{filetype}'\n",
    "\n",
    "    # print file name\n",
    "    if verbose:\n",
    "        print(file_name)\n",
    "\n",
    "    # save object\n",
    "    if filetype == 'csv':\n",
    "        object_.to_csv(file_name, index=True)\n",
    "    elif filetype == 'json':\n",
    "        with open(file_name, 'w') as file:\n",
    "            file.write(json.dumps(object_, default=str))\n",
    "    else:\n",
    "        raise ValueError(\"Unsupported file type. Use 'csv' or 'json'.\")\n",
    "\n",
    "    # confirm save\n",
    "    file_path = Path(file_name)\n",
    "    if file_path.exists():\n",
    "        variable_name = get_variable_name(object_)\n",
    "        if variable_name:\n",
    "            print(f'Successfully saved {variable_name[0]} to {file_path}')\n",
    "        else:\n",
    "            print(f'Successfully saved object to {file_path}')\n",
    "    else:\n",
    "        print(\"File save error.\")"
   ]
  },
  {
   "cell_type": "markdown",
   "id": "fad724e2-678c-44c4-8b40-6b7d28ccb048",
   "metadata": {},
   "source": [
    "Read in the datset:"
   ]
  },
  {
   "cell_type": "code",
   "execution_count": 7,
   "id": "ef457c21-9427-42fa-9fd0-6b117df7e480",
   "metadata": {},
   "outputs": [
    {
     "data": {
      "text/html": [
       "<div>\n",
       "<style scoped>\n",
       "    .dataframe tbody tr th:only-of-type {\n",
       "        vertical-align: middle;\n",
       "    }\n",
       "\n",
       "    .dataframe tbody tr th {\n",
       "        vertical-align: top;\n",
       "    }\n",
       "\n",
       "    .dataframe thead th {\n",
       "        text-align: right;\n",
       "    }\n",
       "</style>\n",
       "<table border=\"1\" class=\"dataframe\">\n",
       "  <thead>\n",
       "    <tr style=\"text-align: right;\">\n",
       "      <th></th>\n",
       "      <th>id</th>\n",
       "      <th>job_title</th>\n",
       "      <th>location</th>\n",
       "      <th>connection</th>\n",
       "      <th>fit</th>\n",
       "    </tr>\n",
       "  </thead>\n",
       "  <tbody>\n",
       "    <tr>\n",
       "      <th>0</th>\n",
       "      <td>1</td>\n",
       "      <td>2019 C.T. Bauer College of Business Graduate (...</td>\n",
       "      <td>Houston, Texas</td>\n",
       "      <td>85</td>\n",
       "      <td>NaN</td>\n",
       "    </tr>\n",
       "    <tr>\n",
       "      <th>1</th>\n",
       "      <td>2</td>\n",
       "      <td>Native English Teacher at EPIK (English Progra...</td>\n",
       "      <td>Kanada</td>\n",
       "      <td>500+</td>\n",
       "      <td>NaN</td>\n",
       "    </tr>\n",
       "    <tr>\n",
       "      <th>2</th>\n",
       "      <td>3</td>\n",
       "      <td>Aspiring Human Resources Professional</td>\n",
       "      <td>Raleigh-Durham, North Carolina Area</td>\n",
       "      <td>44</td>\n",
       "      <td>NaN</td>\n",
       "    </tr>\n",
       "  </tbody>\n",
       "</table>\n",
       "</div>"
      ],
      "text/plain": [
       "   id                                          job_title  \\\n",
       "0   1  2019 C.T. Bauer College of Business Graduate (...   \n",
       "1   2  Native English Teacher at EPIK (English Progra...   \n",
       "2   3              Aspiring Human Resources Professional   \n",
       "\n",
       "                              location connection  fit  \n",
       "0                       Houston, Texas         85  NaN  \n",
       "1                               Kanada      500+   NaN  \n",
       "2  Raleigh-Durham, North Carolina Area         44  NaN  "
      ]
     },
     "execution_count": 7,
     "metadata": {},
     "output_type": "execute_result"
    }
   ],
   "source": [
    "df=pd.read_csv('../data/3_data.csv')\n",
    "df.head(3)"
   ]
  },
  {
   "cell_type": "markdown",
   "id": "664da8f9-1cc8-42aa-b61f-345181cfd24c",
   "metadata": {},
   "source": [
    "## Analysis"
   ]
  },
  {
   "cell_type": "code",
   "execution_count": 8,
   "id": "5588f3a3-79c7-4b53-a583-04b8b7db7e2a",
   "metadata": {},
   "outputs": [
    {
     "name": "stdout",
     "output_type": "stream",
     "text": [
      "<class 'pandas.core.frame.DataFrame'>\n",
      "RangeIndex: 104 entries, 0 to 103\n",
      "Data columns (total 5 columns):\n",
      " #   Column      Non-Null Count  Dtype  \n",
      "---  ------      --------------  -----  \n",
      " 0   id          104 non-null    int64  \n",
      " 1   job_title   104 non-null    object \n",
      " 2   location    104 non-null    object \n",
      " 3   connection  104 non-null    object \n",
      " 4   fit         0 non-null      float64\n",
      "dtypes: float64(1), int64(1), object(3)\n",
      "memory usage: 4.2+ KB\n"
     ]
    }
   ],
   "source": [
    "df.info()"
   ]
  },
  {
   "cell_type": "markdown",
   "id": "7c2d80f3-65ac-4a80-9751-f60915032a60",
   "metadata": {},
   "source": [
    "No nulls in the dataset. That is nice for us! There are 104 total observations."
   ]
  },
  {
   "cell_type": "code",
   "execution_count": 9,
   "id": "f950c4e7-492a-471c-b5e8-b216e7eceeb3",
   "metadata": {},
   "outputs": [
    {
     "data": {
      "text/plain": [
       "Series([], Name: count, dtype: int64)"
      ]
     },
     "execution_count": 9,
     "metadata": {},
     "output_type": "execute_result"
    }
   ],
   "source": [
    "df['fit'].value_counts()"
   ]
  },
  {
   "cell_type": "markdown",
   "id": "a878f527-ba5d-4b45-9a8e-6d67c39d3cbb",
   "metadata": {},
   "source": [
    "We'll remove `fit` as it is a column with no data."
   ]
  },
  {
   "cell_type": "code",
   "execution_count": 10,
   "id": "412b43a5-6dbd-442c-a426-ccff66bbecb3",
   "metadata": {},
   "outputs": [
    {
     "data": {
      "text/html": [
       "<div>\n",
       "<style scoped>\n",
       "    .dataframe tbody tr th:only-of-type {\n",
       "        vertical-align: middle;\n",
       "    }\n",
       "\n",
       "    .dataframe tbody tr th {\n",
       "        vertical-align: top;\n",
       "    }\n",
       "\n",
       "    .dataframe thead th {\n",
       "        text-align: right;\n",
       "    }\n",
       "</style>\n",
       "<table border=\"1\" class=\"dataframe\">\n",
       "  <thead>\n",
       "    <tr style=\"text-align: right;\">\n",
       "      <th></th>\n",
       "      <th>id</th>\n",
       "      <th>job_title</th>\n",
       "      <th>location</th>\n",
       "      <th>connection</th>\n",
       "    </tr>\n",
       "  </thead>\n",
       "  <tbody>\n",
       "    <tr>\n",
       "      <th>0</th>\n",
       "      <td>1</td>\n",
       "      <td>2019 C.T. Bauer College of Business Graduate (...</td>\n",
       "      <td>Houston, Texas</td>\n",
       "      <td>85</td>\n",
       "    </tr>\n",
       "    <tr>\n",
       "      <th>1</th>\n",
       "      <td>2</td>\n",
       "      <td>Native English Teacher at EPIK (English Progra...</td>\n",
       "      <td>Kanada</td>\n",
       "      <td>500+</td>\n",
       "    </tr>\n",
       "    <tr>\n",
       "      <th>2</th>\n",
       "      <td>3</td>\n",
       "      <td>Aspiring Human Resources Professional</td>\n",
       "      <td>Raleigh-Durham, North Carolina Area</td>\n",
       "      <td>44</td>\n",
       "    </tr>\n",
       "    <tr>\n",
       "      <th>3</th>\n",
       "      <td>4</td>\n",
       "      <td>People Development Coordinator at Ryan</td>\n",
       "      <td>Denton, Texas</td>\n",
       "      <td>500+</td>\n",
       "    </tr>\n",
       "    <tr>\n",
       "      <th>4</th>\n",
       "      <td>5</td>\n",
       "      <td>Advisory Board Member at Celal Bayar University</td>\n",
       "      <td>İzmir, Türkiye</td>\n",
       "      <td>500+</td>\n",
       "    </tr>\n",
       "  </tbody>\n",
       "</table>\n",
       "</div>"
      ],
      "text/plain": [
       "   id                                          job_title  \\\n",
       "0   1  2019 C.T. Bauer College of Business Graduate (...   \n",
       "1   2  Native English Teacher at EPIK (English Progra...   \n",
       "2   3              Aspiring Human Resources Professional   \n",
       "3   4             People Development Coordinator at Ryan   \n",
       "4   5    Advisory Board Member at Celal Bayar University   \n",
       "\n",
       "                              location connection  \n",
       "0                       Houston, Texas         85  \n",
       "1                               Kanada      500+   \n",
       "2  Raleigh-Durham, North Carolina Area         44  \n",
       "3                        Denton, Texas      500+   \n",
       "4                       İzmir, Türkiye      500+   "
      ]
     },
     "execution_count": 10,
     "metadata": {},
     "output_type": "execute_result"
    }
   ],
   "source": [
    "if 'fit' in df.columns: # flow control for repeat code executions\n",
    "    df.drop('fit',axis=1,inplace=True)\n",
    "\n",
    "df.head()"
   ]
  },
  {
   "cell_type": "markdown",
   "id": "a46792bc-1e61-4a52-bc54-a3e0c28a043a",
   "metadata": {},
   "source": [
    "Inspect the connections column:"
   ]
  },
  {
   "cell_type": "code",
   "execution_count": 11,
   "id": "4adbe8c8-5738-446b-b762-62f9fffcc2c0",
   "metadata": {},
   "outputs": [
    {
     "data": {
      "text/plain": [
       "connection\n",
       "500+     44\n",
       "85        7\n",
       "61        7\n",
       "44        6\n",
       "1         5\n",
       "2         4\n",
       "4         2\n",
       "7         2\n",
       "57        2\n",
       "390       2\n",
       "103       1\n",
       "48        1\n",
       "18        1\n",
       "71        1\n",
       "19        1\n",
       "415       1\n",
       "9         1\n",
       "64        1\n",
       "39        1\n",
       "155       1\n",
       "349       1\n",
       "174       1\n",
       "40        1\n",
       "50        1\n",
       "268       1\n",
       "455       1\n",
       "52        1\n",
       "409       1\n",
       "212       1\n",
       "16        1\n",
       "5         1\n",
       "82        1\n",
       "49        1\n",
       "Name: count, dtype: int64"
      ]
     },
     "execution_count": 11,
     "metadata": {},
     "output_type": "execute_result"
    }
   ],
   "source": [
    "connections=df['connection'].value_counts()\n",
    "\n",
    "connections"
   ]
  },
  {
   "cell_type": "markdown",
   "id": "4770d59b-f145-42dc-a47a-d6c24cbec6e7",
   "metadata": {},
   "source": [
    "I will change the \"500+\" into 500 so that it can remain a numeric value."
   ]
  },
  {
   "cell_type": "code",
   "execution_count": 12,
   "id": "b0db1256-fdaa-46d4-a893-e9444b0f0b92",
   "metadata": {},
   "outputs": [
    {
     "name": "stdout",
     "output_type": "stream",
     "text": [
      "Amount of '+' in column: 0\n",
      "id             int64\n",
      "job_title     object\n",
      "location      object\n",
      "connection     int64\n",
      "dtype: object\n",
      "\n",
      "Was conversion successful?\n",
      "Yes.\n"
     ]
    }
   ],
   "source": [
    "# remove all non-numeric characters from the column\n",
    "column='connection'\n",
    "if not pd.api.types.is_numeric_dtype(df[column]):\n",
    "    df[column]=df[column].str.replace(r'\\D','',regex=True)\n",
    "\n",
    "    # check if any '+' characters are still present\n",
    "    print(\"Amount of '+' in column:\",df[column].str.contains(r'\\+').sum())\n",
    "\n",
    "    # convert to integer\n",
    "    df[column]=pd.to_numeric(df[column],errors='coerce')\n",
    "    print(df.dtypes)\n",
    "\n",
    "    # check if conversion was successful\n",
    "    print('\\nWas conversion successful?')\n",
    "    if pd.api.types.is_numeric_dtype(df[column]):\n",
    "        print('Yes.')\n",
    "    else:\n",
    "        print('No.')\n",
    "else:\n",
    "    print(f'There are no non-numeric characters in the column: {column}')"
   ]
  },
  {
   "cell_type": "markdown",
   "id": "89b271ed-4f3b-41f7-a4b9-95ddf1a47e69",
   "metadata": {},
   "source": [
    "### Histogram of Connections"
   ]
  },
  {
   "cell_type": "code",
   "execution_count": 13,
   "id": "d8ec465a-c67b-4544-919a-451c2a50839f",
   "metadata": {},
   "outputs": [
    {
     "data": {
      "text/plain": [
       "connection\n",
       "85    7\n",
       "61    7\n",
       "44    6\n",
       "Name: count, dtype: int64"
      ]
     },
     "execution_count": 13,
     "metadata": {},
     "output_type": "execute_result"
    }
   ],
   "source": [
    "# remove the >500 connection observations\n",
    "df_no500=df[df['connection']<500]\n",
    "\n",
    "# check\n",
    "df_no500['connection'].value_counts().head(3)"
   ]
  },
  {
   "cell_type": "code",
   "execution_count": 41,
   "id": "f1eccc7f-e585-43cd-b0d8-1e97564163fd",
   "metadata": {
    "tags": []
   },
   "outputs": [
    {
     "data": {
      "image/png": "[encoded data removed]",
      "text/plain": [
       "<Figure size 800x600 with 1 Axes>"
      ]
     },
     "metadata": {},
     "output_type": "display_data"
    }
   ],
   "source": [
    "plt.figure(figsize=(8,6))\n",
    "plt.hist(x=df_no500['connection'],\n",
    "         color='cornflowerblue',\n",
    "         bins=20)\n",
    "plt.title('Histogram of Connections\\nNote: Those with greater than 500 connections are not shown (n=44)')\n",
    "plt.xlabel('Number of Connections')\n",
    "plt.ylabel('Count')\n",
    "plt.grid(which='both',axis='y')\n",
    "plt.xticks(range(0,501,50)) # get xticks to appear every 50 connections\n",
    "\n",
    "plt.savefig('figures/3_histogram_connections.pdf',bbox_inches='tight')\n",
    "plt.savefig('figures/3_histogram_connections.jpg',bbox_inches='tight')\n",
    "plt.savefig('figures/3_histogram_connections.png',bbox_inches='tight')\n",
    "\n",
    "plt.show()"
   ]
  },
  {
   "cell_type": "markdown",
   "id": "43bc33a2-f2dd-4111-9c62-8dfc2c53ad7d",
   "metadata": {},
   "source": [
    "### Boxplot of Connections"
   ]
  },
  {
   "cell_type": "code",
   "execution_count": 40,
   "id": "ddaa166c-f90d-467a-a0cc-ffb3fca5e33c",
   "metadata": {},
   "outputs": [
    {
     "data": {
      "image/png": "[encoded data removed]",
      "text/plain": [
       "<Figure size 600x200 with 1 Axes>"
      ]
     },
     "metadata": {},
     "output_type": "display_data"
    }
   ],
   "source": [
    "plt.figure(figsize=(6,2))\n",
    "sns.boxplot(x=df['connection'],color='cornflowerblue')\n",
    "plt.title('Boxplot of Connections\\nIncluding those with >500 Connections')\n",
    "plt.xlabel('Connection')\n",
    "plt.xticks(range(0,501,50))\n",
    "\n",
    "plt.savefig('figures/3_boxplot_connections.pdf',bbox_inches='tight')\n",
    "plt.savefig('figures/3_boxplot_connections.jpg',bbox_inches='tight')\n",
    "plt.savefig('figures/3_boxplot_connections.png',bbox_inches='tight')\n",
    "\n",
    "plt.show()"
   ]
  },
  {
   "cell_type": "code",
   "execution_count": 39,
   "id": "d5a7afe5-f538-4803-b389-4cce71394d7c",
   "metadata": {},
   "outputs": [
    {
     "data": {
      "image/png": "[encoded data removed]",
      "text/plain": [
       "<Figure size 600x200 with 1 Axes>"
      ]
     },
     "metadata": {},
     "output_type": "display_data"
    }
   ],
   "source": [
    "plt.figure(figsize=(6,2))\n",
    "plt.tight_layout()\n",
    "sns.boxplot(x=df_no500['connection'],color='cornflowerblue')\n",
    "plt.title('Boxplot of Connections\\nNot including those with >500 Connections')\n",
    "plt.xlabel('Connection')\n",
    "plt.xticks(range(0,501,50))\n",
    "\n",
    "plt.savefig('figures/3_boxplot_no500.pdf',bbox_inches='tight')\n",
    "plt.savefig('figures/3_boxplot_no500.jpg',bbox_inches='tight')\n",
    "plt.savefig('figures/3_boxplot_no500.png',bbox_inches='tight')\n",
    "\n",
    "plt.show()"
   ]
  },
  {
   "cell_type": "markdown",
   "id": "2e30fbd6-d799-44fb-a344-aee21fe89280",
   "metadata": {},
   "source": [
    "### Map of Observations"
   ]
  },
  {
   "cell_type": "code",
   "execution_count": 17,
   "id": "0ed4eadc-0d7a-47bb-b6d2-14e6749ddc52",
   "metadata": {},
   "outputs": [
    {
     "data": {
      "text/plain": [
       "location\n",
       "Kanada                                 12\n",
       "Raleigh-Durham, North Carolina Area     8\n",
       "Houston, Texas Area                     8\n",
       "Greater New York City Area              7\n",
       "Houston, Texas                          7\n",
       "Denton, Texas                           6\n",
       "San Francisco Bay Area                  5\n",
       "Greater Philadelphia Area               5\n",
       "İzmir, Türkiye                          4\n",
       "Lake Forest, California                 4\n",
       "Atlanta, Georgia                        4\n",
       "Chicago, Illinois                       2\n",
       "Austin, Texas Area                      2\n",
       "Greater Atlanta Area                    2\n",
       "Amerika Birleşik Devletleri             2\n",
       "Long Beach, California                  1\n",
       "Milpitas, California                    1\n",
       "Greater Chicago Area                    1\n",
       "Torrance, California                    1\n",
       "Greater Los Angeles Area                1\n",
       "Bridgewater, Massachusetts              1\n",
       "Lafayette, Indiana                      1\n",
       "Kokomo, Indiana Area                    1\n",
       "Las Vegas, Nevada Area                  1\n",
       "Cape Girardeau, Missouri                1\n",
       "Gaithersburg, Maryland                  1\n",
       "Baltimore, Maryland                     1\n",
       "Dallas/Fort Worth Area                  1\n",
       "Highland, California                    1\n",
       "Los Angeles, California                 1\n",
       "Chattanooga, Tennessee Area             1\n",
       "Myrtle Beach, South Carolina Area       1\n",
       "Baton Rouge, Louisiana Area             1\n",
       "New York, New York                      1\n",
       "San Jose, California                    1\n",
       "Greater Boston Area                     1\n",
       "Monroe, Louisiana Area                  1\n",
       "Virginia Beach, Virginia                1\n",
       "Greater Grand Rapids, Michigan Area     1\n",
       "Jackson, Mississippi Area               1\n",
       "Katy, Texas                             1\n",
       "Name: count, dtype: int64"
      ]
     },
     "execution_count": 17,
     "metadata": {},
     "output_type": "execute_result"
    }
   ],
   "source": [
    "df['location'].value_counts()"
   ]
  },
  {
   "cell_type": "code",
   "execution_count": 18,
   "id": "9bad7bd3-b0d7-4d0d-ace0-33a073f97932",
   "metadata": {},
   "outputs": [
    {
     "data": {
      "text/plain": [
       "41"
      ]
     },
     "execution_count": 18,
     "metadata": {},
     "output_type": "execute_result"
    }
   ],
   "source": [
    "# number of unique locations in dataset\n",
    "df['location'].nunique()"
   ]
  },
  {
   "cell_type": "markdown",
   "id": "be0b11ee-741a-40be-9961-44e64d446750",
   "metadata": {},
   "source": [
    "This is not terrible. I'd like to get the location for each municipality to create a chloropleth map of the locations.\n",
    "\n",
    "First step is to clean this column to make it easier to get the locations. We won't go fully intense with the geospatial information, so if the city says \"Greater CITY Area,\" I'll just make that \"CITY\" to simplify things."
   ]
  },
  {
   "cell_type": "code",
   "execution_count": 19,
   "id": "7d05b11c-bfd3-46c5-8a60-51114a502bac",
   "metadata": {},
   "outputs": [
    {
     "data": {
      "text/html": [
       "<div>\n",
       "<style scoped>\n",
       "    .dataframe tbody tr th:only-of-type {\n",
       "        vertical-align: middle;\n",
       "    }\n",
       "\n",
       "    .dataframe tbody tr th {\n",
       "        vertical-align: top;\n",
       "    }\n",
       "\n",
       "    .dataframe thead th {\n",
       "        text-align: right;\n",
       "    }\n",
       "</style>\n",
       "<table border=\"1\" class=\"dataframe\">\n",
       "  <thead>\n",
       "    <tr style=\"text-align: right;\">\n",
       "      <th></th>\n",
       "      <th>ID</th>\n",
       "      <th>STATE_CODE</th>\n",
       "      <th>STATE_NAME</th>\n",
       "      <th>CITY</th>\n",
       "      <th>COUNTY</th>\n",
       "      <th>LATITUDE</th>\n",
       "      <th>LONGITUDE</th>\n",
       "    </tr>\n",
       "  </thead>\n",
       "  <tbody>\n",
       "    <tr>\n",
       "      <th>0</th>\n",
       "      <td>1</td>\n",
       "      <td>AK</td>\n",
       "      <td>Alaska</td>\n",
       "      <td>Adak</td>\n",
       "      <td>Aleutians West</td>\n",
       "      <td>55.999722</td>\n",
       "      <td>-161.207778</td>\n",
       "    </tr>\n",
       "    <tr>\n",
       "      <th>1</th>\n",
       "      <td>2</td>\n",
       "      <td>AK</td>\n",
       "      <td>Alaska</td>\n",
       "      <td>Akiachak</td>\n",
       "      <td>Bethel</td>\n",
       "      <td>60.891854</td>\n",
       "      <td>-161.392330</td>\n",
       "    </tr>\n",
       "    <tr>\n",
       "      <th>2</th>\n",
       "      <td>3</td>\n",
       "      <td>AK</td>\n",
       "      <td>Alaska</td>\n",
       "      <td>Akiak</td>\n",
       "      <td>Bethel</td>\n",
       "      <td>60.890632</td>\n",
       "      <td>-161.199325</td>\n",
       "    </tr>\n",
       "  </tbody>\n",
       "</table>\n",
       "</div>"
      ],
      "text/plain": [
       "   ID STATE_CODE STATE_NAME      CITY          COUNTY   LATITUDE   LONGITUDE\n",
       "0   1         AK     Alaska      Adak  Aleutians West  55.999722 -161.207778\n",
       "1   2         AK     Alaska  Akiachak          Bethel  60.891854 -161.392330\n",
       "2   3         AK     Alaska     Akiak          Bethel  60.890632 -161.199325"
      ]
     },
     "execution_count": 19,
     "metadata": {},
     "output_type": "execute_result"
    }
   ],
   "source": [
    "# data from here:\n",
    "# https://github.com/kelvins/US-Cities-Database\n",
    "cities=pd.read_csv('../data/us_cities.csv')\n",
    "cities.head(3)"
   ]
  },
  {
   "cell_type": "code",
   "execution_count": 20,
   "id": "ff15d9d9-872b-431d-9fa7-fd7bc12e411f",
   "metadata": {},
   "outputs": [
    {
     "data": {
      "text/html": [
       "<div>\n",
       "<style scoped>\n",
       "    .dataframe tbody tr th:only-of-type {\n",
       "        vertical-align: middle;\n",
       "    }\n",
       "\n",
       "    .dataframe tbody tr th {\n",
       "        vertical-align: top;\n",
       "    }\n",
       "\n",
       "    .dataframe thead th {\n",
       "        text-align: right;\n",
       "    }\n",
       "</style>\n",
       "<table border=\"1\" class=\"dataframe\">\n",
       "  <thead>\n",
       "    <tr style=\"text-align: right;\">\n",
       "      <th></th>\n",
       "      <th>ID</th>\n",
       "      <th>STATE_CODE</th>\n",
       "      <th>STATE_NAME</th>\n",
       "      <th>CITY</th>\n",
       "      <th>COUNTY</th>\n",
       "      <th>LATITUDE</th>\n",
       "      <th>LONGITUDE</th>\n",
       "    </tr>\n",
       "  </thead>\n",
       "  <tbody>\n",
       "    <tr>\n",
       "      <th>25488</th>\n",
       "      <td>25489</td>\n",
       "      <td>TX</td>\n",
       "      <td>Texas</td>\n",
       "      <td>Katy</td>\n",
       "      <td>Fort Bend</td>\n",
       "      <td>29.750893</td>\n",
       "      <td>-95.811675</td>\n",
       "    </tr>\n",
       "    <tr>\n",
       "      <th>25489</th>\n",
       "      <td>25490</td>\n",
       "      <td>TX</td>\n",
       "      <td>Texas</td>\n",
       "      <td>Katy</td>\n",
       "      <td>Harris</td>\n",
       "      <td>29.819922</td>\n",
       "      <td>-95.729267</td>\n",
       "    </tr>\n",
       "  </tbody>\n",
       "</table>\n",
       "</div>"
      ],
      "text/plain": [
       "          ID STATE_CODE STATE_NAME  CITY     COUNTY   LATITUDE  LONGITUDE\n",
       "25488  25489         TX      Texas  Katy  Fort Bend  29.750893 -95.811675\n",
       "25489  25490         TX      Texas  Katy     Harris  29.819922 -95.729267"
      ]
     },
     "execution_count": 20,
     "metadata": {},
     "output_type": "execute_result"
    }
   ],
   "source": [
    "# find cities\n",
    "_=cities[cities['CITY'].str.contains('Katy')]\n",
    "_\n",
    "\n",
    "# I also used Google Earth Pro"
   ]
  },
  {
   "cell_type": "code",
   "execution_count": 21,
   "id": "c60bb1c1-fad1-429d-a70e-37b49b38fe43",
   "metadata": {},
   "outputs": [],
   "source": [
    "city_loc_map={\n",
    "    'Kanada':{'lat':45.424721,'lon':-75.695,'name':'Canada'}, # choosing Ottowa\n",
    "    'Raleigh-Durham, North Carolina Area':{'lat':35.772701,'lon':-78.632439,'name':'Raleigh'},\n",
    "    'Houston, Texas Area':{'lat':29.765200,'lon':-95.365700,'name':'Houston'},\n",
    "    'Greater New York City Area':{'lat':40.748380,'lon':-73.996705,'name':'New_York_City'},\n",
    "    'Houston, Texas':{'lat':29.765200,'lon':-95.365700,'name':'Houston'},\n",
    "    'Denton, Texas':{'lat':33.22893,'lon':-97.131436,'name':'Denton'},\n",
    "    'San Francisco Bay Area':{'lat':37.775,'lon':-122.4183,'name':'San_Francisco'},\n",
    "    'Greater Philadelphia Area':{'lat':39.864998,'lon':-75.275196,'name':'Philadelphia'},\n",
    "    'İzmir, Türkiye':{'lat':38.4228,'lon':27.1404,'name':'İzmir'},\n",
    "    'Lake Forest, California':{'lat':33.640015,'lon':-117.68819,'name':'Lake_Forest_CA'},\n",
    "    'Atlanta, Georgia':{'lat':33.7564,'lon':-84.3918,'name':'Atlanta'},\n",
    "    'Chicago, Illinois':{'lat':41.885847,'lon':-87.618123,'name':'Chicago'},\n",
    "    'Austin, Texas Area':{'lat':30.2303,'lon':-97.7144,'name':'Austin'},\n",
    "    'Greater Atlanta Area':{'lat':33.7564,'lon':-84.3918,'name':'Atlanta'},\n",
    "    'Amerika Birleşik Devletleri':{'lat':39.833333,'lon':-98.583333,'name':'United_States'},\n",
    "    'Long Beach, California':{'lat':33.7705,'lon':-118.1885,'name':'Long_Beach'},\n",
    "    'Milpitas, California':{'lat':37.436491,'lon':-121.892885,'name':'Milpitas'},\n",
    "    'Greater Chicago Area':{'lat':41.885847,'lon':-87.618123,'name':'Chicago'},\n",
    "    'Torrance, California':{'lat':33.826817,'lon':-118.31183,'name':'Torrance'},\n",
    "    'Greater Los Angeles Area':{'lat':33.973093,'lon':-118.247896,'name':'Los_Angeles'},\n",
    "    'Bridgewater, Massachusetts':{'lat':41.977341,'lon':-70.97234,'name':'Bridgewater_MA'},\n",
    "    'Lafayette, Indiana':{'lat':40.417743,'lon':-86.888358,'name':'Lafayette_IN'},\n",
    "    'Kokomo, Indiana Area':{'lat':40.498840,'lon':-86.145273,'name':'Kokomo_IN'},\n",
    "    'Las Vegas, Nevada Area':{'lat':36.172082,'lon':-115.122366,'name':'Las_Vegas'},\n",
    "    'Cape Girardeau, Missouri':{'lat':37.31685,'lon':-89.545861,'name':'Cape_Girardeau'},\n",
    "    'Gaithersburg, Maryland':{'lat':39.14187,'lon':-77.188993,'name':'Gaithersburg'},\n",
    "    'Baltimore, Maryland':{'lat':39.294630,'lon':-76.625203,'name':'Baltimore_MD'},\n",
    "    'Dallas/Fort Worth Area':{'lat':32.778,'lon':-96.7968,'name':'Dallas'},\n",
    "    'Highland, California':{'lat':34.126969,'lon':-117.208717,'name':'Highland_CA'},\n",
    "    'Los Angeles, California':{'lat':33.973093,'lon':-118.247896,'name':'Los_Angeles'},\n",
    "    'Chattanooga, Tennessee Area':{'lat':35.045500,'lon':-85.308100,'name':'Chattanooga'},\n",
    "    'Myrtle Beach, South Carolina Area':{'lat':33.758701,'lon':-78.804448,'name':'Myrtle_Beach'},\n",
    "    'Baton Rouge, Louisiana Area':{'lat':30.450731,'lon':-91.186954,'name':'Baton_Rouge'},\n",
    "    'New York, New York':{'lat':40.748380,'lon':-73.996705,'name':'New_York_City'},\n",
    "    'San Jose, California':{'lat':37.389400,'lon':-121.886800,'name':'San_Jose'},\n",
    "    'Greater Boston Area':{'lat':42.357603,'lon':-71.068432,'name':'Boston_MA'},\n",
    "    'Monroe, Louisiana Area':{'lat':32.528551,'lon':-92.106104,'name':'Monroe_LA'},\n",
    "    'Virginia Beach, Virginia':{'lat':36.8527,'lon':-75.9783,'name':'Virginia_Beach'},\n",
    "    'Greater Grand Rapids, Michigan Area':{'lat':42.970400,'lon':-85.673800,'name':'Grand_Rapids_MI'},\n",
    "    'Jackson, Mississippi Area':{'lat':32.293502,'lon':-90.186655,'name':'Jackson_MS'},\n",
    "    'Katy, Texas':{'lat':29.7828,'lon':-95.8212,'name':'Katy_TX'}\n",
    "}\n",
    "\n",
    "city_loc_map = pd.DataFrame(city_loc_map).T.reset_index(names=\"original_name\")\n",
    "city_loc_map = city_loc_map.drop(columns=['index'], errors='ignore') "
   ]
  },
  {
   "cell_type": "code",
   "execution_count": 22,
   "id": "a5212dbd-d425-4274-b782-9d97edcaa1e7",
   "metadata": {},
   "outputs": [
    {
     "data": {
      "text/html": [
       "<div>\n",
       "<style scoped>\n",
       "    .dataframe tbody tr th:only-of-type {\n",
       "        vertical-align: middle;\n",
       "    }\n",
       "\n",
       "    .dataframe tbody tr th {\n",
       "        vertical-align: top;\n",
       "    }\n",
       "\n",
       "    .dataframe thead th {\n",
       "        text-align: right;\n",
       "    }\n",
       "</style>\n",
       "<table border=\"1\" class=\"dataframe\">\n",
       "  <thead>\n",
       "    <tr style=\"text-align: right;\">\n",
       "      <th></th>\n",
       "      <th>original_name</th>\n",
       "      <th>lat</th>\n",
       "      <th>lon</th>\n",
       "      <th>name</th>\n",
       "    </tr>\n",
       "  </thead>\n",
       "  <tbody>\n",
       "    <tr>\n",
       "      <th>0</th>\n",
       "      <td>Kanada</td>\n",
       "      <td>45.424721</td>\n",
       "      <td>-75.695</td>\n",
       "      <td>Canada</td>\n",
       "    </tr>\n",
       "    <tr>\n",
       "      <th>1</th>\n",
       "      <td>Raleigh-Durham, North Carolina Area</td>\n",
       "      <td>35.772701</td>\n",
       "      <td>-78.632439</td>\n",
       "      <td>Raleigh</td>\n",
       "    </tr>\n",
       "    <tr>\n",
       "      <th>2</th>\n",
       "      <td>Houston, Texas Area</td>\n",
       "      <td>29.7652</td>\n",
       "      <td>-95.3657</td>\n",
       "      <td>Houston</td>\n",
       "    </tr>\n",
       "    <tr>\n",
       "      <th>3</th>\n",
       "      <td>Greater New York City Area</td>\n",
       "      <td>40.74838</td>\n",
       "      <td>-73.996705</td>\n",
       "      <td>New_York_City</td>\n",
       "    </tr>\n",
       "    <tr>\n",
       "      <th>4</th>\n",
       "      <td>Houston, Texas</td>\n",
       "      <td>29.7652</td>\n",
       "      <td>-95.3657</td>\n",
       "      <td>Houston</td>\n",
       "    </tr>\n",
       "  </tbody>\n",
       "</table>\n",
       "</div>"
      ],
      "text/plain": [
       "                         original_name        lat        lon           name\n",
       "0                               Kanada  45.424721    -75.695         Canada\n",
       "1  Raleigh-Durham, North Carolina Area  35.772701 -78.632439        Raleigh\n",
       "2                  Houston, Texas Area    29.7652   -95.3657        Houston\n",
       "3           Greater New York City Area   40.74838 -73.996705  New_York_City\n",
       "4                       Houston, Texas    29.7652   -95.3657        Houston"
      ]
     },
     "execution_count": 22,
     "metadata": {},
     "output_type": "execute_result"
    }
   ],
   "source": [
    "city_loc_map.head()"
   ]
  },
  {
   "cell_type": "code",
   "execution_count": 23,
   "id": "597a7763-9b8c-4551-9b2d-bd713d0b7e48",
   "metadata": {},
   "outputs": [
    {
     "name": "stdout",
     "output_type": "stream",
     "text": [
      "Merging tables\n",
      "df has already been merged\n"
     ]
    },
    {
     "data": {
      "text/html": [
       "<div>\n",
       "<style scoped>\n",
       "    .dataframe tbody tr th:only-of-type {\n",
       "        vertical-align: middle;\n",
       "    }\n",
       "\n",
       "    .dataframe tbody tr th {\n",
       "        vertical-align: top;\n",
       "    }\n",
       "\n",
       "    .dataframe thead th {\n",
       "        text-align: right;\n",
       "    }\n",
       "</style>\n",
       "<table border=\"1\" class=\"dataframe\">\n",
       "  <thead>\n",
       "    <tr style=\"text-align: right;\">\n",
       "      <th></th>\n",
       "      <th>id</th>\n",
       "      <th>job_title</th>\n",
       "      <th>location</th>\n",
       "      <th>connection</th>\n",
       "      <th>lat</th>\n",
       "      <th>lon</th>\n",
       "      <th>name</th>\n",
       "    </tr>\n",
       "  </thead>\n",
       "  <tbody>\n",
       "    <tr>\n",
       "      <th>0</th>\n",
       "      <td>1</td>\n",
       "      <td>2019 C.T. Bauer College of Business Graduate (...</td>\n",
       "      <td>Houston, Texas</td>\n",
       "      <td>85</td>\n",
       "      <td>29.7652</td>\n",
       "      <td>-95.3657</td>\n",
       "      <td>Houston</td>\n",
       "    </tr>\n",
       "    <tr>\n",
       "      <th>1</th>\n",
       "      <td>2</td>\n",
       "      <td>Native English Teacher at EPIK (English Progra...</td>\n",
       "      <td>Kanada</td>\n",
       "      <td>500</td>\n",
       "      <td>45.424721</td>\n",
       "      <td>-75.695</td>\n",
       "      <td>Canada</td>\n",
       "    </tr>\n",
       "    <tr>\n",
       "      <th>2</th>\n",
       "      <td>3</td>\n",
       "      <td>Aspiring Human Resources Professional</td>\n",
       "      <td>Raleigh-Durham, North Carolina Area</td>\n",
       "      <td>44</td>\n",
       "      <td>35.772701</td>\n",
       "      <td>-78.632439</td>\n",
       "      <td>Raleigh</td>\n",
       "    </tr>\n",
       "  </tbody>\n",
       "</table>\n",
       "</div>"
      ],
      "text/plain": [
       "   id                                          job_title  \\\n",
       "0   1  2019 C.T. Bauer College of Business Graduate (...   \n",
       "1   2  Native English Teacher at EPIK (English Progra...   \n",
       "2   3              Aspiring Human Resources Professional   \n",
       "\n",
       "                              location  connection        lat        lon  \\\n",
       "0                       Houston, Texas          85    29.7652   -95.3657   \n",
       "1                               Kanada         500  45.424721    -75.695   \n",
       "2  Raleigh-Durham, North Carolina Area          44  35.772701 -78.632439   \n",
       "\n",
       "      name  \n",
       "0  Houston  \n",
       "1   Canada  \n",
       "2  Raleigh  "
      ]
     },
     "execution_count": 23,
     "metadata": {},
     "output_type": "execute_result"
    }
   ],
   "source": [
    "# merge dataframes to include new spatial information\n",
    "if 'lat' not in df.columns:\n",
    "    print('Merging tables')\n",
    "    df=df.merge(city_loc_map[['original_name','lat','lon','name']],\n",
    "               left_on='location',\n",
    "               right_on='original_name',\n",
    "               how='left')\n",
    "\n",
    "    df=df.drop(columns=['original_name'])\n",
    "\n",
    "print('df has already been merged')\n",
    "df.head(3)"
   ]
  },
  {
   "cell_type": "code",
   "execution_count": 24,
   "id": "34d78ddc-8ce7-45fb-91ba-042b82dafdb9",
   "metadata": {},
   "outputs": [
    {
     "data": {
      "text/plain": [
       "True"
      ]
     },
     "execution_count": 24,
     "metadata": {},
     "output_type": "execute_result"
    }
   ],
   "source": [
    "# check if there's an equal number of latitudes for the city names\n",
    "df['lat'].value_counts().count()==df['name'].value_counts().count()"
   ]
  },
  {
   "cell_type": "markdown",
   "id": "a3670fbc-004a-4e9f-a3bb-f23d76ab57db",
   "metadata": {},
   "source": [
    "Excellent! We successfully added the city location. Now let's make a chloropleth map (or something similar) showing the geographic distribution of the applicants."
   ]
  },
  {
   "cell_type": "markdown",
   "id": "27d660cd-3d4d-4310-81c4-410653ff7a4e",
   "metadata": {},
   "source": [
    "We almost forgot: let's now make a table that shows the sum of applicants at each location."
   ]
  },
  {
   "cell_type": "code",
   "execution_count": 25,
   "id": "cfb32ab7-4dde-4e75-848a-c42fabfbd208",
   "metadata": {},
   "outputs": [
    {
     "data": {
      "text/html": [
       "<div>\n",
       "<style scoped>\n",
       "    .dataframe tbody tr th:only-of-type {\n",
       "        vertical-align: middle;\n",
       "    }\n",
       "\n",
       "    .dataframe tbody tr th {\n",
       "        vertical-align: top;\n",
       "    }\n",
       "\n",
       "    .dataframe thead th {\n",
       "        text-align: right;\n",
       "    }\n",
       "</style>\n",
       "<table border=\"1\" class=\"dataframe\">\n",
       "  <thead>\n",
       "    <tr style=\"text-align: right;\">\n",
       "      <th></th>\n",
       "      <th>ct</th>\n",
       "      <th>lat</th>\n",
       "      <th>lon</th>\n",
       "      <th>name</th>\n",
       "    </tr>\n",
       "  </thead>\n",
       "  <tbody>\n",
       "    <tr>\n",
       "      <th>0</th>\n",
       "      <td>1</td>\n",
       "      <td>32.293502</td>\n",
       "      <td>-90.186655</td>\n",
       "      <td>Jackson_MS</td>\n",
       "    </tr>\n",
       "    <tr>\n",
       "      <th>1</th>\n",
       "      <td>1</td>\n",
       "      <td>36.852700</td>\n",
       "      <td>-75.978300</td>\n",
       "      <td>Virginia_Beach</td>\n",
       "    </tr>\n",
       "    <tr>\n",
       "      <th>2</th>\n",
       "      <td>2</td>\n",
       "      <td>39.833333</td>\n",
       "      <td>-98.583333</td>\n",
       "      <td>United_States</td>\n",
       "    </tr>\n",
       "    <tr>\n",
       "      <th>3</th>\n",
       "      <td>1</td>\n",
       "      <td>37.436491</td>\n",
       "      <td>-121.892885</td>\n",
       "      <td>Milpitas</td>\n",
       "    </tr>\n",
       "    <tr>\n",
       "      <th>4</th>\n",
       "      <td>1</td>\n",
       "      <td>29.782800</td>\n",
       "      <td>-95.821200</td>\n",
       "      <td>Katy_TX</td>\n",
       "    </tr>\n",
       "  </tbody>\n",
       "</table>\n",
       "</div>"
      ],
      "text/plain": [
       "   ct        lat         lon            name\n",
       "0   1  32.293502  -90.186655      Jackson_MS\n",
       "1   1  36.852700  -75.978300  Virginia_Beach\n",
       "2   2  39.833333  -98.583333   United_States\n",
       "3   1  37.436491 -121.892885        Milpitas\n",
       "4   1  29.782800  -95.821200         Katy_TX"
      ]
     },
     "execution_count": 25,
     "metadata": {},
     "output_type": "execute_result"
    }
   ],
   "source": [
    "con=duckdb.connect(database=':memory:')\n",
    "con.register('df',df)\n",
    "ct_cities=con.execute('''\n",
    "select\n",
    "    count(name) as ct\n",
    "    ,lat\n",
    "    ,lon\n",
    "    ,name\n",
    "from df\n",
    "group by name,lat,lon;\n",
    "''').fetchdf()\n",
    "con.close()\n",
    "ct_cities.head()"
   ]
  },
  {
   "cell_type": "code",
   "execution_count": 26,
   "id": "f5f0812b-b5a3-42b1-8b92-a78abf7f3ba5",
   "metadata": {},
   "outputs": [
    {
     "data": {
      "text/html": [
       "<div>\n",
       "<style scoped>\n",
       "    .dataframe tbody tr th:only-of-type {\n",
       "        vertical-align: middle;\n",
       "    }\n",
       "\n",
       "    .dataframe tbody tr th {\n",
       "        vertical-align: top;\n",
       "    }\n",
       "\n",
       "    .dataframe thead th {\n",
       "        text-align: right;\n",
       "    }\n",
       "</style>\n",
       "<table border=\"1\" class=\"dataframe\">\n",
       "  <thead>\n",
       "    <tr style=\"text-align: right;\">\n",
       "      <th></th>\n",
       "      <th>pop_est</th>\n",
       "      <th>continent</th>\n",
       "      <th>name</th>\n",
       "      <th>iso_a3</th>\n",
       "      <th>gdp_md_est</th>\n",
       "      <th>geometry</th>\n",
       "    </tr>\n",
       "  </thead>\n",
       "  <tbody>\n",
       "    <tr>\n",
       "      <th>0</th>\n",
       "      <td>889953.0</td>\n",
       "      <td>Oceania</td>\n",
       "      <td>Fiji</td>\n",
       "      <td>FJI</td>\n",
       "      <td>5496</td>\n",
       "      <td>MULTIPOLYGON (((180.00000 -16.06713, 180.00000...</td>\n",
       "    </tr>\n",
       "    <tr>\n",
       "      <th>1</th>\n",
       "      <td>58005463.0</td>\n",
       "      <td>Africa</td>\n",
       "      <td>Tanzania</td>\n",
       "      <td>TZA</td>\n",
       "      <td>63177</td>\n",
       "      <td>POLYGON ((33.90371 -0.95000, 34.07262 -1.05982...</td>\n",
       "    </tr>\n",
       "    <tr>\n",
       "      <th>2</th>\n",
       "      <td>603253.0</td>\n",
       "      <td>Africa</td>\n",
       "      <td>W. Sahara</td>\n",
       "      <td>ESH</td>\n",
       "      <td>907</td>\n",
       "      <td>POLYGON ((-8.66559 27.65643, -8.66512 27.58948...</td>\n",
       "    </tr>\n",
       "    <tr>\n",
       "      <th>3</th>\n",
       "      <td>37589262.0</td>\n",
       "      <td>North America</td>\n",
       "      <td>Canada</td>\n",
       "      <td>CAN</td>\n",
       "      <td>1736425</td>\n",
       "      <td>MULTIPOLYGON (((-122.84000 49.00000, -122.9742...</td>\n",
       "    </tr>\n",
       "    <tr>\n",
       "      <th>4</th>\n",
       "      <td>328239523.0</td>\n",
       "      <td>North America</td>\n",
       "      <td>United States of America</td>\n",
       "      <td>USA</td>\n",
       "      <td>21433226</td>\n",
       "      <td>MULTIPOLYGON (((-122.84000 49.00000, -120.0000...</td>\n",
       "    </tr>\n",
       "  </tbody>\n",
       "</table>\n",
       "</div>"
      ],
      "text/plain": [
       "       pop_est      continent                      name iso_a3  gdp_md_est  \\\n",
       "0     889953.0        Oceania                      Fiji    FJI        5496   \n",
       "1   58005463.0         Africa                  Tanzania    TZA       63177   \n",
       "2     603253.0         Africa                 W. Sahara    ESH         907   \n",
       "3   37589262.0  North America                    Canada    CAN     1736425   \n",
       "4  328239523.0  North America  United States of America    USA    21433226   \n",
       "\n",
       "                                            geometry  \n",
       "0  MULTIPOLYGON (((180.00000 -16.06713, 180.00000...  \n",
       "1  POLYGON ((33.90371 -0.95000, 34.07262 -1.05982...  \n",
       "2  POLYGON ((-8.66559 27.65643, -8.66512 27.58948...  \n",
       "3  MULTIPOLYGON (((-122.84000 49.00000, -122.9742...  \n",
       "4  MULTIPOLYGON (((-122.84000 49.00000, -120.0000...  "
      ]
     },
     "execution_count": 26,
     "metadata": {},
     "output_type": "execute_result"
    }
   ],
   "source": [
    "# downloaded from something like\n",
    "# https://github.com/georgique/world-geojson\n",
    "borders=gpd.read_file('../data/world_borders.geojson')\n",
    "borders.head()"
   ]
  },
  {
   "cell_type": "markdown",
   "id": "15e2cc85-fa87-418c-b34a-76c9f2c20482",
   "metadata": {},
   "source": [
    "I'll make two maps, one of North America and another of Tükiye."
   ]
  },
  {
   "cell_type": "code",
   "execution_count": 27,
   "id": "ccce3de5-c0a5-4b90-a9dc-cda14533a5fb",
   "metadata": {},
   "outputs": [
    {
     "data": {
      "text/html": [
       "<div>\n",
       "<style scoped>\n",
       "    .dataframe tbody tr th:only-of-type {\n",
       "        vertical-align: middle;\n",
       "    }\n",
       "\n",
       "    .dataframe tbody tr th {\n",
       "        vertical-align: top;\n",
       "    }\n",
       "\n",
       "    .dataframe thead th {\n",
       "        text-align: right;\n",
       "    }\n",
       "</style>\n",
       "<table border=\"1\" class=\"dataframe\">\n",
       "  <thead>\n",
       "    <tr style=\"text-align: right;\">\n",
       "      <th></th>\n",
       "      <th>ct</th>\n",
       "      <th>lat</th>\n",
       "      <th>lon</th>\n",
       "      <th>name</th>\n",
       "    </tr>\n",
       "  </thead>\n",
       "  <tbody>\n",
       "    <tr>\n",
       "      <th>0</th>\n",
       "      <td>1</td>\n",
       "      <td>32.293502</td>\n",
       "      <td>-90.186655</td>\n",
       "      <td>Jackson_MS</td>\n",
       "    </tr>\n",
       "    <tr>\n",
       "      <th>1</th>\n",
       "      <td>1</td>\n",
       "      <td>36.852700</td>\n",
       "      <td>-75.978300</td>\n",
       "      <td>Virginia_Beach</td>\n",
       "    </tr>\n",
       "    <tr>\n",
       "      <th>2</th>\n",
       "      <td>2</td>\n",
       "      <td>39.833333</td>\n",
       "      <td>-98.583333</td>\n",
       "      <td>United_States</td>\n",
       "    </tr>\n",
       "    <tr>\n",
       "      <th>3</th>\n",
       "      <td>1</td>\n",
       "      <td>37.436491</td>\n",
       "      <td>-121.892885</td>\n",
       "      <td>Milpitas</td>\n",
       "    </tr>\n",
       "    <tr>\n",
       "      <th>4</th>\n",
       "      <td>1</td>\n",
       "      <td>29.782800</td>\n",
       "      <td>-95.821200</td>\n",
       "      <td>Katy_TX</td>\n",
       "    </tr>\n",
       "  </tbody>\n",
       "</table>\n",
       "</div>"
      ],
      "text/plain": [
       "   ct        lat         lon            name\n",
       "0   1  32.293502  -90.186655      Jackson_MS\n",
       "1   1  36.852700  -75.978300  Virginia_Beach\n",
       "2   2  39.833333  -98.583333   United_States\n",
       "3   1  37.436491 -121.892885        Milpitas\n",
       "4   1  29.782800  -95.821200         Katy_TX"
      ]
     },
     "execution_count": 27,
     "metadata": {},
     "output_type": "execute_result"
    }
   ],
   "source": [
    "con=duckdb.connect(database=':memory:')\n",
    "con.register('ct_cities',ct_cities)\n",
    "ct_cities_na=con.execute('''\n",
    "select\n",
    "    *\n",
    "from ct_cities\n",
    "where lon<27;\n",
    "''').fetchdf()\n",
    "con.close()\n",
    "ct_cities_na.head()"
   ]
  },
  {
   "cell_type": "code",
   "execution_count": 28,
   "id": "07a03d54-a54f-4778-ba87-4999d9d0ee90",
   "metadata": {},
   "outputs": [
    {
     "data": {
      "text/html": [
       "<div>\n",
       "<style scoped>\n",
       "    .dataframe tbody tr th:only-of-type {\n",
       "        vertical-align: middle;\n",
       "    }\n",
       "\n",
       "    .dataframe tbody tr th {\n",
       "        vertical-align: top;\n",
       "    }\n",
       "\n",
       "    .dataframe thead th {\n",
       "        text-align: right;\n",
       "    }\n",
       "</style>\n",
       "<table border=\"1\" class=\"dataframe\">\n",
       "  <thead>\n",
       "    <tr style=\"text-align: right;\">\n",
       "      <th></th>\n",
       "      <th>ct</th>\n",
       "      <th>lat</th>\n",
       "      <th>lon</th>\n",
       "      <th>name</th>\n",
       "    </tr>\n",
       "  </thead>\n",
       "  <tbody>\n",
       "    <tr>\n",
       "      <th>0</th>\n",
       "      <td>4</td>\n",
       "      <td>38.4228</td>\n",
       "      <td>27.1404</td>\n",
       "      <td>İzmir</td>\n",
       "    </tr>\n",
       "  </tbody>\n",
       "</table>\n",
       "</div>"
      ],
      "text/plain": [
       "   ct      lat      lon   name\n",
       "0   4  38.4228  27.1404  İzmir"
      ]
     },
     "execution_count": 28,
     "metadata": {},
     "output_type": "execute_result"
    }
   ],
   "source": [
    "con=duckdb.connect(database=':memory:')\n",
    "con.register('ct_cities',ct_cities)\n",
    "ct_cities_tk=con.execute('''\n",
    "select\n",
    "    *\n",
    "from ct_cities\n",
    "where lon>27;\n",
    "''').fetchdf()\n",
    "con.close()\n",
    "ct_cities_tk.head()"
   ]
  },
  {
   "cell_type": "code",
   "execution_count": 29,
   "id": "e5da0150-cbcf-408b-9891-672217f13fac",
   "metadata": {},
   "outputs": [
    {
     "data": {
      "text/html": [
       "<div>\n",
       "<style scoped>\n",
       "    .dataframe tbody tr th:only-of-type {\n",
       "        vertical-align: middle;\n",
       "    }\n",
       "\n",
       "    .dataframe tbody tr th {\n",
       "        vertical-align: top;\n",
       "    }\n",
       "\n",
       "    .dataframe thead th {\n",
       "        text-align: right;\n",
       "    }\n",
       "</style>\n",
       "<table border=\"1\" class=\"dataframe\">\n",
       "  <thead>\n",
       "    <tr style=\"text-align: right;\">\n",
       "      <th></th>\n",
       "      <th>id</th>\n",
       "      <th>name</th>\n",
       "      <th>density</th>\n",
       "      <th>geometry</th>\n",
       "    </tr>\n",
       "  </thead>\n",
       "  <tbody>\n",
       "    <tr>\n",
       "      <th>0</th>\n",
       "      <td>01</td>\n",
       "      <td>Alabama</td>\n",
       "      <td>94.650</td>\n",
       "      <td>POLYGON ((-87.35930 35.00118, -85.60667 34.984...</td>\n",
       "    </tr>\n",
       "    <tr>\n",
       "      <th>1</th>\n",
       "      <td>02</td>\n",
       "      <td>Alaska</td>\n",
       "      <td>1.264</td>\n",
       "      <td>MULTIPOLYGON (((-131.60202 55.11798, -131.5691...</td>\n",
       "    </tr>\n",
       "    <tr>\n",
       "      <th>2</th>\n",
       "      <td>04</td>\n",
       "      <td>Arizona</td>\n",
       "      <td>57.050</td>\n",
       "      <td>POLYGON ((-109.04250 37.00026, -109.04798 31.3...</td>\n",
       "    </tr>\n",
       "    <tr>\n",
       "      <th>3</th>\n",
       "      <td>05</td>\n",
       "      <td>Arkansas</td>\n",
       "      <td>56.430</td>\n",
       "      <td>POLYGON ((-94.47384 36.50186, -90.15254 36.496...</td>\n",
       "    </tr>\n",
       "    <tr>\n",
       "      <th>4</th>\n",
       "      <td>06</td>\n",
       "      <td>California</td>\n",
       "      <td>241.700</td>\n",
       "      <td>POLYGON ((-123.23326 42.00619, -122.37885 42.0...</td>\n",
       "    </tr>\n",
       "  </tbody>\n",
       "</table>\n",
       "</div>"
      ],
      "text/plain": [
       "   id        name  density                                           geometry\n",
       "0  01     Alabama   94.650  POLYGON ((-87.35930 35.00118, -85.60667 34.984...\n",
       "1  02      Alaska    1.264  MULTIPOLYGON (((-131.60202 55.11798, -131.5691...\n",
       "2  04     Arizona   57.050  POLYGON ((-109.04250 37.00026, -109.04798 31.3...\n",
       "3  05    Arkansas   56.430  POLYGON ((-94.47384 36.50186, -90.15254 36.496...\n",
       "4  06  California  241.700  POLYGON ((-123.23326 42.00619, -122.37885 42.0..."
      ]
     },
     "execution_count": 29,
     "metadata": {},
     "output_type": "execute_result"
    }
   ],
   "source": [
    "# us states geojson from here:\n",
    "# https://github.com/PublicaMundi/\\\n",
    "# MappingAPI/blob/master/data/geojson/us-states.json\n",
    "states=gpd.read_file('../data/us-states.json')\n",
    "states.head()"
   ]
  },
  {
   "cell_type": "code",
   "execution_count": 32,
   "id": "7a413abe-3f90-4cdd-a720-57708099a47a",
   "metadata": {},
   "outputs": [
    {
     "data": {
      "image/png": "[encoded data removed]",
      "text/plain": [
       "<Figure size 1500x1000 with 2 Axes>"
      ]
     },
     "metadata": {},
     "output_type": "display_data"
    }
   ],
   "source": [
    "# set up the figure and axis\n",
    "fig, ax = plt.subplots(figsize=(15, 10))\n",
    "plt.title('Geographic Distribution of North American Applicants') \n",
    "plt.tight_layout()\n",
    "\n",
    "# hide x and y axis labels for cleaner map display\n",
    "ax.get_xaxis().set_visible(False)\n",
    "ax.get_yaxis().set_visible(False)\n",
    "\n",
    "# plot US states\n",
    "states.plot(ax=ax, edgecolor='grey', facecolor='none')\n",
    "\n",
    "# plot scatter points for North America data\n",
    "scale_factor = 20  # to make it more visible\n",
    "alpha_ = 0.7  # consistent alpha value\n",
    "\n",
    "scatter_na = ax.scatter(\n",
    "    x=ct_cities_na['lon'], \n",
    "    y=ct_cities_na['lat'],\n",
    "    s=ct_cities_na['ct'] * scale_factor,\n",
    "    c=ct_cities_na['ct'],\n",
    "    cmap='coolwarm',\n",
    "    linewidths=2,\n",
    "    alpha=alpha_\n",
    ")\n",
    "\n",
    "# set limits for a focused map view on North America\n",
    "ax.set_xlim([ct_cities_na['lon'].min() - 5, ct_cities_na['lon'].max() + 5])\n",
    "ax.set_ylim([ct_cities_na['lat'].min() - 5, ct_cities_na['lat'].max() + 5])\n",
    "\n",
    "## add inset for Türkiye data\n",
    "axins = inset_axes(ax, width=3, height=2, loc='upper left', borderpad=2)\n",
    "axins.spines['top'].set_linewidth(2)\n",
    "axins.spines['bottom'].set_linewidth(2)\n",
    "axins.spines['left'].set_linewidth(2)\n",
    "axins.spines['right'].set_linewidth(2)\n",
    "axins.get_xaxis().set_visible(False)\n",
    "axins.get_yaxis().set_visible(False)\n",
    "\n",
    "# plot the borders of Türkiye's neighboring countries\n",
    "borders.plot(ax=axins, edgecolor='grey', facecolor='none')\n",
    "\n",
    "# plot scatter points for Türkiye data in the inset\n",
    "scatter_tk = axins.scatter(\n",
    "    x=ct_cities_tk['lon'], \n",
    "    y=ct_cities_tk['lat'],\n",
    "    s=ct_cities_tk['ct'] * scale_factor,\n",
    "    c=ct_cities_tk['ct'],\n",
    "    cmap='coolwarm',\n",
    "    linewidths=2,\n",
    "    alpha=alpha_\n",
    ")\n",
    "\n",
    "# set limits for a focused view of Türkiye in the inset\n",
    "axins.set_xlim([ct_cities_tk['lon'].min() - 20, ct_cities_tk['lon'].max() + 20])\n",
    "axins.set_ylim([ct_cities_tk['lat'].min() - 20, ct_cities_tk['lat'].max() + 20])\n",
    "\n",
    "## custom legend entries using Line2D\n",
    "# define representative sizes and values for legend\n",
    "min_ = min(ct_cities_na['ct'])\n",
    "max_ = max(ct_cities_na['ct'])\n",
    "middle = (min_ + max_) / 2\n",
    "\n",
    "size_labels = [min_, middle, max_]\n",
    "colors = [min_, middle, max_]\n",
    "\n",
    "# use color map to assign color to each representative count\n",
    "cmap = plt.cm.coolwarm\n",
    "color_legend = [cmap((value - min_) / (max_ - min_)) for value in colors]\n",
    "\n",
    "# create custom legend handles\n",
    "legend_elements = [\n",
    "    Line2D([0], [0], marker='o', color='w', label=f'Low ({min_})', \n",
    "#            using square root so that the marker size area scales appropriately with original scale factor\n",
    "           markerfacecolor=color_legend[0], markersize=(size_labels[0] * scale_factor) ** 0.5, alpha=alpha_),\n",
    "    Line2D([0], [0], marker='o', color='w', label=f'Medium ({middle:.0f})', \n",
    "           markerfacecolor=color_legend[1], markersize=(size_labels[1] * scale_factor) ** 0.5, alpha=alpha_),\n",
    "    Line2D([0], [0], marker='o', color='w', label=f'High ({max_})', \n",
    "           markerfacecolor=color_legend[2], markersize=(size_labels[2] * scale_factor) ** 0.5, alpha=alpha_)\n",
    "]\n",
    "\n",
    "# add the custom legend to the plot\n",
    "ax.legend(handles=legend_elements, \n",
    "          title=\"Number of Applicants\", \n",
    "          loc=\"lower left\", \n",
    "          frameon=True,\n",
    "          bbox_to_anchor=(0.04,0.04))\n",
    "\n",
    "plt.savefig('figures/3_map.pdf')\n",
    "plt.savefig('figures/3_map.jpg')\n",
    "plt.savefig('figures/3_map.png')\n",
    "\n",
    "plt.show()"
   ]
  },
  {
   "cell_type": "markdown",
   "id": "a00f3eea-e2af-4c8c-91ef-6a40650d2e0e",
   "metadata": {},
   "source": [
    "## Preprocessing Language Data"
   ]
  },
  {
   "cell_type": "code",
   "execution_count": null,
   "id": "20053623-a7b1-4a2e-a1c5-b015d435a419",
   "metadata": {},
   "outputs": [],
   "source": []
  },
  {
   "cell_type": "code",
   "execution_count": null,
   "id": "8d85433d-a20d-4dad-a8bb-c9159f888ccc",
   "metadata": {},
   "outputs": [],
   "source": []
  },
  {
   "cell_type": "code",
   "execution_count": null,
   "id": "a072e6c4-944f-4895-8830-befe5e7f48cf",
   "metadata": {},
   "outputs": [],
   "source": []
  },
  {
   "cell_type": "code",
   "execution_count": null,
   "id": "d9958018-ff1e-4aae-a463-84cea5f4c34b",
   "metadata": {},
   "outputs": [],
   "source": []
  },
  {
   "cell_type": "code",
   "execution_count": null,
   "id": "12d3035f-62f0-4464-9391-ecd210767c5d",
   "metadata": {},
   "outputs": [],
   "source": []
  },
  {
   "cell_type": "markdown",
   "id": "1c19b522-6e2b-44dc-b1b1-e039b5ce9940",
   "metadata": {},
   "source": [
    "Then we'll apply the city boundary data to each city, using the data from [this repo](https://github.com/drei01/geojson-world-cities/tree/master)."
   ]
  },
  {
   "cell_type": "markdown",
   "id": "9baa45f5-37c6-4a09-9125-2df6a7bb261f",
   "metadata": {},
   "source": [
    "I'm following a tutorial of SpatialSQL + DuckDB from [here](https://blobs.duckdb.org/papers/duckdb-spatial-geopython-2024.pdf)."
   ]
  },
  {
   "cell_type": "code",
   "execution_count": 31,
   "id": "d3d5ff9d-290e-46bd-b4ef-ae62024e7f90",
   "metadata": {},
   "outputs": [
    {
     "ename": "NameError",
     "evalue": "name 'dd' is not defined",
     "output_type": "error",
     "traceback": [
      "\u001b[0;31m---------------------------------------------------------------------------\u001b[0m",
      "\u001b[0;31mNameError\u001b[0m                                 Traceback (most recent call last)",
      "Cell \u001b[0;32mIn[31], line 2\u001b[0m\n\u001b[1;32m      1\u001b[0m \u001b[38;5;66;03m# install and load spatial extension\u001b[39;00m\n\u001b[0;32m----> 2\u001b[0m \u001b[43mdd\u001b[49m\u001b[38;5;241m.\u001b[39mexecute(\u001b[38;5;124m'\u001b[39m\u001b[38;5;124mINSTALL spatial\u001b[39m\u001b[38;5;124m'\u001b[39m)\n\u001b[1;32m      3\u001b[0m dd\u001b[38;5;241m.\u001b[39mexecute(\u001b[38;5;124m'\u001b[39m\u001b[38;5;124mLOAD spatial\u001b[39m\u001b[38;5;124m'\u001b[39m)\n\u001b[1;32m      5\u001b[0m \u001b[38;5;66;03m# load cities geojson\u001b[39;00m\n",
      "\u001b[0;31mNameError\u001b[0m: name 'dd' is not defined"
     ]
    }
   ],
   "source": [
    "# install and load spatial extension\n",
    "dd.execute('INSTALL spatial')\n",
    "dd.execute('LOAD spatial')\n",
    "\n",
    "# load cities geojson\n",
    "cities=dd.read_json('../data/cities.geojson')\n",
    "\n",
    "# show schema of the \"rel\" relation\n",
    "dd.sql('summarize cities').select('column_name','column_type').show()"
   ]
  },
  {
   "cell_type": "code",
   "execution_count": null,
   "id": "9ed32201-85a9-42ca-8d26-b127b97f7039",
   "metadata": {},
   "outputs": [],
   "source": [
    "result=dd.execute('''\n",
    "select *\n",
    "from read_json_auto('../data/cities.geojson')\n",
    "limit 10\n",
    "''').df()\n",
    "\n",
    "result"
   ]
  },
  {
   "cell_type": "code",
   "execution_count": null,
   "id": "579d6589-3d76-4e0f-81bf-e08551dfecbf",
   "metadata": {},
   "outputs": [],
   "source": [
    "dd.sql('summarize rel').\n",
    "    '''\n",
    "select *\n",
    "from rel\n",
    "limit 5\n",
    "''').show()"
   ]
  },
  {
   "cell_type": "code",
   "execution_count": null,
   "id": "60cc57be-49e8-4eaa-9bed-14fb52c28733",
   "metadata": {},
   "outputs": [],
   "source": [
    "df[df['connection']<150].count().iloc[0]"
   ]
  },
  {
   "cell_type": "code",
   "execution_count": null,
   "id": "20971800-af7c-4f60-ab47-8565399997d4",
   "metadata": {},
   "outputs": [],
   "source": [
    "df[df['connection']>150].count().iloc[0]"
   ]
  },
  {
   "cell_type": "code",
   "execution_count": null,
   "id": "2dee1044-964c-46b2-83bf-2a3a36f4a5fa",
   "metadata": {},
   "outputs": [],
   "source": [
    "print(f\"{df[df['connection']<150].sum()}\")"
   ]
  },
  {
   "cell_type": "markdown",
   "id": "befbdb46-877a-45b5-8aaa-e81933f17ad7",
   "metadata": {},
   "source": [
    "Most observations have more than 500 connections."
   ]
  }
 ],
 "metadata": {
  "kernelspec": {
   "display_name": "apziva",
   "language": "python",
   "name": "apziva"
  },
  "language_info": {
   "codemirror_mode": {
    "name": "ipython",
    "version": 3
   },
   "file_extension": ".py",
   "mimetype": "text/x-python",
   "name": "python",
   "nbconvert_exporter": "python",
   "pygments_lexer": "ipython3",
   "version": "3.9.20"
  }
 },
 "nbformat": 4,
 "nbformat_minor": 5
}
