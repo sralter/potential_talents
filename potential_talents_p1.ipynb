{
 "cells": [
  {
   "cell_type": "markdown",
   "id": "475321f8-27bd-413b-840f-59f203577e80",
   "metadata": {},
   "source": [
    "# Potential Talents - An Apziva Project (#3)"
   ]
  },
  {
   "cell_type": "markdown",
   "id": "f6e4ffcd-3ebe-46dc-8f29-9ffec9c17dc2",
   "metadata": {},
   "source": [
    "# EDA"
   ]
  },
  {
   "cell_type": "markdown",
   "id": "8e779d93-dc3a-4e9c-bcaf-42a94f5056dd",
   "metadata": {},
   "source": [
    "By Samuel Alter"
   ]
  },
  {
   "cell_type": "markdown",
   "id": "8e52f988-ef83-4ecb-a5cf-b1a93556e117",
   "metadata": {},
   "source": [
    "Apziva: 6bImatZVlK6DnbEo"
   ]
  },
  {
   "cell_type": "markdown",
   "id": "956a7d3d-a201-44bd-8123-eacaddcb4069",
   "metadata": {},
   "source": [
    "## Project Overview"
   ]
  },
  {
   "cell_type": "markdown",
   "id": "4e3c9c31-7197-4c1f-8a71-0dc5486cc60e",
   "metadata": {},
   "source": [
    "We are working with a talent sourcing and management company to help them surface candidates that are a best fit for their human resources job post. We are using a dataset of job candidates' job titles, their location, and their number of LinkedIn connections."
   ]
  },
  {
   "cell_type": "markdown",
   "id": "874bf7ce-d1eb-4d45-9339-4821382b93d6",
   "metadata": {},
   "source": [
    "### Goals"
   ]
  },
  {
   "cell_type": "markdown",
   "id": "7a3e925c-b602-4dc9-9c27-8a322161a302",
   "metadata": {},
   "source": [
    "Produce a probability, between 0 and 1, of how closely the candidate fits the job description of **\"Aspiring human resources\"** or **\"Seeking human resources.\"** After an initial recommendation pulls out a candidate(s) to be starred for future consideration, the recommendation will be re-run and new \"stars\" will be awarded.\n",
    "\n",
    "To help predict how the candidates fit, we are tracking the performance of two success metrics:\n",
    "* Rank candidates based on a fitness score\n",
    "* Re-rank candidates when a candidate is starred"
   ]
  },
  {
   "cell_type": "markdown",
   "id": "3d3db80d-cec2-437e-b405-68b9fb68aba6",
   "metadata": {},
   "source": [
    "We also need to do the following:\n",
    "* Explain how the algorithm works and how the ranking improves after each starring iteration\n",
    "* How to filter out candidates which should not be considered at all\n",
    "* Determine a cut-off point (if possible) that would work for other roles without losing high-potential candidates\n",
    "* Ideas to explore on automating this procedure to reduce or eliminate human bias"
   ]
  },
  {
   "cell_type": "markdown",
   "id": "884cf463-3b7c-461a-b094-9a5fd2182a6d",
   "metadata": {},
   "source": [
    "### The Dataset"
   ]
  },
  {
   "cell_type": "markdown",
   "id": "f467c771-8a30-465c-a0e3-8560c4504062",
   "metadata": {},
   "source": [
    "| Column | Data Type | Comments |\n",
    "|---|---|---|\n",
    "| `id` | Numeric | Unique identifier for the candidate |\n",
    "| `job_title` | Text | Job title for the candidate |\n",
    "| `location` | Text | Geographic location of the candidate |\n",
    "| `connections` | Text | Number of LinkedIn connections for the candidate |"
   ]
  },
  {
   "cell_type": "markdown",
   "id": "64e970cf-513d-401e-9467-bece30f88cc2",
   "metadata": {},
   "source": [
    "Connections over 500 are encoded as \"500+\". Some do not have specific locations listed and just had their country, so I substituted capitol cities or geographic centers to represent those countries."
   ]
  },
  {
   "cell_type": "markdown",
   "id": "621c288e-6e1b-4196-a318-984df113bd50",
   "metadata": {},
   "source": [
    "## Imports and Helper Functions"
   ]
  },
  {
   "cell_type": "code",
   "execution_count": 1,
   "id": "a0b12ae9-b001-455b-a6be-e5221bc27e45",
   "metadata": {},
   "outputs": [],
   "source": [
    "import numpy as np\n",
    "import pandas as pd\n",
    "import matplotlib.pyplot as plt\n",
    "import seaborn as sns\n",
    "import copy\n",
    "import joblib\n",
    "import time\n",
    "from datetime import datetime\n",
    "import json\n",
    "from pathlib import Path\n",
    "import inspect\n",
    "import re\n",
    "import string\n",
    "from pandas.api.types import is_string_dtype\n",
    "from pandas.api.types import is_numeric_dtype\n",
    "import geopandas as gpd\n",
    "# import duckdb\n",
    "from matplotlib_scalebar.scalebar import ScaleBar\n",
    "from mpl_toolkits.axes_grid1.inset_locator import inset_axes\n",
    "from matplotlib.lines import Line2D\n",
    "from collections import Counter\n",
    "from wordcloud import WordCloud, STOPWORDS\n",
    "from sklearn.metrics.pairwise import cosine_similarity\n",
    "from matplotlib.patches import FancyArrowPatch\n",
    "from matplotlib.patches import FancyArrow\n",
    "import io\n",
    "# import folium\n",
    "from shapely.geometry import Polygon, MultiPolygon\n",
    "import fasttext\n",
    "from sentence_transformers import SentenceTransformer, util\n",
    "import matplotlib.colors as mcolors\n",
    "from matplotlib.patches import Patch\n",
    "from matplotlib.cm import ScalarMappable\n",
    "from matplotlib.colors import ListedColormap, Normalize\n",
    "import matplotlib as mpl\n",
    "# from gensim.models import Word2Vec, KeyedVectors"
   ]
  },
  {
   "cell_type": "code",
   "execution_count": 2,
   "id": "8c90afd9-61d3-4aea-aa0f-763b43fbe9f6",
   "metadata": {},
   "outputs": [
    {
     "name": "stderr",
     "output_type": "stream",
     "text": [
      "[nltk_data] Downloading package punkt to /Users/sra/nltk_data...\n",
      "[nltk_data]   Package punkt is already up-to-date!\n",
      "[nltk_data] Downloading package punkt_tab to /Users/sra/nltk_data...\n",
      "[nltk_data]   Package punkt_tab is already up-to-date!\n",
      "[nltk_data] Downloading package wordnet to /Users/sra/nltk_data...\n",
      "[nltk_data]   Package wordnet is already up-to-date!\n",
      "[nltk_data] Downloading package omw-1.4 to /Users/sra/nltk_data...\n",
      "[nltk_data]   Package omw-1.4 is already up-to-date!\n",
      "[nltk_data] Downloading package averaged_perceptron_tagger to\n",
      "[nltk_data]     /Users/sra/nltk_data...\n",
      "[nltk_data]   Package averaged_perceptron_tagger is already up-to-\n",
      "[nltk_data]       date!\n",
      "[nltk_data] Downloading package averaged_perceptron_tagger_eng to\n",
      "[nltk_data]     /Users/sra/nltk_data...\n",
      "[nltk_data]   Package averaged_perceptron_tagger_eng is already up-to-\n",
      "[nltk_data]       date!\n",
      "[nltk_data] Downloading package stopwords to /Users/sra/nltk_data...\n",
      "[nltk_data]   Package stopwords is already up-to-date!\n"
     ]
    }
   ],
   "source": [
    "import nltk\n",
    "nltk.download('punkt')\n",
    "nltk.download('punkt_tab')\n",
    "nltk.download('wordnet')\n",
    "nltk.download('omw-1.4')\n",
    "nltk.download('averaged_perceptron_tagger')\n",
    "nltk.download('averaged_perceptron_tagger_eng')\n",
    "nltk.download('stopwords')\n",
    "from nltk.corpus import stopwords # lists of stopwords\n",
    "from nltk.tokenize import word_tokenize # tool for splitting documents into tokens\n",
    "from nltk.tokenize import sent_tokenize\n",
    "from nltk.stem import PorterStemmer # basic stemmer\n",
    "from nltk.stem import WordNetLemmatizer # more sophisticated word->lemma\n",
    "from nltk.corpus import wordnet\n",
    "from sklearn.feature_extraction.text import TfidfVectorizer"
   ]
  },
  {
   "cell_type": "code",
   "execution_count": 3,
   "id": "44439f86-10c3-481d-aaf2-96d7eeec41c6",
   "metadata": {},
   "outputs": [],
   "source": [
    "def nltk_updater():\n",
    "    import nltk\n",
    "    nltk.download('punkt')\n",
    "    nltk.download('punkt_tab')\n",
    "    nltk.download('wordnet')\n",
    "    nltk.download('omw-1.4')\n",
    "    nltk.download('averaged_perceptron_tagger')\n",
    "    nltk.download('averaged_perceptron_tagger_eng')\n",
    "    nltk.download('stopwords')\n",
    "    from nltk.corpus import stopwords # lists of stopwords\n",
    "    from nltk.tokenize import word_tokenize # tool for splitting documents into tokens\n",
    "    from nltk.tokenize import sent_tokenize\n",
    "    from nltk.stem import PorterStemmer # basic stemmer\n",
    "    from nltk.stem import WordNetLemmatizer # more sophisticated word->lemma\n",
    "    from nltk.corpus import wordnet\n",
    "    from sklearn.feature_extraction.text import TfidfVectorizer"
   ]
  },
  {
   "cell_type": "code",
   "execution_count": 4,
   "id": "170bfeb6-f514-4a2e-a199-9096e22d3bf6",
   "metadata": {},
   "outputs": [],
   "source": [
    "# simple function to generate random integers\n",
    "\n",
    "def rand_gen(low=1,high=1e4):\n",
    "    '''\n",
    "    Generates a pseudo-random integer\n",
    "    consisting of up to four digits\n",
    "    '''\n",
    "    import numpy as np\n",
    "    rng=np.random.default_rng()\n",
    "    random_state=int(rng.integers(low=low,high=high))\n",
    "    \n",
    "    return random_state"
   ]
  },
  {
   "cell_type": "code",
   "execution_count": 5,
   "id": "ebbb28ab-89d8-4a7f-8f50-0ea55e9b25f1",
   "metadata": {},
   "outputs": [
    {
     "data": {
      "text/plain": [
       "2452"
      ]
     },
     "execution_count": 5,
     "metadata": {},
     "output_type": "execute_result"
    }
   ],
   "source": [
    "seed=rand_gen()\n",
    "seed"
   ]
  },
  {
   "cell_type": "code",
   "execution_count": 6,
   "id": "6fb9c656-48c3-41f1-9c89-df55993cde43",
   "metadata": {},
   "outputs": [
    {
     "data": {
      "text/plain": [
       "Generator(PCG64) at 0x16398B120"
      ]
     },
     "execution_count": 6,
     "metadata": {},
     "output_type": "execute_result"
    }
   ],
   "source": [
    "# set the randomness seed throughout the notebook\n",
    "# source: # https://odsc.medium.com/properly-setting-the-random-seed-in-ml-experiments-not-as-simple-as-you-might-imagine-219969c84752\n",
    "\n",
    "## set `PYTHONHASHSEED` environment variable at a fixed value\n",
    "import os\n",
    "os.environ['PYTHONHASHSEED']=str(seed)\n",
    "## set `python` built-in pseudo-random generator at a fixed value\n",
    "import random\n",
    "random.seed(seed)\n",
    "## set `numpy` pseudo-random generator at a fixed value\n",
    "np.random.seed(seed)\n",
    "np.random.default_rng(seed)"
   ]
  },
  {
   "cell_type": "code",
   "execution_count": 7,
   "id": "3d210da9-c401-4db6-89b9-6b857e15047b",
   "metadata": {},
   "outputs": [],
   "source": [
    "def get_variable_name(var):\n",
    "    callers_local_vars = inspect.currentframe().f_back.f_locals.items()\n",
    "    return [name for name, val in callers_local_vars if val is var]\n",
    "\n",
    "def fileDaterSaver(location: str,\n",
    "                   filetype: str,\n",
    "                   object_,\n",
    "                   extra: str = '',\n",
    "                   verbose: bool = True):\n",
    "\n",
    "    '''\n",
    "    Function that gets a timestamped filename and saves it\n",
    "    to a user-specified location.\n",
    "\n",
    "    Parameters:\n",
    "    -----------\n",
    "    location: str - The location where the file will be saved.\n",
    "    filetype: str - The type of the file to save ('csv' or 'json').\n",
    "    object_: The object to be saved. Should be a pandas DataFrame\n",
    "        for 'csv' or serializable for 'json'.\n",
    "    extra: str - Additional string to include in the filename.\n",
    "    verbose: bool - Whether to print verbose messages.\n",
    "    '''\n",
    "\n",
    "    # get current date and time\n",
    "    current_datetime = datetime.now()\n",
    "\n",
    "    # print current date and time to check\n",
    "    if verbose:\n",
    "        print('current_datetime:', current_datetime)\n",
    "\n",
    "    # format the datetime for a filename\n",
    "    datetime_suffix = current_datetime.strftime(\"%Y-%m-%d_%H-%M-%S\")\n",
    "\n",
    "    # create filename with the datetime suffix\n",
    "    if extra != '':\n",
    "        file_name = f'{location}{extra}_{datetime_suffix}.{filetype}'\n",
    "    else:\n",
    "        file_name = f'{location}{datetime_suffix}.{filetype}'\n",
    "\n",
    "    # print file name\n",
    "    if verbose:\n",
    "        print(file_name)\n",
    "\n",
    "    # save object\n",
    "    if filetype == 'csv':\n",
    "        object_.to_csv(file_name, index=True)\n",
    "    elif filetype == 'json':\n",
    "        with open(file_name, 'w') as file:\n",
    "            file.write(json.dumps(object_, default=str))\n",
    "    else:\n",
    "        raise ValueError(\"Unsupported file type. Use 'csv' or 'json'.\")\n",
    "\n",
    "    # confirm save\n",
    "    file_path = Path(file_name)\n",
    "    if file_path.exists():\n",
    "        variable_name = get_variable_name(object_)\n",
    "        if variable_name:\n",
    "            print(f'Successfully saved {variable_name[0]} to {file_path}')\n",
    "        else:\n",
    "            print(f'Successfully saved object to {file_path}')\n",
    "    else:\n",
    "        print(\"File save error.\")"
   ]
  },
  {
   "cell_type": "markdown",
   "id": "fad724e2-678c-44c4-8b40-6b7d28ccb048",
   "metadata": {},
   "source": [
    "Read in the datset:"
   ]
  },
  {
   "cell_type": "code",
   "execution_count": 8,
   "id": "ef457c21-9427-42fa-9fd0-6b117df7e480",
   "metadata": {},
   "outputs": [
    {
     "data": {
      "text/html": [
       "<div>\n",
       "<style scoped>\n",
       "    .dataframe tbody tr th:only-of-type {\n",
       "        vertical-align: middle;\n",
       "    }\n",
       "\n",
       "    .dataframe tbody tr th {\n",
       "        vertical-align: top;\n",
       "    }\n",
       "\n",
       "    .dataframe thead th {\n",
       "        text-align: right;\n",
       "    }\n",
       "</style>\n",
       "<table border=\"1\" class=\"dataframe\">\n",
       "  <thead>\n",
       "    <tr style=\"text-align: right;\">\n",
       "      <th></th>\n",
       "      <th>id</th>\n",
       "      <th>job_title</th>\n",
       "      <th>location</th>\n",
       "      <th>connection</th>\n",
       "      <th>fit</th>\n",
       "    </tr>\n",
       "  </thead>\n",
       "  <tbody>\n",
       "    <tr>\n",
       "      <th>0</th>\n",
       "      <td>1</td>\n",
       "      <td>2019 C.T. Bauer College of Business Graduate (...</td>\n",
       "      <td>Houston, Texas</td>\n",
       "      <td>85</td>\n",
       "      <td>NaN</td>\n",
       "    </tr>\n",
       "    <tr>\n",
       "      <th>1</th>\n",
       "      <td>2</td>\n",
       "      <td>Native English Teacher at EPIK (English Progra...</td>\n",
       "      <td>Kanada</td>\n",
       "      <td>500+</td>\n",
       "      <td>NaN</td>\n",
       "    </tr>\n",
       "    <tr>\n",
       "      <th>2</th>\n",
       "      <td>3</td>\n",
       "      <td>Aspiring Human Resources Professional</td>\n",
       "      <td>Raleigh-Durham, North Carolina Area</td>\n",
       "      <td>44</td>\n",
       "      <td>NaN</td>\n",
       "    </tr>\n",
       "  </tbody>\n",
       "</table>\n",
       "</div>"
      ],
      "text/plain": [
       "   id                                          job_title  \\\n",
       "0   1  2019 C.T. Bauer College of Business Graduate (...   \n",
       "1   2  Native English Teacher at EPIK (English Progra...   \n",
       "2   3              Aspiring Human Resources Professional   \n",
       "\n",
       "                              location connection  fit  \n",
       "0                       Houston, Texas         85  NaN  \n",
       "1                               Kanada      500+   NaN  \n",
       "2  Raleigh-Durham, North Carolina Area         44  NaN  "
      ]
     },
     "execution_count": 8,
     "metadata": {},
     "output_type": "execute_result"
    }
   ],
   "source": [
    "df=pd.read_csv('../data/3_data.csv')\n",
    "df.head(3)"
   ]
  },
  {
   "cell_type": "markdown",
   "id": "664da8f9-1cc8-42aa-b61f-345181cfd24c",
   "metadata": {},
   "source": [
    "## Analysis"
   ]
  },
  {
   "cell_type": "code",
   "execution_count": 9,
   "id": "5588f3a3-79c7-4b53-a583-04b8b7db7e2a",
   "metadata": {},
   "outputs": [
    {
     "name": "stdout",
     "output_type": "stream",
     "text": [
      "<class 'pandas.core.frame.DataFrame'>\n",
      "RangeIndex: 104 entries, 0 to 103\n",
      "Data columns (total 5 columns):\n",
      " #   Column      Non-Null Count  Dtype  \n",
      "---  ------      --------------  -----  \n",
      " 0   id          104 non-null    int64  \n",
      " 1   job_title   104 non-null    object \n",
      " 2   location    104 non-null    object \n",
      " 3   connection  104 non-null    object \n",
      " 4   fit         0 non-null      float64\n",
      "dtypes: float64(1), int64(1), object(3)\n",
      "memory usage: 4.2+ KB\n"
     ]
    }
   ],
   "source": [
    "df.info()"
   ]
  },
  {
   "cell_type": "markdown",
   "id": "7c2d80f3-65ac-4a80-9751-f60915032a60",
   "metadata": {},
   "source": [
    "No nulls in the dataset. That is nice for us! There are 104 total observations."
   ]
  },
  {
   "cell_type": "code",
   "execution_count": 10,
   "id": "f950c4e7-492a-471c-b5e8-b216e7eceeb3",
   "metadata": {},
   "outputs": [
    {
     "data": {
      "text/plain": [
       "Series([], Name: count, dtype: int64)"
      ]
     },
     "execution_count": 10,
     "metadata": {},
     "output_type": "execute_result"
    }
   ],
   "source": [
    "df['fit'].value_counts()"
   ]
  },
  {
   "cell_type": "markdown",
   "id": "a878f527-ba5d-4b45-9a8e-6d67c39d3cbb",
   "metadata": {},
   "source": [
    "We'll remove `fit` as it is a column with no data."
   ]
  },
  {
   "cell_type": "code",
   "execution_count": 11,
   "id": "412b43a5-6dbd-442c-a426-ccff66bbecb3",
   "metadata": {},
   "outputs": [
    {
     "data": {
      "text/html": [
       "<div>\n",
       "<style scoped>\n",
       "    .dataframe tbody tr th:only-of-type {\n",
       "        vertical-align: middle;\n",
       "    }\n",
       "\n",
       "    .dataframe tbody tr th {\n",
       "        vertical-align: top;\n",
       "    }\n",
       "\n",
       "    .dataframe thead th {\n",
       "        text-align: right;\n",
       "    }\n",
       "</style>\n",
       "<table border=\"1\" class=\"dataframe\">\n",
       "  <thead>\n",
       "    <tr style=\"text-align: right;\">\n",
       "      <th></th>\n",
       "      <th>id</th>\n",
       "      <th>job_title</th>\n",
       "      <th>location</th>\n",
       "      <th>connection</th>\n",
       "    </tr>\n",
       "  </thead>\n",
       "  <tbody>\n",
       "    <tr>\n",
       "      <th>0</th>\n",
       "      <td>1</td>\n",
       "      <td>2019 C.T. Bauer College of Business Graduate (...</td>\n",
       "      <td>Houston, Texas</td>\n",
       "      <td>85</td>\n",
       "    </tr>\n",
       "    <tr>\n",
       "      <th>1</th>\n",
       "      <td>2</td>\n",
       "      <td>Native English Teacher at EPIK (English Progra...</td>\n",
       "      <td>Kanada</td>\n",
       "      <td>500+</td>\n",
       "    </tr>\n",
       "    <tr>\n",
       "      <th>2</th>\n",
       "      <td>3</td>\n",
       "      <td>Aspiring Human Resources Professional</td>\n",
       "      <td>Raleigh-Durham, North Carolina Area</td>\n",
       "      <td>44</td>\n",
       "    </tr>\n",
       "    <tr>\n",
       "      <th>3</th>\n",
       "      <td>4</td>\n",
       "      <td>People Development Coordinator at Ryan</td>\n",
       "      <td>Denton, Texas</td>\n",
       "      <td>500+</td>\n",
       "    </tr>\n",
       "    <tr>\n",
       "      <th>4</th>\n",
       "      <td>5</td>\n",
       "      <td>Advisory Board Member at Celal Bayar University</td>\n",
       "      <td>İzmir, Türkiye</td>\n",
       "      <td>500+</td>\n",
       "    </tr>\n",
       "  </tbody>\n",
       "</table>\n",
       "</div>"
      ],
      "text/plain": [
       "   id                                          job_title  \\\n",
       "0   1  2019 C.T. Bauer College of Business Graduate (...   \n",
       "1   2  Native English Teacher at EPIK (English Progra...   \n",
       "2   3              Aspiring Human Resources Professional   \n",
       "3   4             People Development Coordinator at Ryan   \n",
       "4   5    Advisory Board Member at Celal Bayar University   \n",
       "\n",
       "                              location connection  \n",
       "0                       Houston, Texas         85  \n",
       "1                               Kanada      500+   \n",
       "2  Raleigh-Durham, North Carolina Area         44  \n",
       "3                        Denton, Texas      500+   \n",
       "4                       İzmir, Türkiye      500+   "
      ]
     },
     "execution_count": 11,
     "metadata": {},
     "output_type": "execute_result"
    }
   ],
   "source": [
    "if 'fit' in df.columns: # flow control for repeat code executions\n",
    "    df.drop('fit',axis=1,inplace=True)\n",
    "\n",
    "df.head()"
   ]
  },
  {
   "cell_type": "markdown",
   "id": "a46792bc-1e61-4a52-bc54-a3e0c28a043a",
   "metadata": {},
   "source": [
    "Inspect the connections column:"
   ]
  },
  {
   "cell_type": "code",
   "execution_count": 12,
   "id": "4adbe8c8-5738-446b-b762-62f9fffcc2c0",
   "metadata": {},
   "outputs": [
    {
     "data": {
      "text/plain": [
       "connection\n",
       "500+     44\n",
       "85        7\n",
       "61        7\n",
       "44        6\n",
       "1         5\n",
       "2         4\n",
       "4         2\n",
       "7         2\n",
       "57        2\n",
       "390       2\n",
       "103       1\n",
       "48        1\n",
       "18        1\n",
       "71        1\n",
       "19        1\n",
       "415       1\n",
       "9         1\n",
       "64        1\n",
       "39        1\n",
       "155       1\n",
       "349       1\n",
       "174       1\n",
       "40        1\n",
       "50        1\n",
       "268       1\n",
       "455       1\n",
       "52        1\n",
       "409       1\n",
       "212       1\n",
       "16        1\n",
       "5         1\n",
       "82        1\n",
       "49        1\n",
       "Name: count, dtype: int64"
      ]
     },
     "execution_count": 12,
     "metadata": {},
     "output_type": "execute_result"
    }
   ],
   "source": [
    "connections=df['connection'].value_counts()\n",
    "\n",
    "connections"
   ]
  },
  {
   "cell_type": "markdown",
   "id": "4770d59b-f145-42dc-a47a-d6c24cbec6e7",
   "metadata": {},
   "source": [
    "I will change the \"500+\" into 500 so that it can remain a numeric value."
   ]
  },
  {
   "cell_type": "code",
   "execution_count": 13,
   "id": "b0db1256-fdaa-46d4-a893-e9444b0f0b92",
   "metadata": {},
   "outputs": [
    {
     "name": "stdout",
     "output_type": "stream",
     "text": [
      "Amount of '+' in column: 0\n",
      "id             int64\n",
      "job_title     object\n",
      "location      object\n",
      "connection     int64\n",
      "dtype: object\n",
      "\n",
      "Was conversion successful?\n",
      "Yes.\n"
     ]
    }
   ],
   "source": [
    "# remove all non-numeric characters from the column\n",
    "column='connection'\n",
    "if not pd.api.types.is_numeric_dtype(df[column]):\n",
    "    df[column]=df[column].str.replace(r'\\D','',regex=True)\n",
    "\n",
    "    # check if any '+' characters are still present\n",
    "    print(\"Amount of '+' in column:\",df[column].str.contains(r'\\+').sum())\n",
    "\n",
    "    # convert to integer\n",
    "    df[column]=pd.to_numeric(df[column],errors='coerce')\n",
    "    print(df.dtypes)\n",
    "\n",
    "    # check if conversion was successful\n",
    "    print('\\nWas conversion successful?')\n",
    "    if pd.api.types.is_numeric_dtype(df[column]):\n",
    "        print('Yes.')\n",
    "    else:\n",
    "        print('No.')\n",
    "else:\n",
    "    print(f'There are no non-numeric characters in the column: {column}')"
   ]
  },
  {
   "cell_type": "markdown",
   "id": "89b271ed-4f3b-41f7-a4b9-95ddf1a47e69",
   "metadata": {},
   "source": [
    "### Histogram of Connections"
   ]
  },
  {
   "cell_type": "code",
   "execution_count": 14,
   "id": "d8ec465a-c67b-4544-919a-451c2a50839f",
   "metadata": {},
   "outputs": [
    {
     "data": {
      "text/plain": [
       "connection\n",
       "85    7\n",
       "61    7\n",
       "44    6\n",
       "Name: count, dtype: int64"
      ]
     },
     "execution_count": 14,
     "metadata": {},
     "output_type": "execute_result"
    }
   ],
   "source": [
    "# remove the >500 connection observations\n",
    "df_no500 = df[df['connection']<500]\n",
    "\n",
    "# check\n",
    "df_no500['connection'].value_counts().head(3)"
   ]
  },
  {
   "cell_type": "code",
   "execution_count": 15,
   "id": "f1eccc7f-e585-43cd-b0d8-1e97564163fd",
   "metadata": {
    "tags": []
   },
   "outputs": [
    {
     "data": {
      "image/png": "[encoded data removed]",
      "text/plain": [
       "<Figure size 800x600 with 1 Axes>"
      ]
     },
     "metadata": {},
     "output_type": "display_data"
    }
   ],
   "source": [
    "plt.figure(figsize=(8,6))\n",
    "plt.hist(x=df_no500['connection'],\n",
    "         color='cornflowerblue',\n",
    "         bins=20)\n",
    "plt.title(\"Histogram of Candidates' Connections\\nNote: Those with greater than 500 connections are not shown (n=44)\")\n",
    "plt.xlabel('Number of Connections')\n",
    "plt.ylabel('Count')\n",
    "plt.grid(which='both',axis='y')\n",
    "plt.xticks(range(0,501,50)) # get xticks to appear every 50 connections\n",
    "\n",
    "plt.savefig('figures/3_histogram_connections.pdf',bbox_inches='tight')\n",
    "plt.savefig('figures/3_histogram_connections.jpg',bbox_inches='tight')\n",
    "plt.savefig('figures/3_histogram_connections.png',bbox_inches='tight')\n",
    "\n",
    "plt.show()"
   ]
  },
  {
   "cell_type": "markdown",
   "id": "43bc33a2-f2dd-4111-9c62-8dfc2c53ad7d",
   "metadata": {},
   "source": [
    "### Boxplot of Connections"
   ]
  },
  {
   "cell_type": "code",
   "execution_count": 16,
   "id": "ddaa166c-f90d-467a-a0cc-ffb3fca5e33c",
   "metadata": {},
   "outputs": [
    {
     "data": {
      "image/png": "[encoded data removed]",
      "text/plain": [
       "<Figure size 600x200 with 1 Axes>"
      ]
     },
     "metadata": {},
     "output_type": "display_data"
    }
   ],
   "source": [
    "plt.figure(figsize=(6,2))\n",
    "sns.boxplot(x=df['connection'],color='cornflowerblue')\n",
    "plt.title(\"Boxplot of Candidate's Connections\\nIncluding those with >500 Connections\")\n",
    "plt.xlabel('Connection')\n",
    "plt.xticks(range(0,501,50))\n",
    "\n",
    "plt.savefig('figures/3_boxplot_connections.pdf',bbox_inches='tight')\n",
    "plt.savefig('figures/3_boxplot_connections.jpg',bbox_inches='tight')\n",
    "plt.savefig('figures/3_boxplot_connections.png',bbox_inches='tight')\n",
    "\n",
    "plt.show()"
   ]
  },
  {
   "cell_type": "code",
   "execution_count": 17,
   "id": "d5a7afe5-f538-4803-b389-4cce71394d7c",
   "metadata": {},
   "outputs": [
    {
     "data": {
      "image/png": "[encoded data removed]",
      "text/plain": [
       "<Figure size 600x200 with 1 Axes>"
      ]
     },
     "metadata": {},
     "output_type": "display_data"
    }
   ],
   "source": [
    "plt.figure(figsize=(6,2))\n",
    "plt.tight_layout()\n",
    "sns.boxplot(x=df_no500['connection'],color='cornflowerblue')\n",
    "plt.title(\"Boxplot of Candidates' Connections\\nNot including those with >500 Connections\")\n",
    "plt.xlabel('Connection')\n",
    "plt.xticks(range(0,501,50))\n",
    "\n",
    "plt.savefig('figures/3_boxplot_no500.pdf',bbox_inches='tight')\n",
    "plt.savefig('figures/3_boxplot_no500.jpg',bbox_inches='tight')\n",
    "plt.savefig('figures/3_boxplot_no500.png',bbox_inches='tight')\n",
    "\n",
    "plt.show()"
   ]
  },
  {
   "cell_type": "markdown",
   "id": "2e30fbd6-d799-44fb-a344-aee21fe89280",
   "metadata": {},
   "source": [
    "### Map of Observations"
   ]
  },
  {
   "cell_type": "code",
   "execution_count": 18,
   "id": "0ed4eadc-0d7a-47bb-b6d2-14e6749ddc52",
   "metadata": {},
   "outputs": [
    {
     "data": {
      "text/plain": [
       "location\n",
       "Kanada                                 12\n",
       "Raleigh-Durham, North Carolina Area     8\n",
       "Houston, Texas Area                     8\n",
       "Greater New York City Area              7\n",
       "Houston, Texas                          7\n",
       "Denton, Texas                           6\n",
       "San Francisco Bay Area                  5\n",
       "Greater Philadelphia Area               5\n",
       "İzmir, Türkiye                          4\n",
       "Lake Forest, California                 4\n",
       "Atlanta, Georgia                        4\n",
       "Chicago, Illinois                       2\n",
       "Austin, Texas Area                      2\n",
       "Greater Atlanta Area                    2\n",
       "Amerika Birleşik Devletleri             2\n",
       "Long Beach, California                  1\n",
       "Milpitas, California                    1\n",
       "Greater Chicago Area                    1\n",
       "Torrance, California                    1\n",
       "Greater Los Angeles Area                1\n",
       "Bridgewater, Massachusetts              1\n",
       "Lafayette, Indiana                      1\n",
       "Kokomo, Indiana Area                    1\n",
       "Las Vegas, Nevada Area                  1\n",
       "Cape Girardeau, Missouri                1\n",
       "Gaithersburg, Maryland                  1\n",
       "Baltimore, Maryland                     1\n",
       "Dallas/Fort Worth Area                  1\n",
       "Highland, California                    1\n",
       "Los Angeles, California                 1\n",
       "Chattanooga, Tennessee Area             1\n",
       "Myrtle Beach, South Carolina Area       1\n",
       "Baton Rouge, Louisiana Area             1\n",
       "New York, New York                      1\n",
       "San Jose, California                    1\n",
       "Greater Boston Area                     1\n",
       "Monroe, Louisiana Area                  1\n",
       "Virginia Beach, Virginia                1\n",
       "Greater Grand Rapids, Michigan Area     1\n",
       "Jackson, Mississippi Area               1\n",
       "Katy, Texas                             1\n",
       "Name: count, dtype: int64"
      ]
     },
     "execution_count": 18,
     "metadata": {},
     "output_type": "execute_result"
    }
   ],
   "source": [
    "df['location'].value_counts()"
   ]
  },
  {
   "cell_type": "code",
   "execution_count": 19,
   "id": "9bad7bd3-b0d7-4d0d-ace0-33a073f97932",
   "metadata": {},
   "outputs": [
    {
     "data": {
      "text/plain": [
       "41"
      ]
     },
     "execution_count": 19,
     "metadata": {},
     "output_type": "execute_result"
    }
   ],
   "source": [
    "# number of unique locations in dataset\n",
    "df['location'].nunique()"
   ]
  },
  {
   "cell_type": "markdown",
   "id": "be0b11ee-741a-40be-9961-44e64d446750",
   "metadata": {},
   "source": [
    "This is not terrible. I'd like to get the location for each municipality to create a chloropleth map of the locations.\n",
    "\n",
    "First step is to clean this column to make it easier to get the locations. We won't go fully intense with the geospatial information, so if the city says \"Greater CITY Area,\" I'll just make that \"CITY\" to simplify things."
   ]
  },
  {
   "cell_type": "code",
   "execution_count": 20,
   "id": "7d05b11c-bfd3-46c5-8a60-51114a502bac",
   "metadata": {},
   "outputs": [
    {
     "data": {
      "text/html": [
       "<div>\n",
       "<style scoped>\n",
       "    .dataframe tbody tr th:only-of-type {\n",
       "        vertical-align: middle;\n",
       "    }\n",
       "\n",
       "    .dataframe tbody tr th {\n",
       "        vertical-align: top;\n",
       "    }\n",
       "\n",
       "    .dataframe thead th {\n",
       "        text-align: right;\n",
       "    }\n",
       "</style>\n",
       "<table border=\"1\" class=\"dataframe\">\n",
       "  <thead>\n",
       "    <tr style=\"text-align: right;\">\n",
       "      <th></th>\n",
       "      <th>ID</th>\n",
       "      <th>STATE_CODE</th>\n",
       "      <th>STATE_NAME</th>\n",
       "      <th>CITY</th>\n",
       "      <th>COUNTY</th>\n",
       "      <th>LATITUDE</th>\n",
       "      <th>LONGITUDE</th>\n",
       "    </tr>\n",
       "  </thead>\n",
       "  <tbody>\n",
       "    <tr>\n",
       "      <th>0</th>\n",
       "      <td>1</td>\n",
       "      <td>AK</td>\n",
       "      <td>Alaska</td>\n",
       "      <td>Adak</td>\n",
       "      <td>Aleutians West</td>\n",
       "      <td>55.999722</td>\n",
       "      <td>-161.207778</td>\n",
       "    </tr>\n",
       "    <tr>\n",
       "      <th>1</th>\n",
       "      <td>2</td>\n",
       "      <td>AK</td>\n",
       "      <td>Alaska</td>\n",
       "      <td>Akiachak</td>\n",
       "      <td>Bethel</td>\n",
       "      <td>60.891854</td>\n",
       "      <td>-161.392330</td>\n",
       "    </tr>\n",
       "    <tr>\n",
       "      <th>2</th>\n",
       "      <td>3</td>\n",
       "      <td>AK</td>\n",
       "      <td>Alaska</td>\n",
       "      <td>Akiak</td>\n",
       "      <td>Bethel</td>\n",
       "      <td>60.890632</td>\n",
       "      <td>-161.199325</td>\n",
       "    </tr>\n",
       "  </tbody>\n",
       "</table>\n",
       "</div>"
      ],
      "text/plain": [
       "   ID STATE_CODE STATE_NAME      CITY          COUNTY   LATITUDE   LONGITUDE\n",
       "0   1         AK     Alaska      Adak  Aleutians West  55.999722 -161.207778\n",
       "1   2         AK     Alaska  Akiachak          Bethel  60.891854 -161.392330\n",
       "2   3         AK     Alaska     Akiak          Bethel  60.890632 -161.199325"
      ]
     },
     "execution_count": 20,
     "metadata": {},
     "output_type": "execute_result"
    }
   ],
   "source": [
    "# data from here:\n",
    "# https://github.com/kelvins/US-Cities-Database\n",
    "cities=pd.read_csv('../data/us_cities.csv')\n",
    "cities.head(3)"
   ]
  },
  {
   "cell_type": "code",
   "execution_count": 21,
   "id": "ff15d9d9-872b-431d-9fa7-fd7bc12e411f",
   "metadata": {},
   "outputs": [
    {
     "data": {
      "text/html": [
       "<div>\n",
       "<style scoped>\n",
       "    .dataframe tbody tr th:only-of-type {\n",
       "        vertical-align: middle;\n",
       "    }\n",
       "\n",
       "    .dataframe tbody tr th {\n",
       "        vertical-align: top;\n",
       "    }\n",
       "\n",
       "    .dataframe thead th {\n",
       "        text-align: right;\n",
       "    }\n",
       "</style>\n",
       "<table border=\"1\" class=\"dataframe\">\n",
       "  <thead>\n",
       "    <tr style=\"text-align: right;\">\n",
       "      <th></th>\n",
       "      <th>ID</th>\n",
       "      <th>STATE_CODE</th>\n",
       "      <th>STATE_NAME</th>\n",
       "      <th>CITY</th>\n",
       "      <th>COUNTY</th>\n",
       "      <th>LATITUDE</th>\n",
       "      <th>LONGITUDE</th>\n",
       "    </tr>\n",
       "  </thead>\n",
       "  <tbody>\n",
       "    <tr>\n",
       "      <th>25488</th>\n",
       "      <td>25489</td>\n",
       "      <td>TX</td>\n",
       "      <td>Texas</td>\n",
       "      <td>Katy</td>\n",
       "      <td>Fort Bend</td>\n",
       "      <td>29.750893</td>\n",
       "      <td>-95.811675</td>\n",
       "    </tr>\n",
       "    <tr>\n",
       "      <th>25489</th>\n",
       "      <td>25490</td>\n",
       "      <td>TX</td>\n",
       "      <td>Texas</td>\n",
       "      <td>Katy</td>\n",
       "      <td>Harris</td>\n",
       "      <td>29.819922</td>\n",
       "      <td>-95.729267</td>\n",
       "    </tr>\n",
       "  </tbody>\n",
       "</table>\n",
       "</div>"
      ],
      "text/plain": [
       "          ID STATE_CODE STATE_NAME  CITY     COUNTY   LATITUDE  LONGITUDE\n",
       "25488  25489         TX      Texas  Katy  Fort Bend  29.750893 -95.811675\n",
       "25489  25490         TX      Texas  Katy     Harris  29.819922 -95.729267"
      ]
     },
     "execution_count": 21,
     "metadata": {},
     "output_type": "execute_result"
    }
   ],
   "source": [
    "# find cities\n",
    "_=cities[cities['CITY'].str.contains('Katy')]\n",
    "_\n",
    "\n",
    "# I also used Google Earth Pro"
   ]
  },
  {
   "cell_type": "code",
   "execution_count": 22,
   "id": "c60bb1c1-fad1-429d-a70e-37b49b38fe43",
   "metadata": {},
   "outputs": [],
   "source": [
    "city_loc_map={\n",
    "    'Kanada':{'lat':45.424721,'lon':-75.695,'name':'Canada','country':'CAN','state':'None'}, # choosing Ottowa\n",
    "    'Raleigh-Durham, North Carolina Area':{'lat':35.772701,'lon':-78.632439,'name':'Raleigh','country':'USA','state':'NC'},\n",
    "    'Houston, Texas Area':{'lat':29.765200,'lon':-95.365700,'name':'Houston','country':'USA','state':'TX'},\n",
    "    'Greater New York City Area':{'lat':40.748380,'lon':-73.996705,'name':'New_York_City','country':'USA','state':'NY'},\n",
    "    'Houston, Texas':{'lat':29.765200,'lon':-95.365700,'name':'Houston','country':'USA','state':'TX'},\n",
    "    'Denton, Texas':{'lat':33.22893,'lon':-97.131436,'name':'Denton','country':'USA','state':'TX'},\n",
    "    'San Francisco Bay Area':{'lat':37.775,'lon':-122.4183,'name':'San_Francisco','country':'USA','state':'CA'},\n",
    "    'Greater Philadelphia Area':{'lat':39.864998,'lon':-75.275196,'name':'Philadelphia','country':'USA','state':'PA'},\n",
    "    'İzmir, Türkiye':{'lat':38.4228,'lon':27.1404,'name':'İzmir','country':'TUR','state':'İzmir'},\n",
    "    'Lake Forest, California':{'lat':33.640015,'lon':-117.68819,'name':'Lake_Forest_CA','country':'USA','state':'CA'},\n",
    "    'Atlanta, Georgia':{'lat':33.7564,'lon':-84.3918,'name':'Atlanta','country':'USA','state':'GA'},\n",
    "    'Chicago, Illinois':{'lat':41.885847,'lon':-87.618123,'name':'Chicago','country':'USA','state':'IL'},\n",
    "    'Austin, Texas Area':{'lat':30.2303,'lon':-97.7144,'name':'Austin','country':'USA','state':'TX'},\n",
    "    'Greater Atlanta Area':{'lat':33.7564,'lon':-84.3918,'name':'Atlanta','country':'USA','state':'GA'},\n",
    "    'Amerika Birleşik Devletleri':{'lat':39.833333,'lon':-98.583333,'name':'United_States','country':'USA','state':'None'},\n",
    "    'Long Beach, California':{'lat':33.7705,'lon':-118.1885,'name':'Long_Beach','country':'USA','state':'CA'},\n",
    "    'Milpitas, California':{'lat':37.436491,'lon':-121.892885,'name':'Milpitas','country':'USA','state':'CA'},\n",
    "    'Greater Chicago Area':{'lat':41.885847,'lon':-87.618123,'name':'Chicago','country':'USA','state':'IL'},\n",
    "    'Torrance, California':{'lat':33.826817,'lon':-118.31183,'name':'Torrance','country':'USA','state':'CA'},\n",
    "    'Greater Los Angeles Area':{'lat':33.973093,'lon':-118.247896,'name':'Los_Angeles','country':'USA','state':'CA'},\n",
    "    'Bridgewater, Massachusetts':{'lat':41.977341,'lon':-70.97234,'name':'Bridgewater_MA','country':'USA','state':'MA'},\n",
    "    'Lafayette, Indiana':{'lat':40.417743,'lon':-86.888358,'name':'Lafayette_IN','country':'USA','state':'IN'},\n",
    "    'Kokomo, Indiana Area':{'lat':40.498840,'lon':-86.145273,'name':'Kokomo_IN','country':'USA','state':'IN'},\n",
    "    'Las Vegas, Nevada Area':{'lat':36.172082,'lon':-115.122366,'name':'Las_Vegas','country':'USA','state':'NV'},\n",
    "    'Cape Girardeau, Missouri':{'lat':37.31685,'lon':-89.545861,'name':'Cape_Girardeau','country':'USA','state':'MO'},\n",
    "    'Gaithersburg, Maryland':{'lat':39.14187,'lon':-77.188993,'name':'Gaithersburg','country':'USA','state':'MD'},\n",
    "    'Baltimore, Maryland':{'lat':39.294630,'lon':-76.625203,'name':'Baltimore_MD','country':'USA','state':'MD'},\n",
    "    'Dallas/Fort Worth Area':{'lat':32.778,'lon':-96.7968,'name':'Dallas','country':'USA','state':'TX'},\n",
    "    'Highland, California':{'lat':34.126969,'lon':-117.208717,'name':'Highland_CA','country':'USA','state':'CA'},\n",
    "    'Los Angeles, California':{'lat':33.973093,'lon':-118.247896,'name':'Los_Angeles','country':'USA','state':'CA'},\n",
    "    'Chattanooga, Tennessee Area':{'lat':35.045500,'lon':-85.308100,'name':'Chattanooga','country':'USA','state':'TN'},\n",
    "    'Myrtle Beach, South Carolina Area':{'lat':33.758701,'lon':-78.804448,'name':'Myrtle_Beach','country':'USA','state':'SC'},\n",
    "    'Baton Rouge, Louisiana Area':{'lat':30.450731,'lon':-91.186954,'name':'Baton_Rouge','country':'USA','state':'LA'},\n",
    "    'New York, New York':{'lat':40.748380,'lon':-73.996705,'name':'New_York_City','country':'USA','state':'NY'},\n",
    "    'San Jose, California':{'lat':37.389400,'lon':-121.886800,'name':'San_Jose','country':'USA','state':'CA'},\n",
    "    'Greater Boston Area':{'lat':42.357603,'lon':-71.068432,'name':'Boston_MA','country':'USA','state':'MA'},\n",
    "    'Monroe, Louisiana Area':{'lat':32.528551,'lon':-92.106104,'name':'Monroe_LA','country':'USA','state':'LA'},\n",
    "    'Virginia Beach, Virginia':{'lat':36.8527,'lon':-75.9783,'name':'Virginia_Beach','country':'USA','state':'VA'},\n",
    "    'Greater Grand Rapids, Michigan Area':{'lat':42.970400,'lon':-85.673800,'name':'Grand_Rapids_MI','country':'USA','state':'MI'},\n",
    "    'Jackson, Mississippi Area':{'lat':32.293502,'lon':-90.186655,'name':'Jackson_MS','country':'USA','state':'MS'},\n",
    "    'Katy, Texas':{'lat':29.7828,'lon':-95.8212,'name':'Katy_TX','country':'USA','state':'TX'}\n",
    "}\n",
    "\n",
    "city_loc_map = pd.DataFrame(city_loc_map).T.reset_index(names=\"original_name\")\n",
    "city_loc_map = city_loc_map.drop(columns=['index'], errors='ignore') "
   ]
  },
  {
   "cell_type": "code",
   "execution_count": 23,
   "id": "a5212dbd-d425-4274-b782-9d97edcaa1e7",
   "metadata": {},
   "outputs": [
    {
     "data": {
      "text/html": [
       "<div>\n",
       "<style scoped>\n",
       "    .dataframe tbody tr th:only-of-type {\n",
       "        vertical-align: middle;\n",
       "    }\n",
       "\n",
       "    .dataframe tbody tr th {\n",
       "        vertical-align: top;\n",
       "    }\n",
       "\n",
       "    .dataframe thead th {\n",
       "        text-align: right;\n",
       "    }\n",
       "</style>\n",
       "<table border=\"1\" class=\"dataframe\">\n",
       "  <thead>\n",
       "    <tr style=\"text-align: right;\">\n",
       "      <th></th>\n",
       "      <th>original_name</th>\n",
       "      <th>lat</th>\n",
       "      <th>lon</th>\n",
       "      <th>name</th>\n",
       "      <th>country</th>\n",
       "      <th>state</th>\n",
       "    </tr>\n",
       "  </thead>\n",
       "  <tbody>\n",
       "    <tr>\n",
       "      <th>0</th>\n",
       "      <td>Kanada</td>\n",
       "      <td>45.424721</td>\n",
       "      <td>-75.695</td>\n",
       "      <td>Canada</td>\n",
       "      <td>CAN</td>\n",
       "      <td>None</td>\n",
       "    </tr>\n",
       "    <tr>\n",
       "      <th>1</th>\n",
       "      <td>Raleigh-Durham, North Carolina Area</td>\n",
       "      <td>35.772701</td>\n",
       "      <td>-78.632439</td>\n",
       "      <td>Raleigh</td>\n",
       "      <td>USA</td>\n",
       "      <td>NC</td>\n",
       "    </tr>\n",
       "    <tr>\n",
       "      <th>2</th>\n",
       "      <td>Houston, Texas Area</td>\n",
       "      <td>29.7652</td>\n",
       "      <td>-95.3657</td>\n",
       "      <td>Houston</td>\n",
       "      <td>USA</td>\n",
       "      <td>TX</td>\n",
       "    </tr>\n",
       "    <tr>\n",
       "      <th>3</th>\n",
       "      <td>Greater New York City Area</td>\n",
       "      <td>40.74838</td>\n",
       "      <td>-73.996705</td>\n",
       "      <td>New_York_City</td>\n",
       "      <td>USA</td>\n",
       "      <td>NY</td>\n",
       "    </tr>\n",
       "    <tr>\n",
       "      <th>4</th>\n",
       "      <td>Houston, Texas</td>\n",
       "      <td>29.7652</td>\n",
       "      <td>-95.3657</td>\n",
       "      <td>Houston</td>\n",
       "      <td>USA</td>\n",
       "      <td>TX</td>\n",
       "    </tr>\n",
       "  </tbody>\n",
       "</table>\n",
       "</div>"
      ],
      "text/plain": [
       "                         original_name        lat        lon           name  \\\n",
       "0                               Kanada  45.424721    -75.695         Canada   \n",
       "1  Raleigh-Durham, North Carolina Area  35.772701 -78.632439        Raleigh   \n",
       "2                  Houston, Texas Area    29.7652   -95.3657        Houston   \n",
       "3           Greater New York City Area   40.74838 -73.996705  New_York_City   \n",
       "4                       Houston, Texas    29.7652   -95.3657        Houston   \n",
       "\n",
       "  country state  \n",
       "0     CAN  None  \n",
       "1     USA    NC  \n",
       "2     USA    TX  \n",
       "3     USA    NY  \n",
       "4     USA    TX  "
      ]
     },
     "execution_count": 23,
     "metadata": {},
     "output_type": "execute_result"
    }
   ],
   "source": [
    "city_loc_map.head()"
   ]
  },
  {
   "cell_type": "code",
   "execution_count": 24,
   "id": "597a7763-9b8c-4551-9b2d-bd713d0b7e48",
   "metadata": {},
   "outputs": [
    {
     "name": "stdout",
     "output_type": "stream",
     "text": [
      "Merging tables\n",
      "df has already been merged\n"
     ]
    },
    {
     "data": {
      "text/html": [
       "<div>\n",
       "<style scoped>\n",
       "    .dataframe tbody tr th:only-of-type {\n",
       "        vertical-align: middle;\n",
       "    }\n",
       "\n",
       "    .dataframe tbody tr th {\n",
       "        vertical-align: top;\n",
       "    }\n",
       "\n",
       "    .dataframe thead th {\n",
       "        text-align: right;\n",
       "    }\n",
       "</style>\n",
       "<table border=\"1\" class=\"dataframe\">\n",
       "  <thead>\n",
       "    <tr style=\"text-align: right;\">\n",
       "      <th></th>\n",
       "      <th>id</th>\n",
       "      <th>job_title</th>\n",
       "      <th>location</th>\n",
       "      <th>connection</th>\n",
       "      <th>lat</th>\n",
       "      <th>lon</th>\n",
       "      <th>name</th>\n",
       "      <th>country</th>\n",
       "      <th>state</th>\n",
       "    </tr>\n",
       "  </thead>\n",
       "  <tbody>\n",
       "    <tr>\n",
       "      <th>0</th>\n",
       "      <td>1</td>\n",
       "      <td>2019 C.T. Bauer College of Business Graduate (...</td>\n",
       "      <td>Houston, Texas</td>\n",
       "      <td>85</td>\n",
       "      <td>29.7652</td>\n",
       "      <td>-95.3657</td>\n",
       "      <td>Houston</td>\n",
       "      <td>USA</td>\n",
       "      <td>TX</td>\n",
       "    </tr>\n",
       "    <tr>\n",
       "      <th>1</th>\n",
       "      <td>2</td>\n",
       "      <td>Native English Teacher at EPIK (English Progra...</td>\n",
       "      <td>Kanada</td>\n",
       "      <td>500</td>\n",
       "      <td>45.424721</td>\n",
       "      <td>-75.695</td>\n",
       "      <td>Canada</td>\n",
       "      <td>CAN</td>\n",
       "      <td>None</td>\n",
       "    </tr>\n",
       "    <tr>\n",
       "      <th>2</th>\n",
       "      <td>3</td>\n",
       "      <td>Aspiring Human Resources Professional</td>\n",
       "      <td>Raleigh-Durham, North Carolina Area</td>\n",
       "      <td>44</td>\n",
       "      <td>35.772701</td>\n",
       "      <td>-78.632439</td>\n",
       "      <td>Raleigh</td>\n",
       "      <td>USA</td>\n",
       "      <td>NC</td>\n",
       "    </tr>\n",
       "  </tbody>\n",
       "</table>\n",
       "</div>"
      ],
      "text/plain": [
       "   id                                          job_title  \\\n",
       "0   1  2019 C.T. Bauer College of Business Graduate (...   \n",
       "1   2  Native English Teacher at EPIK (English Progra...   \n",
       "2   3              Aspiring Human Resources Professional   \n",
       "\n",
       "                              location  connection        lat        lon  \\\n",
       "0                       Houston, Texas          85    29.7652   -95.3657   \n",
       "1                               Kanada         500  45.424721    -75.695   \n",
       "2  Raleigh-Durham, North Carolina Area          44  35.772701 -78.632439   \n",
       "\n",
       "      name country state  \n",
       "0  Houston     USA    TX  \n",
       "1   Canada     CAN  None  \n",
       "2  Raleigh     USA    NC  "
      ]
     },
     "execution_count": 24,
     "metadata": {},
     "output_type": "execute_result"
    }
   ],
   "source": [
    "# merge dataframes to include new spatial information\n",
    "if 'country' not in df.columns:\n",
    "    print('Merging tables')\n",
    "    df=df.merge(city_loc_map[['original_name','lat','lon','name','country','state']],\n",
    "               left_on='location',\n",
    "               right_on='original_name',\n",
    "               how='left')\n",
    "\n",
    "    df=df.drop(columns=['original_name'])\n",
    "\n",
    "print('df has already been merged')\n",
    "df.head(3)"
   ]
  },
  {
   "cell_type": "code",
   "execution_count": 25,
   "id": "34d78ddc-8ce7-45fb-91ba-042b82dafdb9",
   "metadata": {},
   "outputs": [
    {
     "data": {
      "text/plain": [
       "True"
      ]
     },
     "execution_count": 25,
     "metadata": {},
     "output_type": "execute_result"
    }
   ],
   "source": [
    "# check if there's an equal number of latitudes for the city names\n",
    "df['lat'].value_counts().count()==df['name'].value_counts().count()"
   ]
  },
  {
   "cell_type": "markdown",
   "id": "a3670fbc-004a-4e9f-a3bb-f23d76ab57db",
   "metadata": {},
   "source": [
    "Excellent! We successfully added the city location. Now let's make a chloropleth map (or something similar) showing the geographic distribution of the applicants."
   ]
  },
  {
   "cell_type": "markdown",
   "id": "27d660cd-3d4d-4310-81c4-410653ff7a4e",
   "metadata": {},
   "source": [
    "We almost forgot: let's now make a table that shows the sum of applicants at each location."
   ]
  },
  {
   "cell_type": "code",
   "execution_count": null,
   "id": "dac25034-3c3a-48e1-975b-08e18a2a6e41",
   "metadata": {},
   "outputs": [],
   "source": []
  },
  {
   "cell_type": "code",
   "execution_count": null,
   "id": "ce4df232-cc20-4931-94f7-dabef72e8649",
   "metadata": {},
   "outputs": [],
   "source": []
  },
  {
   "cell_type": "code",
   "execution_count": 26,
   "id": "cfb32ab7-4dde-4e75-848a-c42fabfbd208",
   "metadata": {},
   "outputs": [
    {
     "ename": "NameError",
     "evalue": "name 'duckdb' is not defined",
     "output_type": "error",
     "traceback": [
      "\u001b[0;31m---------------------------------------------------------------------------\u001b[0m",
      "\u001b[0;31mNameError\u001b[0m                                 Traceback (most recent call last)",
      "Cell \u001b[0;32mIn[26], line 1\u001b[0m\n\u001b[0;32m----> 1\u001b[0m con\u001b[38;5;241m=\u001b[39m\u001b[43mduckdb\u001b[49m\u001b[38;5;241m.\u001b[39mconnect(database\u001b[38;5;241m=\u001b[39m\u001b[38;5;124m'\u001b[39m\u001b[38;5;124m:memory:\u001b[39m\u001b[38;5;124m'\u001b[39m)\n\u001b[1;32m      2\u001b[0m con\u001b[38;5;241m.\u001b[39mregister(\u001b[38;5;124m'\u001b[39m\u001b[38;5;124mdf\u001b[39m\u001b[38;5;124m'\u001b[39m,df)\n\u001b[1;32m      3\u001b[0m ct_cities\u001b[38;5;241m=\u001b[39mcon\u001b[38;5;241m.\u001b[39mexecute(\u001b[38;5;124m'''\u001b[39m\n\u001b[1;32m      4\u001b[0m \u001b[38;5;124mselect\u001b[39m\n\u001b[1;32m      5\u001b[0m \u001b[38;5;124m    count(name) as ct\u001b[39m\n\u001b[0;32m   (...)\u001b[0m\n\u001b[1;32m     10\u001b[0m \u001b[38;5;124mgroup by name,lat,lon;\u001b[39m\n\u001b[1;32m     11\u001b[0m \u001b[38;5;124m'''\u001b[39m)\u001b[38;5;241m.\u001b[39mfetchdf()\n",
      "\u001b[0;31mNameError\u001b[0m: name 'duckdb' is not defined"
     ]
    }
   ],
   "source": [
    "con=duckdb.connect(database=':memory:')\n",
    "con.register('df',df)\n",
    "ct_cities=con.execute('''\n",
    "select\n",
    "    count(name) as ct\n",
    "    ,lat\n",
    "    ,lon\n",
    "    ,name\n",
    "from df\n",
    "group by name,lat,lon;\n",
    "''').fetchdf()\n",
    "con.close()\n",
    "ct_cities.head()"
   ]
  },
  {
   "cell_type": "code",
   "execution_count": null,
   "id": "f5f0812b-b5a3-42b1-8b92-a78abf7f3ba5",
   "metadata": {},
   "outputs": [],
   "source": [
    "# downloaded from something like\n",
    "# https://github.com/georgique/world-geojson\n",
    "borders=gpd.read_file('../data/world_borders.geojson')\n",
    "borders.head()"
   ]
  },
  {
   "cell_type": "markdown",
   "id": "15e2cc85-fa87-418c-b34a-76c9f2c20482",
   "metadata": {},
   "source": [
    "I'll make two maps, one of North America and another of Tükiye."
   ]
  },
  {
   "cell_type": "code",
   "execution_count": null,
   "id": "ccce3de5-c0a5-4b90-a9dc-cda14533a5fb",
   "metadata": {},
   "outputs": [],
   "source": [
    "con=duckdb.connect(database=':memory:')\n",
    "con.register('ct_cities',ct_cities)\n",
    "ct_cities_na=con.execute('''\n",
    "select\n",
    "    *\n",
    "from ct_cities\n",
    "where lon<27;\n",
    "''').fetchdf()\n",
    "con.close()\n",
    "ct_cities_na.head()"
   ]
  },
  {
   "cell_type": "code",
   "execution_count": null,
   "id": "07a03d54-a54f-4778-ba87-4999d9d0ee90",
   "metadata": {},
   "outputs": [],
   "source": [
    "con=duckdb.connect(database=':memory:')\n",
    "con.register('ct_cities',ct_cities)\n",
    "ct_cities_tk=con.execute('''\n",
    "select\n",
    "    *\n",
    "from ct_cities\n",
    "where lon>27;\n",
    "''').fetchdf()\n",
    "con.close()\n",
    "ct_cities_tk.head()"
   ]
  },
  {
   "cell_type": "code",
   "execution_count": null,
   "id": "e5da0150-cbcf-408b-9891-672217f13fac",
   "metadata": {},
   "outputs": [],
   "source": [
    "# us states geojson from here:\n",
    "# https://github.com/PublicaMundi/\\\n",
    "# MappingAPI/blob/master/data/geojson/us-states.json\n",
    "states=gpd.read_file('../data/us-states.json')\n",
    "states.head()"
   ]
  },
  {
   "cell_type": "code",
   "execution_count": null,
   "id": "03aa32f3-1d7f-42cc-a4bc-844ec4e527c0",
   "metadata": {},
   "outputs": [],
   "source": [
    "df.shape"
   ]
  },
  {
   "cell_type": "code",
   "execution_count": null,
   "id": "7a413abe-3f90-4cdd-a720-57708099a47a",
   "metadata": {},
   "outputs": [],
   "source": [
    "# set up the figure and axis\n",
    "fig, ax = plt.subplots(figsize=(15, 10))\n",
    "plt.title(f'Global Geographic Distribution of Candidates (n={df.shape[0]})') \n",
    "plt.tight_layout()\n",
    "\n",
    "# hide x and y axis labels for cleaner map display\n",
    "ax.get_xaxis().set_visible(False)\n",
    "ax.get_yaxis().set_visible(False)\n",
    "\n",
    "# plot US states\n",
    "states.plot(ax=ax, edgecolor='grey', facecolor='none')\n",
    "\n",
    "# plot scatter points for North America data\n",
    "scale_factor = 20  # to make it more visible\n",
    "alpha_ = 0.7  # consistent alpha value\n",
    "cmap='coolwarm'\n",
    "\n",
    "scatter_na = ax.scatter(\n",
    "    x=ct_cities_na['lon'], \n",
    "    y=ct_cities_na['lat'],\n",
    "    s=ct_cities_na['ct'] * scale_factor,\n",
    "    c=ct_cities_na['ct'],\n",
    "    cmap=cmap,\n",
    "    linewidths=2,\n",
    "    alpha=alpha_\n",
    ")\n",
    "\n",
    "# set limits for a focused map view on North America\n",
    "ax.set_xlim([ct_cities_na['lon'].min() - 5, ct_cities_na['lon'].max() + 5])\n",
    "ax.set_ylim([ct_cities_na['lat'].min() - 5, ct_cities_na['lat'].max() + 5])\n",
    "\n",
    "## add inset for Türkiye data\n",
    "axins = inset_axes(ax, width=3, height=2, loc='upper left', borderpad=2)\n",
    "axins.text(\n",
    "    0.5, -0.1,                   # X, Y coordinates (centered below the inset)\n",
    "    f\"Türkiye Candidates (n={ct_cities_tk['ct'][0]})\",         # Text content\n",
    "    ha='center', va='top',        # Horizontal and vertical alignment\n",
    "    transform=axins.transAxes,    # Transform relative to axins' coordinates\n",
    "    fontsize=10,                  # Adjust font size as desired\n",
    "    bbox=dict(facecolor='white', edgecolor='black', boxstyle='square,pad=0.5')  # White background with rounded edges\n",
    ")\n",
    "axins.spines['top'].set_linewidth(2)\n",
    "axins.spines['bottom'].set_linewidth(2)\n",
    "axins.spines['left'].set_linewidth(2)\n",
    "axins.spines['right'].set_linewidth(2)\n",
    "axins.get_xaxis().set_visible(False)\n",
    "axins.get_yaxis().set_visible(False)\n",
    "\n",
    "# plot the borders of Türkiye's neighboring countries\n",
    "borders.plot(ax=axins, edgecolor='grey', facecolor='none')\n",
    "\n",
    "# plot scatter points for Türkiye data in the inset\n",
    "scatter_tk = axins.scatter(\n",
    "    x=ct_cities_tk['lon'], \n",
    "    y=ct_cities_tk['lat'],\n",
    "    s=ct_cities_tk['ct'] * scale_factor,\n",
    "    c=ct_cities_tk['ct'],\n",
    "    cmap=cmap,\n",
    "    linewidths=2,\n",
    "    alpha=alpha_\n",
    ")\n",
    "\n",
    "# set limits for a focused view of Türkiye in the inset\n",
    "axins.set_xlim([ct_cities_tk['lon'].min() - 20, ct_cities_tk['lon'].max() + 20])\n",
    "axins.set_ylim([ct_cities_tk['lat'].min() - 20, ct_cities_tk['lat'].max() + 20])\n",
    "\n",
    "## custom legend entries using Line2D\n",
    "# define representative sizes and values for legend\n",
    "min_ = min(ct_cities_na['ct'])\n",
    "max_ = max(ct_cities_na['ct'])\n",
    "middle = (min_ + max_) / 2\n",
    "\n",
    "size_labels = [min_, middle, max_]\n",
    "colors = [min_, middle, max_]\n",
    "\n",
    "# use color map to assign color to each representative count\n",
    "cmap = plt.cm.coolwarm\n",
    "color_legend = [cmap((value - min_) / (max_ - min_)) for value in colors]\n",
    "\n",
    "# create custom legend handles\n",
    "legend_elements = [\n",
    "    Line2D([0], [0], marker='o', color='w', label=f'Low ({min_})', \n",
    "#            using square root so that the marker size area scales appropriately with original scale factor\n",
    "           markerfacecolor=color_legend[0], markersize=(size_labels[0] * scale_factor) ** 0.5, alpha=alpha_),\n",
    "    Line2D([0], [0], marker='o', color='w', label=f'Medium ({middle:.0f})', \n",
    "           markerfacecolor=color_legend[1], markersize=(size_labels[1] * scale_factor) ** 0.5, alpha=alpha_),\n",
    "    Line2D([0], [0], marker='o', color='w', label=f'High ({max_})', \n",
    "           markerfacecolor=color_legend[2], markersize=(size_labels[2] * scale_factor) ** 0.5, alpha=alpha_)\n",
    "]\n",
    "\n",
    "# add the custom legend to the plot\n",
    "ax.legend(handles=legend_elements, \n",
    "          title=\"Number of Candidates\", \n",
    "          loc=\"lower left\", \n",
    "          frameon=True,\n",
    "          bbox_to_anchor=(0.04,0.04))\n",
    "\n",
    "plt.savefig('figures/3_map_points.pdf',bbox_inches='tight')\n",
    "plt.savefig('figures/3_map_points.jpg',bbox_inches='tight')\n",
    "plt.savefig('figures/3_map_points.png',bbox_inches='tight')\n",
    "\n",
    "plt.show()"
   ]
  },
  {
   "cell_type": "code",
   "execution_count": null,
   "id": "0fbf6db5-1fd2-46e6-845d-1b8398932876",
   "metadata": {},
   "outputs": [],
   "source": [
    "print(f\"Candidates in Canada: {df[df['location'].str.contains('anada')].shape[0]}\")\n",
    "print(f\"Candidates in Türkiye: {df[df['location'].str.contains('rkiye')].shape[0]}\")\n",
    "print(f\"Candidates in US: {df.shape[0] - df[df['location'].str.contains('anada|urky')].shape[0]}\")"
   ]
  },
  {
   "cell_type": "markdown",
   "id": "59068bbc-00aa-4aa7-8531-2d33ea00dbd8",
   "metadata": {},
   "source": [
    "Most candidates are based in the US (n=92), with a small minority based in Canada (n=12) or Türkiye (n=4)."
   ]
  },
  {
   "cell_type": "markdown",
   "id": "b554d924-bd40-4f15-900d-00e502cccbfe",
   "metadata": {},
   "source": [
    "### Map of Observations - Choropleth"
   ]
  },
  {
   "cell_type": "markdown",
   "id": "df5cb951-5418-4e23-b72d-3775ce7b46e0",
   "metadata": {},
   "source": [
    "The map above is great, but it might be better if we actually show a [choropleth map](https://en.wikipedia.org/wiki/Choropleth_map), as we don't have tons of data to begin with, and you have to squint to see some cities that are represented."
   ]
  },
  {
   "cell_type": "code",
   "execution_count": null,
   "id": "82af5084-fb39-4279-9319-3806c3dfaf35",
   "metadata": {},
   "outputs": [],
   "source": [
    "# count number of candidates in each country/state\n",
    "con=duckdb.connect(database=':memory:')\n",
    "con.register('df',df)\n",
    "ct_country=con.execute('''\n",
    "select\n",
    "    count(state) as ct\n",
    "    ,country\n",
    "    ,state\n",
    "from df\n",
    "group by country,state;\n",
    "''').fetchdf()\n",
    "con.close()\n",
    "ct_country.head()"
   ]
  },
  {
   "cell_type": "code",
   "execution_count": null,
   "id": "87341143-ad21-4d28-b7b5-5228f57cf1c8",
   "metadata": {},
   "outputs": [],
   "source": [
    "# check to see that it worked. Texas has multiple counts\n",
    "ct_country[ct_country['state']=='TX']"
   ]
  },
  {
   "cell_type": "code",
   "execution_count": null,
   "id": "36f27645-0c39-45fb-b4b6-50605af47446",
   "metadata": {},
   "outputs": [],
   "source": [
    "ct_country[ct_country['country'] != 'USA']"
   ]
  },
  {
   "cell_type": "code",
   "execution_count": null,
   "id": "b544304d-b3ee-476b-b781-b08d61c670b0",
   "metadata": {},
   "outputs": [],
   "source": [
    "# downloaded from something like\n",
    "# https://github.com/georgique/world-geojson\n",
    "borders=gpd.read_file('../data/world_borders.geojson')\n",
    "borders.head()"
   ]
  },
  {
   "cell_type": "code",
   "execution_count": null,
   "id": "1a867e15-aa06-486b-b3fb-d51df5b37100",
   "metadata": {},
   "outputs": [],
   "source": [
    "borders.plot()"
   ]
  },
  {
   "cell_type": "code",
   "execution_count": null,
   "id": "2122476c-3678-434b-9baf-96bfa0055b17",
   "metadata": {},
   "outputs": [],
   "source": [
    "# us states geojson from here:\n",
    "# https://github.com/PublicaMundi/\\\n",
    "# MappingAPI/blob/master/data/geojson/us-states.json\n",
    "states=gpd.read_file('../data/us-states.json')\n",
    "states.head()"
   ]
  },
  {
   "cell_type": "code",
   "execution_count": null,
   "id": "4bcaa4be-87fe-489d-be0d-24f3227a3251",
   "metadata": {},
   "outputs": [],
   "source": [
    "states.plot()"
   ]
  },
  {
   "cell_type": "code",
   "execution_count": null,
   "id": "87095db7-3e81-4d3c-8bff-1339eb70b506",
   "metadata": {},
   "outputs": [],
   "source": [
    "# data from here:\n",
    "# https://developers.google.com/public-data/docs/canonical/states_csv\n",
    "state_codes=pd.read_csv('../data/states.csv')\n",
    "state_codes.head()"
   ]
  },
  {
   "cell_type": "markdown",
   "id": "a7700794-414b-4858-8f26-906136ad8f25",
   "metadata": {},
   "source": [
    "Merge the state_codes (AK, AL, etc.) above with the states DataFrame."
   ]
  },
  {
   "cell_type": "code",
   "execution_count": null,
   "id": "97fb991e-9f21-4bc8-aabc-d0c553e03f81",
   "metadata": {},
   "outputs": [],
   "source": [
    "abbreviations = pd.merge(states[['id','name','geometry']], \n",
    "                         state_codes[['state','name']], \n",
    "                         on='name', how='left')\n",
    "abbreviations.head()"
   ]
  },
  {
   "cell_type": "code",
   "execution_count": null,
   "id": "2f60952b-b945-4e16-9592-2d601a790c41",
   "metadata": {},
   "outputs": [],
   "source": [
    "ct_country.head(3)\n",
    "# None means no state was given"
   ]
  },
  {
   "cell_type": "markdown",
   "id": "8ff085ef-5eef-4a72-b049-6279c2812ba3",
   "metadata": {},
   "source": [
    "Merge the counts data into the abbreviations data."
   ]
  },
  {
   "cell_type": "code",
   "execution_count": null,
   "id": "c69d2fd9-3688-4aaf-bac2-ffd4facc1286",
   "metadata": {},
   "outputs": [],
   "source": [
    "# merge datasets\n",
    "counts = pd.merge(abbreviations, ct_country, on='state', how='left')\n",
    "counts_all = pd.concat([counts, ct_country_tur, ct_country_can])\n",
    "\n",
    "# substitute NaN values for 0 in non-geometry columns\n",
    "counts_all['geometry'] = counts_all['geometry'].fillna(None)\n",
    "counts_all = counts_all.fillna(0)\n",
    "\n",
    "# make 'ct' counts as int type\n",
    "counts_all['ct'] = counts_all['ct'].astype(int)\n",
    "\n",
    "# fill in 'USA' for any 0 in the 'country' column\n",
    "counts_all.loc[counts_all['country'] == 0, 'country'] = 'USA'\n",
    "\n",
    "counts_all.head()"
   ]
  },
  {
   "cell_type": "markdown",
   "id": "c8613974-9014-499e-aa96-3c6381e946a5",
   "metadata": {},
   "source": [
    "There's still an error with no geometry for Türkiye and Canada. We will isolate the row(s) with no data there, update the `geometry` data from the borders dataframe, then reintegrate them back to the `counts_all` object."
   ]
  },
  {
   "cell_type": "code",
   "execution_count": null,
   "id": "6c0a0ebb-cb79-4ec3-82f5-5d2777db47b2",
   "metadata": {},
   "outputs": [],
   "source": [
    "# step 1: Separate rows where 'name' == 0\n",
    "missing_geometry_rows = counts_all[counts_all['name'] == 0]\n",
    "\n",
    "# step 2: Update 'geometry' for these rows based on 'country' using geometry_map\n",
    "geometry_map = borders.set_index('iso_a3')['geometry'].to_dict()\n",
    "missing_geometry_rows.loc[:, 'geometry'] = missing_geometry_rows['country'].map(geometry_map)\n",
    "\n",
    "# step 3: Update counts_all by replacing the rows with missing geometries\n",
    "# drop the rows where 'name' == 0 in counts_all and then concatenate updated rows back\n",
    "counts_all = counts_all[counts_all['name'] != 0]\n",
    "counts_all = pd.concat([counts_all, missing_geometry_rows])\n",
    "counts_all = counts_all.reset_index(drop=True)\n",
    "\n",
    "# extra: turn 0 count to placeholder value\n",
    "counts_all['ct'] = counts_all['ct'].fillna(-1)\n",
    "\n",
    "counts_all.head()"
   ]
  },
  {
   "cell_type": "code",
   "execution_count": null,
   "id": "d3cb50dd-b899-488c-bf94-be7c61d0c394",
   "metadata": {},
   "outputs": [],
   "source": [
    "borders.head()"
   ]
  },
  {
   "cell_type": "code",
   "execution_count": null,
   "id": "3d817dcb-1956-4d16-9055-a8fe05da951d",
   "metadata": {},
   "outputs": [],
   "source": [
    "counts_all.columns"
   ]
  },
  {
   "cell_type": "code",
   "execution_count": null,
   "id": "72a53915-1f05-4dbe-a918-07b49c6a4e1c",
   "metadata": {},
   "outputs": [],
   "source": [
    "borders.set_crs(epsg=4326, inplace=True)\n",
    "mex_geom = borders.loc[borders['iso_a3']=='MEX']['geometry'].values[0]\n",
    "bhs_geom = borders.loc[borders['iso_a3']=='BHS']['geometry'].values[0]\n",
    "\n",
    "# list of countries to exclude\n",
    "excluded_countries = ['USA', 'CAN', 'TUR']\n",
    "\n",
    "# filter borders to get only countries that are not in excluded_countries\n",
    "countries_to_add = borders[~borders['iso_a3'].isin(excluded_countries)]\n",
    "\n",
    "# initialize a list to collect new rows\n",
    "new_rows = []\n",
    "\n",
    "# loop through each country in countries_to_add\n",
    "for _, row in countries_to_add.iterrows():\n",
    "    iso_code = row['iso_a3']\n",
    "    if iso_code not in counts_all['country'].values:  # check if the country is missing in counts_all\n",
    "        # append a new row with necessary fields\n",
    "        new_rows.append([\n",
    "            None,  # id can be set to None or a default value\n",
    "            f\"{row['iso_a3']}_nostate\",  # name can be set as <iso_a3>_nostate\n",
    "            row['geometry'],  # geometry from borders\n",
    "            None,  # state can be None or a default value\n",
    "            int(0),  # ct is set to 0 by default\n",
    "            row['iso_a3'],  # country is the iso_a3 code\n",
    "            None  # ct_display can be None or a default value\n",
    "        ])\n",
    "\n",
    "# convert the new rows to a DataFrame and add them to counts_all\n",
    "new_rows_df = pd.DataFrame(new_rows, columns=['id', 'name', 'geometry', 'state', 'ct', 'country', 'ct_display'])\n",
    "counts_all = pd.concat([counts_all, new_rows_df], ignore_index=True)\n",
    "\n",
    "# show updated counts_all DataFrame\n",
    "counts_all.head()"
   ]
  },
  {
   "cell_type": "code",
   "execution_count": null,
   "id": "e280a7e5-b32a-41a9-849e-1ad5a531e1f2",
   "metadata": {},
   "outputs": [],
   "source": [
    "counts_all[(counts_all['country'] != 'USA') &\n",
    "           (counts_all['country'] != 'CAN') &\n",
    "           (counts_all['country'] != 'TUR')\n",
    "          ].head()"
   ]
  },
  {
   "cell_type": "markdown",
   "id": "df58fb70-6a7f-49d5-8e37-34572cd2ff73",
   "metadata": {},
   "source": [
    "I'll make two maps, one of North America and another of Tükiye. One map will have USA and Canada."
   ]
  },
  {
   "cell_type": "code",
   "execution_count": null,
   "id": "9da6d4a2-0c0d-4a39-941a-cbd47e7857d7",
   "metadata": {},
   "outputs": [],
   "source": [
    "counts_usa = counts_all.loc[counts_all['country']=='USA',:]\n",
    "counts_can = counts_all.loc[counts_all['country']=='CAN',:]\n",
    "counts_tur = counts_all.loc[counts_all['country']=='TUR',:]"
   ]
  },
  {
   "cell_type": "code",
   "execution_count": null,
   "id": "62e9e808-76cb-420f-a566-a716687048fb",
   "metadata": {},
   "outputs": [],
   "source": [
    "# save new geojson\n",
    "counts = gpd.GeoDataFrame(counts_all, geometry='geometry')\n",
    "counts.to_file('../data/counts.geojson', driver='GeoJSON')"
   ]
  },
  {
   "cell_type": "code",
   "execution_count": null,
   "id": "8b488c5d-86a8-4b8e-8273-f10e38e12704",
   "metadata": {},
   "outputs": [],
   "source": [
    "counts=gpd.read_file('../data/counts.geojson')\n",
    "# check\n",
    "counts[counts['country']=='TUR']"
   ]
  },
  {
   "cell_type": "code",
   "execution_count": null,
   "id": "14cc2c5c-b3d7-4039-a62e-23ceec4805af",
   "metadata": {},
   "outputs": [],
   "source": [
    "counts_tur"
   ]
  },
  {
   "cell_type": "code",
   "execution_count": null,
   "id": "3107bde1-2608-480a-947d-59093d2f3de4",
   "metadata": {},
   "outputs": [],
   "source": [
    "borders = borders.to_crs(epsg=4326)\n",
    "# counts_usa = counts_usa.to_crs(epsg=4326)\n",
    "# counts_tur = counts_tur.to_crs(epsg=4326)\n",
    "# counts_can = counts_can.to_crs(epsg=4326)"
   ]
  },
  {
   "cell_type": "code",
   "execution_count": null,
   "id": "def88d39-e502-4493-bda6-930ab5216423",
   "metadata": {},
   "outputs": [],
   "source": [
    "counts_can"
   ]
  },
  {
   "cell_type": "code",
   "execution_count": null,
   "id": "7f5a4672-56bb-42ff-a278-3424fbac9911",
   "metadata": {},
   "outputs": [],
   "source": [
    "# Set a custom color for -1 values\n",
    "custom_color = '#d3d3d3'  # You can set this to any color you prefer\n",
    "\n",
    "# Add a new column that masks -1 values for continuous color mapping\n",
    "counts_all['ct_display'] = counts_all['ct'].replace(-1, np.nan)\n",
    "\n",
    "counts_usa = counts_all.loc[counts_all['country']=='USA',:]\n",
    "counts_can = counts_all.loc[counts_all['country']=='CAN',:]\n",
    "counts_tur = counts_all.loc[counts_all['country']=='TUR',:]"
   ]
  },
  {
   "cell_type": "code",
   "execution_count": null,
   "id": "c20c72c3-dbfb-46d4-94c3-09148bcde862",
   "metadata": {},
   "outputs": [],
   "source": [
    "# Set up the figure and axis\n",
    "fig, ax = plt.subplots(figsize=(15, 15))\n",
    "plt.title(f'Global Geographic Distribution of Candidates (n={df.shape[0]})')\n",
    "plt.tight_layout()\n",
    "\n",
    "# Hide x and y axis labels and set equal aspect ratio\n",
    "ax.get_xaxis().set_ticks([])\n",
    "ax.get_yaxis().set_ticks([])\n",
    "ax.set_aspect('equal')\n",
    "\n",
    "cmap='viridis'\n",
    "\n",
    "# Color scale limits for continuous values\n",
    "vmin, vmax = counts_all['ct_display'].min(), counts_all['ct_display'].max()\n",
    "\n",
    "# Türkiye Inset\n",
    "axins = inset_axes(ax, width='25%', height='20%', loc='upper left', borderpad=2)\n",
    "# Overlay areas where 'ct' == 0 with a custom color\n",
    "counts_all[counts_all['ct'] == 0].plot(ax=axins, color=custom_color, linewidth=0.5, edgecolor='black',legend=True)\n",
    "axins.text(0.5, -0.1, f\"Türkiye Candidates (n={counts_tur['ct'].values[0]:.0f})\", ha='center', va='top',\n",
    "           transform=axins.transAxes, fontsize=10, \n",
    "           bbox=dict(facecolor='white', edgecolor='black', boxstyle='square,pad=0.4'))\n",
    "\n",
    "# Customize and remove axes for cleaner look\n",
    "for spine in axins.spines.values():\n",
    "    spine.set_linewidth(2)\n",
    "axins.get_xaxis().set_ticks([])\n",
    "axins.get_yaxis().set_ticks([])\n",
    "\n",
    "# Set inset bounds around Türkiye\n",
    "tur_bounds = counts_tur.total_bounds\n",
    "axins.set_xlim([tur_bounds[0] - 1, tur_bounds[2] + 1])\n",
    "axins.set_ylim([tur_bounds[1] - 1, tur_bounds[3] + 1])\n",
    "\n",
    "# Plot Türkiye data and background borders in inset\n",
    "counts_tur.plot(column='ct_display', cmap=cmap, linewidth=0.5, legend=False, ax=axins, vmin=vmin, vmax=vmax)\n",
    "borders.plot(ax=axins, edgecolor='black', facecolor='none')\n",
    "\n",
    "# Plot USA choropleth (excluding Alaska, Hawaii, Puerto Rico)\n",
    "counts_usa.query(\"state not in ['AK', 'HI', 'PR']\").plot(column='ct_display', cmap=cmap, linewidth=0.5, \n",
    "                                                         legend=False, ax=ax, vmin=vmin, vmax=vmax,\n",
    "                                                        edgecolor='black')\n",
    "\n",
    "# Plot Canada choropleth\n",
    "counts_can.plot(column='ct_display', cmap=cmap, linewidth=0.5, legend=False, ax=ax, vmin=vmin, vmax=vmax)\n",
    "\n",
    "# Plot world borders (excluding USA for state-level plots)\n",
    "borders.query(\"iso_a3 != 'USA'\")\\\n",
    "    .plot(ax=ax, edgecolor='black', facecolor='none')\n",
    "\n",
    "# Overlay areas where 'ct' == 0 with a custom color\n",
    "counts_all[counts_all['ct'] == 0].plot(ax=ax, color=custom_color, linewidth=0.5, edgecolor='black',legend=True)\n",
    "\n",
    "# Color bar for continuous color scale\n",
    "sm = plt.cm.ScalarMappable(cmap=cmap, norm=plt.Normalize(vmin=vmin, vmax=vmax))\n",
    "cbar = fig.colorbar(sm, \n",
    "             ax=ax, \n",
    "             orientation=\"horizontal\", \n",
    "             pad=0.03, \n",
    "             label='Number of Candidates')\n",
    "\n",
    "cbar.set_ticks(np.arange(int(vmin), int(vmax)+1, 5))\n",
    "\n",
    "# Map limits for North America focus\n",
    "ax.set_xlim([-125, -65])\n",
    "ax.set_ylim([24, 50])\n",
    "\n",
    "# add custom legend with No Data box\n",
    "# create custom legend handles\n",
    "legend_elements = [\n",
    "    Patch(facecolor=custom_color, edgecolor=\"black\", label=\"No Data\")\n",
    "]\n",
    "\n",
    "# add the custom legend to the plot\n",
    "ax.legend(handles=legend_elements, \n",
    "          title=\"\", \n",
    "          loc=\"lower left\", \n",
    "          frameon=True,\n",
    "          fontsize=12,\n",
    "          borderaxespad=1.5,\n",
    "          handlelength=2,\n",
    "          handletextpad=1.5)\n",
    "\n",
    "plt.savefig('figures/3_map_choropleth.pdf',bbox_inches='tight')\n",
    "plt.savefig('figures/3_map_choropleth.jpg',bbox_inches='tight')\n",
    "plt.savefig('figures/3_map_choropleth.png',bbox_inches='tight')        \n",
    "\n",
    "plt.show()"
   ]
  },
  {
   "cell_type": "markdown",
   "id": "a00f3eea-e2af-4c8c-91ef-6a40650d2e0e",
   "metadata": {},
   "source": [
    "# Preprocess Language Data"
   ]
  },
  {
   "cell_type": "code",
   "execution_count": null,
   "id": "20053623-a7b1-4a2e-a1c5-b015d435a419",
   "metadata": {},
   "outputs": [],
   "source": [
    "df.head(3)"
   ]
  },
  {
   "cell_type": "code",
   "execution_count": null,
   "id": "46c96aa8-b516-4f8b-910f-0ce1cf94c316",
   "metadata": {},
   "outputs": [],
   "source": [
    "print(df['job_title'].sample().values)"
   ]
  },
  {
   "cell_type": "markdown",
   "id": "adbe3075-1366-468e-9a18-5903a0199c57",
   "metadata": {},
   "source": [
    "## Vectorize `job_title` column"
   ]
  },
  {
   "cell_type": "markdown",
   "id": "cf7c9954-6ccb-4240-882b-38358223c0fb",
   "metadata": {},
   "source": [
    "### Define preprocessor"
   ]
  },
  {
   "cell_type": "markdown",
   "id": "84690a07-d6a1-4ad7-9e55-fa171e3a740f",
   "metadata": {},
   "source": [
    "This preprocessor will standardize the English words so that they can be analyzed truthfully, allowing us to know that when more candidates are added to the dataset, their job titles will be processed similarly."
   ]
  },
  {
   "cell_type": "markdown",
   "id": "da9b386e-608b-47ef-8520-1fb885137544",
   "metadata": {},
   "source": [
    "### Version of dataset with lemmatization"
   ]
  },
  {
   "cell_type": "code",
   "execution_count": null,
   "id": "198cc4eb-551b-4261-b750-688483eac28a",
   "metadata": {},
   "outputs": [],
   "source": [
    "def preprocessor_lemma(text):\n",
    "    pos_map = {\"J\":wordnet.ADJ,\n",
    "           \"V\":wordnet.VERB,\n",
    "           \"N\":wordnet.NOUN,\n",
    "           \"R\":wordnet.ADV}\n",
    "    \n",
    "    lemmatizer=WordNetLemmatizer()\n",
    "    \n",
    "    # list of English stopwords in lowercase\n",
    "    stops=set(stopwords.words('english'))\n",
    "    \n",
    "    # break into sentences to get parts-of-speech (pos) tagging to word best\n",
    "    as_sent=sent_tokenize(text,language='english')\n",
    "    processed=[]\n",
    "    \n",
    "    for sent in as_sent:\n",
    "        # break each sentence into words\n",
    "        tokens=word_tokenize(sent)\n",
    "        \n",
    "        # get pos tags for lemmatization\n",
    "        pos_tags=nltk.pos_tag(tokens)\n",
    "        mapped_tags=[(tag[0],pos_map.get(tag[1][0],wordnet.NOUN)) for tag in pos_tags]\n",
    "        lemmas=[lemmatizer.lemmatize(*tagged) for tagged in mapped_tags]\n",
    "        \n",
    "        # convert to lower after lemmatization\n",
    "        as_str=' '.join([lemma.lower() for lemma in lemmas])\n",
    "        \n",
    "        # remove unwanted punctuation. keeping numbers because it may prove valuable to have years\n",
    "        cleaned=''.join([char for char in as_str if char in 'abcdefghijklmnopqrstuvwxyz 0123456789'])\n",
    "        \n",
    "        # double-check no empty strings and add to processed\n",
    "        cleaned=[word for word in cleaned.split() if len(word) > 0 and word not in stops]\n",
    "        processed.extend(cleaned)\n",
    "        \n",
    "    return ' '.join(processed)"
   ]
  },
  {
   "cell_type": "code",
   "execution_count": null,
   "id": "be99ef06-665d-43f2-888e-7441c682ff1c",
   "metadata": {},
   "outputs": [],
   "source": [
    "# mapping for parts-of-speech tags\n",
    "pos_map = {\"J\":wordnet.ADJ,\n",
    "           \"V\":wordnet.VERB,\n",
    "           \"N\":wordnet.NOUN,\n",
    "           \"R\":wordnet.ADV}"
   ]
  },
  {
   "cell_type": "code",
   "execution_count": null,
   "id": "9cd4f4fe-11b4-4e75-b07e-39e71dac7f0e",
   "metadata": {},
   "outputs": [],
   "source": [
    "# instantiate vectorizor\n",
    "vec=TfidfVectorizer(preprocessor=preprocessor_lemma)\n",
    "tfidf=vec.fit_transform(df['job_title'])\n",
    "\n",
    "# get feature names to use as DataFrame columns\n",
    "feature_names=vec.get_feature_names_out()\n",
    "df_job_titles_lemma=pd.DataFrame(tfidf.toarray(),columns=feature_names)\n",
    "\n",
    "print(df_job_titles_lemma.shape)\n",
    "df_job_titles_lemma.head(3)"
   ]
  },
  {
   "cell_type": "markdown",
   "id": "e409aa47-9de1-4a51-9e92-eba5354cf255",
   "metadata": {},
   "source": [
    "### Version of processed dataset without lemmatization"
   ]
  },
  {
   "cell_type": "code",
   "execution_count": null,
   "id": "c2dfa8e0-c9a6-4bfd-b07a-30c2702beaff",
   "metadata": {},
   "outputs": [],
   "source": [
    "def preprocessor_nolem(text):\n",
    "    \n",
    "    # List of English stopwords in lowercase\n",
    "    stops = set(stopwords.words('english'))\n",
    "    \n",
    "    # Break into sentences\n",
    "    as_sent = sent_tokenize(text, language='english')\n",
    "    processed = []\n",
    "    \n",
    "    for sent in as_sent:\n",
    "        # Tokenize each sentence\n",
    "        tokens = word_tokenize(sent)\n",
    "        \n",
    "        # Convert each word to lowercase directly\n",
    "        tokens_lower = [token.lower() for token in tokens]\n",
    "        \n",
    "        # Remove punctuation, keeping only alphanumeric characters\n",
    "        cleaned = ''.join([char for char in ' '.join(tokens_lower) if char in 'abcdefghijklmnopqrstuvwxyz 0123456789'])\n",
    "        \n",
    "        # Filter out stopwords and empty strings\n",
    "        cleaned = [word for word in cleaned.split() if len(word) > 0 and word not in stops]\n",
    "        processed.extend(cleaned)\n",
    "        \n",
    "    return ' '.join(processed)"
   ]
  },
  {
   "cell_type": "code",
   "execution_count": null,
   "id": "77098e84-2515-44ef-a4ba-9715567b878f",
   "metadata": {},
   "outputs": [],
   "source": [
    "# mapping for parts-of-speech tags\n",
    "pos_map = {\"J\":wordnet.ADJ,\n",
    "           \"V\":wordnet.VERB,\n",
    "           \"N\":wordnet.NOUN,\n",
    "           \"R\":wordnet.ADV}"
   ]
  },
  {
   "cell_type": "code",
   "execution_count": null,
   "id": "a4d443e4-7d03-4eed-9c7f-05f14128e3a4",
   "metadata": {},
   "outputs": [],
   "source": [
    "# instantiate vectorizor\n",
    "vec=TfidfVectorizer(preprocessor=preprocessor_nolem)\n",
    "tfidf=vec.fit_transform(df['job_title'])\n",
    "\n",
    "# get feature names to use as DataFrame columns\n",
    "feature_names=vec.get_feature_names_out()\n",
    "df_job_titles=pd.DataFrame(tfidf.toarray(),columns=feature_names)\n",
    "\n",
    "print(df_job_titles.shape)\n",
    "df_job_titles.head(3)"
   ]
  },
  {
   "cell_type": "markdown",
   "id": "a0cb7405-451d-47df-9fe8-22015ef1eb46",
   "metadata": {},
   "source": [
    "### Figure of Most Common Words"
   ]
  },
  {
   "cell_type": "code",
   "execution_count": null,
   "id": "dd25fedd-b260-48a2-8817-f88fd0ef9b98",
   "metadata": {},
   "outputs": [],
   "source": [
    "job_title_list=[]\n",
    "\n",
    "for index,job in enumerate(df['job_title']):\n",
    "    if index%10==0:\n",
    "        print('Processed',index, f\"rows, {index/df['job_title'].count()*100:.2f}% complete.\")\n",
    "    cleaned=preprocessor_lemma(job)\n",
    "    job_title_list.extend(cleaned.split()) # add words, not letters\n",
    "print(f\"Processed all {df['job_title'].shape[0]} rows.\")\n",
    "job_title_counts=Counter(job_title_list)\n",
    "print(job_title_counts.most_common(10))"
   ]
  },
  {
   "cell_type": "code",
   "execution_count": null,
   "id": "61ab585a-4767-40f5-b17e-f581af29ea34",
   "metadata": {},
   "outputs": [],
   "source": [
    "job_title_t10=job_title_counts.most_common(10)\n",
    "\n",
    "word_,count_=zip(*job_title_counts.most_common(10))\n",
    "\n",
    "word_=list(word_)\n",
    "count_=list(count_)"
   ]
  },
  {
   "cell_type": "code",
   "execution_count": null,
   "id": "b5b32952-ca3e-48df-ab42-c04097cc12a6",
   "metadata": {},
   "outputs": [],
   "source": [
    "# make title case\n",
    "word_t=[word.title() for word in word_]\n",
    "\n",
    "plt.figure(figsize=(6,6))\n",
    "plt.tight_layout()\n",
    "plt.bar(x=word_t,height=count_,color='cornflowerblue')\n",
    "plt.title(\"Top 10 Most Common Words in Candidates' Titles\")\n",
    "plt.xticks(rotation=45)\n",
    "plt.grid(visible=True,which='major',axis='y')\n",
    "plt.ylabel('Count')\n",
    "plt.xlabel('Word')\n",
    "\n",
    "plt.savefig('figures/3_top10words.pdf',bbox_inches='tight')\n",
    "plt.savefig('figures/3_top10words.jpg',bbox_inches='tight')\n",
    "plt.savefig('figures/3_top10words.png',bbox_inches='tight')\n",
    "\n",
    "plt.show()"
   ]
  },
  {
   "cell_type": "code",
   "execution_count": null,
   "id": "75768c42-ca1d-4597-adf6-f75c895d5345",
   "metadata": {},
   "outputs": [],
   "source": [
    "explanation_1 = 'We can see that'\n",
    "explanation_2 = 'of candidates have the words \"Human\" and \"Resources\" in their job titles.'\n",
    "print(explanation_1,f'{count_[0]/df.shape[0]*100:.2f}%',explanation_2)"
   ]
  },
  {
   "cell_type": "markdown",
   "id": "642123b5-3528-401f-9182-bf882b20ffe7",
   "metadata": {
    "tags": []
   },
   "source": [
    "### Word Cloud of the Job Titles"
   ]
  },
  {
   "cell_type": "code",
   "execution_count": null,
   "id": "77838225-e500-4a4f-a8e3-d122c967f15e",
   "metadata": {},
   "outputs": [],
   "source": [
    "# taken from GeeksForGeeks.org:\n",
    "# https://www.geeksforgeeks.org/generating-word-cloud-python/\n",
    "\n",
    "# Define list of job titles\n",
    "jobs = df['job_title'].tolist()\n",
    "\n",
    "comment_words = ''\n",
    "stopwords_ = set(STOPWORDS)  # Set of stopwords for WordCloud\n",
    " \n",
    "# Iterate through each job title\n",
    "for job in jobs:\n",
    "    # Typecast each job title to string and split into tokens by spaces\n",
    "    job = str(job)\n",
    "    tokens = job.split()  # Split each title into individual words\n",
    "    \n",
    "    # Convert each token into lowercase and add to comment_words if not a stopword\n",
    "    tokens = [token.lower() for token in tokens if token.lower() not in stopwords_]\n",
    "    \n",
    "    # Join tokens to build the complete comment_words string with individual words\n",
    "    comment_words += \" \".join(tokens) + \" \"\n",
    "    \n",
    "# Define the colorblind-friendly palette\n",
    "colorblind_palette = ['#E69F00', '#56B4E9', '#009E73', '#F0E442', '#0072B2', '#D55E00', '#CC79A7']\n",
    "\n",
    "# Custom color function to apply colorblind-friendly colors\n",
    "def colorblind_friendly_color_func(word, font_size, position, orientation, random_state=None, **kwargs):\n",
    "    return random.choice(colorblind_palette)\n",
    "    \n",
    "# Create the word cloud\n",
    "cloud = WordCloud(width=600, \n",
    "                  height=600,\n",
    "                  background_color='white',\n",
    "                  stopwords=stopwords_,  # Pass the set of stopwords\n",
    "                  min_font_size=10,\n",
    "                  color_func=colorblind_friendly_color_func).generate(comment_words)\n",
    " \n",
    "# Plot the WordCloud image                       \n",
    "plt.figure(figsize=(6, 6), facecolor=None)\n",
    "plt.imshow(cloud, interpolation='bilinear')\n",
    "plt.axis(\"off\")\n",
    "plt.tight_layout(pad=0)\n",
    "\n",
    "# Save the word cloud as different file formats\n",
    "plt.savefig('figures/3_wordcloud.pdf')\n",
    "plt.savefig('figures/3_wordcloud.jpg')\n",
    "plt.savefig('figures/3_wordcloud.png')\n",
    "\n",
    "plt.show()"
   ]
  },
  {
   "cell_type": "markdown",
   "id": "d319248a-2e55-48ca-ae79-98f1c7a9bcc8",
   "metadata": {},
   "source": [
    "This is more for show, but we can see that \"human\",\"resources\", and \"aspiring\" all appear frequently in the dataset."
   ]
  },
  {
   "cell_type": "markdown",
   "id": "e9cfd83e-4656-43df-b5aa-b05693961a30",
   "metadata": {},
   "source": [
    "# Calculate Cosine Similarity with the Search Terms"
   ]
  },
  {
   "cell_type": "markdown",
   "id": "fe55e238-e5bc-4743-8ba7-7e089f6d0af7",
   "metadata": {},
   "source": [
    "As a reminder, we are currently helping the company understand which candidates are a best fit for their human resources position. As such, the company is focusing on two search terms:\n",
    "* **\"Aspiring human resources\"**, or\n",
    "* **\"Seeking human resources\"**"
   ]
  },
  {
   "cell_type": "markdown",
   "id": "17bd669a-382b-4394-ba93-5881d57205a9",
   "metadata": {},
   "source": [
    "We will pretend that the company is initializing their search terms by creating a parquet file using the following code. I'm using a Mac, so this is in Terminal:\n",
    "\n",
    "```bash\n",
    "python -c \"import pandas as pd; df = pd.DataFrame({'term': ['Aspiring human resources', 'Seeking human resources']}); df.to_parquet('search_terms.parquet', engine='pyarrow')\"\n",
    "```"
   ]
  },
  {
   "cell_type": "markdown",
   "id": "ea4c1db1-084b-4ce7-8f48-0750c4848278",
   "metadata": {},
   "source": [
    "To edit the parquet file, I am using the following code. You can update the \"ADD NEW SEARCH TERM HERE\" as needed:\n",
    "```bash\n",
    "python -c \"import pandas as pd; df = pd.read_parquet('search_terms.parquet', engine='pyarrow'); new_row = pd.DataFrame({'term': ['ADD NEW SEARCH TERM HERE']}); df = pd.concat([df, new_row], ignore_index=True); df.to_parquet('search_terms.parquet', engine='pyarrow')\"\n",
    "\n",
    "```"
   ]
  },
  {
   "cell_type": "markdown",
   "id": "c7eb6048-8f16-4574-b892-73c5dda9ee2e",
   "metadata": {},
   "source": [
    "As the company updates their search term parquet file, we will upload a fresh file by running the code below."
   ]
  },
  {
   "cell_type": "code",
   "execution_count": null,
   "id": "83c034a8-1903-4f9d-8f35-a4884ed957b7",
   "metadata": {},
   "outputs": [],
   "source": [
    "search_dict=pd.read_parquet('search_terms.parquet')\n",
    "\n",
    "search_term_df=pd.DataFrame.from_dict(search_dict)\n",
    "\n",
    "# view the search term file\n",
    "search_term_df"
   ]
  },
  {
   "cell_type": "markdown",
   "id": "81cd834d-1cde-4b1a-bc07-de7516900ab5",
   "metadata": {},
   "source": [
    "We will use the same preprocessor as above, without lemmatization, and will use the **cosine similarity** to determine the similarity between the job titles and the search terms."
   ]
  },
  {
   "cell_type": "code",
   "execution_count": null,
   "id": "ec242ae2-b40f-4fbb-86f0-65b76e2d252a",
   "metadata": {},
   "outputs": [],
   "source": [
    "df.head(3)"
   ]
  },
  {
   "cell_type": "code",
   "execution_count": null,
   "id": "ee67bd24-99f2-48dd-8377-d2a5b3c59861",
   "metadata": {},
   "outputs": [],
   "source": [
    "nltk_updater()"
   ]
  },
  {
   "cell_type": "code",
   "execution_count": null,
   "id": "75395c37-179a-437d-bc6d-d660beeca928",
   "metadata": {},
   "outputs": [],
   "source": [
    "# vectorize the job_titles\n",
    "# instantiate vectorizor and vectorize phrases\n",
    "vec=TfidfVectorizer(preprocessor=preprocessor_nolem)\n",
    "vec.fit(df['job_title']) # fit on entire job title data\n",
    "\n",
    "# transform job titles and target phrases\n",
    "df_job_titles_tfidf=vec.transform(df['job_title']) # matrix of candidate job titles\n",
    "search_terms=vec.transform(search_term_df['term']) # matrix of search phrases"
   ]
  },
  {
   "cell_type": "code",
   "execution_count": null,
   "id": "110efac7-17b0-410b-a82e-cf15e5002e15",
   "metadata": {},
   "outputs": [],
   "source": [
    "# calculate cosine similarity\n",
    "sim_aspiring=cosine_similarity(df_job_titles_tfidf,search_terms[0]) # for aspiring\n",
    "sim_seeking=cosine_similarity(df_job_titles_tfidf,search_terms[1])  # for seeking"
   ]
  },
  {
   "cell_type": "code",
   "execution_count": null,
   "id": "53f08816-47f4-4ce5-aadd-807a9888fa05",
   "metadata": {},
   "outputs": [],
   "source": [
    "# combine similarities into single score (maximum similarity for each candidate)\n",
    "max_sim=pd.DataFrame({\n",
    "    'candidate':df['id'],\n",
    "    'sim_aspiring':sim_aspiring.flatten(),\n",
    "    'sim_seeking':sim_seeking.flatten()\n",
    "})\n",
    "\n",
    "# max_sim['max_sim']=max_sim[['sim_aspiring','sim_seeking']].max(axis=1)\n",
    "# better: average similarity score\n",
    "max_sim['avg']=(max_sim['sim_aspiring']+max_sim['sim_seeking'])/2\n",
    "\n",
    "# sort candidates by similarity score\n",
    "# closest_candidates=max_sim.sort_values(by='max_sim',ascending=False)\n",
    "closest_candidates=max_sim.sort_values(by = 'avg', ascending = False)\n",
    "closest_candidates.head(10)"
   ]
  },
  {
   "cell_type": "code",
   "execution_count": null,
   "id": "191f109c-6cd5-4057-9d5c-dfa3097ae5f4",
   "metadata": {},
   "outputs": [],
   "source": [
    "# tuple as the order matters\n",
    "top10_candidates=tuple(closest_candidates.head(10)['candidate'])\n",
    "top10_candidates"
   ]
  },
  {
   "cell_type": "markdown",
   "id": "a7334b70-86f2-40da-9e83-00671587fd94",
   "metadata": {},
   "source": [
    "### Top 10 Candidates"
   ]
  },
  {
   "cell_type": "code",
   "execution_count": null,
   "id": "f2c8ef3a-cb29-4fca-813b-34d2ee4f8674",
   "metadata": {},
   "outputs": [],
   "source": [
    "df.head(3)"
   ]
  },
  {
   "cell_type": "code",
   "execution_count": null,
   "id": "8e8e7088-985e-4a4f-b5c3-188619c6edee",
   "metadata": {},
   "outputs": [],
   "source": [
    "# Add avg sim score to df only if it doesn't already exist\n",
    "if 'avg' in max_sim.columns and 'avg_sim_score' not in df.columns:\n",
    "    df = df.join(max_sim['avg']).rename(columns={'avg': 'avg_sim_score'})\n",
    "df.head(3)"
   ]
  },
  {
   "cell_type": "code",
   "execution_count": null,
   "id": "2f1a4a8b-a92e-4cb5-b586-932cc96d9527",
   "metadata": {},
   "outputs": [],
   "source": [
    "# Order by similarity score based on closest_candidates\n",
    "df['id'] = pd.Categorical(df['id'], categories=closest_candidates['candidate'], ordered=True)\n",
    "sorted_df = df.sort_values('id')\n",
    "sorted_df.head(3)"
   ]
  },
  {
   "cell_type": "code",
   "execution_count": null,
   "id": "e99f43e7-9970-44a3-9080-2e5cd2b6ccf5",
   "metadata": {},
   "outputs": [],
   "source": [
    "# get ranks, start at 0\n",
    "sorted_df['position']=sorted_df['avg_sim_score'].rank(method='dense',ascending=False).astype(int)\n",
    "\n",
    "# Display the first 10 rows\n",
    "sorted_df.head(10)"
   ]
  },
  {
   "cell_type": "markdown",
   "id": "266aa847-3eae-4a33-940a-13fd5cab02f6",
   "metadata": {},
   "source": [
    "These are the top-10 likeliest candidate IDs for the human resource position!"
   ]
  },
  {
   "cell_type": "markdown",
   "id": "1a8d4e3a-a934-4405-ab4a-b222e305c948",
   "metadata": {},
   "source": [
    "## Dense Word Embeddings with `Word2Vec`"
   ]
  },
  {
   "cell_type": "markdown",
   "id": "4b11b12e-855d-4975-bf16-88ecdcd48a81",
   "metadata": {},
   "source": [
    "To perform a dense word embedding with Word2Vec, we will use the following process:\n",
    "1. Load a pre-trained Word2Vec model\n",
    "1. Average the word vectors\n",
    "1. Compute average vectors for `job_title` and `search_term`\n",
    "1. Calculate similarity scores"
   ]
  },
  {
   "cell_type": "markdown",
   "id": "1b09f639-c3fe-444c-9b98-8be6586b75d7",
   "metadata": {},
   "source": [
    "### 1. Load Word2Vec model"
   ]
  },
  {
   "cell_type": "code",
   "execution_count": null,
   "id": "5c256904-5fdd-4e25-b85b-396f865b0129",
   "metadata": {},
   "outputs": [],
   "source": [
    "# downloaded from Kaggle:\n",
    "# https://www.kaggle.com/datasets/leadbest/googlenewsvectorsnegative300\n",
    "model = KeyedVectors.load_word2vec_format(fname='../data/GoogleNews-vectors-negative300.bin',binary=True)"
   ]
  },
  {
   "cell_type": "markdown",
   "id": "68df5ebc-ef5e-4f0b-8c53-f04744a5a165",
   "metadata": {},
   "source": [
    "### 2. Average the Word Vectors"
   ]
  },
  {
   "cell_type": "markdown",
   "id": "16d811b0-b5c8-4d84-bdf9-c121b85c2fed",
   "metadata": {},
   "source": [
    "We'll have to create a function to do so:"
   ]
  },
  {
   "cell_type": "code",
   "execution_count": null,
   "id": "fe346688-6722-4b6d-96ca-5888e474dfed",
   "metadata": {},
   "outputs": [],
   "source": [
    "def get_set_stopwords_english():\n",
    "    stop_words_english=stopwords.words('english')\n",
    "    return set(stop_words_english)\n",
    "\n",
    "def get_average_vector(text, model):\n",
    "    stop_words=get_set_stopwords_english()\n",
    "    # stop_words = set(stopwords.words('english'))\n",
    "    words = word_tokenize(text.lower())\n",
    "    \n",
    "    # Filter words in vocabulary and not stopwords\n",
    "    valid_words = [word for word in words if word in model and word not in stop_words]\n",
    "    \n",
    "    if not valid_words:  # if there are no valid words, return a zero vector\n",
    "        return np.zeros(model.vector_size)\n",
    "    \n",
    "    # Average vectors for all valid words in the text\n",
    "    word_vectors = np.array([model[word] for word in valid_words])\n",
    "    average_vector = word_vectors.mean(axis=0)\n",
    "    \n",
    "    return average_vector"
   ]
  },
  {
   "cell_type": "markdown",
   "id": "0a48c58e-b774-4563-9dd5-62a919932bb6",
   "metadata": {},
   "source": [
    "This function does the following:\n",
    "1. Converts the text to lowercase\n",
    "1. Tokenizes the text\n",
    "1. Filters out stopwords and words not in the Word2Vec vocabulary\n",
    "1. Produces a single vector for the text based on the mean of each vector"
   ]
  },
  {
   "cell_type": "markdown",
   "id": "9631fe79-5b30-4cc0-96dd-e0a79ed4baf0",
   "metadata": {},
   "source": [
    "### 3. Compute Average Vectors for Job Titles and Search Terms"
   ]
  },
  {
   "cell_type": "code",
   "execution_count": null,
   "id": "030b2439-5a43-40e0-aa8a-2fb42b8a9aec",
   "metadata": {},
   "outputs": [],
   "source": [
    "nltk_updater()"
   ]
  },
  {
   "cell_type": "code",
   "execution_count": null,
   "id": "07ac55b2-d555-4d9a-91c6-5b1d32a94a30",
   "metadata": {},
   "outputs": [],
   "source": [
    "# compute vector for each job title\n",
    "df['job_title_vector'] = df['job_title'].apply(lambda x: get_average_vector(x, model))\n",
    "\n",
    "# get vectors for search terms\n",
    "search_term_vectors=[get_average_vector(term, model) for term in search_term_df['term']]"
   ]
  },
  {
   "cell_type": "markdown",
   "id": "860af5a3-4b9c-446d-a7ac-0c88f191524b",
   "metadata": {},
   "source": [
    "### 4. Calculate cosine similarity between each job title vector and each of the phrase vectors."
   ]
  },
  {
   "cell_type": "code",
   "execution_count": null,
   "id": "a021003c-b9ab-4111-ba34-4634a0127a07",
   "metadata": {},
   "outputs": [],
   "source": [
    "# Calculate similarity scores for each candidate\n",
    "df['sim_aspiring'] = df['job_title_vector'].apply(lambda x: cosine_similarity([x], [search_term_vectors[0]])[0][0])\n",
    "df['sim_seeking'] = df['job_title_vector'].apply(lambda x: cosine_similarity([x], [search_term_vectors[1]])[0][0])\n",
    "\n",
    "# Get maximum similarity score for each job title\n",
    "df['max_similarity'] = df[['sim_aspiring', 'sim_seeking']].max(axis=1)\n",
    "df['mean_similarity'] = df[['sim_aspiring', 'sim_seeking']].mean(axis=1)\n",
    "\n",
    "# Sort by similarity to find closest candidates\n",
    "# closest_candidates = df.sort_values(by='max_similarity', ascending=False)\n",
    "top_candidates_word2vec = df.sort_values(by='mean_similarity',ascending=False)\n",
    "top_candidates_word2vec['position_word2vec'] = top_candidates_word2vec['mean_similarity'].rank(method='dense', ascending=False).astype(int)\n",
    "\n",
    "# Display top results\n",
    "# print(closest_candidates[['job_title', 'max_similarity']].head())\n",
    "top_candidates_word2vec[['id','job_title','mean_similarity','position_word2vec']].head(10)"
   ]
  },
  {
   "cell_type": "markdown",
   "id": "551213f9-915e-48a5-bc43-3e09bf5b0e53",
   "metadata": {},
   "source": [
    "## `GloVe` Method"
   ]
  },
  {
   "cell_type": "markdown",
   "id": "9aee1cdc-8f51-402b-8b6d-f57d99856bd5",
   "metadata": {},
   "source": [
    "The [`GloVe`](https://nlp.stanford.edu/projects/glove/) model (Global Vectors for Word Representation) is a word embedding model that provides a dense vector representation of words similar to `Word2Vec`. `GloVe` was trained on matrix factorization techniques."
   ]
  },
  {
   "cell_type": "markdown",
   "id": "e2be40a9-418f-4aba-8e62-e01ce7c5e2b6",
   "metadata": {},
   "source": [
    "We'll be using the 6B model, which can be downloaded from [here](https://nlp.stanford.edu/data/glove.6B.zip)."
   ]
  },
  {
   "cell_type": "markdown",
   "id": "5ef00df3-ba3b-4c0e-8b30-c2e27f033b1f",
   "metadata": {},
   "source": [
    "The steps for this method largely follows the previous method with Word2Vec:\n",
    "1. Load GloVe embeddings\n",
    "1. Process job titles and search terms with GloVe\n",
    "1. Calculate cosine similarity"
   ]
  },
  {
   "cell_type": "markdown",
   "id": "23fc164d-4ccc-4955-b829-cde5e26514b1",
   "metadata": {},
   "source": [
    "### 1. Load GloVe embeddings"
   ]
  },
  {
   "cell_type": "code",
   "execution_count": null,
   "id": "8cd353b0-f827-42b0-865d-de7d446ffbab",
   "metadata": {},
   "outputs": [],
   "source": [
    "def load_glove_model(glove_file_path):\n",
    "    print(\"Loading GloVe model...\")\n",
    "    glove_model = {}\n",
    "    \n",
    "    with open(glove_file_path, 'r', encoding='utf-8') as f:\n",
    "        for line in f:\n",
    "            values = line.split()\n",
    "            word = values[0]\n",
    "            vector = np.asarray(values[1:], dtype='float32')\n",
    "            glove_model[word] = vector\n",
    "    \n",
    "    print(f\"GloVe model loaded with {len(glove_model)} words.\")\n",
    "    return glove_model\n",
    "\n",
    "# Load the pre-trained GloVe model\n",
    "glove_model = load_glove_model('../data/glove/glove.6B.300d.txt')"
   ]
  },
  {
   "cell_type": "markdown",
   "id": "625f7e1e-05ab-4d83-8743-f5704837ee0e",
   "metadata": {},
   "source": [
    "### 2. Process job titles and search terms with GloVe"
   ]
  },
  {
   "cell_type": "markdown",
   "id": "4c540118-bbda-49b0-a7e6-1d79738a09bb",
   "metadata": {},
   "source": [
    "Same as with Word2Vec, we will get the average glove vector value:"
   ]
  },
  {
   "cell_type": "code",
   "execution_count": null,
   "id": "06d1fe0d-1801-46c8-aae4-0879afaa1d06",
   "metadata": {},
   "outputs": [],
   "source": [
    "def get_average_glove_vector(text, glove_model):\n",
    "    stop_words = set(stopwords.words('english'))\n",
    "    words = word_tokenize(text.lower())\n",
    "    \n",
    "    # Filter out stopwords and words not in the GloVe vocabulary\n",
    "    valid_words = [word for word in words if word in glove_model and word not in stop_words]\n",
    "    \n",
    "    if not valid_words:  # Return a zero vector if no valid words are found\n",
    "        return np.zeros(len(next(iter(glove_model.values()))))  # Return zero vector with the same length as GloVe vectors\n",
    "    \n",
    "    # Average vectors for all valid words in the text\n",
    "    word_vectors = np.array([glove_model[word] for word in valid_words])\n",
    "    average_vector = word_vectors.mean(axis=0)\n",
    "    \n",
    "    return average_vector"
   ]
  },
  {
   "cell_type": "code",
   "execution_count": null,
   "id": "3da45a5d-2005-412e-a30f-6bff0968769f",
   "metadata": {},
   "outputs": [],
   "source": [
    "search_term_df"
   ]
  },
  {
   "cell_type": "code",
   "execution_count": null,
   "id": "ebb11453-32ad-457f-a666-c4415d59f744",
   "metadata": {},
   "outputs": [],
   "source": [
    "# Compute vectors for each job title\n",
    "df['job_title_vector_glove'] = df['job_title'].apply(lambda x: get_average_glove_vector(x, glove_model))\n",
    "\n",
    "# search terms from search_term_df\n",
    "search_term_vectors=[get_average_glove_vector(term,glove_model) for term in search_term_df['term']]"
   ]
  },
  {
   "cell_type": "markdown",
   "id": "49bbb385-14ba-4235-92a3-f712cf3bc66a",
   "metadata": {},
   "source": [
    "### 3. Calculate cosine similarity"
   ]
  },
  {
   "cell_type": "code",
   "execution_count": null,
   "id": "1a0494ca-6788-4e7f-a864-a3cd77823fe3",
   "metadata": {},
   "outputs": [],
   "source": [
    "# Calculate similarity scores for each candidate\n",
    "df['sim_aspiring_glove'] = df['job_title_vector_glove'].apply(lambda x: cosine_similarity([x], [search_term_vectors[0]])[0][0])\n",
    "df['sim_seeking_glove'] = df['job_title_vector_glove'].apply(lambda x: cosine_similarity([x], [search_term_vectors[1]])[0][0])\n",
    "\n",
    "# Get maximum similarity score for each job title\n",
    "df['max_similarity_glove'] = df[['sim_aspiring_glove', 'sim_seeking_glove']].max(axis=1)\n",
    "df['mean_similarity_glove'] = df[['sim_aspiring_glove', 'sim_seeking_glove']].mean(axis=1)\n",
    "\n",
    "# Sort by similarity to find closest candidates\n",
    "# closest_candidates = df.sort_values(by='max_similarity', ascending=False)\n",
    "closest_candidates = df.sort_values(by='mean_similarity_glove',ascending=False)\n",
    "\n",
    "# Display top results\n",
    "# print(closest_candidates[['job_title', 'max_similarity']].head())\n",
    "closest_candidates[['id','job_title','mean_similarity_glove']].head(10)\n",
    "\n",
    "top10_candidates_glove=closest_candidates[['id','job_title','connection','mean_similarity_glove']]\\\n",
    ".sort_values(by='mean_similarity_glove',ascending=False)"
   ]
  },
  {
   "cell_type": "code",
   "execution_count": null,
   "id": "1b54ca61-9c05-4da8-971e-8178bc8013bb",
   "metadata": {},
   "outputs": [],
   "source": [
    "# determine positions in each DataFrame\n",
    "# sorted_df['position'] = sorted_df['avg_sim_score'].rank(ascending=False,method='dense').astype(int)\n",
    "# top10_candidates_word2vec['position'] = top10_candidates_word2vec['mean_similarity'].rank(ascending=False, method = 'dense').astype(int)\n",
    "top10_candidates_glove['position_glove']=closest_candidates['mean_similarity_glove'].rank(ascending=False, method='dense').astype(int)\n",
    "top10_candidates_glove"
   ]
  },
  {
   "cell_type": "code",
   "execution_count": null,
   "id": "6de6eb8d-45e4-44d4-b0ec-3bb9428ececd",
   "metadata": {},
   "outputs": [],
   "source": [
    "# rename position column in sorted_df\n",
    "sorted_df = sorted_df.rename(columns={'position': 'position_cosine'})\n",
    "\n",
    "# Merge sorted_df and top_candidates_word2vec on 'id' with the suffix '_cosine' for sorted_df\n",
    "merged = pd.merge(\n",
    "    sorted_df[['id', 'avg_sim_score', 'position_cosine']],\n",
    "    top_candidates_word2vec[['id', 'mean_similarity', 'position_word2vec']],\n",
    "    on='id'\n",
    ")\n",
    "\n",
    "# Merge the result with top10_candidates_glove on 'id', adding the suffix '_glove' for the last merge\n",
    "merged = pd.merge(\n",
    "    merged,\n",
    "    top10_candidates_glove[['id', 'mean_similarity_glove', 'position_glove']],\n",
    "    on='id'\n",
    ")\n",
    "\n",
    "# sort by position in the first dataframe for consistent ordering\n",
    "merged.sort_values(by='position_cosine', inplace=True)\n",
    "\n",
    "merged"
   ]
  },
  {
   "cell_type": "markdown",
   "id": "59f6084a-48ff-4b58-a11e-9a0dc40ed6d2",
   "metadata": {},
   "source": [
    "## `fastText` method"
   ]
  },
  {
   "cell_type": "markdown",
   "id": "8cfdc741-c5a4-4217-9d28-cbe272613744",
   "metadata": {},
   "source": [
    "[`fastText`](https://fasttext.cc) is another word embedding model with the advantage that it can handle out-of-vocabulary (OOV) words using subword embeddings. Said another way, it can generate embeddings for words that are not in the training vocabulary, which can be helpful for uncommon words or typos."
   ]
  },
  {
   "cell_type": "markdown",
   "id": "4e4b3f55-243a-48df-acb7-ddb828cad574",
   "metadata": {},
   "source": [
    "### 1. Load fastText embeddings"
   ]
  },
  {
   "cell_type": "markdown",
   "id": "23a8ba55-6b67-4892-902c-0c653b271647",
   "metadata": {},
   "source": [
    "We'll be using the [Wiki News 300d](https://dl.fbaipublicfiles.com/fasttext/vectors-english/wiki-news-300d-1M-subword.vec.zip) vector with subwords, measuring at 16 billion tokens. This was trained on Wikipedia in 2017."
   ]
  },
  {
   "cell_type": "code",
   "execution_count": null,
   "id": "5b154fdb-dfdb-4064-b449-25fd39aa1552",
   "metadata": {},
   "outputs": [],
   "source": [
    "# from their website\n",
    "\n",
    "def load_vectors(fname):\n",
    "    fin = io.open(fname, 'r', encoding='utf-8', newline='\\n', errors='ignore')\n",
    "    n, d = map(int, fin.readline().split())\n",
    "    data = {}\n",
    "    for line in fin:\n",
    "        tokens = line.rstrip().split(' ')\n",
    "        data[tokens[0]] = list(map(float, tokens[1:]))\n",
    "    return data"
   ]
  },
  {
   "cell_type": "markdown",
   "id": "5e2a7228-b69f-4761-877f-84a34fdc4ddd",
   "metadata": {},
   "source": [
    "This takes a long time to load:"
   ]
  },
  {
   "cell_type": "code",
   "execution_count": null,
   "id": "c41487fa-54e7-443e-9dfd-d5c7a28742e6",
   "metadata": {},
   "outputs": [],
   "source": [
    "fasttext_model=load_vectors(fname='../data/wiki-news-300d-1M-subword.vec')"
   ]
  },
  {
   "cell_type": "markdown",
   "id": "53243767-18c4-42ad-a0af-23264690441e",
   "metadata": {},
   "source": [
    "### 2. Process job titles and search terms with fastText"
   ]
  },
  {
   "cell_type": "markdown",
   "id": "751fab1c-5271-444a-9c9c-2a71bfadf502",
   "metadata": {},
   "source": [
    "Same as before, we will get the average glove vector value:"
   ]
  },
  {
   "cell_type": "code",
   "execution_count": null,
   "id": "e4ac76a6-e87b-48a7-8e50-6f7d3ff90466",
   "metadata": {},
   "outputs": [],
   "source": [
    "def get_average_fasttext_vector(text, fasttext_model):\n",
    "    stop_words = set(stopwords.words('english'))\n",
    "    words = word_tokenize(text.lower())\n",
    "    \n",
    "    # Filter out stopwords and words not in the fastText vocabulary\n",
    "    valid_words = [word for word in words if word in fasttext_model and word not in stop_words]\n",
    "    \n",
    "    if not valid_words:  # Return a zero vector if no valid words are found\n",
    "        return np.zeros(len(next(iter(fasttext_model.values()))))  # Use the dimension from fasttext_model\n",
    "    \n",
    "    # Average vectors for all valid words in the text\n",
    "    word_vectors = np.array([fasttext_model[word] for word in valid_words])\n",
    "    average_vector = word_vectors.mean(axis=0)\n",
    "    \n",
    "    return average_vector"
   ]
  },
  {
   "cell_type": "code",
   "execution_count": null,
   "id": "467cf4aa-75f5-43f8-8ee5-91973a279d53",
   "metadata": {},
   "outputs": [],
   "source": [
    "search_term_df"
   ]
  },
  {
   "cell_type": "code",
   "execution_count": null,
   "id": "30544fd6-cc67-4922-946a-3804933cdfce",
   "metadata": {},
   "outputs": [],
   "source": [
    "# Compute vectors for each job title\n",
    "df['job_title_vector_fasttext'] = df['job_title'].apply(lambda x: get_average_fasttext_vector(x, fasttext_model))\n",
    "\n",
    "# search terms from search_term_df\n",
    "search_term_vectors=[get_average_fasttext_vector(term,fasttext_model) for term in search_term_df['term']]"
   ]
  },
  {
   "cell_type": "markdown",
   "id": "3632e9aa-29fa-4c6f-bead-c42e2369d8f7",
   "metadata": {},
   "source": [
    "### 3. Calculate cosine similarity"
   ]
  },
  {
   "cell_type": "code",
   "execution_count": null,
   "id": "99d4f569-17eb-4581-b578-4ddca43f6090",
   "metadata": {},
   "outputs": [],
   "source": [
    "# Calculate similarity scores for each candidate\n",
    "df['sim_aspiring_fasttext'] = df['job_title_vector_fasttext'].apply(lambda x: cosine_similarity([x], [search_term_vectors[0]])[0][0])\n",
    "df['sim_seeking_fasttext'] = df['job_title_vector_fasttext'].apply(lambda x: cosine_similarity([x], [search_term_vectors[1]])[0][0])\n",
    "\n",
    "# Get maximum similarity score for each job title\n",
    "df['max_similarity_fasttext'] = df[['sim_aspiring_fasttext', 'sim_seeking_fasttext']].max(axis=1)\n",
    "df['mean_similarity_fasttext'] = df[['sim_aspiring_fasttext', 'sim_seeking_fasttext']].mean(axis=1)\n",
    "\n",
    "# Sort by similarity to find closest candidates\n",
    "# closest_candidates = df.sort_values(by='max_similarity', ascending=False)\n",
    "closest_candidates = df.sort_values(by='mean_similarity_fasttext',ascending=False)\n",
    "\n",
    "# Display top results\n",
    "# print(closest_candidates[['job_title', 'max_similarity']].head())\n",
    "closest_candidates[['id','job_title','mean_similarity_fasttext']].head(10)\n",
    "\n",
    "top10_candidates_fasttext=closest_candidates[['id','job_title','connection','mean_similarity_fasttext']]\\\n",
    ".sort_values(by='mean_similarity_fasttext',ascending=False)"
   ]
  },
  {
   "cell_type": "code",
   "execution_count": null,
   "id": "20f33ba8-3103-4e54-92a1-90231132fad4",
   "metadata": {},
   "outputs": [],
   "source": [
    "# determine positions in each DataFrame\n",
    "# sorted_df['position'] = sorted_df['avg_sim_score'].rank(ascending=False,method='dense').astype(int)\n",
    "# top10_candidates_mean_sim['position'] = top10_candidates_mean_sim['mean_similarity'].rank(ascending=False, method = 'dense').astype(int)\n",
    "# top10_candidates_glove['position']=closest_candidates['mean_similarity_glove'].rank(ascending=False, method='dense').astype(int)\n",
    "top10_candidates_fasttext['position_fasttext']=closest_candidates['mean_similarity_fasttext'].rank(ascending=False, method='dense').astype(int)\n",
    "top10_candidates_fasttext"
   ]
  },
  {
   "cell_type": "code",
   "execution_count": null,
   "id": "4690b737-eaca-4921-b5cf-ddb6e0753969",
   "metadata": {},
   "outputs": [],
   "source": [
    "# Merge the result with top10_candidates_fasttext on 'id', adding the suffix '_fasttext'\n",
    "merged = pd.merge(\n",
    "    merged,\n",
    "    top10_candidates_fasttext[['id', 'mean_similarity_fasttext', 'position_fasttext']],\n",
    "    on='id',\n",
    "    how='left'#,\n",
    "    # suffixes=('','_fasttext')\n",
    ")\n",
    "\n",
    "# sort by position in the first dataframe for consistent ordering\n",
    "merged.sort_values(by='position_cosine', inplace=True)\n",
    "\n",
    "merged"
   ]
  },
  {
   "cell_type": "markdown",
   "id": "59a0992e-55d4-4f07-a9f6-373eca8e6244",
   "metadata": {
    "tags": []
   },
   "source": [
    "## `SBERT`"
   ]
  },
  {
   "cell_type": "markdown",
   "id": "47fea3d3-30cd-4695-8910-4a2af588849b",
   "metadata": {},
   "source": [
    "Sentence-BERT, or [SBERT](https://www.sbert.net), is designed to generate sentence embeddings rather than individual word embeddings like the previous four methods we've employed."
   ]
  },
  {
   "cell_type": "markdown",
   "id": "32453322-4700-4282-a64d-6989b190bd70",
   "metadata": {},
   "source": [
    "### 1. Load model"
   ]
  },
  {
   "cell_type": "markdown",
   "id": "bd38cd4c-38d6-4431-9158-abab280c91fe",
   "metadata": {},
   "source": [
    "This may take some time:"
   ]
  },
  {
   "cell_type": "code",
   "execution_count": null,
   "id": "2837d94f-4466-4e6e-9af9-2fac006a149f",
   "metadata": {},
   "outputs": [],
   "source": [
    "sbert_model = SentenceTransformer('all-MiniLM-L6-v2')"
   ]
  },
  {
   "cell_type": "markdown",
   "id": "db983625-b39b-425c-be18-e814e09835e1",
   "metadata": {},
   "source": [
    "### 2. Process job titles and search terms"
   ]
  },
  {
   "cell_type": "code",
   "execution_count": null,
   "id": "20db6ebd-a8b8-49de-98d1-949d0d470a27",
   "metadata": {},
   "outputs": [],
   "source": [
    "df.head(3)"
   ]
  },
  {
   "cell_type": "code",
   "execution_count": null,
   "id": "c2ebc0bf-9d3f-4d10-9fd6-e9bc5ee81e99",
   "metadata": {},
   "outputs": [],
   "source": [
    "# Compute vectors for each job title\n",
    "df['job_title_sbert'] = df['job_title'].apply(lambda x: sbert_model.encode(x, convert_to_tensor=True))\n",
    "\n",
    "# search terms from search_term_df\n",
    "search_term_embeddings=[sbert_model.encode(term,convert_to_tensor=True) for term in search_term_df['term']]"
   ]
  },
  {
   "cell_type": "markdown",
   "id": "af9b43d8-9951-4720-842c-3e43d757360e",
   "metadata": {},
   "source": [
    "### 3. Calculate cosine similarity"
   ]
  },
  {
   "cell_type": "code",
   "execution_count": null,
   "id": "51755eea-38d3-432a-b3a3-1a0bd8155e16",
   "metadata": {},
   "outputs": [],
   "source": [
    "# Calculate similarity scores for each candidate\n",
    "df['sim_aspiring_sbert'] = df['job_title_sbert'].apply(lambda x: util.cos_sim(x, search_term_embeddings[0]).item())\n",
    "df['sim_seeking_sbert'] = df['job_title_sbert'].apply(lambda x: util.cos_sim(x, search_term_embeddings[1]).item())\n",
    "\n",
    "# Get maximum similarity score for each job title\n",
    "df['max_similarity_sbert'] = df[['sim_aspiring_sbert', 'sim_seeking_sbert']].max(axis=1)\n",
    "df['mean_similarity_sbert'] = df[['sim_aspiring_sbert', 'sim_seeking_sbert']].mean(axis=1)\n",
    "\n",
    "# Sort by similarity to find closest candidates\n",
    "# closest_candidates = df.sort_values(by='max_similarity', ascending=False)\n",
    "closest_candidates = df.sort_values(by='mean_similarity_sbert',ascending=False)\n",
    "\n",
    "# Display top results\n",
    "# print(closest_candidates[['job_title', 'max_similarity']].head())\n",
    "closest_candidates[['id','job_title','mean_similarity_sbert']].head(10)\n",
    "\n",
    "top_candidates_sbert=closest_candidates[['id','job_title','connection','mean_similarity_sbert']]\\\n",
    ".sort_values(by='mean_similarity_sbert',ascending=False)"
   ]
  },
  {
   "cell_type": "code",
   "execution_count": null,
   "id": "56b040a9-e31f-4e5f-82a6-678ba040baa2",
   "metadata": {},
   "outputs": [],
   "source": [
    "# determine positions in each DataFrame\n",
    "# sorted_df['position'] = sorted_df['avg_sim_score'].rank(ascending=False,method='dense').astype(int)\n",
    "# top10_candidates_mean_sim['position'] = top10_candidates_mean_sim['mean_similarity'].rank(ascending=False, method = 'dense').astype(int)\n",
    "# top10_candidates_glove['position']=closest_candidates['mean_similarity_glove'].rank(ascending=False, method='dense').astype(int)\n",
    "top_candidates_sbert['position_sbert']=closest_candidates['mean_similarity_sbert'].rank(ascending=False, method='dense').astype(int)\n",
    "top_candidates_sbert"
   ]
  },
  {
   "cell_type": "code",
   "execution_count": null,
   "id": "98d4fee5-050f-4a78-855d-98147fb1a303",
   "metadata": {},
   "outputs": [],
   "source": [
    "# Merge the result with top_candidates_sbert on 'id'\n",
    "merged = pd.merge(\n",
    "    merged,\n",
    "    top_candidates_sbert[['id', 'mean_similarity_sbert', 'position_sbert']],\n",
    "    on='id',\n",
    "    how='left'\n",
    ")\n",
    "\n",
    "# sort by position in the first dataframe for consistent ordering\n",
    "merged.sort_values(by='position_cosine', inplace=True)\n",
    "\n",
    "merged"
   ]
  },
  {
   "cell_type": "markdown",
   "id": "228167aa-fe1c-4df8-b346-0426011b63ad",
   "metadata": {},
   "source": [
    "# Compare cosine similarity scores across all methods"
   ]
  },
  {
   "cell_type": "markdown",
   "id": "b40168b1-c491-4b2b-a0ba-8261ff93ca58",
   "metadata": {},
   "source": [
    "Compare the min and max across all methods:"
   ]
  },
  {
   "cell_type": "code",
   "execution_count": null,
   "id": "4eac5993-1521-466a-b1fb-f3bcf851c42f",
   "metadata": {},
   "outputs": [],
   "source": [
    "# cosine similarity with tfidf vectorizor\n",
    "print(sorted_df['avg_sim_score'].min())\n",
    "print(sorted_df['avg_sim_score'].max())"
   ]
  },
  {
   "cell_type": "code",
   "execution_count": null,
   "id": "bef8ed98-9cb9-4b13-977f-187c8843d1e0",
   "metadata": {},
   "outputs": [],
   "source": [
    "# word2vec\n",
    "print(top_candidates_word2vec['mean_similarity'].min())\n",
    "print(top_candidates_word2vec['mean_similarity'].max())"
   ]
  },
  {
   "cell_type": "code",
   "execution_count": null,
   "id": "7ce86f69-3cb8-4fde-9f40-2368ee2e0dfc",
   "metadata": {},
   "outputs": [],
   "source": [
    "# glove\n",
    "print(top10_candidates_glove['mean_similarity_glove'].min())\n",
    "print(top10_candidates_glove['mean_similarity_glove'].max())"
   ]
  },
  {
   "cell_type": "code",
   "execution_count": null,
   "id": "9620264f-04f7-4ca6-b1b1-6785360a8f35",
   "metadata": {},
   "outputs": [],
   "source": [
    "# fasttext\n",
    "print(top10_candidates_fasttext['mean_similarity_fasttext'].min())\n",
    "print(top10_candidates_fasttext['mean_similarity_fasttext'].max())"
   ]
  },
  {
   "cell_type": "code",
   "execution_count": null,
   "id": "5c67303f-d805-4693-a973-feffcfd68c9b",
   "metadata": {},
   "outputs": [],
   "source": [
    "# sbert\n",
    "print(top_candidates_sbert['mean_similarity_sbert'].min())\n",
    "print(top_candidates_sbert['mean_similarity_sbert'].max())"
   ]
  },
  {
   "cell_type": "code",
   "execution_count": null,
   "id": "a48b6d23-d83d-4c2a-a103-771f6f95fee6",
   "metadata": {},
   "outputs": [],
   "source": [
    "# filter the top 10 IDs for each dataframe\n",
    "top_10_cosine_ids = merged.nsmallest(10, 'position_cosine')['id']\n",
    "top_10_word2vec_ids = merged.nsmallest(10, 'position_word2vec')['id']\n",
    "top_10_glove_ids = merged.nsmallest(10, 'position_glove')['id']\n",
    "top_10_fasttext_ids = merged.nsmallest(10, 'position_fasttext')['id']\n",
    "top_10_sbert_ids = merged.nsmallest(10, 'position_sbert')['id']\n",
    "\n",
    "# Combine the two sets of IDs to include all unique IDs\n",
    "top_ids = pd.concat([top_10_cosine_ids,\n",
    "                     top_10_word2vec_ids,\n",
    "                     top_10_glove_ids,\n",
    "                     top_10_fasttext_ids,\n",
    "                     top_10_sbert_ids]).unique()\n",
    "\n",
    "# Filter the merged dataframe to include only these top IDs\n",
    "filtered_merged = merged[merged['id'].isin(top_ids)]"
   ]
  },
  {
   "cell_type": "code",
   "execution_count": null,
   "id": "64aa2f14-4310-48db-a31c-4d958125d0a0",
   "metadata": {},
   "outputs": [],
   "source": [
    "filtered_merged"
   ]
  },
  {
   "cell_type": "code",
   "execution_count": null,
   "id": "9253feaf-e9a9-4bcc-880b-36a6c738e9ff",
   "metadata": {},
   "outputs": [],
   "source": [
    "merged"
   ]
  },
  {
   "cell_type": "markdown",
   "id": "d67b7738-1386-41de-b6fe-45535a85dd9e",
   "metadata": {},
   "source": [
    "## Comparison Figure"
   ]
  },
  {
   "cell_type": "code",
   "execution_count": null,
   "id": "70099d45-17cc-4138-bbee-5903d45af9ef",
   "metadata": {},
   "outputs": [],
   "source": [
    "# Helper function to offset labels\n",
    "def adjust_label_position(existing_positions, new_pos, offset=.2):\n",
    "    while new_pos in existing_positions:\n",
    "        new_pos += offset  # Adjust position to avoid overlap\n",
    "    existing_positions.add(new_pos)\n",
    "    return new_pos\n",
    "\n",
    "def plot_subplot(ax, data, pos_left, pos_right, hide_left, hide_right, max_label_rank, title, x_labels,\n",
    "                fontsize=10, fontweight='bold'):\n",
    "    \"\"\"Plots a subplot with given parameters.\"\"\"\n",
    "    existing_positions_left = set()  # Track used positions for left labels\n",
    "    existing_positions_right = set()  # Track used positions for right labels\n",
    "\n",
    "    for _, row in data.iterrows():\n",
    "        # Determine color based on rank improvement\n",
    "        if row[pos_right] < row[pos_left]:\n",
    "            arrow_color, right_label_color = 'green', 'green'\n",
    "        elif row[pos_right] > row[pos_left]:\n",
    "            arrow_color, right_label_color = 'red', 'red'\n",
    "        else:\n",
    "            arrow_color, right_label_color = 'black', 'black'\n",
    "\n",
    "        # Draw lines between positions\n",
    "        ax.plot(\n",
    "            [1, 2],  # Time points\n",
    "            [row[pos_left], row[pos_right]],  # Ranks\n",
    "            marker='o',\n",
    "            color=arrow_color,\n",
    "            linestyle='-'\n",
    "        )\n",
    "\n",
    "        # Add arrows\n",
    "        ax.annotate(\n",
    "            '',\n",
    "            xy=(2, row[pos_right]),\n",
    "            xytext=(1, row[pos_left]),\n",
    "            arrowprops=dict(color=arrow_color, arrowstyle=\"->\")\n",
    "        )\n",
    "\n",
    "        # Handle left labels\n",
    "        if row[pos_left] <= max_label_rank and row['id'] not in hide_left:\n",
    "            adjusted_position_left = adjust_label_position(existing_positions_left, row[pos_left])\n",
    "            ax.text(0.98, adjusted_position_left, f\"{int(row['id'])}\", ha='right', va='center', \n",
    "                    fontsize=fontsize, fontweight=fontweight, color='black')\n",
    "            if adjusted_position_left != row[pos_left]:\n",
    "                ax.plot([0.98, 1], [adjusted_position_left, row[pos_left]], color='gray', linestyle='--', linewidth=0.8)\n",
    "\n",
    "        # Handle right labels\n",
    "        if row[pos_right] <= max_label_rank and row['id'] not in hide_right:\n",
    "            adjusted_position_right = adjust_label_position(existing_positions_right, row[pos_right])\n",
    "            ax.text(2.02, adjusted_position_right, f\"{int(row['id'])}\", ha='left', va='center', \n",
    "                    fontsize=fontsize, fontweight=fontweight, color=right_label_color)\n",
    "            if adjusted_position_right != row[pos_right]:\n",
    "                ax.plot([2, 2.02], [row[pos_right], adjusted_position_right], color='gray', linestyle='--', linewidth=0.8)\n",
    "        else:\n",
    "            adjusted_position_right = row[pos_right]  # Default to the original position if not adjusted\n",
    "\n",
    "        # Customize axis and labels\n",
    "        ax.set_xticks([1, 2], x_labels)\n",
    "        ax.invert_yaxis()  # Rank 1 on top\n",
    "        ax.set_title(title)\n",
    "        ax.grid(axis='y', linestyle='--', alpha=0.5)"
   ]
  },
  {
   "cell_type": "code",
   "execution_count": null,
   "id": "7df1d361-aae8-4fec-bf3b-d6789a6b5bb5",
   "metadata": {},
   "outputs": [],
   "source": [
    "subplot_configs = [\n",
    "    {\n",
    "        'pos_left': 'position_cosine',\n",
    "        'pos_right': 'position_word2vec',\n",
    "        'hide_left': [36, 6, 24, 60, 49],\n",
    "        'hide_right': [28, 30],\n",
    "        'title': \"Tfidf vs Word2Vec\",\n",
    "        'x_labels': ['Tfidf', 'Word2Vec']\n",
    "    },\n",
    "    {\n",
    "        'pos_left': 'position_word2vec',\n",
    "        'pos_right': 'position_glove',\n",
    "        'hide_left': [36, 6, 24, 60, 49],\n",
    "        'hide_right': [99],\n",
    "        'title': \"Word2Vec vs GloVe\",\n",
    "        'x_labels': ['Word2Vec', 'GloVe']\n",
    "    },\n",
    "    {\n",
    "        'pos_left': 'position_glove',\n",
    "        'pos_right': 'position_fasttext',\n",
    "        'hide_left': [99],\n",
    "        'hide_right': [36, 6, 24, 60, 49],\n",
    "        'title': \"GloVe vs FastText\",\n",
    "        'x_labels': ['GloVe', 'fastText']\n",
    "    },\n",
    "    {\n",
    "        'pos_left': 'position_fasttext',\n",
    "        'pos_right': 'position_sbert',\n",
    "        'hide_left': [36, 6, 24, 60, 49, 46, 58, 17, 33, 97],\n",
    "        'hide_right': [99],\n",
    "        'title': \"fastText vs SBERT\",\n",
    "        'x_labels': ['fastText', 'SBERT']\n",
    "    }\n",
    "]"
   ]
  },
  {
   "cell_type": "code",
   "execution_count": null,
   "id": "00539cdb-9ae6-48db-8cce-7a6ed65e53cc",
   "metadata": {},
   "outputs": [],
   "source": [
    "# Define the maximum position rank to display labels\n",
    "max_position_to_label = 7  # Only label candidates within this rank\n",
    "\n",
    "fig, axs = plt.subplots(1, len(subplot_configs), figsize=(23, 5))\n",
    "\n",
    "for ax, config in zip(axs, subplot_configs):\n",
    "    plot_subplot(\n",
    "        ax=ax,\n",
    "        data=filtered_merged,\n",
    "        pos_left=config['pos_left'],\n",
    "        pos_right=config['pos_right'],\n",
    "        hide_left=config['hide_left'],\n",
    "        hide_right=config['hide_right'],\n",
    "        max_label_rank=7,  # Maximum rank to label\n",
    "        title=None,\n",
    "        x_labels=config['x_labels']\n",
    "    )\n",
    "    ax.set_ylim(7.5, 0.5)\n",
    "\n",
    "# plt.tight_layout()\n",
    "\n",
    "# Add an overall legend\n",
    "legend_elements = [\n",
    "    Line2D([0], [1], color='green', lw=2, label='Improvement (up)'),\n",
    "    Line2D([0], [1], color='black', lw=2, label='No Change (flat)'),\n",
    "    Line2D([0], [1], color='red', lw=2, label='Decrease (down)'),\n",
    "    Line2D([0], [1], color='gray', linestyle='--', lw=1, label='Label Tie Lines')\n",
    "]\n",
    "fig.legend(handles=legend_elements, \n",
    "           loc='lower center', \n",
    "           ncol=4, \n",
    "           frameon=False, \n",
    "           # title='\\n\\n\\n')\n",
    "           bbox_to_anchor=(0.5,-0.07))\n",
    "\n",
    "# Add an overall title and subtitle\n",
    "fig.suptitle(\"Comparing Candidates' Positions Using Five Successive Methods of Text Embedding\", fontsize=16, fontweight='bold')\n",
    "fig.text(\n",
    "    0.5, 0.90, \n",
    "    \"Tfidf (Method 1), Word2Vec (Method 2), GloVe (Method 3), fastText (Method 4), and SBERT (Method 5). Top candidates' IDs are listed at their respective position.\",\n",
    "    style='italic', \n",
    "    ha='center', \n",
    "    fontsize=12, \n",
    "    color='grey'\n",
    ")\n",
    "\n",
    "# fig.supxlabel('Method')\n",
    "fig.supylabel(t='Position', x=0.1)\n",
    "\n",
    "plt.savefig('figures/3_methods.pdf', bbox_inches='tight')\n",
    "plt.savefig('figures/3_methods.jpg', bbox_inches='tight')\n",
    "plt.savefig('figures/3_methods.png', bbox_inches='tight')\n",
    "\n",
    "plt.show()"
   ]
  },
  {
   "cell_type": "markdown",
   "id": "4d458661-a9d4-4d36-8c0e-21d2cb7858b1",
   "metadata": {},
   "source": [
    "## \"Golf\" Scores and Figure"
   ]
  },
  {
   "cell_type": "markdown",
   "id": "dc6f37d5-7d36-4701-9b15-c1f3e1fcb95f",
   "metadata": {},
   "source": [
    "We should think about a way to compare the overall performance of the candidates using each method. I think a good way to compare is using a \"golf\"-style score, where lower scores are better as they indicate more time spent in the highest positions (first place, second place, etc.). Said another way, this time we are calculating scores and making a figure but tracking a \"penalty\" on the candidates. Candidates with lower penalties are going to be those that we will focus our attention on."
   ]
  },
  {
   "cell_type": "code",
   "execution_count": null,
   "id": "9f634f27-5046-4881-abf4-ba46dbec3ddd",
   "metadata": {
    "tags": []
   },
   "outputs": [],
   "source": [
    "filtered_merged.head()"
   ]
  },
  {
   "cell_type": "code",
   "execution_count": null,
   "id": "15468bbb-28a1-4bbd-8c84-50be347e981b",
   "metadata": {},
   "outputs": [],
   "source": [
    "# Copy only the position columns from filtered_merged\n",
    "positions = filtered_merged[['id'] + [col for col in filtered_merged.columns if 'position' in col]].copy()\n",
    "\n",
    "positions.head()"
   ]
  },
  {
   "cell_type": "code",
   "execution_count": null,
   "id": "a34395b2-e247-4df7-9b36-7fd952c3012e",
   "metadata": {},
   "outputs": [],
   "source": [
    "# Define a function to calculate the golf-style score based on position\n",
    "def calculate_score(position):\n",
    "    return position - 1 if position <= 10 else 10 # positions above 10 get maximum penalty of 10\n",
    "\n",
    "# Initialize a dictionary to store each column's score\n",
    "cumulative_scores = {}\n",
    "\n",
    "# Loop through each position column and calculate scores\n",
    "for col in positions.columns:\n",
    "    if col != 'id':  # Skip 'id' column when calculating scores\n",
    "        score_col = f'{col}_score'\n",
    "        cumulative_scores[score_col] = positions[col].apply(calculate_score)\n",
    "\n",
    "# Convert cumulative_scores dictionary to DataFrame\n",
    "cumulative_scores_df = pd.DataFrame(cumulative_scores)\n",
    "\n",
    "# Calculate the rolling average for each row progressively across columns\n",
    "# for i in range(1, len(cumulative_scores_df.columns) + 1):\n",
    "#     cumulative_scores_df[f'mean_score_{i}'] = cumulative_scores_df.iloc[:, :i].mean(axis=1)\n",
    "\n",
    "# calculate mean of the four score columns\n",
    "cumulative_scores_df['total_mean_score']=cumulative_scores_df[['position_cosine_score',\n",
    "                                                               'position_word2vec_score',\n",
    "                                                               'position_glove_score',\n",
    "                                                               'position_fasttext_score',\n",
    "                                                               'position_sbert_score']].mean(axis=1)\n",
    "    \n",
    "# Add the 'id' column to cumulative_scores_df at the end\n",
    "cumulative_scores_df['id'] = positions['id']\n",
    "\n",
    "# Display the resulting DataFrame\n",
    "cumulative_scores_df.head()"
   ]
  },
  {
   "cell_type": "code",
   "execution_count": null,
   "id": "893d209f-be40-4ffd-9cd4-403ac73755fe",
   "metadata": {},
   "outputs": [],
   "source": [
    "# add job_title back to scores dataframe\n",
    "if 'job_title' not in cumulative_scores_df.columns:\n",
    "    cumulative_scores_df['job_title']=df['job_title']\n",
    "cumulative_scores_df.sort_values(by='total_mean_score').head()"
   ]
  },
  {
   "cell_type": "markdown",
   "id": "66b1be41-93e4-4d0b-8bab-233c315feace",
   "metadata": {},
   "source": [
    "Figure to compare overall mean scores of candidates. Lower is better:"
   ]
  },
  {
   "cell_type": "code",
   "execution_count": null,
   "id": "d8f82ab4-8599-4e71-bd4e-cf32426a1990",
   "metadata": {},
   "outputs": [],
   "source": [
    "# Convert the 'id' column to string to ensure categorical labeling\n",
    "cumulative_scores_df['id'] = cumulative_scores_df['id'].astype(str)\n",
    "\n",
    "# define threshold above which we won't consider/display candidates\n",
    "threshold=3\n",
    "cumulative_scores_df_top = cumulative_scores_df[cumulative_scores_df['total_mean_score']<threshold]\n",
    "\n",
    "# Plot the horizontal bar chart\n",
    "plt.figure(figsize=(6, 6))\n",
    "plt.barh(y=cumulative_scores_df_top['id'], \n",
    "         width=cumulative_scores_df_top['total_mean_score'], \n",
    "         color='cornflowerblue')\n",
    "\n",
    "# Add labels with scores from specified columns on the bars\n",
    "for index, row in cumulative_scores_df_top.iterrows():\n",
    "    # Format the text to display the four specific scores for each bar\n",
    "    label = (\n",
    "        f\"Tfidf: {row['position_cosine_score']:.0f}, \"\n",
    "        f\"Word2Vec: {row['position_word2vec_score']:.0f}, \"\n",
    "        f\"GloVe: {row['position_glove_score']:.0f}, \"\n",
    "        f\"fastText: {row['position_fasttext_score']:.0f}, \"\n",
    "        f\"SBERT: {row['position_sbert_score']:.0f}\"\n",
    "    )\n",
    "    plt.text(\n",
    "        # row['total_mean_score'] / 2, # Center the text horizontally on the bar\n",
    "        0.1, # distance from y-axis\n",
    "        row['id'], \n",
    "        label,\n",
    "        ha='left',\n",
    "        va='center',\n",
    "        fontsize=7,\n",
    "        color='black', # text color\n",
    "        bbox=dict(facecolor='white', edgecolor='none', boxstyle='round,pad=0.3') # White background\n",
    "    )\n",
    "\n",
    "    # add the job_title to each corresponding applicant\n",
    "    plt.text(\n",
    "        2.7,\n",
    "        row['id'],\n",
    "        f\"{row['job_title']}\",\n",
    "        ha='left',\n",
    "        va='center',\n",
    "        fontsize=7,\n",
    "        color='black'\n",
    "    )\n",
    "    \n",
    "# Add labels and title for clarity\n",
    "plt.ylabel('Candidate ID')\n",
    "plt.xlabel('Mean Overall Score')\n",
    "plt.suptitle('Best Scoring Candidates by Mean Overall Score', fontsize=14, x=1)\n",
    "\n",
    "# add subtitle\n",
    "axes=plt.gca()\n",
    "ylim=axes.get_ylim()\n",
    "plt.text(x=0.5, y=ylim[1]+0.5, # position just above highest y-limit\n",
    "         s='Score for each method. Lower score is better.', fontsize=10, style='italic', ha='left', va='center')\n",
    "plt.text(x=2.75, y=ylim[1]+0.35,\n",
    "         s=\"Candidates' Job Titles\", fontsize=10, style='italic')\n",
    "plt.grid(axis='x')\n",
    "# plt.gca().invert_yaxis()\n",
    "\n",
    "plt.savefig('figures/3_overallscores.pdf',bbox_inches='tight')\n",
    "plt.savefig('figures/3_overallscores.jpg',bbox_inches='tight')\n",
    "plt.savefig('figures/3_overallscores.png',bbox_inches='tight')\n",
    "\n",
    "plt.show()"
   ]
  },
  {
   "cell_type": "code",
   "execution_count": null,
   "id": "348008b2-ba49-4c07-8114-1f4cc58983ba",
   "metadata": {},
   "outputs": [],
   "source": [
    "# confirm that the lowest scores we see in the figure above are the actual best-scoring candidates\n",
    "check=cumulative_scores_df[cumulative_scores_df['total_mean_score']==cumulative_scores_df['total_mean_score'].min()][['id','job_title']]\n",
    "check"
   ]
  },
  {
   "cell_type": "markdown",
   "id": "f568a8a8-19aa-4ef3-9637-c94bb6961a2b",
   "metadata": {},
   "source": [
    "### Apply rank to data"
   ]
  },
  {
   "cell_type": "markdown",
   "id": "94a56240-835b-4c52-9072-6652f9671cd7",
   "metadata": {},
   "source": [
    "Now that we have a complex rank using the mean of all the word/sentence embedding techniques, let's convert the total mean score to a final rank.\n",
    "\n",
    "I will also manually adjust some candidates as the rankings are not perfect."
   ]
  },
  {
   "cell_type": "code",
   "execution_count": null,
   "id": "1459dad4-c1c5-44a0-9a50-c20489cf101b",
   "metadata": {},
   "outputs": [],
   "source": [
    "cumulative_scores_df.head()"
   ]
  },
  {
   "cell_type": "code",
   "execution_count": null,
   "id": "d1b194b0-6b63-4b58-bb76-46c999a54d0f",
   "metadata": {},
   "outputs": [],
   "source": [
    "cumulative_scores_df['rank']=cumulative_scores_df['total_mean_score'].rank(ascending=False, method='dense').astype(int)\n",
    "cumulative_scores_df.head()"
   ]
  },
  {
   "cell_type": "code",
   "execution_count": null,
   "id": "cabbbe70-2604-48e8-a49c-a4bc7fa94643",
   "metadata": {},
   "outputs": [],
   "source": []
  },
  {
   "cell_type": "markdown",
   "id": "42611bf8-70f5-4aa8-bc76-68e023b50c1f",
   "metadata": {},
   "source": [
    "# Proceed to the [next notebook](potential_talents_p2.ipynb) to view the modeling efforts."
   ]
  }
 ],
 "metadata": {
  "kernelspec": {
   "display_name": "apziva_3",
   "language": "python",
   "name": "apziva_3"
  },
  "language_info": {
   "codemirror_mode": {
    "name": "ipython",
    "version": 3
   },
   "file_extension": ".py",
   "mimetype": "text/x-python",
   "name": "python",
   "nbconvert_exporter": "python",
   "pygments_lexer": "ipython3",
   "version": "3.9.20"
  }
 },
 "nbformat": 4,
 "nbformat_minor": 5
}
